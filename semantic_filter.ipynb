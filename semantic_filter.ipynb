{
 "cells": [
  {
   "cell_type": "markdown",
   "metadata": {
    "pycharm": {
     "name": "#%% md\n"
    }
   },
   "source": [
    "## Semantic Data Filter"
   ]
  },
  {
   "cell_type": "code",
   "execution_count": 10,
   "metadata": {
    "pycharm": {
     "name": "#%%\n"
    }
   },
   "outputs": [],
   "source": [
    "import pandas as pd\n",
    "import numpy as np\n",
    "import matplotlib.pyplot as plt\n",
    "import tensorflow_hub as hub\n",
    "\n",
    "EMBEDDED_CATEGORIES_FILE = 'data/embedded_categories.npy'\n",
    "\n",
    "embedder = hub.load(\"https://tfhub.dev/google/universal-sentence-encoder/4\")"
   ]
  },
  {
   "cell_type": "code",
   "execution_count": 11,
   "metadata": {
    "collapsed": false,
    "jupyter": {
     "outputs_hidden": false
    },
    "pycharm": {
     "name": "#%%\n"
    }
   },
   "outputs": [],
   "source": [
    "df_business = pd.read_csv('data/yelp_academic_dataset_business.csv')\n",
    "df_business = df_business.dropna(subset=['categories'])"
   ]
  },
  {
   "cell_type": "markdown",
   "metadata": {
    "pycharm": {
     "name": "#%% md\n"
    }
   },
   "source": [
    "`data/yelp_academic_dataset_business.csv` stores the business type in the column `categories`.\n",
    "\n",
    "Two immediate methods to filter the data:\n",
    "- Manually search the desired labels in the set, `all_labels` for all businesses matching the desired labels.  Filter to obtain the subset.\n",
    "- Apply a text embedder to calculate the similarity between a query string and the category description.\n",
    "\n",
    "This notebook walks through the steps for the latter option, but also provides a set of all the labels that occur in the `categories` column of the `DataFrame`"
   ]
  },
  {
   "cell_type": "code",
   "execution_count": 12,
   "metadata": {
    "collapsed": false,
    "jupyter": {
     "outputs_hidden": false
    },
    "pycharm": {
     "name": "#%%\n"
    }
   },
   "outputs": [
    {
     "data": {
      "text/plain": "   Unnamed: 0             business_id                     name  \\\n0           0  6iYb2HFDywm3zjuRg0shjw      Oskar Blues Taproom   \n1           1  tCbdrRPZA0oiIYSmHG3J0w  Flying Elephants at PDX   \n2           2  bvN78flM8NLprQ1a1y5dRg           The Reclaimory   \n3           3  oaepsyvc0J17qwi8cfrOWg              Great Clips   \n4           4  PE9uqAjdw0E4-8mjGl3wVA        Crossfit Terminus   \n\n               address         city state postal_code   latitude   longitude  \\\n0         921 Pearl St      Boulder    CO       80302  40.017544 -105.283348   \n1  7000 NE Airport Way     Portland    OR       97218  45.588906 -122.593331   \n2   4720 Hawthorne Ave     Portland    OR       97214  45.511907 -122.613693   \n3   2566 Enterprise Rd  Orange City    FL       32763  28.914482  -81.295979   \n4  1046 Memorial Dr SE      Atlanta    GA       30316  33.747027  -84.353424   \n\n   stars  review_count  is_open  \\\n0    4.0            86        1   \n1    4.0           126        1   \n2    4.5            13        1   \n3    3.0             8        1   \n4    4.0            14        1   \n\n                                          attributes  \\\n0  {'RestaurantsTableService': 'True', 'WiFi': \"u...   \n1  {'RestaurantsTakeOut': 'True', 'RestaurantsAtt...   \n2  {'BusinessAcceptsCreditCards': 'True', 'Restau...   \n3  {'RestaurantsPriceRange2': '1', 'BusinessAccep...   \n4  {'GoodForKids': 'False', 'BusinessParking': \"{...   \n\n                                          categories  \\\n0  Gastropubs, Food, Beer Gardens, Restaurants, B...   \n1  Salad, Soup, Sandwiches, Delis, Restaurants, C...   \n2  Antiques, Fashion, Used, Vintage & Consignment...   \n3                         Beauty & Spas, Hair Salons   \n4  Gyms, Active Life, Interval Training Gyms, Fit...   \n\n                                               hours  \n0  {'Monday': '11:0-23:0', 'Tuesday': '11:0-23:0'...  \n1  {'Monday': '5:0-18:0', 'Tuesday': '5:0-17:0', ...  \n2  {'Thursday': '11:0-18:0', 'Friday': '11:0-18:0...  \n3                                                NaN  \n4  {'Monday': '16:0-19:0', 'Tuesday': '16:0-19:0'...  ",
      "text/html": "<div>\n<style scoped>\n    .dataframe tbody tr th:only-of-type {\n        vertical-align: middle;\n    }\n\n    .dataframe tbody tr th {\n        vertical-align: top;\n    }\n\n    .dataframe thead th {\n        text-align: right;\n    }\n</style>\n<table border=\"1\" class=\"dataframe\">\n  <thead>\n    <tr style=\"text-align: right;\">\n      <th></th>\n      <th>Unnamed: 0</th>\n      <th>business_id</th>\n      <th>name</th>\n      <th>address</th>\n      <th>city</th>\n      <th>state</th>\n      <th>postal_code</th>\n      <th>latitude</th>\n      <th>longitude</th>\n      <th>stars</th>\n      <th>review_count</th>\n      <th>is_open</th>\n      <th>attributes</th>\n      <th>categories</th>\n      <th>hours</th>\n    </tr>\n  </thead>\n  <tbody>\n    <tr>\n      <th>0</th>\n      <td>0</td>\n      <td>6iYb2HFDywm3zjuRg0shjw</td>\n      <td>Oskar Blues Taproom</td>\n      <td>921 Pearl St</td>\n      <td>Boulder</td>\n      <td>CO</td>\n      <td>80302</td>\n      <td>40.017544</td>\n      <td>-105.283348</td>\n      <td>4.0</td>\n      <td>86</td>\n      <td>1</td>\n      <td>{'RestaurantsTableService': 'True', 'WiFi': \"u...</td>\n      <td>Gastropubs, Food, Beer Gardens, Restaurants, B...</td>\n      <td>{'Monday': '11:0-23:0', 'Tuesday': '11:0-23:0'...</td>\n    </tr>\n    <tr>\n      <th>1</th>\n      <td>1</td>\n      <td>tCbdrRPZA0oiIYSmHG3J0w</td>\n      <td>Flying Elephants at PDX</td>\n      <td>7000 NE Airport Way</td>\n      <td>Portland</td>\n      <td>OR</td>\n      <td>97218</td>\n      <td>45.588906</td>\n      <td>-122.593331</td>\n      <td>4.0</td>\n      <td>126</td>\n      <td>1</td>\n      <td>{'RestaurantsTakeOut': 'True', 'RestaurantsAtt...</td>\n      <td>Salad, Soup, Sandwiches, Delis, Restaurants, C...</td>\n      <td>{'Monday': '5:0-18:0', 'Tuesday': '5:0-17:0', ...</td>\n    </tr>\n    <tr>\n      <th>2</th>\n      <td>2</td>\n      <td>bvN78flM8NLprQ1a1y5dRg</td>\n      <td>The Reclaimory</td>\n      <td>4720 Hawthorne Ave</td>\n      <td>Portland</td>\n      <td>OR</td>\n      <td>97214</td>\n      <td>45.511907</td>\n      <td>-122.613693</td>\n      <td>4.5</td>\n      <td>13</td>\n      <td>1</td>\n      <td>{'BusinessAcceptsCreditCards': 'True', 'Restau...</td>\n      <td>Antiques, Fashion, Used, Vintage &amp; Consignment...</td>\n      <td>{'Thursday': '11:0-18:0', 'Friday': '11:0-18:0...</td>\n    </tr>\n    <tr>\n      <th>3</th>\n      <td>3</td>\n      <td>oaepsyvc0J17qwi8cfrOWg</td>\n      <td>Great Clips</td>\n      <td>2566 Enterprise Rd</td>\n      <td>Orange City</td>\n      <td>FL</td>\n      <td>32763</td>\n      <td>28.914482</td>\n      <td>-81.295979</td>\n      <td>3.0</td>\n      <td>8</td>\n      <td>1</td>\n      <td>{'RestaurantsPriceRange2': '1', 'BusinessAccep...</td>\n      <td>Beauty &amp; Spas, Hair Salons</td>\n      <td>NaN</td>\n    </tr>\n    <tr>\n      <th>4</th>\n      <td>4</td>\n      <td>PE9uqAjdw0E4-8mjGl3wVA</td>\n      <td>Crossfit Terminus</td>\n      <td>1046 Memorial Dr SE</td>\n      <td>Atlanta</td>\n      <td>GA</td>\n      <td>30316</td>\n      <td>33.747027</td>\n      <td>-84.353424</td>\n      <td>4.0</td>\n      <td>14</td>\n      <td>1</td>\n      <td>{'GoodForKids': 'False', 'BusinessParking': \"{...</td>\n      <td>Gyms, Active Life, Interval Training Gyms, Fit...</td>\n      <td>{'Monday': '16:0-19:0', 'Tuesday': '16:0-19:0'...</td>\n    </tr>\n  </tbody>\n</table>\n</div>"
     },
     "execution_count": 12,
     "metadata": {},
     "output_type": "execute_result"
    }
   ],
   "source": [
    "df_business.head()"
   ]
  },
  {
   "cell_type": "markdown",
   "metadata": {
    "pycharm": {
     "name": "#%% md\n"
    }
   },
   "source": [
    "### Method 1 Labels:"
   ]
  },
  {
   "cell_type": "code",
   "execution_count": 13,
   "metadata": {
    "collapsed": false,
    "jupyter": {
     "outputs_hidden": false
    },
    "pycharm": {
     "name": "#%%\n"
    }
   },
   "outputs": [
    {
     "name": "stdout",
     "output_type": "stream",
     "text": [
      "TOTAL NUMBER OF LABELS:  1330\n"
     ]
    }
   ],
   "source": [
    "all_labels_list = [label for category in df_business['categories'] for label in category.split(\", \")]\n",
    "all_labels = set(all_labels_list)\n",
    "print(\"TOTAL NUMBER OF LABELS: \", len(all_labels))"
   ]
  },
  {
   "cell_type": "markdown",
   "metadata": {},
   "source": [
    "### Method 2 Embeddings:\n",
    "[Google's Universal Sentence Encoder (USE)](https://www.tensorflow.org/hub/tutorials/semantic_similarity_with_tf_hub_universal_encoder)\n",
    "\n",
    "In short, USE converts text to vectors:\n",
    "- query: `Food...` $\\to \\vec{q}$\n",
    "- Business $j$, category $j$: `Gastropubs, Food, Beer Gardens, Restaurants, B...` $\\to \\vec{c_j}$\n",
    "- Business $k$, category $k$: `Antiques, Fashion, Used, Vintage & Consignment...` $\\to \\vec{c_k}$\n",
    "\n",
    "We observe:\n",
    "\n",
    "$$\\textrm{Similarity Score}_j = \\vec{q} \\cdot \\vec{c_j} > \\vec{q}\\cdot\\vec{c_k} = \\textrm{Similarity Score}_k$$\n",
    "\n",
    "due to the semantic similarity to `Food`"
   ]
  },
  {
   "cell_type": "code",
   "execution_count": 14,
   "metadata": {
    "collapsed": false,
    "jupyter": {
     "outputs_hidden": false
    },
    "pycharm": {
     "name": "#%%\n"
    }
   },
   "outputs": [
    {
     "name": "stdout",
     "output_type": "stream",
     "text": [
      "EMBEDDINGS LOADED\n"
     ]
    }
   ],
   "source": [
    "try:\n",
    "    with open(EMBEDDED_CATEGORIES_FILE, 'rb') as f:\n",
    "        embedded_categories = np.load(EMBEDDED_CATEGORIES_FILE, allow_pickle=True)\n",
    "    print('EMBEDDINGS LOADED')\n",
    "\n",
    "except IOError as e:\n",
    "    print('ARRAY NOT FOUND. EMBEDDING:')\n",
    "    categories = list(df_business['categories'])\n",
    "    embedded_categories = embedder(categories).numpy()\n",
    "    np.save(EMBEDDED_CATEGORIES_FILE, embedded_categories)\n",
    "    print('EMBEDDINGS SAVED')"
   ]
  },
  {
   "cell_type": "markdown",
   "metadata": {
    "collapsed": false,
    "jupyter": {
     "outputs_hidden": false
    },
    "pycharm": {
     "name": "#%% md\n"
    }
   },
   "source": [
    "Change `query` to include desired comparison text"
   ]
  },
  {
   "cell_type": "code",
   "execution_count": 15,
   "outputs": [],
   "source": [
    "restaurants = set(pd.read_csv('data/Top250.csv')['Segment_Category'])\n",
    "restaurants_keywords = restaurant_text = \" \".join(restaurants)\n",
    "query = restaurants_keywords\n",
    "#query = 'burger'"
   ],
   "metadata": {
    "collapsed": false,
    "pycharm": {
     "name": "#%%\n"
    }
   }
  },
  {
   "cell_type": "code",
   "execution_count": 16,
   "outputs": [
    {
     "name": "stdout",
     "output_type": "stream",
     "text": [
      "QUERY TO MATCH:\n",
      "Casual Dining & Seafood Italian/Pizza Casual Dining & Asian Fast Casual & Sandwich Steak Asian Casual Dining & Steak Seafood Quick Service & Frozen Desserts Quick Service & Beverage Chicken Bakery Cafe Mexican Fast Casual & Pizza Ethnic Fast Casual & Bakery Cafe Casual Dining & Varied Menu Quick Service & Snack Quick Service & Sandwich Quick Service & Pizza Fast Casual & Chicken Frozen Desserts Casual Dining & Italian/Pizza Sports Bar Healthy Quick Service & Bakery Cafe BBQ Casual Dining & Sports Bar Quick Service & Mexican Fast Casual & Asian/Noodle Coffee Cafe Family Dining & Family Style Quick Service & Family Casual Burger Family Style Fast Casual & Mexican Quick Service & Coffee Cafe Varied Menu Asian/Noodle Family Casual Snack Fast Casual & Burger Quick Service & Burger Quick Service & Seafood Fine Dining & Steak Quick Service & Chicken Sandwich Pizza\n"
     ]
    },
    {
     "data": {
      "text/plain": "<Figure size 432x288 with 1 Axes>",
      "image/png": "[encoded data removed]"
     },
     "metadata": {
      "needs_background": "light"
     },
     "output_type": "display_data"
    }
   ],
   "source": [
    "print(\"QUERY TO MATCH:\")\n",
    "print(query)\n",
    "embedded_query = embedder([query]).numpy()\n",
    "\n",
    "similarity_dist = embedded_categories @ embedded_query.T\n",
    "plt.title('Similarity Score Distribution')\n",
    "plt.hist(similarity_dist, bins=100)\n",
    "plt.xlabel('Similarity Scores')\n",
    "plt.ylabel('Frequency')\n",
    "plt.show()"
   ],
   "metadata": {
    "collapsed": false,
    "pycharm": {
     "name": "#%%\n"
    }
   }
  },
  {
   "cell_type": "markdown",
   "source": [
    "Change `threshold` to set the minimum required similarity."
   ],
   "metadata": {
    "collapsed": false,
    "pycharm": {
     "name": "#%% md\n"
    }
   }
  },
  {
   "cell_type": "code",
   "execution_count": 17,
   "outputs": [],
   "source": [
    "threshold = 0.15"
   ],
   "metadata": {
    "collapsed": false,
    "pycharm": {
     "name": "#%%\n"
    }
   }
  },
  {
   "cell_type": "code",
   "execution_count": 18,
   "metadata": {
    "collapsed": false,
    "jupyter": {
     "outputs_hidden": false
    },
    "pycharm": {
     "name": "#%%\n"
    }
   },
   "outputs": [
    {
     "name": "stdout",
     "output_type": "stream",
     "text": [
      "NUMBER OF MATCHES:  52700\n"
     ]
    },
    {
     "data": {
      "text/plain": "    Unnamed: 0             business_id                      name  \\\n0            0  6iYb2HFDywm3zjuRg0shjw       Oskar Blues Taproom   \n1            1  tCbdrRPZA0oiIYSmHG3J0w   Flying Elephants at PDX   \n5            5  D4JtQNTI4X3KcbzacDJsMw       Bob Likes Thai Food   \n10          10  rYs_1pNB_RMtn5WQh55QDA  Chautauqua General Store   \n12          12  HPA_qyMEddpAEtFof02ixg       Mr G's Pizza & Subs   \n\n                address       city state postal_code   latitude   longitude  \\\n0          921 Pearl St    Boulder    CO       80302  40.017544 -105.283348   \n1   7000 NE Airport Way   Portland    OR       97218  45.588906 -122.593331   \n5          3755 Main St  Vancouver    BC         V5V  49.251342 -123.101333   \n10      100 Clematis Dr    Boulder    CO       80302  39.998449 -105.281006   \n12        474 Lowell St    Peabody    MA       01960  42.541155  -70.973438   \n\n    stars  review_count  is_open  \\\n0     4.0            86        1   \n1     4.0           126        1   \n5     3.5           169        1   \n10    3.5             5        1   \n12    4.0            39        1   \n\n                                           attributes  \\\n0   {'RestaurantsTableService': 'True', 'WiFi': \"u...   \n1   {'RestaurantsTakeOut': 'True', 'RestaurantsAtt...   \n5   {'GoodForKids': 'True', 'Alcohol': \"u'none'\", ...   \n10  {'BikeParking': 'True', 'RestaurantsTakeOut': ...   \n12  {'RestaurantsGoodForGroups': 'True', 'HasTV': ...   \n\n                                           categories  \\\n0   Gastropubs, Food, Beer Gardens, Restaurants, B...   \n1   Salad, Soup, Sandwiches, Delis, Restaurants, C...   \n5                                   Restaurants, Thai   \n10  Food, Shopping, Convenience Stores, Souvenir S...   \n12                           Food, Pizza, Restaurants   \n\n                                                hours  \n0   {'Monday': '11:0-23:0', 'Tuesday': '11:0-23:0'...  \n1   {'Monday': '5:0-18:0', 'Tuesday': '5:0-17:0', ...  \n5   {'Monday': '17:0-21:0', 'Tuesday': '17:0-21:0'...  \n10  {'Monday': '8:0-20:0', 'Tuesday': '8:0-20:0', ...  \n12  {'Monday': '11:0-21:0', 'Tuesday': '11:0-21:0'...  ",
      "text/html": "<div>\n<style scoped>\n    .dataframe tbody tr th:only-of-type {\n        vertical-align: middle;\n    }\n\n    .dataframe tbody tr th {\n        vertical-align: top;\n    }\n\n    .dataframe thead th {\n        text-align: right;\n    }\n</style>\n<table border=\"1\" class=\"dataframe\">\n  <thead>\n    <tr style=\"text-align: right;\">\n      <th></th>\n      <th>Unnamed: 0</th>\n      <th>business_id</th>\n      <th>name</th>\n      <th>address</th>\n      <th>city</th>\n      <th>state</th>\n      <th>postal_code</th>\n      <th>latitude</th>\n      <th>longitude</th>\n      <th>stars</th>\n      <th>review_count</th>\n      <th>is_open</th>\n      <th>attributes</th>\n      <th>categories</th>\n      <th>hours</th>\n    </tr>\n  </thead>\n  <tbody>\n    <tr>\n      <th>0</th>\n      <td>0</td>\n      <td>6iYb2HFDywm3zjuRg0shjw</td>\n      <td>Oskar Blues Taproom</td>\n      <td>921 Pearl St</td>\n      <td>Boulder</td>\n      <td>CO</td>\n      <td>80302</td>\n      <td>40.017544</td>\n      <td>-105.283348</td>\n      <td>4.0</td>\n      <td>86</td>\n      <td>1</td>\n      <td>{'RestaurantsTableService': 'True', 'WiFi': \"u...</td>\n      <td>Gastropubs, Food, Beer Gardens, Restaurants, B...</td>\n      <td>{'Monday': '11:0-23:0', 'Tuesday': '11:0-23:0'...</td>\n    </tr>\n    <tr>\n      <th>1</th>\n      <td>1</td>\n      <td>tCbdrRPZA0oiIYSmHG3J0w</td>\n      <td>Flying Elephants at PDX</td>\n      <td>7000 NE Airport Way</td>\n      <td>Portland</td>\n      <td>OR</td>\n      <td>97218</td>\n      <td>45.588906</td>\n      <td>-122.593331</td>\n      <td>4.0</td>\n      <td>126</td>\n      <td>1</td>\n      <td>{'RestaurantsTakeOut': 'True', 'RestaurantsAtt...</td>\n      <td>Salad, Soup, Sandwiches, Delis, Restaurants, C...</td>\n      <td>{'Monday': '5:0-18:0', 'Tuesday': '5:0-17:0', ...</td>\n    </tr>\n    <tr>\n      <th>5</th>\n      <td>5</td>\n      <td>D4JtQNTI4X3KcbzacDJsMw</td>\n      <td>Bob Likes Thai Food</td>\n      <td>3755 Main St</td>\n      <td>Vancouver</td>\n      <td>BC</td>\n      <td>V5V</td>\n      <td>49.251342</td>\n      <td>-123.101333</td>\n      <td>3.5</td>\n      <td>169</td>\n      <td>1</td>\n      <td>{'GoodForKids': 'True', 'Alcohol': \"u'none'\", ...</td>\n      <td>Restaurants, Thai</td>\n      <td>{'Monday': '17:0-21:0', 'Tuesday': '17:0-21:0'...</td>\n    </tr>\n    <tr>\n      <th>10</th>\n      <td>10</td>\n      <td>rYs_1pNB_RMtn5WQh55QDA</td>\n      <td>Chautauqua General Store</td>\n      <td>100 Clematis Dr</td>\n      <td>Boulder</td>\n      <td>CO</td>\n      <td>80302</td>\n      <td>39.998449</td>\n      <td>-105.281006</td>\n      <td>3.5</td>\n      <td>5</td>\n      <td>1</td>\n      <td>{'BikeParking': 'True', 'RestaurantsTakeOut': ...</td>\n      <td>Food, Shopping, Convenience Stores, Souvenir S...</td>\n      <td>{'Monday': '8:0-20:0', 'Tuesday': '8:0-20:0', ...</td>\n    </tr>\n    <tr>\n      <th>12</th>\n      <td>12</td>\n      <td>HPA_qyMEddpAEtFof02ixg</td>\n      <td>Mr G's Pizza &amp; Subs</td>\n      <td>474 Lowell St</td>\n      <td>Peabody</td>\n      <td>MA</td>\n      <td>01960</td>\n      <td>42.541155</td>\n      <td>-70.973438</td>\n      <td>4.0</td>\n      <td>39</td>\n      <td>1</td>\n      <td>{'RestaurantsGoodForGroups': 'True', 'HasTV': ...</td>\n      <td>Food, Pizza, Restaurants</td>\n      <td>{'Monday': '11:0-21:0', 'Tuesday': '11:0-21:0'...</td>\n    </tr>\n  </tbody>\n</table>\n</div>"
     },
     "execution_count": 18,
     "metadata": {},
     "output_type": "execute_result"
    }
   ],
   "source": [
    "split_dex = np.where(similarity_dist >= threshold)[0]\n",
    "df_filtered = df_business.iloc[split_dex, :]\n",
    "print('NUMBER OF MATCHES: ', df_filtered.shape[0])\n",
    "df_filtered.head()"
   ]
  },
  {
   "cell_type": "code",
   "execution_count": 19,
   "outputs": [],
   "source": [
    "df_filtered.to_csv('data/yelp_academic_dataset_business_filtered.csv')"
   ],
   "metadata": {
    "collapsed": false,
    "pycharm": {
     "name": "#%%\n"
    }
   }
  }
 ],
 "metadata": {
  "kernelspec": {
   "display_name": "Python 3",
   "language": "python",
   "name": "python3"
  },
  "language_info": {
   "codemirror_mode": {
    "name": "ipython",
    "version": 3
   },
   "file_extension": ".py",
   "mimetype": "text/x-python",
   "name": "python",
   "nbconvert_exporter": "python",
   "pygments_lexer": "ipython3",
   "version": "3.7.6"
  }
 },
 "nbformat": 4,
 "nbformat_minor": 4
}