{
 "cells": [
  {
   "cell_type": "markdown",
   "source": [
    "## Recommender System Internals"
   ],
   "metadata": {
    "collapsed": false,
    "pycharm": {
     "name": "#%% md\n"
    }
   }
  },
  {
   "cell_type": "code",
   "execution_count": 1,
   "metadata": {
    "collapsed": true
   },
   "outputs": [],
   "source": [
    "import numpy as np\n",
    "import pandas as pd\n",
    "import ast\n",
    "from sklearn.preprocessing import OneHotEncoder"
   ]
  },
  {
   "cell_type": "code",
   "execution_count": 2,
   "outputs": [],
   "source": [
    "df_business = pd.read_csv('data_small/yelp_academic_dataset_business_filtered.csv')\n",
    "# Remove average user rating.  This system will be using the user reviews instead\n",
    "del df_business['stars']\n",
    "df_users = pd.read_csv('data_small/yelp_academic_dataset_user.csv')\n",
    "df_review = pd.read_csv('data_small/yelp_academic_dataset_review.csv')\n",
    "# Remove reviews that are for businesses outside of df_business\n",
    "business_id_set = set(df_business['business_id'])\n",
    "df_review = df_review[df_review['business_id'].isin(business_id_set)]"
   ],
   "metadata": {
    "collapsed": false,
    "pycharm": {
     "name": "#%%\n"
    }
   }
  },
  {
   "cell_type": "code",
   "execution_count": 4,
   "outputs": [
    {
     "name": "stdout",
     "output_type": "stream",
     "text": [
      "DATAFRAME SHAPE:  (6576, 49)\n",
      "UNIQUE USERS:  6152\n",
      "UNIQUE BUSINESSES:  697\n"
     ]
    }
   ],
   "source": [
    "temp = pd.merge(df_users, df_review, on='user_id')\n",
    "df_all = pd.merge(temp, df_business, on='business_id')\n",
    "\n",
    "print(\"DATAFRAME SHAPE: \", df_all.shape)\n",
    "print(\"UNIQUE USERS: \", np.unique(df_all['user_id']).shape[0])\n",
    "print(\"UNIQUE BUSINESSES: \", np.unique(df_all['business_id']).shape[0])"
   ],
   "metadata": {
    "collapsed": false,
    "pycharm": {
     "name": "#%%\n"
    }
   }
  },
  {
   "cell_type": "code",
   "execution_count": 5,
   "outputs": [
    {
     "data": {
      "text/plain": "OneHotEncoder(handle_unknown='ignore')"
     },
     "execution_count": 5,
     "metadata": {},
     "output_type": "execute_result"
    }
   ],
   "source": [
    "enc = OneHotEncoder(handle_unknown='ignore', sparse=True)\n",
    "enc.fit(df_all['user_id'].values.reshape(-1, 1))"
   ],
   "metadata": {
    "collapsed": false,
    "pycharm": {
     "name": "#%%\n"
    }
   }
  },
  {
   "cell_type": "code",
   "execution_count": 6,
   "outputs": [
    {
     "data": {
      "text/plain": "array([[0., 0., 0., ..., 0., 0., 0.]])"
     },
     "execution_count": 6,
     "metadata": {},
     "output_type": "execute_result"
    }
   ],
   "source": [
    "enc.transform([['-7yf2-ax6xpxCXPpHHfNLA']]).A"
   ],
   "metadata": {
    "collapsed": false,
    "pycharm": {
     "name": "#%%\n"
    }
   }
  },
  {
   "cell_type": "code",
   "execution_count": 7,
   "outputs": [
    {
     "data": {
      "text/plain": "business_id\n-7yf2-ax6xpxCXPpHHfNLA                      [[kkWU93G18F7vgzdQB-8h-g, 3.0]]\n-Eg1pMVoWg8YR6-O4QuTxw    [[KMmMQ8Dpx7wx15xG5caw0Q, 2.0], [yIG8aHbb3aFdD...\n-OmEmU8sds0dcsDDSoce-g    [[HEB0nn9Hi5occxoGZR8pXA, 3.0], [UqqTaNJEoDp2Z...\n-R_djOxD9Jd5qYqk06dKJA    [[Uke3Ob09vZgndCZ1ulHsdw, 4.0], [yyj1nv9Ee8TKk...\n-SkwKPbo5oK1-NtKkupNvw                      [[AzMXhq_WAJxnyYi4eEytjA, 1.0]]\n                                                ...                        \nzdXd2X8oH4r7QCD0mF9tig    [[aieN8y6UxP-nDDevF7SOfA, 5.0], [a6NFgtvqzvUL8...\nzfasUshwU5NhibqKVQ7FIw    [[E4SfIfuU0H3RtDKwDvc_Uw, 3.0], [eNFWxvso6FkM7...\nzrEX83k18Zf-CeMKrHIOKA    [[jVYzrVblDFSuL3GHtt8ZSA, 2.0], [T0CyD8Y5wDOow...\nzxbkDCJ85JHgC8CWcdMCZw    [[Zog0qSOFTjE4H0T044hA-g, 5.0], [2LVT_gi7IVCUm...\nzyBC3BUkH9klhPhMyQmxAQ    [[z9B25fKtfrxzUws_OOHJSQ, 2.0], [MyW4TaKufhNxr...\nLength: 697, dtype: object"
     },
     "execution_count": 7,
     "metadata": {},
     "output_type": "execute_result"
    }
   ],
   "source": [
    "# https://stackoverflow.com/questions/46622869/pandas-groupby-column-a-and-make-lists-of-tuples-from-other-columns\n",
    "data = df_all.groupby('business_id')[['user_id', 'stars']].apply(lambda x: x.values.tolist())\n",
    "data"
   ],
   "metadata": {
    "collapsed": false,
    "pycharm": {
     "name": "#%%\n"
    }
   }
  },
  {
   "cell_type": "code",
   "execution_count": 8,
   "outputs": [],
   "source": [
    "def interaction_vec(data, enc):\n",
    "    \"\"\"\n",
    "    Generates the interaction matrix.\n",
    "    :param data: Series where indices correspond to business_id and values contains a list of pairs (user_id, star rating for the business)\n",
    "    :param enc: one hot encoder trained on the user IDs\n",
    "    :return: numpy array of star interactions of size (number of businesses, number of users)\n",
    "    \"\"\"\n",
    "    user_interactions = []\n",
    "\n",
    "    for business_id in data.index:\n",
    "        vec = enc.transform([['']])\n",
    "        for user_id, rating in data[business_id]:\n",
    "            vec += rating * enc.transform([[user_id]])\n",
    "        user_interactions.append(vec.A.flatten())\n",
    "\n",
    "    return np.array(user_interactions)"
   ],
   "metadata": {
    "collapsed": false,
    "pycharm": {
     "name": "#%%\n"
    }
   }
  },
  {
   "cell_type": "code",
   "execution_count": 9,
   "outputs": [],
   "source": [
    "out = interaction_vec(data, enc)"
   ],
   "metadata": {
    "collapsed": false,
    "pycharm": {
     "name": "#%%\n"
    }
   }
  },
  {
   "cell_type": "markdown",
   "source": [
    "`out` is a matrix where each row corresponds to a business, and each column corresponds to a user.  This system was designed with item-to-item in mind."
   ],
   "metadata": {
    "collapsed": false,
    "pycharm": {
     "name": "#%% md\n"
    }
   }
  },
  {
   "cell_type": "code",
   "execution_count": 10,
   "outputs": [
    {
     "name": "stdout",
     "output_type": "stream",
     "text": [
      "(697, 6152)\n"
     ]
    }
   ],
   "source": [
    "print(out.shape)"
   ],
   "metadata": {
    "collapsed": false,
    "pycharm": {
     "name": "#%%\n"
    }
   }
  },
  {
   "cell_type": "code",
   "execution_count": 11,
   "outputs": [
    {
     "data": {
      "text/plain": "     Unnamed: 0  Unnamed: 0.1  Unnamed: 0.1.1             business_id  \\\n67           67           195             195  zYMjNc-Q7-T238SHylKgKA   \n378         378          1170            1170  ZT8PWgmXw9G1TiVq6JlRWg   \n404         404          1312            1312  Ak6ak8lb7qLlg0K4qdwAdg   \n557         557          1797            1797  EXU9J5LCGb-CTs8sTOt-Eg   \n573         573          1848            1848  -ehH_g5kTc1CSzydc6apOw   \n701         701          2267            2267  TDQ0lSTHW3RyfVWQuwbBGg   \n752         752          2457            2457  VGxHDM-0Ic6E5CrXl0qMfQ   \n782         782          2559            2559  kGmMiW1qCoJ95-5Y9Vk8kw   \n820         820          2692            2692  3HNq9KV8A7OBiqlWm8kZ8g   \n824         824          2700            2700  6yBizH8RnIYXk6vboLk3PA   \n883         883          2884            2884  pKW-5mKigIkzDW4kKnFgYQ   \n\n                                    name  \\\n67   Chinatown Restaurant & Lucky Bistro   \n378                             The Know   \n404                     Boxxes Video Bar   \n557                     Burnside Brewing   \n573                         Over the Top   \n701               Breakfast At Valerie's   \n752             Oaks Bottom Public House   \n782                Simpatica Dining Hall   \n820                  Swirl Frozen Yogurt   \n824                 Random Order Pie Bar   \n883                            Il Piatto   \n\n                                               address       city state  \\\n67                                14455 SW Pacific Hwy     Tigard    OR   \n378                                 3728 NE Sandy Blvd   Portland    OR   \n404                                     330 SW 11th St   Portland    OR   \n557                                  701 E Burnside St   Portland    OR   \n573  A La Carts Food Pavillion, SE 50th Ave & SE Di...   Portland    OR   \n701                           516 SE Chkalov Dr, Ste 1  Vancouver    WA   \n752                                 1621 SE Bybee Blvd   Portland    OR   \n782                                      828 SE Ash St   Portland    OR   \n820                             3538 SE Hawthorne Blvd   Portland    OR   \n824                                 1800 NE Alberta St   Portland    OR   \n883                                  2348 SE Ankeny St   Portland    OR   \n\n    postal_code   latitude   longitude  review_count  is_open  \\\n67        97224  45.415859 -122.791456            44        0   \n378       97232  45.534061 -122.624405            66        0   \n404       97205  45.522401 -122.681899            17        0   \n557       97214  45.523395 -122.658372           538        0   \n573       97206  45.505366 -122.599835            22        0   \n701       98683  45.617161 -122.555714           461        1   \n752       97202  45.473880 -122.649422           217        1   \n782       97214  45.521371 -122.657057           247        0   \n820       97214  45.511922 -122.627815           118        0   \n824       97211  45.558983 -122.646688           514        0   \n883       97214  45.522051 -122.641629            92        0   \n\n                                            attributes  \\\n67   {'RestaurantsPriceRange2': '2', 'RestaurantsTa...   \n378  {'RestaurantsGoodForGroups': 'True', 'Restaura...   \n404  {'Ambience': \"{'romantic': False, 'intimate': ...   \n557  {'Alcohol': \"u'full_bar'\", 'WiFi': \"u'free'\", ...   \n573  {'RestaurantsDelivery': 'False', 'HasTV': 'Fal...   \n701  {'RestaurantsGoodForGroups': 'True', 'Business...   \n752  {'BusinessParking': \"{'garage': False, 'street...   \n782  {'RestaurantsTakeOut': 'False', 'Alcohol': \"u'...   \n820  {'BikeParking': 'True', 'BusinessAcceptsCredit...   \n824  {'HasTV': 'False', 'BikeParking': 'True', 'Noi...   \n883  {'BYOBCorkage': \"'yes_corkage'\", 'NoiseLevel':...   \n\n                                            categories  \\\n67                       Restaurants, Dim Sum, Chinese   \n378  Dive Bars, Music Venues, Nightlife, Karaoke, A...   \n404    Restaurants, Seafood, Gay Bars, Bars, Nightlife   \n557  Pubs, Bars, Food, American (New), Nightlife, B...   \n573                  Restaurants, Food Stands, Burgers   \n701    American (New), Restaurants, Breakfast & Brunch   \n752  Salad, Restaurants, Bars, Nightlife, Beverage ...   \n782  Diners, Event Planning & Services, Restaurants...   \n820                    Ice Cream & Frozen Yogurt, Food   \n824  Bars, Restaurants, Coffee & Tea, Bakeries, Foo...   \n883                               Italian, Restaurants   \n\n                                                 hours  \n67   {'Monday': '10:30-22:0', 'Tuesday': '10:30-22:...  \n378  {'Monday': '14:0-2:30', 'Tuesday': '14:0-2:30'...  \n404  {'Monday': '5:0-1:0', 'Tuesday': '5:0-1:0', 'W...  \n557  {'Monday': '11:0-21:0', 'Tuesday': '11:0-21:0'...  \n573  {'Monday': '12:0-17:0', 'Tuesday': '12:0-17:0'...  \n701  {'Monday': '6:0-15:0', 'Tuesday': '6:0-15:0', ...  \n752  {'Monday': '11:0-0:0', 'Tuesday': '11:0-0:0', ...  \n782  {'Friday': '19:30-19:45', 'Saturday': '19:0-22...  \n820                                                NaN  \n824  {'Monday': '7:30-21:30', 'Wednesday': '7:30-21...  \n883  {'Monday': '17:30-22:0', 'Tuesday': '11:30-22:...  ",
      "text/html": "<div>\n<style scoped>\n    .dataframe tbody tr th:only-of-type {\n        vertical-align: middle;\n    }\n\n    .dataframe tbody tr th {\n        vertical-align: top;\n    }\n\n    .dataframe thead th {\n        text-align: right;\n    }\n</style>\n<table border=\"1\" class=\"dataframe\">\n  <thead>\n    <tr style=\"text-align: right;\">\n      <th></th>\n      <th>Unnamed: 0</th>\n      <th>Unnamed: 0.1</th>\n      <th>Unnamed: 0.1.1</th>\n      <th>business_id</th>\n      <th>name</th>\n      <th>address</th>\n      <th>city</th>\n      <th>state</th>\n      <th>postal_code</th>\n      <th>latitude</th>\n      <th>longitude</th>\n      <th>review_count</th>\n      <th>is_open</th>\n      <th>attributes</th>\n      <th>categories</th>\n      <th>hours</th>\n    </tr>\n  </thead>\n  <tbody>\n    <tr>\n      <th>67</th>\n      <td>67</td>\n      <td>195</td>\n      <td>195</td>\n      <td>zYMjNc-Q7-T238SHylKgKA</td>\n      <td>Chinatown Restaurant &amp; Lucky Bistro</td>\n      <td>14455 SW Pacific Hwy</td>\n      <td>Tigard</td>\n      <td>OR</td>\n      <td>97224</td>\n      <td>45.415859</td>\n      <td>-122.791456</td>\n      <td>44</td>\n      <td>0</td>\n      <td>{'RestaurantsPriceRange2': '2', 'RestaurantsTa...</td>\n      <td>Restaurants, Dim Sum, Chinese</td>\n      <td>{'Monday': '10:30-22:0', 'Tuesday': '10:30-22:...</td>\n    </tr>\n    <tr>\n      <th>378</th>\n      <td>378</td>\n      <td>1170</td>\n      <td>1170</td>\n      <td>ZT8PWgmXw9G1TiVq6JlRWg</td>\n      <td>The Know</td>\n      <td>3728 NE Sandy Blvd</td>\n      <td>Portland</td>\n      <td>OR</td>\n      <td>97232</td>\n      <td>45.534061</td>\n      <td>-122.624405</td>\n      <td>66</td>\n      <td>0</td>\n      <td>{'RestaurantsGoodForGroups': 'True', 'Restaura...</td>\n      <td>Dive Bars, Music Venues, Nightlife, Karaoke, A...</td>\n      <td>{'Monday': '14:0-2:30', 'Tuesday': '14:0-2:30'...</td>\n    </tr>\n    <tr>\n      <th>404</th>\n      <td>404</td>\n      <td>1312</td>\n      <td>1312</td>\n      <td>Ak6ak8lb7qLlg0K4qdwAdg</td>\n      <td>Boxxes Video Bar</td>\n      <td>330 SW 11th St</td>\n      <td>Portland</td>\n      <td>OR</td>\n      <td>97205</td>\n      <td>45.522401</td>\n      <td>-122.681899</td>\n      <td>17</td>\n      <td>0</td>\n      <td>{'Ambience': \"{'romantic': False, 'intimate': ...</td>\n      <td>Restaurants, Seafood, Gay Bars, Bars, Nightlife</td>\n      <td>{'Monday': '5:0-1:0', 'Tuesday': '5:0-1:0', 'W...</td>\n    </tr>\n    <tr>\n      <th>557</th>\n      <td>557</td>\n      <td>1797</td>\n      <td>1797</td>\n      <td>EXU9J5LCGb-CTs8sTOt-Eg</td>\n      <td>Burnside Brewing</td>\n      <td>701 E Burnside St</td>\n      <td>Portland</td>\n      <td>OR</td>\n      <td>97214</td>\n      <td>45.523395</td>\n      <td>-122.658372</td>\n      <td>538</td>\n      <td>0</td>\n      <td>{'Alcohol': \"u'full_bar'\", 'WiFi': \"u'free'\", ...</td>\n      <td>Pubs, Bars, Food, American (New), Nightlife, B...</td>\n      <td>{'Monday': '11:0-21:0', 'Tuesday': '11:0-21:0'...</td>\n    </tr>\n    <tr>\n      <th>573</th>\n      <td>573</td>\n      <td>1848</td>\n      <td>1848</td>\n      <td>-ehH_g5kTc1CSzydc6apOw</td>\n      <td>Over the Top</td>\n      <td>A La Carts Food Pavillion, SE 50th Ave &amp; SE Di...</td>\n      <td>Portland</td>\n      <td>OR</td>\n      <td>97206</td>\n      <td>45.505366</td>\n      <td>-122.599835</td>\n      <td>22</td>\n      <td>0</td>\n      <td>{'RestaurantsDelivery': 'False', 'HasTV': 'Fal...</td>\n      <td>Restaurants, Food Stands, Burgers</td>\n      <td>{'Monday': '12:0-17:0', 'Tuesday': '12:0-17:0'...</td>\n    </tr>\n    <tr>\n      <th>701</th>\n      <td>701</td>\n      <td>2267</td>\n      <td>2267</td>\n      <td>TDQ0lSTHW3RyfVWQuwbBGg</td>\n      <td>Breakfast At Valerie's</td>\n      <td>516 SE Chkalov Dr, Ste 1</td>\n      <td>Vancouver</td>\n      <td>WA</td>\n      <td>98683</td>\n      <td>45.617161</td>\n      <td>-122.555714</td>\n      <td>461</td>\n      <td>1</td>\n      <td>{'RestaurantsGoodForGroups': 'True', 'Business...</td>\n      <td>American (New), Restaurants, Breakfast &amp; Brunch</td>\n      <td>{'Monday': '6:0-15:0', 'Tuesday': '6:0-15:0', ...</td>\n    </tr>\n    <tr>\n      <th>752</th>\n      <td>752</td>\n      <td>2457</td>\n      <td>2457</td>\n      <td>VGxHDM-0Ic6E5CrXl0qMfQ</td>\n      <td>Oaks Bottom Public House</td>\n      <td>1621 SE Bybee Blvd</td>\n      <td>Portland</td>\n      <td>OR</td>\n      <td>97202</td>\n      <td>45.473880</td>\n      <td>-122.649422</td>\n      <td>217</td>\n      <td>1</td>\n      <td>{'BusinessParking': \"{'garage': False, 'street...</td>\n      <td>Salad, Restaurants, Bars, Nightlife, Beverage ...</td>\n      <td>{'Monday': '11:0-0:0', 'Tuesday': '11:0-0:0', ...</td>\n    </tr>\n    <tr>\n      <th>782</th>\n      <td>782</td>\n      <td>2559</td>\n      <td>2559</td>\n      <td>kGmMiW1qCoJ95-5Y9Vk8kw</td>\n      <td>Simpatica Dining Hall</td>\n      <td>828 SE Ash St</td>\n      <td>Portland</td>\n      <td>OR</td>\n      <td>97214</td>\n      <td>45.521371</td>\n      <td>-122.657057</td>\n      <td>247</td>\n      <td>0</td>\n      <td>{'RestaurantsTakeOut': 'False', 'Alcohol': \"u'...</td>\n      <td>Diners, Event Planning &amp; Services, Restaurants...</td>\n      <td>{'Friday': '19:30-19:45', 'Saturday': '19:0-22...</td>\n    </tr>\n    <tr>\n      <th>820</th>\n      <td>820</td>\n      <td>2692</td>\n      <td>2692</td>\n      <td>3HNq9KV8A7OBiqlWm8kZ8g</td>\n      <td>Swirl Frozen Yogurt</td>\n      <td>3538 SE Hawthorne Blvd</td>\n      <td>Portland</td>\n      <td>OR</td>\n      <td>97214</td>\n      <td>45.511922</td>\n      <td>-122.627815</td>\n      <td>118</td>\n      <td>0</td>\n      <td>{'BikeParking': 'True', 'BusinessAcceptsCredit...</td>\n      <td>Ice Cream &amp; Frozen Yogurt, Food</td>\n      <td>NaN</td>\n    </tr>\n    <tr>\n      <th>824</th>\n      <td>824</td>\n      <td>2700</td>\n      <td>2700</td>\n      <td>6yBizH8RnIYXk6vboLk3PA</td>\n      <td>Random Order Pie Bar</td>\n      <td>1800 NE Alberta St</td>\n      <td>Portland</td>\n      <td>OR</td>\n      <td>97211</td>\n      <td>45.558983</td>\n      <td>-122.646688</td>\n      <td>514</td>\n      <td>0</td>\n      <td>{'HasTV': 'False', 'BikeParking': 'True', 'Noi...</td>\n      <td>Bars, Restaurants, Coffee &amp; Tea, Bakeries, Foo...</td>\n      <td>{'Monday': '7:30-21:30', 'Wednesday': '7:30-21...</td>\n    </tr>\n    <tr>\n      <th>883</th>\n      <td>883</td>\n      <td>2884</td>\n      <td>2884</td>\n      <td>pKW-5mKigIkzDW4kKnFgYQ</td>\n      <td>Il Piatto</td>\n      <td>2348 SE Ankeny St</td>\n      <td>Portland</td>\n      <td>OR</td>\n      <td>97214</td>\n      <td>45.522051</td>\n      <td>-122.641629</td>\n      <td>92</td>\n      <td>0</td>\n      <td>{'BYOBCorkage': \"'yes_corkage'\", 'NoiseLevel':...</td>\n      <td>Italian, Restaurants</td>\n      <td>{'Monday': '17:30-22:0', 'Tuesday': '11:30-22:...</td>\n    </tr>\n  </tbody>\n</table>\n</div>"
     },
     "execution_count": 11,
     "metadata": {},
     "output_type": "execute_result"
    }
   ],
   "source": [
    "def get_closest_businesses(business_index, interaction_matrix):\n",
    "    business = interaction_matrix[business_index]\n",
    "    interaction_magnitudes = np.linalg.norm(interaction_matrix, axis=1).reshape((-1, 1))\n",
    "    similarities = np.dot(interaction_matrix, business).reshape((-1, 1)) / interaction_magnitudes\n",
    "    similarities = similarities.flatten()\n",
    "    n = similarities[similarities > 0].shape[0]\n",
    "    return np.argsort(similarities)[::-1][:n]\n",
    "\n",
    "indices = data.index[get_closest_businesses(45, out)]\n",
    "df_business[df_business['business_id'].isin(indices)]\n"
   ],
   "metadata": {
    "collapsed": false,
    "pycharm": {
     "name": "#%%\n"
    }
   }
  },
  {
   "cell_type": "code",
   "execution_count": 12,
   "outputs": [
    {
     "data": {
      "text/plain": "array([[0.        ],\n       [0.        ],\n       [0.        ],\n       [4.89897949],\n       [0.        ],\n       [0.        ],\n       [0.        ],\n       [0.        ],\n       [0.        ],\n       [0.        ],\n       [0.        ],\n       [0.        ],\n       [0.        ],\n       [0.        ],\n       [0.        ],\n       [0.        ],\n       [0.        ],\n       [0.        ],\n       [0.        ],\n       [0.        ],\n       [0.        ],\n       [0.        ],\n       [0.        ],\n       [0.        ],\n       [0.        ],\n       [0.        ],\n       [0.        ],\n       [0.        ],\n       [0.        ],\n       [0.        ],\n       [0.        ],\n       [0.        ],\n       [0.        ],\n       [0.        ],\n       [0.        ],\n       [0.        ],\n       [0.        ],\n       [0.        ],\n       [0.        ],\n       [0.        ],\n       [0.        ],\n       [0.        ],\n       [0.        ],\n       [0.        ],\n       [0.        ],\n       [0.        ],\n       [0.        ],\n       [0.        ],\n       [0.        ],\n       [0.        ],\n       [0.        ],\n       [0.        ],\n       [0.        ],\n       [0.        ],\n       [0.        ],\n       [0.        ],\n       [0.        ],\n       [0.        ],\n       [0.        ],\n       [0.        ],\n       [0.        ],\n       [0.        ],\n       [0.        ],\n       [0.        ],\n       [0.        ],\n       [0.        ],\n       [0.        ],\n       [0.        ],\n       [0.        ],\n       [0.        ],\n       [0.        ],\n       [0.        ],\n       [0.        ],\n       [0.        ],\n       [0.        ],\n       [0.        ],\n       [0.        ],\n       [0.        ],\n       [0.        ],\n       [0.        ],\n       [0.        ],\n       [0.        ],\n       [0.        ],\n       [0.        ],\n       [0.        ],\n       [0.        ],\n       [0.        ],\n       [0.        ],\n       [0.        ],\n       [0.        ],\n       [0.        ],\n       [0.        ],\n       [0.        ],\n       [0.        ],\n       [0.        ],\n       [0.        ],\n       [0.        ],\n       [0.        ],\n       [0.        ],\n       [0.        ],\n       [0.        ],\n       [0.        ],\n       [0.        ],\n       [0.        ],\n       [0.        ],\n       [0.        ],\n       [0.        ],\n       [0.        ],\n       [0.        ],\n       [0.        ],\n       [0.        ],\n       [0.        ],\n       [0.        ],\n       [0.        ],\n       [0.        ],\n       [0.        ],\n       [0.        ],\n       [0.        ],\n       [0.        ],\n       [0.        ],\n       [0.        ],\n       [0.        ],\n       [0.        ],\n       [0.        ],\n       [0.        ],\n       [0.        ],\n       [0.        ],\n       [0.        ],\n       [0.        ],\n       [0.        ],\n       [0.        ],\n       [0.        ],\n       [0.        ],\n       [0.        ],\n       [0.        ],\n       [0.        ],\n       [0.        ],\n       [0.        ],\n       [0.        ],\n       [0.        ],\n       [0.        ],\n       [0.        ],\n       [0.        ],\n       [0.        ],\n       [0.        ],\n       [0.        ],\n       [0.        ],\n       [0.        ],\n       [0.        ],\n       [0.        ],\n       [0.        ],\n       [0.        ],\n       [0.        ],\n       [0.        ],\n       [0.        ],\n       [0.        ],\n       [0.        ],\n       [0.        ],\n       [0.        ],\n       [0.        ],\n       [0.        ],\n       [0.        ],\n       [0.        ],\n       [0.        ],\n       [0.        ],\n       [0.        ],\n       [0.        ],\n       [0.        ],\n       [0.        ],\n       [0.        ],\n       [0.        ],\n       [0.        ],\n       [0.        ],\n       [0.        ],\n       [0.        ],\n       [0.        ],\n       [0.        ],\n       [0.        ],\n       [0.        ],\n       [0.        ],\n       [0.        ],\n       [0.        ],\n       [0.        ],\n       [0.        ],\n       [0.        ],\n       [0.        ],\n       [0.        ],\n       [0.        ],\n       [0.        ],\n       [0.        ],\n       [0.        ],\n       [0.        ],\n       [0.        ],\n       [0.        ],\n       [0.        ],\n       [0.        ],\n       [0.        ],\n       [0.        ],\n       [0.        ],\n       [0.        ],\n       [0.        ],\n       [0.        ],\n       [0.        ],\n       [0.        ],\n       [0.        ],\n       [0.        ],\n       [0.        ],\n       [0.        ],\n       [0.        ],\n       [0.        ],\n       [0.        ],\n       [0.        ],\n       [0.        ],\n       [0.        ],\n       [0.        ],\n       [0.        ],\n       [0.        ],\n       [0.        ],\n       [0.        ],\n       [0.        ],\n       [0.        ],\n       [0.        ],\n       [0.        ],\n       [0.        ],\n       [0.        ],\n       [0.        ],\n       [0.        ],\n       [0.        ],\n       [0.        ],\n       [0.        ],\n       [0.        ],\n       [0.        ],\n       [0.        ],\n       [0.        ],\n       [0.        ],\n       [0.        ],\n       [0.        ],\n       [0.        ],\n       [0.        ],\n       [0.        ],\n       [0.        ],\n       [0.        ],\n       [0.        ],\n       [0.        ],\n       [0.        ],\n       [0.        ],\n       [0.        ],\n       [0.        ],\n       [0.        ],\n       [0.        ],\n       [0.        ],\n       [0.        ],\n       [0.        ],\n       [0.        ],\n       [0.        ],\n       [0.        ],\n       [0.        ],\n       [0.        ],\n       [0.        ],\n       [0.        ],\n       [0.        ],\n       [0.        ],\n       [0.        ],\n       [0.        ],\n       [0.        ],\n       [0.        ],\n       [0.        ],\n       [0.        ],\n       [0.        ],\n       [0.        ],\n       [0.        ],\n       [0.        ],\n       [0.        ],\n       [0.        ],\n       [0.        ],\n       [0.        ],\n       [0.        ],\n       [0.        ],\n       [0.        ],\n       [0.        ],\n       [0.        ],\n       [0.        ],\n       [0.        ],\n       [0.        ],\n       [0.        ],\n       [0.        ],\n       [0.        ],\n       [0.        ],\n       [0.        ],\n       [0.        ],\n       [0.        ],\n       [0.        ],\n       [0.        ],\n       [0.        ],\n       [0.        ],\n       [0.        ],\n       [0.        ],\n       [0.        ],\n       [0.        ],\n       [0.        ],\n       [0.        ],\n       [0.        ],\n       [0.        ],\n       [0.        ],\n       [0.        ],\n       [0.        ],\n       [0.        ],\n       [0.        ],\n       [0.        ],\n       [0.        ],\n       [0.        ],\n       [0.        ],\n       [0.        ],\n       [0.        ],\n       [0.        ],\n       [0.        ],\n       [0.        ],\n       [0.        ],\n       [0.        ],\n       [0.        ],\n       [0.        ],\n       [0.        ],\n       [0.        ],\n       [0.        ],\n       [0.        ],\n       [0.        ],\n       [0.        ],\n       [0.        ],\n       [0.        ],\n       [0.        ],\n       [0.        ],\n       [0.        ],\n       [0.        ],\n       [0.        ],\n       [0.        ],\n       [0.        ],\n       [0.        ],\n       [0.        ],\n       [0.        ],\n       [0.        ],\n       [0.        ],\n       [0.        ],\n       [0.        ],\n       [0.        ],\n       [0.        ],\n       [0.        ],\n       [0.        ],\n       [0.        ],\n       [0.        ],\n       [0.        ],\n       [0.        ],\n       [0.        ],\n       [0.        ],\n       [0.        ],\n       [0.        ],\n       [0.        ],\n       [0.        ],\n       [0.        ],\n       [0.        ],\n       [0.        ],\n       [0.        ],\n       [0.        ],\n       [0.        ],\n       [0.        ],\n       [0.        ],\n       [0.        ],\n       [0.        ],\n       [0.        ],\n       [0.        ],\n       [0.        ],\n       [0.        ],\n       [0.        ],\n       [0.        ],\n       [0.        ],\n       [0.        ],\n       [0.        ],\n       [0.        ],\n       [0.        ],\n       [0.        ],\n       [0.        ],\n       [0.        ],\n       [0.        ],\n       [0.        ],\n       [0.        ],\n       [0.        ],\n       [0.        ],\n       [0.        ],\n       [0.        ],\n       [0.        ],\n       [0.        ],\n       [0.        ],\n       [0.        ],\n       [0.        ],\n       [0.        ],\n       [0.        ],\n       [0.        ],\n       [0.        ],\n       [0.        ],\n       [0.        ],\n       [0.        ],\n       [0.        ],\n       [0.        ],\n       [0.        ],\n       [0.        ],\n       [0.        ],\n       [0.        ],\n       [0.        ],\n       [0.        ],\n       [0.        ],\n       [0.        ],\n       [0.        ],\n       [0.        ],\n       [0.        ],\n       [0.        ],\n       [0.        ],\n       [0.        ],\n       [0.        ],\n       [0.        ],\n       [0.        ],\n       [0.        ],\n       [0.        ],\n       [0.        ],\n       [0.        ],\n       [0.        ],\n       [0.        ],\n       [0.        ],\n       [0.        ],\n       [0.        ],\n       [0.        ],\n       [0.        ],\n       [0.        ],\n       [0.        ],\n       [0.        ],\n       [0.        ],\n       [0.        ],\n       [0.        ],\n       [0.        ],\n       [0.        ],\n       [0.        ],\n       [0.        ],\n       [0.        ],\n       [0.        ],\n       [0.        ],\n       [0.        ],\n       [0.        ],\n       [0.        ],\n       [0.        ],\n       [0.        ],\n       [0.        ],\n       [0.        ],\n       [0.        ],\n       [0.        ],\n       [0.        ],\n       [0.        ],\n       [0.        ],\n       [0.        ],\n       [0.        ],\n       [0.        ],\n       [0.        ],\n       [0.        ],\n       [0.        ],\n       [0.        ],\n       [0.        ],\n       [0.        ],\n       [0.        ],\n       [0.        ],\n       [0.        ],\n       [0.        ],\n       [0.        ],\n       [0.        ],\n       [0.        ],\n       [0.        ],\n       [0.        ],\n       [0.        ],\n       [0.        ],\n       [0.        ],\n       [0.        ],\n       [0.        ],\n       [0.        ],\n       [0.        ],\n       [0.76980036],\n       [0.        ],\n       [0.        ],\n       [0.        ],\n       [0.        ],\n       [0.        ],\n       [0.        ],\n       [0.        ],\n       [0.        ],\n       [0.        ],\n       [0.        ],\n       [0.        ],\n       [0.        ],\n       [0.        ],\n       [0.        ],\n       [0.        ],\n       [0.        ],\n       [0.        ],\n       [0.        ],\n       [0.        ],\n       [0.        ],\n       [0.        ],\n       [0.        ],\n       [0.        ],\n       [0.        ],\n       [0.        ],\n       [0.        ],\n       [0.        ],\n       [0.        ],\n       [0.        ],\n       [0.        ],\n       [0.        ],\n       [0.        ],\n       [0.        ],\n       [0.        ],\n       [0.        ],\n       [0.        ],\n       [0.        ],\n       [0.        ],\n       [0.        ],\n       [0.        ],\n       [0.        ],\n       [0.        ],\n       [0.        ],\n       [0.        ],\n       [0.        ],\n       [0.        ],\n       [0.        ],\n       [0.        ],\n       [0.        ],\n       [0.        ],\n       [0.        ],\n       [0.        ],\n       [0.        ],\n       [0.        ],\n       [0.        ],\n       [0.        ],\n       [0.        ],\n       [0.        ],\n       [0.        ],\n       [0.        ],\n       [0.        ],\n       [0.        ],\n       [0.        ],\n       [0.        ],\n       [0.        ],\n       [0.        ],\n       [0.        ],\n       [0.        ],\n       [0.        ],\n       [0.        ],\n       [0.        ],\n       [0.        ],\n       [0.        ],\n       [0.        ],\n       [0.        ],\n       [0.        ],\n       [0.        ],\n       [0.        ],\n       [0.        ],\n       [0.        ],\n       [0.        ],\n       [0.        ],\n       [0.        ],\n       [0.        ],\n       [0.        ],\n       [0.        ],\n       [0.        ],\n       [0.        ],\n       [0.        ],\n       [0.        ],\n       [0.        ],\n       [0.        ],\n       [0.        ],\n       [0.        ],\n       [0.        ],\n       [0.        ],\n       [0.        ],\n       [0.        ],\n       [0.        ],\n       [0.        ],\n       [0.        ],\n       [0.        ],\n       [0.        ],\n       [0.        ],\n       [0.        ],\n       [0.        ],\n       [0.        ],\n       [0.        ],\n       [0.        ],\n       [0.        ],\n       [0.        ],\n       [0.        ],\n       [0.        ],\n       [0.        ],\n       [0.        ],\n       [0.        ],\n       [0.        ],\n       [0.        ],\n       [0.        ],\n       [0.        ],\n       [0.        ],\n       [0.        ],\n       [0.        ],\n       [0.        ],\n       [0.        ],\n       [0.        ],\n       [0.        ],\n       [0.        ],\n       [0.        ],\n       [0.        ],\n       [0.        ],\n       [0.        ],\n       [0.        ],\n       [0.        ],\n       [0.        ],\n       [0.        ],\n       [0.        ],\n       [0.        ],\n       [0.        ],\n       [0.        ],\n       [0.        ],\n       [0.        ],\n       [0.        ],\n       [0.        ],\n       [0.        ],\n       [0.        ],\n       [0.        ],\n       [0.        ],\n       [0.        ],\n       [0.        ],\n       [0.        ],\n       [0.        ],\n       [0.        ],\n       [0.        ],\n       [0.        ],\n       [0.        ],\n       [0.        ],\n       [0.        ],\n       [0.        ],\n       [0.        ],\n       [0.        ],\n       [0.        ],\n       [0.        ],\n       [0.        ],\n       [0.        ],\n       [0.        ],\n       [0.        ],\n       [0.        ],\n       [0.        ],\n       [0.        ],\n       [0.        ],\n       [0.        ],\n       [0.        ],\n       [0.        ],\n       [0.        ],\n       [0.        ],\n       [0.        ],\n       [0.        ],\n       [0.        ],\n       [0.        ],\n       [0.        ],\n       [0.        ],\n       [0.        ],\n       [0.        ],\n       [0.        ],\n       [0.        ],\n       [0.        ],\n       [0.        ],\n       [0.        ],\n       [0.        ],\n       [0.        ],\n       [0.        ],\n       [0.        ],\n       [0.        ],\n       [0.        ],\n       [0.        ],\n       [0.        ],\n       [0.        ],\n       [0.        ],\n       [0.        ],\n       [0.        ],\n       [0.        ],\n       [0.        ],\n       [0.        ],\n       [0.        ],\n       [0.        ],\n       [0.        ],\n       [0.        ],\n       [0.        ],\n       [0.        ],\n       [0.        ],\n       [0.        ],\n       [0.        ],\n       [0.        ],\n       [0.        ],\n       [0.        ]])"
     },
     "execution_count": 12,
     "metadata": {},
     "output_type": "execute_result"
    }
   ],
   "source": [
    "out_magnitudes = np.linalg.norm(out, axis=1).reshape((-1, 1))\n",
    "np.dot(out, out[3]).reshape((-1, 1)) / out_magnitudes"
   ],
   "metadata": {
    "collapsed": false,
    "pycharm": {
     "name": "#%%\n"
    }
   }
  },
  {
   "cell_type": "code",
   "execution_count": 13,
   "outputs": [
    {
     "data": {
      "text/plain": "{'BusinessParking': \"{'garage': False, 'street': False, 'validated': False, 'lot': True, 'valet': False}\",\n 'RestaurantsDelivery': 'False',\n 'BusinessAcceptsCreditCards': 'True',\n 'RestaurantsPriceRange2': '1',\n 'DogsAllowed': 'False',\n 'NoiseLevel': \"u'quiet'\",\n 'RestaurantsTakeOut': 'True',\n 'Caters': 'True',\n 'BikeParking': 'True'}"
     },
     "execution_count": 13,
     "metadata": {},
     "output_type": "execute_result"
    }
   ],
   "source": [
    "import re\n",
    "import ast\n",
    "#out = re.sub('[\\]','', df_business['attributes'][0])\n",
    "attributes = ast.literal_eval(df_business['attributes'][5])\n",
    "attributes"
   ],
   "metadata": {
    "collapsed": false,
    "pycharm": {
     "name": "#%%\n"
    }
   }
  },
  {
   "cell_type": "code",
   "execution_count": 14,
   "outputs": [
    {
     "data": {
      "text/plain": "'{\\'BusinessParking\\': \"{\\'garage\\': False, \\'street\\': False, \\'validated\\': False, \\'lot\\': True, \\'valet\\': False}\", \\'RestaurantsDelivery\\': \\'False\\', \\'BusinessAcceptsCreditCards\\': \\'True\\', \\'RestaurantsPriceRange2\\': \\'1\\', \\'DogsAllowed\\': \\'False\\', \\'NoiseLevel\\': \"u\\'quiet\\'\", \\'RestaurantsTakeOut\\': \\'True\\', \\'Caters\\': \\'True\\', \\'BikeParking\\': \\'True\\'}'"
     },
     "execution_count": 14,
     "metadata": {},
     "output_type": "execute_result"
    }
   ],
   "source": [
    "df_business['attributes'][5]"
   ],
   "metadata": {
    "collapsed": false,
    "pycharm": {
     "name": "#%%\n"
    }
   }
  },
  {
   "cell_type": "code",
   "execution_count": 110,
   "outputs": [
    {
     "data": {
      "text/plain": "['lot',\n 'BusinessAcceptsCreditCards',\n 'RestaurantsPriceRange2',\n 'NoiseLevel',\n 'RestaurantsTakeOut',\n 'Caters',\n 'BikeParking']"
     },
     "execution_count": 110,
     "metadata": {},
     "output_type": "execute_result"
    }
   ],
   "source": [
    "def return_attribute_soup(input):\n",
    "    current = []\n",
    "    for key in input:\n",
    "        # Inner dictionaries appear to be malformed in places\n",
    "        try:\n",
    "            value = ast.literal_eval(input[key])\n",
    "        except ValueError:\n",
    "            value = input[key]\n",
    "        if isinstance(value, dict):\n",
    "            current.extend(return_attribute_soup(value))\n",
    "        elif value not in (False, 'No', 'False'):\n",
    "            current.append(key)\n",
    "    return current\n",
    "\n",
    "return_attribute_soup(attributes)"
   ],
   "metadata": {
    "collapsed": false,
    "pycharm": {
     "name": "#%%\n"
    }
   }
  },
  {
   "cell_type": "code",
   "execution_count": 17,
   "outputs": [
    {
     "data": {
      "text/plain": "(100000, 24)"
     },
     "execution_count": 17,
     "metadata": {},
     "output_type": "execute_result"
    }
   ],
   "source": [
    "df_users = pd.read_csv('data_small/yelp_academic_dataset_user.csv')"
   ],
   "metadata": {
    "collapsed": false,
    "pycharm": {
     "name": "#%%\n"
    }
   }
  },
  {
   "cell_type": "code",
   "execution_count": null,
   "outputs": [],
   "source": [],
   "metadata": {
    "collapsed": false,
    "pycharm": {
     "name": "#%%\n"
    }
   }
  }
 ],
 "metadata": {
  "kernelspec": {
   "display_name": "Python 3",
   "language": "python",
   "name": "python3"
  },
  "language_info": {
   "codemirror_mode": {
    "name": "ipython",
    "version": 2
   },
   "file_extension": ".py",
   "mimetype": "text/x-python",
   "name": "python",
   "nbconvert_exporter": "python",
   "pygments_lexer": "ipython2",
   "version": "2.7.6"
  }
 },
 "nbformat": 4,
 "nbformat_minor": 0
}