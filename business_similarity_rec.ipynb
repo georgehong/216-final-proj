{
 "cells": [
  {
   "cell_type": "markdown",
   "metadata": {
    "collapsed": true,
    "pycharm": {
     "name": "#%% md\n"
    }
   },
   "source": [
    "## Recommender Based on Universal Sentence Encoder"
   ]
  },
  {
   "cell_type": "code",
   "execution_count": 2,
   "outputs": [],
   "source": [
    "import pandas as pd\n",
    "import numpy as np\n",
    "import tensorflow_hub as hub\n",
    "import ast"
   ],
   "metadata": {
    "collapsed": false,
    "pycharm": {
     "name": "#%%\n"
    }
   }
  },
  {
   "cell_type": "code",
   "execution_count": 3,
   "outputs": [],
   "source": [
    "embedder = hub.load(\"https://tfhub.dev/google/universal-sentence-encoder/4\")\n",
    "EMBEDDED_CATEGORIES_FILE = 'data/embedded_categories.npy'\n",
    "EMBEDDED_ATTRIBUTES_FILE = 'data/embedded_attributes.npy'"
   ],
   "metadata": {
    "collapsed": false,
    "pycharm": {
     "name": "#%%\n"
    }
   }
  },
  {
   "cell_type": "code",
   "execution_count": 4,
   "outputs": [],
   "source": [
    "def cosine_similarity(mat, vec):\n",
    "    \"\"\"\n",
    "    Calculate cosine similarity scores\n",
    "\n",
    "    :param mat: 2D array of all targets\n",
    "    :param vec: 1D array of vector to compare to\n",
    "    :return: all cosine similarity scores to vec\n",
    "    \"\"\"\n",
    "    vec_mag = np.linalg.norm(vec)\n",
    "    mat_mag = np.linalg.norm(mat, axis=1).reshape((-1, 1))\n",
    "    return (1/vec_mag) * np.dot(mat, vec).reshape((-1, 1)) / mat_mag\n",
    "\n",
    "def return_attribute_soup(input):\n",
    "    \"\"\"\n",
    "    Converts dictionary of inputs into list of items that are true.  Can also handle nested examples\n",
    "\n",
    "    :param input: dictionary of attributes\n",
    "    :return: list of keys\n",
    "    \"\"\"\n",
    "    current = []\n",
    "    for key in input:\n",
    "        # Inner dictionaries appear to be malformed in places\n",
    "        try:\n",
    "            value = ast.literal_eval(input[key])\n",
    "        except ValueError:\n",
    "            value = input[key]\n",
    "        if isinstance(value, dict):\n",
    "            current.extend(return_attribute_soup(value))\n",
    "        elif value not in (False, 'No', 'False'):\n",
    "            current.append(key)\n",
    "    return current"
   ],
   "metadata": {
    "collapsed": false,
    "pycharm": {
     "name": "#%%\n"
    }
   }
  },
  {
   "cell_type": "code",
   "execution_count": 5,
   "outputs": [],
   "source": [
    "df_business = pd.read_csv('data/yelp_academic_dataset_business_filtered.csv')\n",
    "df_business = df_business.dropna(subset=['categories'])\n",
    "df_business['attributes'] = df_business['attributes'].fillna('{}')"
   ],
   "metadata": {
    "collapsed": false,
    "pycharm": {
     "name": "#%%\n"
    }
   }
  },
  {
   "cell_type": "code",
   "execution_count": 6,
   "outputs": [],
   "source": [
    "df_business['attribute_dict'] = df_business['attributes'].apply(ast.literal_eval)\n",
    "df_business['attribute_soup'] = df_business['attribute_dict'].apply(return_attribute_soup)\n",
    "df_business['attribute_string'] = df_business['attribute_soup'].apply(lambda x: ' '.join(map(str, x)))"
   ],
   "metadata": {
    "collapsed": false,
    "pycharm": {
     "name": "#%%\n"
    }
   }
  },
  {
   "cell_type": "code",
   "execution_count": 7,
   "outputs": [
    {
     "data": {
      "text/plain": "   Unnamed: 0  Unnamed: 0.1             business_id                      name  \\\n0           0             0  6iYb2HFDywm3zjuRg0shjw       Oskar Blues Taproom   \n1           1             1  tCbdrRPZA0oiIYSmHG3J0w   Flying Elephants at PDX   \n2           5             5  D4JtQNTI4X3KcbzacDJsMw       Bob Likes Thai Food   \n3          10            10  rYs_1pNB_RMtn5WQh55QDA  Chautauqua General Store   \n4          12            12  HPA_qyMEddpAEtFof02ixg       Mr G's Pizza & Subs   \n\n               address       city state postal_code   latitude   longitude  \\\n0         921 Pearl St    Boulder    CO       80302  40.017544 -105.283348   \n1  7000 NE Airport Way   Portland    OR       97218  45.588906 -122.593331   \n2         3755 Main St  Vancouver    BC         V5V  49.251342 -123.101333   \n3      100 Clematis Dr    Boulder    CO       80302  39.998449 -105.281006   \n4        474 Lowell St    Peabody    MA       01960  42.541155  -70.973438   \n\n   stars  review_count  is_open  \\\n0    4.0            86        1   \n1    4.0           126        1   \n2    3.5           169        1   \n3    3.5             5        1   \n4    4.0            39        1   \n\n                                          attributes  \\\n0  {'RestaurantsTableService': 'True', 'WiFi': \"u...   \n1  {'RestaurantsTakeOut': 'True', 'RestaurantsAtt...   \n2  {'GoodForKids': 'True', 'Alcohol': \"u'none'\", ...   \n3  {'BikeParking': 'True', 'RestaurantsTakeOut': ...   \n4  {'RestaurantsGoodForGroups': 'True', 'HasTV': ...   \n\n                                          categories  \\\n0  Gastropubs, Food, Beer Gardens, Restaurants, B...   \n1  Salad, Soup, Sandwiches, Delis, Restaurants, C...   \n2                                  Restaurants, Thai   \n3  Food, Shopping, Convenience Stores, Souvenir S...   \n4                           Food, Pizza, Restaurants   \n\n                                               hours  \\\n0  {'Monday': '11:0-23:0', 'Tuesday': '11:0-23:0'...   \n1  {'Monday': '5:0-18:0', 'Tuesday': '5:0-17:0', ...   \n2  {'Monday': '17:0-21:0', 'Tuesday': '17:0-21:0'...   \n3  {'Monday': '8:0-20:0', 'Tuesday': '8:0-20:0', ...   \n4  {'Monday': '11:0-21:0', 'Tuesday': '11:0-21:0'...   \n\n                                      attribute_dict  \\\n0  {'RestaurantsTableService': 'True', 'WiFi': 'u...   \n1  {'RestaurantsTakeOut': 'True', 'RestaurantsAtt...   \n2  {'GoodForKids': 'True', 'Alcohol': 'u'none'', ...   \n3  {'BikeParking': 'True', 'RestaurantsTakeOut': ...   \n4  {'RestaurantsGoodForGroups': 'True', 'HasTV': ...   \n\n                                      attribute_soup  \\\n0  [RestaurantsTableService, WiFi, BikeParking, s...   \n1  [RestaurantsTakeOut, RestaurantsAttire, GoodFo...   \n2  [GoodForKids, Alcohol, RestaurantsGoodForGroup...   \n3  [BikeParking, RestaurantsTakeOut, street, Whee...   \n4  [RestaurantsGoodForGroups, HasTV, GoodForKids,...   \n\n                                    attribute_string  \n0  RestaurantsTableService WiFi BikeParking stree...  \n1  RestaurantsTakeOut RestaurantsAttire GoodForKi...  \n2  GoodForKids Alcohol RestaurantsGoodForGroups R...  \n3  BikeParking RestaurantsTakeOut street Wheelcha...  \n4  RestaurantsGoodForGroups HasTV GoodForKids Res...  ",
      "text/html": "<div>\n<style scoped>\n    .dataframe tbody tr th:only-of-type {\n        vertical-align: middle;\n    }\n\n    .dataframe tbody tr th {\n        vertical-align: top;\n    }\n\n    .dataframe thead th {\n        text-align: right;\n    }\n</style>\n<table border=\"1\" class=\"dataframe\">\n  <thead>\n    <tr style=\"text-align: right;\">\n      <th></th>\n      <th>Unnamed: 0</th>\n      <th>Unnamed: 0.1</th>\n      <th>business_id</th>\n      <th>name</th>\n      <th>address</th>\n      <th>city</th>\n      <th>state</th>\n      <th>postal_code</th>\n      <th>latitude</th>\n      <th>longitude</th>\n      <th>stars</th>\n      <th>review_count</th>\n      <th>is_open</th>\n      <th>attributes</th>\n      <th>categories</th>\n      <th>hours</th>\n      <th>attribute_dict</th>\n      <th>attribute_soup</th>\n      <th>attribute_string</th>\n    </tr>\n  </thead>\n  <tbody>\n    <tr>\n      <th>0</th>\n      <td>0</td>\n      <td>0</td>\n      <td>6iYb2HFDywm3zjuRg0shjw</td>\n      <td>Oskar Blues Taproom</td>\n      <td>921 Pearl St</td>\n      <td>Boulder</td>\n      <td>CO</td>\n      <td>80302</td>\n      <td>40.017544</td>\n      <td>-105.283348</td>\n      <td>4.0</td>\n      <td>86</td>\n      <td>1</td>\n      <td>{'RestaurantsTableService': 'True', 'WiFi': \"u...</td>\n      <td>Gastropubs, Food, Beer Gardens, Restaurants, B...</td>\n      <td>{'Monday': '11:0-23:0', 'Tuesday': '11:0-23:0'...</td>\n      <td>{'RestaurantsTableService': 'True', 'WiFi': 'u...</td>\n      <td>[RestaurantsTableService, WiFi, BikeParking, s...</td>\n      <td>RestaurantsTableService WiFi BikeParking stree...</td>\n    </tr>\n    <tr>\n      <th>1</th>\n      <td>1</td>\n      <td>1</td>\n      <td>tCbdrRPZA0oiIYSmHG3J0w</td>\n      <td>Flying Elephants at PDX</td>\n      <td>7000 NE Airport Way</td>\n      <td>Portland</td>\n      <td>OR</td>\n      <td>97218</td>\n      <td>45.588906</td>\n      <td>-122.593331</td>\n      <td>4.0</td>\n      <td>126</td>\n      <td>1</td>\n      <td>{'RestaurantsTakeOut': 'True', 'RestaurantsAtt...</td>\n      <td>Salad, Soup, Sandwiches, Delis, Restaurants, C...</td>\n      <td>{'Monday': '5:0-18:0', 'Tuesday': '5:0-17:0', ...</td>\n      <td>{'RestaurantsTakeOut': 'True', 'RestaurantsAtt...</td>\n      <td>[RestaurantsTakeOut, RestaurantsAttire, GoodFo...</td>\n      <td>RestaurantsTakeOut RestaurantsAttire GoodForKi...</td>\n    </tr>\n    <tr>\n      <th>2</th>\n      <td>5</td>\n      <td>5</td>\n      <td>D4JtQNTI4X3KcbzacDJsMw</td>\n      <td>Bob Likes Thai Food</td>\n      <td>3755 Main St</td>\n      <td>Vancouver</td>\n      <td>BC</td>\n      <td>V5V</td>\n      <td>49.251342</td>\n      <td>-123.101333</td>\n      <td>3.5</td>\n      <td>169</td>\n      <td>1</td>\n      <td>{'GoodForKids': 'True', 'Alcohol': \"u'none'\", ...</td>\n      <td>Restaurants, Thai</td>\n      <td>{'Monday': '17:0-21:0', 'Tuesday': '17:0-21:0'...</td>\n      <td>{'GoodForKids': 'True', 'Alcohol': 'u'none'', ...</td>\n      <td>[GoodForKids, Alcohol, RestaurantsGoodForGroup...</td>\n      <td>GoodForKids Alcohol RestaurantsGoodForGroups R...</td>\n    </tr>\n    <tr>\n      <th>3</th>\n      <td>10</td>\n      <td>10</td>\n      <td>rYs_1pNB_RMtn5WQh55QDA</td>\n      <td>Chautauqua General Store</td>\n      <td>100 Clematis Dr</td>\n      <td>Boulder</td>\n      <td>CO</td>\n      <td>80302</td>\n      <td>39.998449</td>\n      <td>-105.281006</td>\n      <td>3.5</td>\n      <td>5</td>\n      <td>1</td>\n      <td>{'BikeParking': 'True', 'RestaurantsTakeOut': ...</td>\n      <td>Food, Shopping, Convenience Stores, Souvenir S...</td>\n      <td>{'Monday': '8:0-20:0', 'Tuesday': '8:0-20:0', ...</td>\n      <td>{'BikeParking': 'True', 'RestaurantsTakeOut': ...</td>\n      <td>[BikeParking, RestaurantsTakeOut, street, Whee...</td>\n      <td>BikeParking RestaurantsTakeOut street Wheelcha...</td>\n    </tr>\n    <tr>\n      <th>4</th>\n      <td>12</td>\n      <td>12</td>\n      <td>HPA_qyMEddpAEtFof02ixg</td>\n      <td>Mr G's Pizza &amp; Subs</td>\n      <td>474 Lowell St</td>\n      <td>Peabody</td>\n      <td>MA</td>\n      <td>01960</td>\n      <td>42.541155</td>\n      <td>-70.973438</td>\n      <td>4.0</td>\n      <td>39</td>\n      <td>1</td>\n      <td>{'RestaurantsGoodForGroups': 'True', 'HasTV': ...</td>\n      <td>Food, Pizza, Restaurants</td>\n      <td>{'Monday': '11:0-21:0', 'Tuesday': '11:0-21:0'...</td>\n      <td>{'RestaurantsGoodForGroups': 'True', 'HasTV': ...</td>\n      <td>[RestaurantsGoodForGroups, HasTV, GoodForKids,...</td>\n      <td>RestaurantsGoodForGroups HasTV GoodForKids Res...</td>\n    </tr>\n  </tbody>\n</table>\n</div>"
     },
     "execution_count": 7,
     "metadata": {},
     "output_type": "execute_result"
    }
   ],
   "source": [
    "df_business.head()\n"
   ],
   "metadata": {
    "collapsed": false,
    "pycharm": {
     "name": "#%%\n"
    }
   }
  },
  {
   "cell_type": "code",
   "execution_count": 8,
   "outputs": [
    {
     "name": "stdout",
     "output_type": "stream",
     "text": [
      "EMBEDDINGS LOADED\n"
     ]
    }
   ],
   "source": [
    "try:\n",
    "    with open(EMBEDDED_CATEGORIES_FILE, 'rb') as f:\n",
    "        embedded_categories = np.load(EMBEDDED_CATEGORIES_FILE, allow_pickle=True)\n",
    "\n",
    "    with open(EMBEDDED_ATTRIBUTES_FILE, 'rb') as f:\n",
    "        embedded_attributes = np.load(EMBEDDED_ATTRIBUTES_FILE, allow_pickle=True)\n",
    "\n",
    "    print('EMBEDDINGS LOADED')\n",
    "\n",
    "except IOError as e:\n",
    "    print('ARRAY(S) NOT FOUND. EMBEDDING:')\n",
    "    categories = list(df_business['categories'])\n",
    "    embedded_categories = embedder(categories).numpy()\n",
    "    np.save(EMBEDDED_CATEGORIES_FILE, embedded_categories)\n",
    "\n",
    "    attributes = list(df_business['attribute_string'])\n",
    "    embedded_attributes = embedder(attributes).numpy()\n",
    "    np.save(EMBEDDED_ATTRIBUTES_FILE, embedded_attributes)\n",
    "    print('EMBEDDINGS SAVED')\n"
   ],
   "metadata": {
    "collapsed": false,
    "pycharm": {
     "name": "#%%\n"
    }
   }
  },
  {
   "cell_type": "code",
   "execution_count": 9,
   "outputs": [],
   "source": [
    "def get_knn(input, embedded_attributes, embedded_categories, df_business, k=5, category_weighting=0.75, min_rating=-1):\n",
    "    \"\"\"\n",
    "    Get the most similar businesses by knn search and sort\n",
    "\n",
    "    :param input: input business, in the form of a Series\n",
    "    :param embedded_attributes: services offered at the business\n",
    "    :param embedded_categories: embedded categories (business type)\n",
    "    :param df_business: DataFrame of all business info that must match embedded_attributes\n",
    "    :param k: Number of top results desired\n",
    "    :param category_weighting: emphasis placed on the contents of the restaurant.\n",
    "    :return: DataFrame of similar businesses\n",
    "    \"\"\"\n",
    "    assert df_business.shape[0] == embedded_categories.shape[0]\n",
    "    assert df_business.shape[0] == embedded_attributes.shape[0]\n",
    "\n",
    "    # Filter by state before continuing\n",
    "    df_business_copy = df_business.copy()\n",
    "    state = input['state']\n",
    "    query_id = input['business_id']\n",
    "    # List of all matching indices\n",
    "    match_dex = df_business.index[df_business['state'] == state].tolist()\n",
    "\n",
    "    embedded_attributes = embedded_attributes[match_dex]\n",
    "    embedded_categories = embedded_categories[match_dex]\n",
    "    df_business_copy = df_business.loc[match_dex, :]\n",
    "\n",
    "\n",
    "    query_category = input.loc['categories']\n",
    "    query_attributes = input.loc['attribute_string']\n",
    "    print(\"INPUT BUSINESS:\", input.loc['name'])\n",
    "    embedded_query_category = embedder([query_category]).numpy().flatten()\n",
    "    embedded_query_attributes = embedder([query_attributes]).numpy().flatten()\n",
    "\n",
    "    categ_simil_scores = cosine_similarity(embedded_categories, embedded_query_category).flatten()\n",
    "    attri_simil_scores = cosine_similarity(embedded_attributes, embedded_query_attributes).flatten()\n",
    "\n",
    "    weighted_simil_scores = category_weighting * categ_simil_scores + (1 - category_weighting) + attri_simil_scores\n",
    "    weighted_simil_scores *= 0.5\n",
    "\n",
    "    df_business_copy['scores'] = weighted_simil_scores\n",
    "\n",
    "    # After filtering, choose the smallest, account for perfect match\n",
    "    available_businesses = weighted_simil_scores.shape[0]\n",
    "    k = min(k + 1, available_businesses)\n",
    "\n",
    "    indices = np.argsort(weighted_simil_scores)[-k:][::-1]\n",
    "    ret = df_business_copy.iloc[indices, :]\n",
    "    return ret[(ret['stars'] >= min_rating) & (ret['business_id'] != query_id)]"
   ],
   "metadata": {
    "collapsed": false,
    "pycharm": {
     "name": "#%%\n"
    }
   }
  },
  {
   "cell_type": "code",
   "execution_count": 10,
   "outputs": [
    {
     "data": {
      "text/plain": "   Unnamed: 0  Unnamed: 0.1             business_id                      name  \\\n0           0             0  6iYb2HFDywm3zjuRg0shjw       Oskar Blues Taproom   \n1           1             1  tCbdrRPZA0oiIYSmHG3J0w   Flying Elephants at PDX   \n2           5             5  D4JtQNTI4X3KcbzacDJsMw       Bob Likes Thai Food   \n3          10            10  rYs_1pNB_RMtn5WQh55QDA  Chautauqua General Store   \n4          12            12  HPA_qyMEddpAEtFof02ixg       Mr G's Pizza & Subs   \n\n               address       city state postal_code   latitude   longitude  \\\n0         921 Pearl St    Boulder    CO       80302  40.017544 -105.283348   \n1  7000 NE Airport Way   Portland    OR       97218  45.588906 -122.593331   \n2         3755 Main St  Vancouver    BC         V5V  49.251342 -123.101333   \n3      100 Clematis Dr    Boulder    CO       80302  39.998449 -105.281006   \n4        474 Lowell St    Peabody    MA       01960  42.541155  -70.973438   \n\n   stars  review_count  is_open  \\\n0    4.0            86        1   \n1    4.0           126        1   \n2    3.5           169        1   \n3    3.5             5        1   \n4    4.0            39        1   \n\n                                          attributes  \\\n0  {'RestaurantsTableService': 'True', 'WiFi': \"u...   \n1  {'RestaurantsTakeOut': 'True', 'RestaurantsAtt...   \n2  {'GoodForKids': 'True', 'Alcohol': \"u'none'\", ...   \n3  {'BikeParking': 'True', 'RestaurantsTakeOut': ...   \n4  {'RestaurantsGoodForGroups': 'True', 'HasTV': ...   \n\n                                          categories  \\\n0  Gastropubs, Food, Beer Gardens, Restaurants, B...   \n1  Salad, Soup, Sandwiches, Delis, Restaurants, C...   \n2                                  Restaurants, Thai   \n3  Food, Shopping, Convenience Stores, Souvenir S...   \n4                           Food, Pizza, Restaurants   \n\n                                               hours  \\\n0  {'Monday': '11:0-23:0', 'Tuesday': '11:0-23:0'...   \n1  {'Monday': '5:0-18:0', 'Tuesday': '5:0-17:0', ...   \n2  {'Monday': '17:0-21:0', 'Tuesday': '17:0-21:0'...   \n3  {'Monday': '8:0-20:0', 'Tuesday': '8:0-20:0', ...   \n4  {'Monday': '11:0-21:0', 'Tuesday': '11:0-21:0'...   \n\n                                      attribute_dict  \\\n0  {'RestaurantsTableService': 'True', 'WiFi': 'u...   \n1  {'RestaurantsTakeOut': 'True', 'RestaurantsAtt...   \n2  {'GoodForKids': 'True', 'Alcohol': 'u'none'', ...   \n3  {'BikeParking': 'True', 'RestaurantsTakeOut': ...   \n4  {'RestaurantsGoodForGroups': 'True', 'HasTV': ...   \n\n                                      attribute_soup  \\\n0  [RestaurantsTableService, WiFi, BikeParking, s...   \n1  [RestaurantsTakeOut, RestaurantsAttire, GoodFo...   \n2  [GoodForKids, Alcohol, RestaurantsGoodForGroup...   \n3  [BikeParking, RestaurantsTakeOut, street, Whee...   \n4  [RestaurantsGoodForGroups, HasTV, GoodForKids,...   \n\n                                    attribute_string  \n0  RestaurantsTableService WiFi BikeParking stree...  \n1  RestaurantsTakeOut RestaurantsAttire GoodForKi...  \n2  GoodForKids Alcohol RestaurantsGoodForGroups R...  \n3  BikeParking RestaurantsTakeOut street Wheelcha...  \n4  RestaurantsGoodForGroups HasTV GoodForKids Res...  ",
      "text/html": "<div>\n<style scoped>\n    .dataframe tbody tr th:only-of-type {\n        vertical-align: middle;\n    }\n\n    .dataframe tbody tr th {\n        vertical-align: top;\n    }\n\n    .dataframe thead th {\n        text-align: right;\n    }\n</style>\n<table border=\"1\" class=\"dataframe\">\n  <thead>\n    <tr style=\"text-align: right;\">\n      <th></th>\n      <th>Unnamed: 0</th>\n      <th>Unnamed: 0.1</th>\n      <th>business_id</th>\n      <th>name</th>\n      <th>address</th>\n      <th>city</th>\n      <th>state</th>\n      <th>postal_code</th>\n      <th>latitude</th>\n      <th>longitude</th>\n      <th>stars</th>\n      <th>review_count</th>\n      <th>is_open</th>\n      <th>attributes</th>\n      <th>categories</th>\n      <th>hours</th>\n      <th>attribute_dict</th>\n      <th>attribute_soup</th>\n      <th>attribute_string</th>\n    </tr>\n  </thead>\n  <tbody>\n    <tr>\n      <th>0</th>\n      <td>0</td>\n      <td>0</td>\n      <td>6iYb2HFDywm3zjuRg0shjw</td>\n      <td>Oskar Blues Taproom</td>\n      <td>921 Pearl St</td>\n      <td>Boulder</td>\n      <td>CO</td>\n      <td>80302</td>\n      <td>40.017544</td>\n      <td>-105.283348</td>\n      <td>4.0</td>\n      <td>86</td>\n      <td>1</td>\n      <td>{'RestaurantsTableService': 'True', 'WiFi': \"u...</td>\n      <td>Gastropubs, Food, Beer Gardens, Restaurants, B...</td>\n      <td>{'Monday': '11:0-23:0', 'Tuesday': '11:0-23:0'...</td>\n      <td>{'RestaurantsTableService': 'True', 'WiFi': 'u...</td>\n      <td>[RestaurantsTableService, WiFi, BikeParking, s...</td>\n      <td>RestaurantsTableService WiFi BikeParking stree...</td>\n    </tr>\n    <tr>\n      <th>1</th>\n      <td>1</td>\n      <td>1</td>\n      <td>tCbdrRPZA0oiIYSmHG3J0w</td>\n      <td>Flying Elephants at PDX</td>\n      <td>7000 NE Airport Way</td>\n      <td>Portland</td>\n      <td>OR</td>\n      <td>97218</td>\n      <td>45.588906</td>\n      <td>-122.593331</td>\n      <td>4.0</td>\n      <td>126</td>\n      <td>1</td>\n      <td>{'RestaurantsTakeOut': 'True', 'RestaurantsAtt...</td>\n      <td>Salad, Soup, Sandwiches, Delis, Restaurants, C...</td>\n      <td>{'Monday': '5:0-18:0', 'Tuesday': '5:0-17:0', ...</td>\n      <td>{'RestaurantsTakeOut': 'True', 'RestaurantsAtt...</td>\n      <td>[RestaurantsTakeOut, RestaurantsAttire, GoodFo...</td>\n      <td>RestaurantsTakeOut RestaurantsAttire GoodForKi...</td>\n    </tr>\n    <tr>\n      <th>2</th>\n      <td>5</td>\n      <td>5</td>\n      <td>D4JtQNTI4X3KcbzacDJsMw</td>\n      <td>Bob Likes Thai Food</td>\n      <td>3755 Main St</td>\n      <td>Vancouver</td>\n      <td>BC</td>\n      <td>V5V</td>\n      <td>49.251342</td>\n      <td>-123.101333</td>\n      <td>3.5</td>\n      <td>169</td>\n      <td>1</td>\n      <td>{'GoodForKids': 'True', 'Alcohol': \"u'none'\", ...</td>\n      <td>Restaurants, Thai</td>\n      <td>{'Monday': '17:0-21:0', 'Tuesday': '17:0-21:0'...</td>\n      <td>{'GoodForKids': 'True', 'Alcohol': 'u'none'', ...</td>\n      <td>[GoodForKids, Alcohol, RestaurantsGoodForGroup...</td>\n      <td>GoodForKids Alcohol RestaurantsGoodForGroups R...</td>\n    </tr>\n    <tr>\n      <th>3</th>\n      <td>10</td>\n      <td>10</td>\n      <td>rYs_1pNB_RMtn5WQh55QDA</td>\n      <td>Chautauqua General Store</td>\n      <td>100 Clematis Dr</td>\n      <td>Boulder</td>\n      <td>CO</td>\n      <td>80302</td>\n      <td>39.998449</td>\n      <td>-105.281006</td>\n      <td>3.5</td>\n      <td>5</td>\n      <td>1</td>\n      <td>{'BikeParking': 'True', 'RestaurantsTakeOut': ...</td>\n      <td>Food, Shopping, Convenience Stores, Souvenir S...</td>\n      <td>{'Monday': '8:0-20:0', 'Tuesday': '8:0-20:0', ...</td>\n      <td>{'BikeParking': 'True', 'RestaurantsTakeOut': ...</td>\n      <td>[BikeParking, RestaurantsTakeOut, street, Whee...</td>\n      <td>BikeParking RestaurantsTakeOut street Wheelcha...</td>\n    </tr>\n    <tr>\n      <th>4</th>\n      <td>12</td>\n      <td>12</td>\n      <td>HPA_qyMEddpAEtFof02ixg</td>\n      <td>Mr G's Pizza &amp; Subs</td>\n      <td>474 Lowell St</td>\n      <td>Peabody</td>\n      <td>MA</td>\n      <td>01960</td>\n      <td>42.541155</td>\n      <td>-70.973438</td>\n      <td>4.0</td>\n      <td>39</td>\n      <td>1</td>\n      <td>{'RestaurantsGoodForGroups': 'True', 'HasTV': ...</td>\n      <td>Food, Pizza, Restaurants</td>\n      <td>{'Monday': '11:0-21:0', 'Tuesday': '11:0-21:0'...</td>\n      <td>{'RestaurantsGoodForGroups': 'True', 'HasTV': ...</td>\n      <td>[RestaurantsGoodForGroups, HasTV, GoodForKids,...</td>\n      <td>RestaurantsGoodForGroups HasTV GoodForKids Res...</td>\n    </tr>\n  </tbody>\n</table>\n</div>"
     },
     "execution_count": 10,
     "metadata": {},
     "output_type": "execute_result"
    }
   ],
   "source": [
    "df_business.head()"
   ],
   "metadata": {
    "collapsed": false,
    "pycharm": {
     "name": "#%%\n"
    }
   }
  },
  {
   "cell_type": "code",
   "execution_count": 11,
   "outputs": [
    {
     "name": "stdout",
     "output_type": "stream",
     "text": [
      "INPUT BUSINESS: Chautauqua General Store\n",
      "CPU times: user 426 ms, sys: 38.7 ms, total: 465 ms\n",
      "Wall time: 463 ms\n"
     ]
    },
    {
     "data": {
      "text/plain": "       Unnamed: 0  Unnamed: 0.1             business_id  \\\n6644        20510         20510  Wzm2YtE9wXyhPXnx0JIV8A   \n28605       87791         87791  2VUGEP7yFC7fex9xIf0F8g   \n35038      107340        107340  pECKvlZBwUORYC3bnZ65Zw   \n15556       47884         47884  oCsgfMHFvraMQfvfuSJheg   \n44319      135338        135338  HkcQyjtDxn2Bu_yBHBOAug   \n\n                                  name                   address        city  \\\n6644          Assorted Goods and Candy              706 Front St  Louisville   \n28605           Where the Buffalo Roam        1320 Pearl St Frnt     Boulder   \n35038                      Rocket Fizz             1441 Pearl St     Boulder   \n15556        Piece, Love and Chocolate              805 Pearl St     Boulder   \n44319  Crystal Springs Brewing Company  657 S Taylor Ave, Unit E  Louisville   \n\n      state postal_code   latitude   longitude  stars  review_count  is_open  \\\n6644     CO       80027  39.977083 -105.130589    4.5            14        1   \n28605    CO       80302  40.018185 -105.278030    3.5            12        1   \n35038    CO       80302  40.018590 -105.276827    3.5            38        1   \n15556    CO       80302  40.017113 -105.284825    4.5           196        1   \n44319    CO       80027  39.960583 -105.120277    4.5            43        1   \n\n                                              attributes  \\\n6644   {'BikeParking': 'True', 'BusinessAcceptsCredit...   \n28605  {'BusinessParking': \"{'garage': False, 'street...   \n35038  {'RestaurantsTakeOut': 'False', 'Caters': 'Fal...   \n15556  {'BusinessParking': \"{'garage': False, 'street...   \n44319  {'BusinessAcceptsBitcoin': 'False', 'BikeParki...   \n\n                                              categories  \\\n6644   Food, Specialty Food, Toy Stores, Shopping, Ca...   \n28605  Souvenir Shops, Fashion, Men's Clothing, Shopping   \n35038                 Food, Candy Stores, Specialty Food   \n15556  Chocolatiers & Shops, Bakeries, Specialty Food...   \n44319                                    Breweries, Food   \n\n                                                   hours  \\\n6644   {'Monday': '0:0-0:0', 'Tuesday': '11:0-17:0', ...   \n28605  {'Monday': '0:0-0:0', 'Tuesday': '11:0-18:0', ...   \n35038  {'Monday': '10:0-20:30', 'Tuesday': '10:0-20:3...   \n15556  {'Monday': '9:0-18:0', 'Tuesday': '9:0-18:0', ...   \n44319  {'Monday': '0:0-0:0', 'Thursday': '15:0-18:0',...   \n\n                                          attribute_dict  \\\n6644   {'BikeParking': 'True', 'BusinessAcceptsCredit...   \n28605  {'BusinessParking': '{'garage': False, 'street...   \n35038  {'RestaurantsTakeOut': 'False', 'Caters': 'Fal...   \n15556  {'BusinessParking': '{'garage': False, 'street...   \n44319  {'BusinessAcceptsBitcoin': 'False', 'BikeParki...   \n\n                                          attribute_soup  \\\n6644   [BikeParking, BusinessAcceptsCreditCards, Rest...   \n28605  [street, RestaurantsPriceRange2, BikeParking, ...   \n35038  [RestaurantsPriceRange2, BikeParking, street, ...   \n15556  [street, BikeParking, RestaurantsPriceRange2, ...   \n44319  [BikeParking, WheelchairAccessible, Restaurant...   \n\n                                        attribute_string    scores  \n6644   BikeParking BusinessAcceptsCreditCards Restaur...  0.794812  \n28605  street RestaurantsPriceRange2 BikeParking Busi...  0.785670  \n35038  RestaurantsPriceRange2 BikeParking street Busi...  0.738210  \n15556  street BikeParking RestaurantsPriceRange2 Busi...  0.724674  \n44319  BikeParking WheelchairAccessible RestaurantsPr...  0.716320  ",
      "text/html": "<div>\n<style scoped>\n    .dataframe tbody tr th:only-of-type {\n        vertical-align: middle;\n    }\n\n    .dataframe tbody tr th {\n        vertical-align: top;\n    }\n\n    .dataframe thead th {\n        text-align: right;\n    }\n</style>\n<table border=\"1\" class=\"dataframe\">\n  <thead>\n    <tr style=\"text-align: right;\">\n      <th></th>\n      <th>Unnamed: 0</th>\n      <th>Unnamed: 0.1</th>\n      <th>business_id</th>\n      <th>name</th>\n      <th>address</th>\n      <th>city</th>\n      <th>state</th>\n      <th>postal_code</th>\n      <th>latitude</th>\n      <th>longitude</th>\n      <th>stars</th>\n      <th>review_count</th>\n      <th>is_open</th>\n      <th>attributes</th>\n      <th>categories</th>\n      <th>hours</th>\n      <th>attribute_dict</th>\n      <th>attribute_soup</th>\n      <th>attribute_string</th>\n      <th>scores</th>\n    </tr>\n  </thead>\n  <tbody>\n    <tr>\n      <th>6644</th>\n      <td>20510</td>\n      <td>20510</td>\n      <td>Wzm2YtE9wXyhPXnx0JIV8A</td>\n      <td>Assorted Goods and Candy</td>\n      <td>706 Front St</td>\n      <td>Louisville</td>\n      <td>CO</td>\n      <td>80027</td>\n      <td>39.977083</td>\n      <td>-105.130589</td>\n      <td>4.5</td>\n      <td>14</td>\n      <td>1</td>\n      <td>{'BikeParking': 'True', 'BusinessAcceptsCredit...</td>\n      <td>Food, Specialty Food, Toy Stores, Shopping, Ca...</td>\n      <td>{'Monday': '0:0-0:0', 'Tuesday': '11:0-17:0', ...</td>\n      <td>{'BikeParking': 'True', 'BusinessAcceptsCredit...</td>\n      <td>[BikeParking, BusinessAcceptsCreditCards, Rest...</td>\n      <td>BikeParking BusinessAcceptsCreditCards Restaur...</td>\n      <td>0.794812</td>\n    </tr>\n    <tr>\n      <th>28605</th>\n      <td>87791</td>\n      <td>87791</td>\n      <td>2VUGEP7yFC7fex9xIf0F8g</td>\n      <td>Where the Buffalo Roam</td>\n      <td>1320 Pearl St Frnt</td>\n      <td>Boulder</td>\n      <td>CO</td>\n      <td>80302</td>\n      <td>40.018185</td>\n      <td>-105.278030</td>\n      <td>3.5</td>\n      <td>12</td>\n      <td>1</td>\n      <td>{'BusinessParking': \"{'garage': False, 'street...</td>\n      <td>Souvenir Shops, Fashion, Men's Clothing, Shopping</td>\n      <td>{'Monday': '0:0-0:0', 'Tuesday': '11:0-18:0', ...</td>\n      <td>{'BusinessParking': '{'garage': False, 'street...</td>\n      <td>[street, RestaurantsPriceRange2, BikeParking, ...</td>\n      <td>street RestaurantsPriceRange2 BikeParking Busi...</td>\n      <td>0.785670</td>\n    </tr>\n    <tr>\n      <th>35038</th>\n      <td>107340</td>\n      <td>107340</td>\n      <td>pECKvlZBwUORYC3bnZ65Zw</td>\n      <td>Rocket Fizz</td>\n      <td>1441 Pearl St</td>\n      <td>Boulder</td>\n      <td>CO</td>\n      <td>80302</td>\n      <td>40.018590</td>\n      <td>-105.276827</td>\n      <td>3.5</td>\n      <td>38</td>\n      <td>1</td>\n      <td>{'RestaurantsTakeOut': 'False', 'Caters': 'Fal...</td>\n      <td>Food, Candy Stores, Specialty Food</td>\n      <td>{'Monday': '10:0-20:30', 'Tuesday': '10:0-20:3...</td>\n      <td>{'RestaurantsTakeOut': 'False', 'Caters': 'Fal...</td>\n      <td>[RestaurantsPriceRange2, BikeParking, street, ...</td>\n      <td>RestaurantsPriceRange2 BikeParking street Busi...</td>\n      <td>0.738210</td>\n    </tr>\n    <tr>\n      <th>15556</th>\n      <td>47884</td>\n      <td>47884</td>\n      <td>oCsgfMHFvraMQfvfuSJheg</td>\n      <td>Piece, Love and Chocolate</td>\n      <td>805 Pearl St</td>\n      <td>Boulder</td>\n      <td>CO</td>\n      <td>80302</td>\n      <td>40.017113</td>\n      <td>-105.284825</td>\n      <td>4.5</td>\n      <td>196</td>\n      <td>1</td>\n      <td>{'BusinessParking': \"{'garage': False, 'street...</td>\n      <td>Chocolatiers &amp; Shops, Bakeries, Specialty Food...</td>\n      <td>{'Monday': '9:0-18:0', 'Tuesday': '9:0-18:0', ...</td>\n      <td>{'BusinessParking': '{'garage': False, 'street...</td>\n      <td>[street, BikeParking, RestaurantsPriceRange2, ...</td>\n      <td>street BikeParking RestaurantsPriceRange2 Busi...</td>\n      <td>0.724674</td>\n    </tr>\n    <tr>\n      <th>44319</th>\n      <td>135338</td>\n      <td>135338</td>\n      <td>HkcQyjtDxn2Bu_yBHBOAug</td>\n      <td>Crystal Springs Brewing Company</td>\n      <td>657 S Taylor Ave, Unit E</td>\n      <td>Louisville</td>\n      <td>CO</td>\n      <td>80027</td>\n      <td>39.960583</td>\n      <td>-105.120277</td>\n      <td>4.5</td>\n      <td>43</td>\n      <td>1</td>\n      <td>{'BusinessAcceptsBitcoin': 'False', 'BikeParki...</td>\n      <td>Breweries, Food</td>\n      <td>{'Monday': '0:0-0:0', 'Thursday': '15:0-18:0',...</td>\n      <td>{'BusinessAcceptsBitcoin': 'False', 'BikeParki...</td>\n      <td>[BikeParking, WheelchairAccessible, Restaurant...</td>\n      <td>BikeParking WheelchairAccessible RestaurantsPr...</td>\n      <td>0.716320</td>\n    </tr>\n  </tbody>\n</table>\n</div>"
     },
     "execution_count": 11,
     "metadata": {},
     "output_type": "execute_result"
    }
   ],
   "source": [
    "%%time\n",
    "results = get_knn(df_business.iloc[3, :], embedded_attributes, embedded_categories, df_business, category_weighting=0.5)\n",
    "results.head()"
   ],
   "metadata": {
    "collapsed": false,
    "pycharm": {
     "name": "#%%\n"
    }
   }
  },
  {
   "cell_type": "markdown",
   "source": [
    "### Load the users and their reviews into a train and testable form\n",
    "Given a user:\n",
    "- Find all reviews produced by this user\n",
    "- Filter to only positive reviews (4 stars or above)\n",
    "- For each positive review, find the top 5 most similar restaurants in the area specified by the review (it's unlikely the user would be willing to travel across the country to find a restaurant that might just be similar)\n",
    "- Pool all of the results, and sort by similarity scores.  Therefore, the user should have a collection of potential places to visit.\n",
    "\n",
    "By using a text embedder to calculate similarity, a training set isn't truly needed:\n",
    "- Require at least 2 good reviews from each test user, otherwise skip the training instance although a larger threshold for minimum number of reviews may make more sense.\n",
    "- For each user, having $$n$$ reviews, we randomly use 50% of the reviews for generating similar results.  Then, follow the above results to obtain $5n/2$ predictions.\n",
    "- We examine whether the predictions and remaining $n/2$ test reviews have _any_ intersection (although we can change this later).\n"
   ],
   "metadata": {
    "collapsed": false,
    "pycharm": {
     "name": "#%% md\n"
    }
   }
  },
  {
   "cell_type": "code",
   "execution_count": 12,
   "outputs": [],
   "source": [
    "df_users = pd.read_csv('data/yelp_academic_dataset_user.csv')\n",
    "df_reviews = pd.read_csv('data/yelp_academic_dataset_review.csv')"
   ],
   "metadata": {
    "collapsed": false,
    "pycharm": {
     "name": "#%%\n"
    }
   }
  },
  {
   "cell_type": "code",
   "execution_count": 13,
   "outputs": [
    {
     "data": {
      "text/plain": "2189457"
     },
     "execution_count": 13,
     "metadata": {},
     "output_type": "execute_result"
    }
   ],
   "source": [
    "df_reviews.shape[0]\n",
    "df_users.shape[0]"
   ],
   "metadata": {
    "collapsed": false,
    "pycharm": {
     "name": "#%%\n"
    }
   }
  },
  {
   "cell_type": "code",
   "execution_count": 14,
   "outputs": [],
   "source": [
    "# Set of restaurant IDs\n",
    "restaurant_set = set(df_business['business_id'].values)"
   ],
   "metadata": {
    "collapsed": false,
    "pycharm": {
     "name": "#%%\n"
    }
   }
  },
  {
   "cell_type": "code",
   "execution_count": 15,
   "outputs": [],
   "source": [
    "df_reviews_final = df_reviews[df_reviews['business_id'].isin(restaurant_set)]\n",
    "# TODO: remove bad reviews here?"
   ],
   "metadata": {
    "collapsed": false,
    "pycharm": {
     "name": "#%%\n"
    }
   }
  },
  {
   "cell_type": "code",
   "execution_count": 16,
   "outputs": [],
   "source": [
    "df_reviews_sampled = df_reviews_final.sample(n=100_000, replace=False)"
   ],
   "metadata": {
    "collapsed": false,
    "pycharm": {
     "name": "#%%\n"
    }
   }
  },
  {
   "cell_type": "code",
   "execution_count": 17,
   "outputs": [],
   "source": [
    "user_id_set = set(df_reviews_sampled['user_id'].values)\n",
    "df_users_sampled = df_users[df_users['user_id'].isin(user_id_set)]"
   ],
   "metadata": {
    "collapsed": false,
    "pycharm": {
     "name": "#%%\n"
    }
   }
  },
  {
   "cell_type": "code",
   "execution_count": 18,
   "outputs": [],
   "source": [
    "df_user_and_review = pd.merge(df_reviews_sampled, df_users_sampled, on='user_id')\n",
    "df_all_filtered = df_user_and_review[df_user_and_review.groupby('user_id').transform('count')['review_id'] > 4]"
   ],
   "metadata": {
    "collapsed": false,
    "pycharm": {
     "name": "#%%\n"
    }
   }
  },
  {
   "cell_type": "code",
   "execution_count": 19,
   "outputs": [
    {
     "name": "stdout",
     "output_type": "stream",
     "text": [
      "INPUT BUSINESS: All Seasons Table\n",
      "INPUT BUSINESS: BerryLine\n",
      "INPUT BUSINESS: BrickFire Pizza\n",
      "INPUT BUSINESS: Caramel French Patisserie\n",
      "INPUT BUSINESS: Flour Bakery + Café\n",
      "INPUT BUSINESS: Centre Street Café\n",
      "INPUT BUSINESS: Same Old Place\n",
      "INPUT BUSINESS: Whole Foods Market\n",
      "INPUT BUSINESS: Gitto's Pizza\n",
      "INPUT BUSINESS: Donut Day\n",
      "INPUT BUSINESS: The Hall Street Local\n",
      "INPUT BUSINESS: Dapper Duck Bar\n",
      "INPUT BUSINESS: Akira Sushi\n"
     ]
    }
   ],
   "source": [
    "user_id_set = set(df_all_filtered['user_id'].values)\n",
    "\n",
    "# for user_id in user_id_set:\n",
    "user_iter = iter(user_id_set)\n",
    "for dex in range(2):\n",
    "    user_id = next(user_iter)\n",
    "    df_individual_reviews = df_all_filtered[df_all_filtered['user_id'] == user_id]\n",
    "    all_rec = []\n",
    "    for business_id in df_individual_reviews['business_id']:\n",
    "        df_input_business = df_business[df_business['business_id'] == business_id].iloc[0, :]\n",
    "        all_rec.append(get_knn(df_input_business, embedded_attributes, embedded_categories, df_business, category_weighting=0.5))\n",
    "    pd.concat(all_rec)"
   ],
   "metadata": {
    "collapsed": false,
    "pycharm": {
     "name": "#%%\n"
    }
   }
  },
  {
   "cell_type": "code",
   "execution_count": 52,
   "outputs": [
    {
     "data": {
      "text/plain": "Unnamed: 0                                                          5\nUnnamed: 0.1                                                        5\nbusiness_id                                    D4JtQNTI4X3KcbzacDJsMw\nname                                              Bob Likes Thai Food\naddress                                                  3755 Main St\ncity                                                        Vancouver\nstate                                                              BC\npostal_code                                                       V5V\nlatitude                                                    49.251342\nlongitude                                                 -123.101333\nstars                                                             3.5\nreview_count                                                      169\nis_open                                                             1\nattributes          {'GoodForKids': 'True', 'Alcohol': \"u'none'\", ...\ncategories                                          Restaurants, Thai\nhours               {'Monday': '17:0-21:0', 'Tuesday': '17:0-21:0'...\nattribute_dict      {'GoodForKids': 'True', 'Alcohol': 'u'none'', ...\nattribute_soup      [GoodForKids, Alcohol, RestaurantsGoodForGroup...\nattribute_string    GoodForKids Alcohol RestaurantsGoodForGroups R...\nName: 2, dtype: object"
     },
     "execution_count": 52,
     "metadata": {},
     "output_type": "execute_result"
    }
   ],
   "source": [
    "df_business.iloc[2, :]"
   ],
   "metadata": {
    "collapsed": false,
    "pycharm": {
     "name": "#%%\n"
    }
   }
  },
  {
   "cell_type": "code",
   "execution_count": 20,
   "outputs": [],
   "source": [
    "def get_all_user_recommendations(user_id, df_individual_reviews, df_business, embedded_attributes, embedded_categories):\n",
    "    \"\"\"\n",
    "    Gets a DataFrame of all recommendations.  If the user reviews n items positively, return 5n items that they might enjoy.\n",
    "    :param user_id: id of the queried user\n",
    "    :param df_individual_reviews: reviews from a given user.\n",
    "    :param df_business: DataFrame including all potential businesses\n",
    "    :return: DataFrame of all recommendations\n",
    "    \"\"\"\n",
    "    all_rec = []\n",
    "    for business_id in df_individual_reviews['business_id']:\n",
    "        # Retrieve first instance\n",
    "        df_input_business = df_business[df_business['business_id'] == business_id].iloc[0, :]\n",
    "        # Append all corresponding predictions\n",
    "        all_rec.append(get_knn(df_input_business, embedded_attributes, embedded_categories, df_business, category_weighting=0.5))\n",
    "    return pd.concat(all_rec)"
   ],
   "metadata": {
    "collapsed": false,
    "pycharm": {
     "name": "#%%\n"
    }
   }
  },
  {
   "cell_type": "code",
   "execution_count": 33,
   "outputs": [
    {
     "data": {
      "text/plain": "array(['Unnamed: 0_x', 'review_id', 'user_id', 'business_id', 'stars',\n       'useful_x', 'funny_x', 'cool_x', 'text', 'date', 'Unnamed: 0_y',\n       'name', 'review_count', 'yelping_since', 'useful_y', 'funny_y',\n       'cool_y', 'elite', 'friends', 'fans', 'average_stars',\n       'compliment_hot', 'compliment_more', 'compliment_profile',\n       'compliment_cute', 'compliment_list', 'compliment_note',\n       'compliment_plain', 'compliment_cool', 'compliment_funny',\n       'compliment_writer', 'compliment_photos'], dtype=object)"
     },
     "execution_count": 33,
     "metadata": {},
     "output_type": "execute_result"
    }
   ],
   "source": [
    "user_iter = iter(user_id_set)\n",
    "user_id = next(user_iter)\n",
    "df_individual_reviews = df_all_filtered[df_all_filtered['user_id'] == user_id]\n",
    "pd.merge(df_individual_reviews.columns, df_business)"
   ],
   "metadata": {
    "collapsed": false,
    "pycharm": {
     "name": "#%%\n"
    }
   }
  },
  {
   "cell_type": "code",
   "execution_count": 49,
   "outputs": [
    {
     "name": "stdout",
     "output_type": "stream",
     "text": [
      "INPUT BUSINESS: All Seasons Table\n",
      "INPUT BUSINESS: BerryLine\n",
      "INPUT BUSINESS: Flour Bakery + Café\n",
      "INPUT BUSINESS: Whole Foods Market\n",
      "INPUT BUSINESS: Donut Day\n",
      "INPUT BUSINESS: Akira Sushi\n",
      "INPUT BUSINESS: Bella Tuscany Ristorante Italiano\n",
      "INPUT BUSINESS: Michael's Ali Coal Fired Pizza\n",
      "INPUT BUSINESS: Corona Cigar Company\n",
      "INPUT BUSINESS: Rendezvous In Central Square\n",
      "INPUT BUSINESS: Big Sky Bread Bakery & Cafe\n",
      "INPUT BUSINESS: Bao Bao Bakery & Cafe\n",
      "INPUT BUSINESS: Yoshi Ramen\n",
      "INPUT BUSINESS: Muss & Turner's - Smyrna\n",
      "INPUT BUSINESS: Haymaker\n",
      "INPUT BUSINESS: Hawkers Delight Deli\n",
      "INPUT BUSINESS: Banzai Sushi House\n",
      "INPUT BUSINESS: Shiny Tea\n",
      "INPUT BUSINESS: ZAC.ZAC Japanese Curry House\n",
      "INPUT BUSINESS: Pizza Hut\n",
      "INPUT BUSINESS: Passion8 Dessert Cafe\n",
      "INPUT BUSINESS: Blenz Coffee\n",
      "INPUT BUSINESS: Little Big Burger\n",
      "INPUT BUSINESS: Pizza Maria\n",
      "INPUT BUSINESS: Cajun Seafood Market\n",
      "INPUT BUSINESS: Buckhead Saloon\n",
      "INPUT BUSINESS: Kirkland convenience store\n",
      "INPUT BUSINESS: Game On\n",
      "INPUT BUSINESS: Petsi Pies\n",
      "INPUT BUSINESS: Edge Coffee\n",
      "INPUT BUSINESS: St. Johns Theater & Pub\n",
      "INPUT BUSINESS: John's Marketplace\n",
      "INPUT BUSINESS: Cool Moon Ice Cream\n",
      "INPUT BUSINESS: Deschutes Brewery Portland Public House\n",
      "INPUT BUSINESS: Top Spice\n",
      "INPUT BUSINESS: Napoleon's\n",
      "INPUT BUSINESS: Storico Fresco Alimentari e Ristorante\n",
      "INPUT BUSINESS: Yet Tuh\n",
      "INPUT BUSINESS: Czar Ice Bar\n",
      "INPUT BUSINESS: Samurai Sushi On Fraser\n",
      "INPUT BUSINESS: Smoke's Poutinerie\n",
      "INPUT BUSINESS: Beez Neez Gourmet Sausages\n",
      "INPUT BUSINESS: My Brother's Crawfish\n",
      "INPUT BUSINESS: Tasty Burger\n",
      "INPUT BUSINESS: Rhett's\n",
      "INPUT BUSINESS: I Love Italian Pizza\n",
      "INPUT BUSINESS: Typhoon Asian Fusion Bistro\n",
      "INPUT BUSINESS: The Market Italian Village\n",
      "INPUT BUSINESS: New Taj Mahal Indian Restaurant\n",
      "INPUT BUSINESS: Victorian Village Market\n",
      "INPUT BUSINESS: Szechuan Cottage\n",
      "INPUT BUSINESS: Bento Go\n",
      "INPUT BUSINESS: Buckeye Donuts\n",
      "INPUT BUSINESS: Acre Farm-to-Table To-Go\n",
      "INPUT BUSINESS: El Tapatio Restaurant\n",
      "INPUT BUSINESS: Boke Bowl Pop-Up\n",
      "INPUT BUSINESS: Pho Oregon Restaurant\n",
      "INPUT BUSINESS: Slow Bar\n",
      "INPUT BUSINESS: Brasserie Jo\n",
      "INPUT BUSINESS: Pho Yuen Dong\n",
      "INPUT BUSINESS: Yong Yong\n",
      "INPUT BUSINESS: Jo Jo Taipei\n",
      "INPUT BUSINESS: The Mighty Cone\n",
      "INPUT BUSINESS: Lupe Tortilla\n",
      "INPUT BUSINESS: Ruby Thai Kitchen\n",
      "INPUT BUSINESS: Figs by Todd English\n",
      "INPUT BUSINESS: Teriyaki House\n",
      "INPUT BUSINESS: E'Njoni Cafe\n",
      "INPUT BUSINESS: Boo Han Oriental Market\n",
      "INPUT BUSINESS: Bipartisan Cafe\n",
      "INPUT BUSINESS: Fubonn Supermarket\n",
      "INPUT BUSINESS: Leaky Roof\n",
      "INPUT BUSINESS: Island Grill Hawaiian Barbecue\n",
      "INPUT BUSINESS: Cheese Bar\n",
      "INPUT BUSINESS: Tensuke Market\n",
      "INPUT BUSINESS: Jacks Downtown Diner\n",
      "INPUT BUSINESS: Celebrate Local\n",
      "INPUT BUSINESS: Foodie Cart\n",
      "INPUT BUSINESS: Charleys Philly Steaks\n",
      "INPUT BUSINESS: Noodle Paradise\n",
      "INPUT BUSINESS: Platform 7\n",
      "INPUT BUSINESS: Myers & Chang\n",
      "INPUT BUSINESS: Montien\n",
      "INPUT BUSINESS: Spike's Junkyard Dogs\n",
      "INPUT BUSINESS: Spot Cafe\n",
      "INPUT BUSINESS: Breadsong Bakery\n",
      "INPUT BUSINESS: BJ's Wholesale Club\n",
      "INPUT BUSINESS: Papa Bees\n",
      "INPUT BUSINESS: QDOBA Mexican Eats\n",
      "INPUT BUSINESS: Freshbowl\n",
      "INPUT BUSINESS: Shanghai Fortune Cuisine\n",
      "INPUT BUSINESS: Bistro Hatzu\n",
      "INPUT BUSINESS: P.F. Chang's\n",
      "INPUT BUSINESS: Bales Farmington Market Place\n",
      "INPUT BUSINESS: Cafe Murrayhill\n",
      "INPUT BUSINESS: No.1 Beef Noodle House\n",
      "INPUT BUSINESS: Sushiful\n",
      "INPUT BUSINESS: Dave's Fresh Pasta\n",
      "INPUT BUSINESS: Bertucci's\n",
      "INPUT BUSINESS: Christina's Homemade Ice Cream\n",
      "INPUT BUSINESS: The Little Farmhouse Cafe\n",
      "INPUT BUSINESS: Dancing Goats Coffee Bar\n",
      "INPUT BUSINESS: OK Cafe\n",
      "INPUT BUSINESS: Torchys Tacos\n",
      "INPUT BUSINESS: EZ's\n",
      "INPUT BUSINESS: Phil's Icehouse\n",
      "INPUT BUSINESS: Charisma Cafe & Dessert House\n",
      "INPUT BUSINESS: Happy Lamb Hot Pot\n",
      "INPUT BUSINESS: Pok Pok\n",
      "INPUT BUSINESS: Ruby Chow's\n",
      "INPUT BUSINESS: Ruchi Bangladeshi Cuisine\n",
      "INPUT BUSINESS: Don Quixote\n",
      "INPUT BUSINESS: Taco Mac - Cumberland\n",
      "INPUT BUSINESS: Crafthall Kitchen\n",
      "INPUT BUSINESS: China Village Restaurant\n",
      "INPUT BUSINESS: Cupcake City\n",
      "INPUT BUSINESS: Vineyard Grille\n",
      "INPUT BUSINESS: Slake Cafe\n",
      "INPUT BUSINESS: Dolce Vita\n",
      "INPUT BUSINESS: Big Joy - Fresh Grill Bar\n",
      "INPUT BUSINESS: McDonald's\n",
      "INPUT BUSINESS: Bottega di Capri\n",
      "INPUT BUSINESS: Little Duck Thai Restaurant\n",
      "INPUT BUSINESS: Little Lucy's Mini Donuts\n",
      "INPUT BUSINESS: Zaftigs Delicatessen - Brookline\n",
      "INPUT BUSINESS: Cookin' Cafe & Grille\n",
      "INPUT BUSINESS: Stephanie's On Newbury\n",
      "INPUT BUSINESS: Sushi Mazi\n",
      "INPUT BUSINESS: The Waffle Window\n",
      "INPUT BUSINESS: Soul Fire BBQ\n",
      "INPUT BUSINESS: Daddy Jones\n",
      "INPUT BUSINESS: Lee's Burger Place\n",
      "INPUT BUSINESS: Robo Taco\n",
      "INPUT BUSINESS: Butterfly Belly Asian Cuisine\n",
      "INPUT BUSINESS: E-San Thai Food Cart\n",
      "INPUT BUSINESS: Zoiglhaus Brewing Company\n",
      "INPUT BUSINESS: Gresso's Restaurant and Bar\n",
      "INPUT BUSINESS: Flying Pizza\n",
      "INPUT BUSINESS: Hooters\n",
      "INPUT BUSINESS: Santa Rita Tex-Mex Cantina South\n",
      "INPUT BUSINESS: The Story of Texas Cafe\n",
      "INPUT BUSINESS: Brewhall\n",
      "INPUT BUSINESS: HearthStone Pizza\n",
      "INPUT BUSINESS: Big Rock-Vancouver\n",
      "INPUT BUSINESS: Patsara Thai Restaurant\n",
      "INPUT BUSINESS: Hot Head Burritos\n",
      "INPUT BUSINESS: Peacock West Restaurant\n",
      "INPUT BUSINESS: Manny's Original Chophouse\n",
      "INPUT BUSINESS: The Yum Yum Cupcake Truck\n",
      "INPUT BUSINESS: The Cheesecake Factory\n",
      "INPUT BUSINESS: Lou's Fresh Flavor\n",
      "INPUT BUSINESS: Hadley's Bar + Kitchen\n",
      "INPUT BUSINESS: Nosh on High\n"
     ]
    }
   ],
   "source": [
    "# TEST LOOP\n",
    "from sklearn.model_selection import train_test_split\n",
    "\n",
    "user_iter = iter(user_id_set)\n",
    "hit = 0\n",
    "\n",
    "for dex in range(50):\n",
    "    user_id = next(user_iter)\n",
    "    data = df_all_filtered[df_all_filtered['user_id'] == user_id]\n",
    "    X, y = train_test_split(data, train_size=0.5)\n",
    "    y_pred = get_all_user_recommendations(user_id, X, df_business, embedded_attributes, embedded_categories)\n",
    "\n",
    "    y_businesses = set(y['business_id'].values)\n",
    "    y_pred_businesses = set(y_pred['business_id'].values)\n",
    "    if len(y_pred_businesses.intersection(y_businesses)) > 0:\n",
    "        hit += 1"
   ],
   "metadata": {
    "collapsed": false,
    "pycharm": {
     "name": "#%%\n"
    }
   }
  },
  {
   "cell_type": "code",
   "execution_count": null,
   "outputs": [],
   "source": [],
   "metadata": {
    "collapsed": false,
    "pycharm": {
     "name": "#%%\n"
    }
   }
  }
 ],
 "metadata": {
  "kernelspec": {
   "display_name": "Python 3",
   "language": "python",
   "name": "python3"
  },
  "language_info": {
   "codemirror_mode": {
    "name": "ipython",
    "version": 2
   },
   "file_extension": ".py",
   "mimetype": "text/x-python",
   "name": "python",
   "nbconvert_exporter": "python",
   "pygments_lexer": "ipython2",
   "version": "2.7.6"
  }
 },
 "nbformat": 4,
 "nbformat_minor": 0
}