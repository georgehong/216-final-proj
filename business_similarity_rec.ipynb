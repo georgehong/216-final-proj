{
 "cells": [
  {
   "cell_type": "markdown",
   "metadata": {
    "collapsed": true,
    "pycharm": {
     "name": "#%% md\n"
    }
   },
   "source": [
    "## Recommender Based on Universal Sentence Encoder"
   ]
  },
  {
   "cell_type": "code",
   "execution_count": 1,
   "outputs": [],
   "source": [
    "import pandas as pd\n",
    "import numpy as np\n",
    "import tensorflow_hub as hub\n",
    "import ast"
   ],
   "metadata": {
    "collapsed": false,
    "pycharm": {
     "name": "#%%\n"
    }
   }
  },
  {
   "cell_type": "code",
   "execution_count": 2,
   "outputs": [],
   "source": [
    "embedder = hub.load(\"https://tfhub.dev/google/universal-sentence-encoder/4\")\n",
    "EMBEDDED_CATEGORIES_FILE = 'data/embedded_categories.npy'\n",
    "EMBEDDED_ATTRIBUTES_FILE = 'data/embedded_attributes.npy'"
   ],
   "metadata": {
    "collapsed": false,
    "pycharm": {
     "name": "#%%\n"
    }
   }
  },
  {
   "cell_type": "code",
   "execution_count": 7,
   "outputs": [],
   "source": [
    "def cosine_similarity(mat, vec):\n",
    "    \"\"\"\n",
    "    Calculate cosine similarity scores\n",
    "\n",
    "    :param mat: 2D array of all targets\n",
    "    :param vec: 1D array of vector to compare to\n",
    "    :return: all cosine similarity scores to vec\n",
    "    \"\"\"\n",
    "    vec_mag = np.linalg.norm(vec)\n",
    "    mat_mag = np.linalg.norm(mat, axis=1).reshape((-1, 1))\n",
    "    return (1/vec_mag) * np.dot(mat, vec).reshape((-1, 1)) / mat_mag\n",
    "\n",
    "def return_attribute_soup(input):\n",
    "    \"\"\"\n",
    "    Converts dictionary of inputs into list of items that are true.  Can also handle nested examples\n",
    "\n",
    "    :param input: dictionary of attributes\n",
    "    :return: list of keys\n",
    "    \"\"\"\n",
    "    current = []\n",
    "    for key in input:\n",
    "        # Inner dictionaries appear to be malformed in places\n",
    "        try:\n",
    "            value = ast.literal_eval(input[key])\n",
    "        except ValueError:\n",
    "            value = input[key]\n",
    "        if isinstance(value, dict):\n",
    "            current.extend(return_attribute_soup(value))\n",
    "        elif value not in (False, 'No', 'False'):\n",
    "            current.append(key)\n",
    "    return current"
   ],
   "metadata": {
    "collapsed": false,
    "pycharm": {
     "name": "#%%\n"
    }
   }
  },
  {
   "cell_type": "code",
   "execution_count": 4,
   "outputs": [],
   "source": [
    "df_business = pd.read_csv('data/yelp_academic_dataset_business_filtered.csv')\n",
    "df_business = df_business.dropna(subset=['categories'])\n",
    "df_business['attributes'] = df_business['attributes'].fillna('{}')"
   ],
   "metadata": {
    "collapsed": false,
    "pycharm": {
     "name": "#%%\n"
    }
   }
  },
  {
   "cell_type": "code",
   "execution_count": 5,
   "outputs": [],
   "source": [
    "df_business['attribute_dict'] = df_business['attributes'].apply(ast.literal_eval)\n",
    "df_business['attribute_soup'] = df_business['attribute_dict'].apply(return_attribute_soup)\n",
    "df_business['attribute_string'] = df_business['attribute_soup'].apply(lambda x: ' '.join(map(str, x)))"
   ],
   "metadata": {
    "collapsed": false,
    "pycharm": {
     "name": "#%%\n"
    }
   }
  },
  {
   "cell_type": "code",
   "execution_count": 8,
   "outputs": [
    {
     "data": {
      "text/plain": "   Unnamed: 0  Unnamed: 0.1             business_id                      name  \\\n0           0             0  6iYb2HFDywm3zjuRg0shjw       Oskar Blues Taproom   \n1           1             1  tCbdrRPZA0oiIYSmHG3J0w   Flying Elephants at PDX   \n2           5             5  D4JtQNTI4X3KcbzacDJsMw       Bob Likes Thai Food   \n3          10            10  rYs_1pNB_RMtn5WQh55QDA  Chautauqua General Store   \n4          12            12  HPA_qyMEddpAEtFof02ixg       Mr G's Pizza & Subs   \n\n               address       city state postal_code   latitude   longitude  \\\n0         921 Pearl St    Boulder    CO       80302  40.017544 -105.283348   \n1  7000 NE Airport Way   Portland    OR       97218  45.588906 -122.593331   \n2         3755 Main St  Vancouver    BC         V5V  49.251342 -123.101333   \n3      100 Clematis Dr    Boulder    CO       80302  39.998449 -105.281006   \n4        474 Lowell St    Peabody    MA       01960  42.541155  -70.973438   \n\n   stars  review_count  is_open  \\\n0    4.0            86        1   \n1    4.0           126        1   \n2    3.5           169        1   \n3    3.5             5        1   \n4    4.0            39        1   \n\n                                          attributes  \\\n0  {'RestaurantsTableService': 'True', 'WiFi': \"u...   \n1  {'RestaurantsTakeOut': 'True', 'RestaurantsAtt...   \n2  {'GoodForKids': 'True', 'Alcohol': \"u'none'\", ...   \n3  {'BikeParking': 'True', 'RestaurantsTakeOut': ...   \n4  {'RestaurantsGoodForGroups': 'True', 'HasTV': ...   \n\n                                          categories  \\\n0  Gastropubs, Food, Beer Gardens, Restaurants, B...   \n1  Salad, Soup, Sandwiches, Delis, Restaurants, C...   \n2                                  Restaurants, Thai   \n3  Food, Shopping, Convenience Stores, Souvenir S...   \n4                           Food, Pizza, Restaurants   \n\n                                               hours  \\\n0  {'Monday': '11:0-23:0', 'Tuesday': '11:0-23:0'...   \n1  {'Monday': '5:0-18:0', 'Tuesday': '5:0-17:0', ...   \n2  {'Monday': '17:0-21:0', 'Tuesday': '17:0-21:0'...   \n3  {'Monday': '8:0-20:0', 'Tuesday': '8:0-20:0', ...   \n4  {'Monday': '11:0-21:0', 'Tuesday': '11:0-21:0'...   \n\n                                      attribute_dict  \\\n0  {'RestaurantsTableService': 'True', 'WiFi': 'u...   \n1  {'RestaurantsTakeOut': 'True', 'RestaurantsAtt...   \n2  {'GoodForKids': 'True', 'Alcohol': 'u'none'', ...   \n3  {'BikeParking': 'True', 'RestaurantsTakeOut': ...   \n4  {'RestaurantsGoodForGroups': 'True', 'HasTV': ...   \n\n                                      attribute_soup  \\\n0  [RestaurantsTableService, WiFi, BikeParking, s...   \n1  [RestaurantsTakeOut, RestaurantsAttire, GoodFo...   \n2  [GoodForKids, Alcohol, RestaurantsGoodForGroup...   \n3  [BikeParking, RestaurantsTakeOut, street, Whee...   \n4  [RestaurantsGoodForGroups, HasTV, GoodForKids,...   \n\n                                    attribute_string  \n0  RestaurantsTableService WiFi BikeParking stree...  \n1  RestaurantsTakeOut RestaurantsAttire GoodForKi...  \n2  GoodForKids Alcohol RestaurantsGoodForGroups R...  \n3  BikeParking RestaurantsTakeOut street Wheelcha...  \n4  RestaurantsGoodForGroups HasTV GoodForKids Res...  ",
      "text/html": "<div>\n<style scoped>\n    .dataframe tbody tr th:only-of-type {\n        vertical-align: middle;\n    }\n\n    .dataframe tbody tr th {\n        vertical-align: top;\n    }\n\n    .dataframe thead th {\n        text-align: right;\n    }\n</style>\n<table border=\"1\" class=\"dataframe\">\n  <thead>\n    <tr style=\"text-align: right;\">\n      <th></th>\n      <th>Unnamed: 0</th>\n      <th>Unnamed: 0.1</th>\n      <th>business_id</th>\n      <th>name</th>\n      <th>address</th>\n      <th>city</th>\n      <th>state</th>\n      <th>postal_code</th>\n      <th>latitude</th>\n      <th>longitude</th>\n      <th>stars</th>\n      <th>review_count</th>\n      <th>is_open</th>\n      <th>attributes</th>\n      <th>categories</th>\n      <th>hours</th>\n      <th>attribute_dict</th>\n      <th>attribute_soup</th>\n      <th>attribute_string</th>\n    </tr>\n  </thead>\n  <tbody>\n    <tr>\n      <th>0</th>\n      <td>0</td>\n      <td>0</td>\n      <td>6iYb2HFDywm3zjuRg0shjw</td>\n      <td>Oskar Blues Taproom</td>\n      <td>921 Pearl St</td>\n      <td>Boulder</td>\n      <td>CO</td>\n      <td>80302</td>\n      <td>40.017544</td>\n      <td>-105.283348</td>\n      <td>4.0</td>\n      <td>86</td>\n      <td>1</td>\n      <td>{'RestaurantsTableService': 'True', 'WiFi': \"u...</td>\n      <td>Gastropubs, Food, Beer Gardens, Restaurants, B...</td>\n      <td>{'Monday': '11:0-23:0', 'Tuesday': '11:0-23:0'...</td>\n      <td>{'RestaurantsTableService': 'True', 'WiFi': 'u...</td>\n      <td>[RestaurantsTableService, WiFi, BikeParking, s...</td>\n      <td>RestaurantsTableService WiFi BikeParking stree...</td>\n    </tr>\n    <tr>\n      <th>1</th>\n      <td>1</td>\n      <td>1</td>\n      <td>tCbdrRPZA0oiIYSmHG3J0w</td>\n      <td>Flying Elephants at PDX</td>\n      <td>7000 NE Airport Way</td>\n      <td>Portland</td>\n      <td>OR</td>\n      <td>97218</td>\n      <td>45.588906</td>\n      <td>-122.593331</td>\n      <td>4.0</td>\n      <td>126</td>\n      <td>1</td>\n      <td>{'RestaurantsTakeOut': 'True', 'RestaurantsAtt...</td>\n      <td>Salad, Soup, Sandwiches, Delis, Restaurants, C...</td>\n      <td>{'Monday': '5:0-18:0', 'Tuesday': '5:0-17:0', ...</td>\n      <td>{'RestaurantsTakeOut': 'True', 'RestaurantsAtt...</td>\n      <td>[RestaurantsTakeOut, RestaurantsAttire, GoodFo...</td>\n      <td>RestaurantsTakeOut RestaurantsAttire GoodForKi...</td>\n    </tr>\n    <tr>\n      <th>2</th>\n      <td>5</td>\n      <td>5</td>\n      <td>D4JtQNTI4X3KcbzacDJsMw</td>\n      <td>Bob Likes Thai Food</td>\n      <td>3755 Main St</td>\n      <td>Vancouver</td>\n      <td>BC</td>\n      <td>V5V</td>\n      <td>49.251342</td>\n      <td>-123.101333</td>\n      <td>3.5</td>\n      <td>169</td>\n      <td>1</td>\n      <td>{'GoodForKids': 'True', 'Alcohol': \"u'none'\", ...</td>\n      <td>Restaurants, Thai</td>\n      <td>{'Monday': '17:0-21:0', 'Tuesday': '17:0-21:0'...</td>\n      <td>{'GoodForKids': 'True', 'Alcohol': 'u'none'', ...</td>\n      <td>[GoodForKids, Alcohol, RestaurantsGoodForGroup...</td>\n      <td>GoodForKids Alcohol RestaurantsGoodForGroups R...</td>\n    </tr>\n    <tr>\n      <th>3</th>\n      <td>10</td>\n      <td>10</td>\n      <td>rYs_1pNB_RMtn5WQh55QDA</td>\n      <td>Chautauqua General Store</td>\n      <td>100 Clematis Dr</td>\n      <td>Boulder</td>\n      <td>CO</td>\n      <td>80302</td>\n      <td>39.998449</td>\n      <td>-105.281006</td>\n      <td>3.5</td>\n      <td>5</td>\n      <td>1</td>\n      <td>{'BikeParking': 'True', 'RestaurantsTakeOut': ...</td>\n      <td>Food, Shopping, Convenience Stores, Souvenir S...</td>\n      <td>{'Monday': '8:0-20:0', 'Tuesday': '8:0-20:0', ...</td>\n      <td>{'BikeParking': 'True', 'RestaurantsTakeOut': ...</td>\n      <td>[BikeParking, RestaurantsTakeOut, street, Whee...</td>\n      <td>BikeParking RestaurantsTakeOut street Wheelcha...</td>\n    </tr>\n    <tr>\n      <th>4</th>\n      <td>12</td>\n      <td>12</td>\n      <td>HPA_qyMEddpAEtFof02ixg</td>\n      <td>Mr G's Pizza &amp; Subs</td>\n      <td>474 Lowell St</td>\n      <td>Peabody</td>\n      <td>MA</td>\n      <td>01960</td>\n      <td>42.541155</td>\n      <td>-70.973438</td>\n      <td>4.0</td>\n      <td>39</td>\n      <td>1</td>\n      <td>{'RestaurantsGoodForGroups': 'True', 'HasTV': ...</td>\n      <td>Food, Pizza, Restaurants</td>\n      <td>{'Monday': '11:0-21:0', 'Tuesday': '11:0-21:0'...</td>\n      <td>{'RestaurantsGoodForGroups': 'True', 'HasTV': ...</td>\n      <td>[RestaurantsGoodForGroups, HasTV, GoodForKids,...</td>\n      <td>RestaurantsGoodForGroups HasTV GoodForKids Res...</td>\n    </tr>\n  </tbody>\n</table>\n</div>"
     },
     "execution_count": 8,
     "metadata": {},
     "output_type": "execute_result"
    }
   ],
   "source": [
    "df_business.head()\n"
   ],
   "metadata": {
    "collapsed": false,
    "pycharm": {
     "name": "#%%\n"
    }
   }
  },
  {
   "cell_type": "code",
   "execution_count": 9,
   "outputs": [
    {
     "name": "stdout",
     "output_type": "stream",
     "text": [
      "ARRAY(S) NOT FOUND. EMBEDDING:\n",
      "EMBEDDINGS SAVED\n"
     ]
    }
   ],
   "source": [
    "try:\n",
    "    with open(EMBEDDED_CATEGORIES_FILE, 'rb') as f:\n",
    "        embedded_categories = np.load(EMBEDDED_CATEGORIES_FILE, allow_pickle=True)\n",
    "\n",
    "    with open(EMBEDDED_ATTRIBUTES_FILE, 'rb') as f:\n",
    "        embedded_attributes = np.load(EMBEDDED_ATTRIBUTES_FILE, allow_pickle=True)\n",
    "\n",
    "    print('EMBEDDINGS LOADED')\n",
    "\n",
    "except IOError as e:\n",
    "    print('ARRAY(S) NOT FOUND. EMBEDDING:')\n",
    "    categories = list(df_business['categories'])\n",
    "    embedded_categories = embedder(categories).numpy()\n",
    "    np.save(EMBEDDED_CATEGORIES_FILE, embedded_categories)\n",
    "\n",
    "    attributes = list(df_business['attribute_string'])\n",
    "    embedded_attributes = embedder(attributes).numpy()\n",
    "    np.save(EMBEDDED_ATTRIBUTES_FILE, embedded_attributes)\n",
    "    print('EMBEDDINGS SAVED')\n"
   ],
   "metadata": {
    "collapsed": false,
    "pycharm": {
     "name": "#%%\n"
    }
   }
  },
  {
   "cell_type": "code",
   "execution_count": 13,
   "outputs": [],
   "source": [
    "def get_knn(input, embedded_attributes, embedded_categories, df_business, k=5, category_weighting=0.75, min_rating=-1):\n",
    "    \"\"\"\n",
    "    Get the most similar businesses by knn search and sort\n",
    "\n",
    "    :param input: input business, in the form of a Series\n",
    "    :param embedded_attributes: services offered at the business\n",
    "    :param embedded_categories: embedded categories (business type)\n",
    "    :param df_business: DataFrame of all business info that must match embedded_attributes\n",
    "    :param k: Number of top results desired\n",
    "    :param category_weighting: emphasis placed on the contents of the restaurant.\n",
    "    :return: DataFrame of similar businesses\n",
    "    \"\"\"\n",
    "    assert df_business.shape[0] == embedded_categories.shape[0]\n",
    "    assert df_business.shape[0] == embedded_attributes.shape[0]\n",
    "    df_business_copy = df_business.copy()\n",
    "    query_category = input.loc['categories']\n",
    "    query_attributes = input.loc['attribute_string']\n",
    "    print(input.loc['name'])\n",
    "    embedded_query_category = embedder([query_category]).numpy().flatten()\n",
    "    embedded_query_attributes = embedder([query_attributes]).numpy().flatten()\n",
    "\n",
    "    categ_simil_scores = cosine_similarity(embedded_categories, embedded_query_category).flatten()\n",
    "    attri_simil_scores = cosine_similarity(embedded_attributes, embedded_query_attributes).flatten()\n",
    "\n",
    "    weighted_simil_scores = category_weighting * categ_simil_scores + (1 - category_weighting) + attri_simil_scores\n",
    "    weighted_simil_scores *= 0.5\n",
    "\n",
    "    df_business_copy['scores'] = weighted_simil_scores\n",
    "    indices = np.argsort(weighted_simil_scores)[-k:][::-1]\n",
    "    ret = df_business_copy.iloc[indices, :]\n",
    "    return ret[ret['stars'] >= min_rating]"
   ],
   "metadata": {
    "collapsed": false,
    "pycharm": {
     "name": "#%%\n"
    }
   }
  },
  {
   "cell_type": "code",
   "execution_count": 15,
   "outputs": [
    {
     "data": {
      "text/plain": "   Unnamed: 0  Unnamed: 0.1             business_id                      name  \\\n0           0             0  6iYb2HFDywm3zjuRg0shjw       Oskar Blues Taproom   \n1           1             1  tCbdrRPZA0oiIYSmHG3J0w   Flying Elephants at PDX   \n2           5             5  D4JtQNTI4X3KcbzacDJsMw       Bob Likes Thai Food   \n3          10            10  rYs_1pNB_RMtn5WQh55QDA  Chautauqua General Store   \n4          12            12  HPA_qyMEddpAEtFof02ixg       Mr G's Pizza & Subs   \n\n               address       city state postal_code   latitude   longitude  \\\n0         921 Pearl St    Boulder    CO       80302  40.017544 -105.283348   \n1  7000 NE Airport Way   Portland    OR       97218  45.588906 -122.593331   \n2         3755 Main St  Vancouver    BC         V5V  49.251342 -123.101333   \n3      100 Clematis Dr    Boulder    CO       80302  39.998449 -105.281006   \n4        474 Lowell St    Peabody    MA       01960  42.541155  -70.973438   \n\n   stars  review_count  is_open  \\\n0    4.0            86        1   \n1    4.0           126        1   \n2    3.5           169        1   \n3    3.5             5        1   \n4    4.0            39        1   \n\n                                          attributes  \\\n0  {'RestaurantsTableService': 'True', 'WiFi': \"u...   \n1  {'RestaurantsTakeOut': 'True', 'RestaurantsAtt...   \n2  {'GoodForKids': 'True', 'Alcohol': \"u'none'\", ...   \n3  {'BikeParking': 'True', 'RestaurantsTakeOut': ...   \n4  {'RestaurantsGoodForGroups': 'True', 'HasTV': ...   \n\n                                          categories  \\\n0  Gastropubs, Food, Beer Gardens, Restaurants, B...   \n1  Salad, Soup, Sandwiches, Delis, Restaurants, C...   \n2                                  Restaurants, Thai   \n3  Food, Shopping, Convenience Stores, Souvenir S...   \n4                           Food, Pizza, Restaurants   \n\n                                               hours  \\\n0  {'Monday': '11:0-23:0', 'Tuesday': '11:0-23:0'...   \n1  {'Monday': '5:0-18:0', 'Tuesday': '5:0-17:0', ...   \n2  {'Monday': '17:0-21:0', 'Tuesday': '17:0-21:0'...   \n3  {'Monday': '8:0-20:0', 'Tuesday': '8:0-20:0', ...   \n4  {'Monday': '11:0-21:0', 'Tuesday': '11:0-21:0'...   \n\n                                      attribute_dict  \\\n0  {'RestaurantsTableService': 'True', 'WiFi': 'u...   \n1  {'RestaurantsTakeOut': 'True', 'RestaurantsAtt...   \n2  {'GoodForKids': 'True', 'Alcohol': 'u'none'', ...   \n3  {'BikeParking': 'True', 'RestaurantsTakeOut': ...   \n4  {'RestaurantsGoodForGroups': 'True', 'HasTV': ...   \n\n                                      attribute_soup  \\\n0  [RestaurantsTableService, WiFi, BikeParking, s...   \n1  [RestaurantsTakeOut, RestaurantsAttire, GoodFo...   \n2  [GoodForKids, Alcohol, RestaurantsGoodForGroup...   \n3  [BikeParking, RestaurantsTakeOut, street, Whee...   \n4  [RestaurantsGoodForGroups, HasTV, GoodForKids,...   \n\n                                    attribute_string  \n0  RestaurantsTableService WiFi BikeParking stree...  \n1  RestaurantsTakeOut RestaurantsAttire GoodForKi...  \n2  GoodForKids Alcohol RestaurantsGoodForGroups R...  \n3  BikeParking RestaurantsTakeOut street Wheelcha...  \n4  RestaurantsGoodForGroups HasTV GoodForKids Res...  ",
      "text/html": "<div>\n<style scoped>\n    .dataframe tbody tr th:only-of-type {\n        vertical-align: middle;\n    }\n\n    .dataframe tbody tr th {\n        vertical-align: top;\n    }\n\n    .dataframe thead th {\n        text-align: right;\n    }\n</style>\n<table border=\"1\" class=\"dataframe\">\n  <thead>\n    <tr style=\"text-align: right;\">\n      <th></th>\n      <th>Unnamed: 0</th>\n      <th>Unnamed: 0.1</th>\n      <th>business_id</th>\n      <th>name</th>\n      <th>address</th>\n      <th>city</th>\n      <th>state</th>\n      <th>postal_code</th>\n      <th>latitude</th>\n      <th>longitude</th>\n      <th>stars</th>\n      <th>review_count</th>\n      <th>is_open</th>\n      <th>attributes</th>\n      <th>categories</th>\n      <th>hours</th>\n      <th>attribute_dict</th>\n      <th>attribute_soup</th>\n      <th>attribute_string</th>\n    </tr>\n  </thead>\n  <tbody>\n    <tr>\n      <th>0</th>\n      <td>0</td>\n      <td>0</td>\n      <td>6iYb2HFDywm3zjuRg0shjw</td>\n      <td>Oskar Blues Taproom</td>\n      <td>921 Pearl St</td>\n      <td>Boulder</td>\n      <td>CO</td>\n      <td>80302</td>\n      <td>40.017544</td>\n      <td>-105.283348</td>\n      <td>4.0</td>\n      <td>86</td>\n      <td>1</td>\n      <td>{'RestaurantsTableService': 'True', 'WiFi': \"u...</td>\n      <td>Gastropubs, Food, Beer Gardens, Restaurants, B...</td>\n      <td>{'Monday': '11:0-23:0', 'Tuesday': '11:0-23:0'...</td>\n      <td>{'RestaurantsTableService': 'True', 'WiFi': 'u...</td>\n      <td>[RestaurantsTableService, WiFi, BikeParking, s...</td>\n      <td>RestaurantsTableService WiFi BikeParking stree...</td>\n    </tr>\n    <tr>\n      <th>1</th>\n      <td>1</td>\n      <td>1</td>\n      <td>tCbdrRPZA0oiIYSmHG3J0w</td>\n      <td>Flying Elephants at PDX</td>\n      <td>7000 NE Airport Way</td>\n      <td>Portland</td>\n      <td>OR</td>\n      <td>97218</td>\n      <td>45.588906</td>\n      <td>-122.593331</td>\n      <td>4.0</td>\n      <td>126</td>\n      <td>1</td>\n      <td>{'RestaurantsTakeOut': 'True', 'RestaurantsAtt...</td>\n      <td>Salad, Soup, Sandwiches, Delis, Restaurants, C...</td>\n      <td>{'Monday': '5:0-18:0', 'Tuesday': '5:0-17:0', ...</td>\n      <td>{'RestaurantsTakeOut': 'True', 'RestaurantsAtt...</td>\n      <td>[RestaurantsTakeOut, RestaurantsAttire, GoodFo...</td>\n      <td>RestaurantsTakeOut RestaurantsAttire GoodForKi...</td>\n    </tr>\n    <tr>\n      <th>2</th>\n      <td>5</td>\n      <td>5</td>\n      <td>D4JtQNTI4X3KcbzacDJsMw</td>\n      <td>Bob Likes Thai Food</td>\n      <td>3755 Main St</td>\n      <td>Vancouver</td>\n      <td>BC</td>\n      <td>V5V</td>\n      <td>49.251342</td>\n      <td>-123.101333</td>\n      <td>3.5</td>\n      <td>169</td>\n      <td>1</td>\n      <td>{'GoodForKids': 'True', 'Alcohol': \"u'none'\", ...</td>\n      <td>Restaurants, Thai</td>\n      <td>{'Monday': '17:0-21:0', 'Tuesday': '17:0-21:0'...</td>\n      <td>{'GoodForKids': 'True', 'Alcohol': 'u'none'', ...</td>\n      <td>[GoodForKids, Alcohol, RestaurantsGoodForGroup...</td>\n      <td>GoodForKids Alcohol RestaurantsGoodForGroups R...</td>\n    </tr>\n    <tr>\n      <th>3</th>\n      <td>10</td>\n      <td>10</td>\n      <td>rYs_1pNB_RMtn5WQh55QDA</td>\n      <td>Chautauqua General Store</td>\n      <td>100 Clematis Dr</td>\n      <td>Boulder</td>\n      <td>CO</td>\n      <td>80302</td>\n      <td>39.998449</td>\n      <td>-105.281006</td>\n      <td>3.5</td>\n      <td>5</td>\n      <td>1</td>\n      <td>{'BikeParking': 'True', 'RestaurantsTakeOut': ...</td>\n      <td>Food, Shopping, Convenience Stores, Souvenir S...</td>\n      <td>{'Monday': '8:0-20:0', 'Tuesday': '8:0-20:0', ...</td>\n      <td>{'BikeParking': 'True', 'RestaurantsTakeOut': ...</td>\n      <td>[BikeParking, RestaurantsTakeOut, street, Whee...</td>\n      <td>BikeParking RestaurantsTakeOut street Wheelcha...</td>\n    </tr>\n    <tr>\n      <th>4</th>\n      <td>12</td>\n      <td>12</td>\n      <td>HPA_qyMEddpAEtFof02ixg</td>\n      <td>Mr G's Pizza &amp; Subs</td>\n      <td>474 Lowell St</td>\n      <td>Peabody</td>\n      <td>MA</td>\n      <td>01960</td>\n      <td>42.541155</td>\n      <td>-70.973438</td>\n      <td>4.0</td>\n      <td>39</td>\n      <td>1</td>\n      <td>{'RestaurantsGoodForGroups': 'True', 'HasTV': ...</td>\n      <td>Food, Pizza, Restaurants</td>\n      <td>{'Monday': '11:0-21:0', 'Tuesday': '11:0-21:0'...</td>\n      <td>{'RestaurantsGoodForGroups': 'True', 'HasTV': ...</td>\n      <td>[RestaurantsGoodForGroups, HasTV, GoodForKids,...</td>\n      <td>RestaurantsGoodForGroups HasTV GoodForKids Res...</td>\n    </tr>\n  </tbody>\n</table>\n</div>"
     },
     "execution_count": 15,
     "metadata": {},
     "output_type": "execute_result"
    }
   ],
   "source": [
    "df_business.head()"
   ],
   "metadata": {
    "collapsed": false,
    "pycharm": {
     "name": "#%%\n"
    }
   }
  },
  {
   "cell_type": "code",
   "execution_count": 17,
   "outputs": [
    {
     "name": "stdout",
     "output_type": "stream",
     "text": [
      "Bob Likes Thai Food\n"
     ]
    },
    {
     "data": {
      "text/plain": "       Unnamed: 0  Unnamed: 0.1             business_id  \\\n2               5             5  D4JtQNTI4X3KcbzacDJsMw   \n21726       66892         66892  YcOb3q7YF2APbzNBcdbA_g   \n25424       78195         78195  VyHdjx6K9XNfjsh2_2PqFA   \n776          2533          2533  5OBXDr_-BMq4Mif-AyuSYA   \n21032       64795         64795  066QDC2eUZA2bMyhvmS9RQ   \n\n                        name            address        city state postal_code  \\\n2        Bob Likes Thai Food       3755 Main St   Vancouver    BC         V5V   \n21726  Thai Thani Restaurant    408 Humphrey St  Swampscott    MA       01907   \n25424   Thida Thai Resturant      1193 Davie St   Vancouver    BC     V6E 1N2   \n776              Nisa's Thai  622 Washington St      Canton    MA       02021   \n21032          Tom Yum Koong       11 Forest St     Medford    MA       02155   \n\n        latitude   longitude  stars  review_count  is_open  \\\n2      49.251342 -123.101333    3.5           169        1   \n21726  42.467882  -70.910083    3.0            46        1   \n25424  49.281778 -123.132975    3.0            55        1   \n776    42.154214  -71.146082    4.0           147        1   \n21032  42.418717  -71.109132    3.5           336        1   \n\n                                              attributes         categories  \\\n2      {'GoodForKids': 'True', 'Alcohol': \"u'none'\", ...  Restaurants, Thai   \n21726  {'OutdoorSeating': 'False', 'GoodForKids': 'Tr...  Restaurants, Thai   \n25424  {'GoodForKids': 'True', 'Caters': 'False', 'Re...  Restaurants, Thai   \n776    {'GoodForKids': 'True', 'BusinessParking': \"{'...  Restaurants, Thai   \n21032  {'Caters': 'False', 'BusinessParking': \"{'gara...  Restaurants, Thai   \n\n                                                   hours  \\\n2      {'Monday': '17:0-21:0', 'Tuesday': '17:0-21:0'...   \n21726  {'Tuesday': '16:0-22:0', 'Wednesday': '16:0-22...   \n25424  {'Monday': '11:30-22:0', 'Tuesday': '11:30-22:...   \n776    {'Monday': '11:30-21:30', 'Tuesday': '11:30-21...   \n21032  {'Tuesday': '11:0-22:0', 'Wednesday': '11:0-22...   \n\n                                          attribute_dict  \\\n2      {'GoodForKids': 'True', 'Alcohol': 'u'none'', ...   \n21726  {'OutdoorSeating': 'False', 'GoodForKids': 'Tr...   \n25424  {'GoodForKids': 'True', 'Caters': 'False', 'Re...   \n776    {'GoodForKids': 'True', 'BusinessParking': '{'...   \n21032  {'Caters': 'False', 'BusinessParking': '{'gara...   \n\n                                          attribute_soup  \\\n2      [GoodForKids, Alcohol, RestaurantsGoodForGroup...   \n21726  [GoodForKids, RestaurantsReservations, Busines...   \n25424  [GoodForKids, RestaurantsReservations, street,...   \n776    [GoodForKids, street, Alcohol, RestaurantsGood...   \n21032  [street, RestaurantsAttire, RestaurantsTakeOut...   \n\n                                        attribute_string    scores  \n2      GoodForKids Alcohol RestaurantsGoodForGroups R...  1.000000  \n21726  GoodForKids RestaurantsReservations BusinessAc...  0.945456  \n25424  GoodForKids RestaurantsReservations street Res...  0.944792  \n776    GoodForKids street Alcohol RestaurantsGoodForG...  0.939499  \n21032  street RestaurantsAttire RestaurantsTakeOut Go...  0.938789  ",
      "text/html": "<div>\n<style scoped>\n    .dataframe tbody tr th:only-of-type {\n        vertical-align: middle;\n    }\n\n    .dataframe tbody tr th {\n        vertical-align: top;\n    }\n\n    .dataframe thead th {\n        text-align: right;\n    }\n</style>\n<table border=\"1\" class=\"dataframe\">\n  <thead>\n    <tr style=\"text-align: right;\">\n      <th></th>\n      <th>Unnamed: 0</th>\n      <th>Unnamed: 0.1</th>\n      <th>business_id</th>\n      <th>name</th>\n      <th>address</th>\n      <th>city</th>\n      <th>state</th>\n      <th>postal_code</th>\n      <th>latitude</th>\n      <th>longitude</th>\n      <th>stars</th>\n      <th>review_count</th>\n      <th>is_open</th>\n      <th>attributes</th>\n      <th>categories</th>\n      <th>hours</th>\n      <th>attribute_dict</th>\n      <th>attribute_soup</th>\n      <th>attribute_string</th>\n      <th>scores</th>\n    </tr>\n  </thead>\n  <tbody>\n    <tr>\n      <th>2</th>\n      <td>5</td>\n      <td>5</td>\n      <td>D4JtQNTI4X3KcbzacDJsMw</td>\n      <td>Bob Likes Thai Food</td>\n      <td>3755 Main St</td>\n      <td>Vancouver</td>\n      <td>BC</td>\n      <td>V5V</td>\n      <td>49.251342</td>\n      <td>-123.101333</td>\n      <td>3.5</td>\n      <td>169</td>\n      <td>1</td>\n      <td>{'GoodForKids': 'True', 'Alcohol': \"u'none'\", ...</td>\n      <td>Restaurants, Thai</td>\n      <td>{'Monday': '17:0-21:0', 'Tuesday': '17:0-21:0'...</td>\n      <td>{'GoodForKids': 'True', 'Alcohol': 'u'none'', ...</td>\n      <td>[GoodForKids, Alcohol, RestaurantsGoodForGroup...</td>\n      <td>GoodForKids Alcohol RestaurantsGoodForGroups R...</td>\n      <td>1.000000</td>\n    </tr>\n    <tr>\n      <th>21726</th>\n      <td>66892</td>\n      <td>66892</td>\n      <td>YcOb3q7YF2APbzNBcdbA_g</td>\n      <td>Thai Thani Restaurant</td>\n      <td>408 Humphrey St</td>\n      <td>Swampscott</td>\n      <td>MA</td>\n      <td>01907</td>\n      <td>42.467882</td>\n      <td>-70.910083</td>\n      <td>3.0</td>\n      <td>46</td>\n      <td>1</td>\n      <td>{'OutdoorSeating': 'False', 'GoodForKids': 'Tr...</td>\n      <td>Restaurants, Thai</td>\n      <td>{'Tuesday': '16:0-22:0', 'Wednesday': '16:0-22...</td>\n      <td>{'OutdoorSeating': 'False', 'GoodForKids': 'Tr...</td>\n      <td>[GoodForKids, RestaurantsReservations, Busines...</td>\n      <td>GoodForKids RestaurantsReservations BusinessAc...</td>\n      <td>0.945456</td>\n    </tr>\n    <tr>\n      <th>25424</th>\n      <td>78195</td>\n      <td>78195</td>\n      <td>VyHdjx6K9XNfjsh2_2PqFA</td>\n      <td>Thida Thai Resturant</td>\n      <td>1193 Davie St</td>\n      <td>Vancouver</td>\n      <td>BC</td>\n      <td>V6E 1N2</td>\n      <td>49.281778</td>\n      <td>-123.132975</td>\n      <td>3.0</td>\n      <td>55</td>\n      <td>1</td>\n      <td>{'GoodForKids': 'True', 'Caters': 'False', 'Re...</td>\n      <td>Restaurants, Thai</td>\n      <td>{'Monday': '11:30-22:0', 'Tuesday': '11:30-22:...</td>\n      <td>{'GoodForKids': 'True', 'Caters': 'False', 'Re...</td>\n      <td>[GoodForKids, RestaurantsReservations, street,...</td>\n      <td>GoodForKids RestaurantsReservations street Res...</td>\n      <td>0.944792</td>\n    </tr>\n    <tr>\n      <th>776</th>\n      <td>2533</td>\n      <td>2533</td>\n      <td>5OBXDr_-BMq4Mif-AyuSYA</td>\n      <td>Nisa's Thai</td>\n      <td>622 Washington St</td>\n      <td>Canton</td>\n      <td>MA</td>\n      <td>02021</td>\n      <td>42.154214</td>\n      <td>-71.146082</td>\n      <td>4.0</td>\n      <td>147</td>\n      <td>1</td>\n      <td>{'GoodForKids': 'True', 'BusinessParking': \"{'...</td>\n      <td>Restaurants, Thai</td>\n      <td>{'Monday': '11:30-21:30', 'Tuesday': '11:30-21...</td>\n      <td>{'GoodForKids': 'True', 'BusinessParking': '{'...</td>\n      <td>[GoodForKids, street, Alcohol, RestaurantsGood...</td>\n      <td>GoodForKids street Alcohol RestaurantsGoodForG...</td>\n      <td>0.939499</td>\n    </tr>\n    <tr>\n      <th>21032</th>\n      <td>64795</td>\n      <td>64795</td>\n      <td>066QDC2eUZA2bMyhvmS9RQ</td>\n      <td>Tom Yum Koong</td>\n      <td>11 Forest St</td>\n      <td>Medford</td>\n      <td>MA</td>\n      <td>02155</td>\n      <td>42.418717</td>\n      <td>-71.109132</td>\n      <td>3.5</td>\n      <td>336</td>\n      <td>1</td>\n      <td>{'Caters': 'False', 'BusinessParking': \"{'gara...</td>\n      <td>Restaurants, Thai</td>\n      <td>{'Tuesday': '11:0-22:0', 'Wednesday': '11:0-22...</td>\n      <td>{'Caters': 'False', 'BusinessParking': '{'gara...</td>\n      <td>[street, RestaurantsAttire, RestaurantsTakeOut...</td>\n      <td>street RestaurantsAttire RestaurantsTakeOut Go...</td>\n      <td>0.938789</td>\n    </tr>\n  </tbody>\n</table>\n</div>"
     },
     "execution_count": 17,
     "metadata": {},
     "output_type": "execute_result"
    }
   ],
   "source": [
    "results = get_knn(df_business.iloc[2, :], embedded_attributes, embedded_categories, df_business, category_weighting=0.5)\n",
    "results.head()"
   ],
   "metadata": {
    "collapsed": false,
    "pycharm": {
     "name": "#%%\n"
    }
   }
  },
  {
   "cell_type": "markdown",
   "source": [
    "### Load the users and their reviews into a train and testable form\n",
    "Given a user:\n",
    "- Find all reviews produced by this user\n",
    "- Filter to only positive reviews (4 stars or above)\n",
    "- For each positive review, find the top 5 most similar restaurants in the area specified by the review (it's unlikely the user would be willing to travel across the country to find a restaurant that might just be similar)\n",
    "- Pool all of the results, and sort by similarity scores.  Therefore, the user should have a collection of potential places to visit.\n",
    "\n",
    "By using a text embedder to calculate similarity, a training set isn't truly needed:\n",
    "- Require at least 2 good reviews from each test user, otherwise skip the training instance although a larger threshold for minimum number of reviews may make more sense.\n",
    "- For each user, having $$n$$ reviews, we randomly use 50% of the reviews for generating similar results.  Then, follow the above results to obtain $5n/2$ predictions.\n",
    "- We examine whether the predictions and remaining $n/2$ test reviews have _any_ intersection (although we can change this later).\n"
   ],
   "metadata": {
    "collapsed": false,
    "pycharm": {
     "name": "#%% md\n"
    }
   }
  },
  {
   "cell_type": "code",
   "execution_count": 12,
   "outputs": [],
   "source": [
    "df_users = pd.read_csv('data_small/yelp_academic_dataset_user.csv')\n",
    "df_reviews = pd.read_csv('data_small/yelp_academic_dataset_user.csv')"
   ],
   "metadata": {
    "collapsed": false,
    "pycharm": {
     "name": "#%%\n"
    }
   }
  },
  {
   "cell_type": "code",
   "execution_count": 16,
   "outputs": [
    {
     "data": {
      "text/plain": "(100000, 24)"
     },
     "execution_count": 16,
     "metadata": {},
     "output_type": "execute_result"
    }
   ],
   "source": [
    "df_users.shape\n",
    "\n",
    "\n",
    "\n"
   ],
   "metadata": {
    "collapsed": false,
    "pycharm": {
     "name": "#%%\n"
    }
   }
  }
 ],
 "metadata": {
  "kernelspec": {
   "display_name": "Python 3",
   "language": "python",
   "name": "python3"
  },
  "language_info": {
   "codemirror_mode": {
    "name": "ipython",
    "version": 2
   },
   "file_extension": ".py",
   "mimetype": "text/x-python",
   "name": "python",
   "nbconvert_exporter": "python",
   "pygments_lexer": "ipython2",
   "version": "2.7.6"
  }
 },
 "nbformat": 4,
 "nbformat_minor": 0
}