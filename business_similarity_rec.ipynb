{
 "cells": [
  {
   "cell_type": "markdown",
   "metadata": {
    "collapsed": true,
    "pycharm": {
     "name": "#%% md\n"
    }
   },
   "source": [
    "## Recommender Based on Universal Sentence Encoder"
   ]
  },
  {
   "cell_type": "code",
   "execution_count": 1,
   "outputs": [],
   "source": [
    "import pandas as pd\n",
    "import numpy as np\n",
    "import tensorflow_hub as hub\n",
    "import ast"
   ],
   "metadata": {
    "collapsed": false,
    "pycharm": {
     "name": "#%%\n"
    }
   }
  },
  {
   "cell_type": "code",
   "execution_count": 2,
   "outputs": [],
   "source": [
    "embedder = hub.load(\"https://tfhub.dev/google/universal-sentence-encoder/4\")\n",
    "EMBEDDED_CATEGORIES_FILE = 'data/embedded_categories.npy'\n",
    "EMBEDDED_ATTRIBUTES_FILE = 'data/embedded_attributes.npy'"
   ],
   "metadata": {
    "collapsed": false,
    "pycharm": {
     "name": "#%%\n"
    }
   }
  },
  {
   "cell_type": "code",
   "execution_count": 7,
   "outputs": [],
   "source": [
    "def cosine_similarity(mat, vec):\n",
    "    \"\"\"\n",
    "    Calculate cosine similarity scores\n",
    "\n",
    "    :param mat: 2D array of all targets\n",
    "    :param vec: 1D array of vector to compare to\n",
    "    :return: all cosine similarity scores to vec\n",
    "    \"\"\"\n",
    "    vec_mag = np.linalg.norm(vec)\n",
    "    mat_mag = np.linalg.norm(mat, axis=1).reshape((-1, 1))\n",
    "    return (1/vec_mag) * np.dot(mat, vec).reshape((-1, 1)) / mat_mag\n",
    "\n",
    "def return_attribute_soup(input):\n",
    "    \"\"\"\n",
    "    Converts dictionary of inputs into list of items that are true.  Can also handle nested examples\n",
    "\n",
    "    :param input: dictionary of attributes\n",
    "    :return: list of keys\n",
    "    \"\"\"\n",
    "    current = []\n",
    "    for key in input:\n",
    "        # Inner dictionaries appear to be malformed in places\n",
    "        try:\n",
    "            value = ast.literal_eval(input[key])\n",
    "        except ValueError:\n",
    "            value = input[key]\n",
    "        if isinstance(value, dict):\n",
    "            current.extend(return_attribute_soup(value))\n",
    "        elif value not in (False, 'No', 'False'):\n",
    "            current.append(key)\n",
    "    return current"
   ],
   "metadata": {
    "collapsed": false,
    "pycharm": {
     "name": "#%%\n"
    }
   }
  },
  {
   "cell_type": "code",
   "execution_count": 4,
   "outputs": [],
   "source": [
    "df_business = pd.read_csv('data/yelp_academic_dataset_business_filtered.csv')\n",
    "df_business = df_business.dropna(subset=['categories'])\n",
    "df_business['attributes'] = df_business['attributes'].fillna('{}')"
   ],
   "metadata": {
    "collapsed": false,
    "pycharm": {
     "name": "#%%\n"
    }
   }
  },
  {
   "cell_type": "code",
   "execution_count": 5,
   "outputs": [],
   "source": [
    "df_business['attribute_dict'] = df_business['attributes'].apply(ast.literal_eval)\n",
    "df_business['attribute_soup'] = df_business['attribute_dict'].apply(return_attribute_soup)\n",
    "df_business['attribute_string'] = df_business['attribute_soup'].apply(lambda x: ' '.join(map(str, x)))"
   ],
   "metadata": {
    "collapsed": false,
    "pycharm": {
     "name": "#%%\n"
    }
   }
  },
  {
   "cell_type": "code",
   "execution_count": 8,
   "outputs": [
    {
     "data": {
      "text/plain": "   Unnamed: 0  Unnamed: 0.1             business_id                      name  \\\n0           0             0  6iYb2HFDywm3zjuRg0shjw       Oskar Blues Taproom   \n1           1             1  tCbdrRPZA0oiIYSmHG3J0w   Flying Elephants at PDX   \n2           5             5  D4JtQNTI4X3KcbzacDJsMw       Bob Likes Thai Food   \n3          10            10  rYs_1pNB_RMtn5WQh55QDA  Chautauqua General Store   \n4          12            12  HPA_qyMEddpAEtFof02ixg       Mr G's Pizza & Subs   \n\n               address       city state postal_code   latitude   longitude  \\\n0         921 Pearl St    Boulder    CO       80302  40.017544 -105.283348   \n1  7000 NE Airport Way   Portland    OR       97218  45.588906 -122.593331   \n2         3755 Main St  Vancouver    BC         V5V  49.251342 -123.101333   \n3      100 Clematis Dr    Boulder    CO       80302  39.998449 -105.281006   \n4        474 Lowell St    Peabody    MA       01960  42.541155  -70.973438   \n\n   stars  review_count  is_open  \\\n0    4.0            86        1   \n1    4.0           126        1   \n2    3.5           169        1   \n3    3.5             5        1   \n4    4.0            39        1   \n\n                                          attributes  \\\n0  {'RestaurantsTableService': 'True', 'WiFi': \"u...   \n1  {'RestaurantsTakeOut': 'True', 'RestaurantsAtt...   \n2  {'GoodForKids': 'True', 'Alcohol': \"u'none'\", ...   \n3  {'BikeParking': 'True', 'RestaurantsTakeOut': ...   \n4  {'RestaurantsGoodForGroups': 'True', 'HasTV': ...   \n\n                                          categories  \\\n0  Gastropubs, Food, Beer Gardens, Restaurants, B...   \n1  Salad, Soup, Sandwiches, Delis, Restaurants, C...   \n2                                  Restaurants, Thai   \n3  Food, Shopping, Convenience Stores, Souvenir S...   \n4                           Food, Pizza, Restaurants   \n\n                                               hours  \\\n0  {'Monday': '11:0-23:0', 'Tuesday': '11:0-23:0'...   \n1  {'Monday': '5:0-18:0', 'Tuesday': '5:0-17:0', ...   \n2  {'Monday': '17:0-21:0', 'Tuesday': '17:0-21:0'...   \n3  {'Monday': '8:0-20:0', 'Tuesday': '8:0-20:0', ...   \n4  {'Monday': '11:0-21:0', 'Tuesday': '11:0-21:0'...   \n\n                                      attribute_dict  \\\n0  {'RestaurantsTableService': 'True', 'WiFi': 'u...   \n1  {'RestaurantsTakeOut': 'True', 'RestaurantsAtt...   \n2  {'GoodForKids': 'True', 'Alcohol': 'u'none'', ...   \n3  {'BikeParking': 'True', 'RestaurantsTakeOut': ...   \n4  {'RestaurantsGoodForGroups': 'True', 'HasTV': ...   \n\n                                      attribute_soup  \\\n0  [RestaurantsTableService, WiFi, BikeParking, s...   \n1  [RestaurantsTakeOut, RestaurantsAttire, GoodFo...   \n2  [GoodForKids, Alcohol, RestaurantsGoodForGroup...   \n3  [BikeParking, RestaurantsTakeOut, street, Whee...   \n4  [RestaurantsGoodForGroups, HasTV, GoodForKids,...   \n\n                                    attribute_string  \n0  RestaurantsTableService WiFi BikeParking stree...  \n1  RestaurantsTakeOut RestaurantsAttire GoodForKi...  \n2  GoodForKids Alcohol RestaurantsGoodForGroups R...  \n3  BikeParking RestaurantsTakeOut street Wheelcha...  \n4  RestaurantsGoodForGroups HasTV GoodForKids Res...  ",
      "text/html": "<div>\n<style scoped>\n    .dataframe tbody tr th:only-of-type {\n        vertical-align: middle;\n    }\n\n    .dataframe tbody tr th {\n        vertical-align: top;\n    }\n\n    .dataframe thead th {\n        text-align: right;\n    }\n</style>\n<table border=\"1\" class=\"dataframe\">\n  <thead>\n    <tr style=\"text-align: right;\">\n      <th></th>\n      <th>Unnamed: 0</th>\n      <th>Unnamed: 0.1</th>\n      <th>business_id</th>\n      <th>name</th>\n      <th>address</th>\n      <th>city</th>\n      <th>state</th>\n      <th>postal_code</th>\n      <th>latitude</th>\n      <th>longitude</th>\n      <th>stars</th>\n      <th>review_count</th>\n      <th>is_open</th>\n      <th>attributes</th>\n      <th>categories</th>\n      <th>hours</th>\n      <th>attribute_dict</th>\n      <th>attribute_soup</th>\n      <th>attribute_string</th>\n    </tr>\n  </thead>\n  <tbody>\n    <tr>\n      <th>0</th>\n      <td>0</td>\n      <td>0</td>\n      <td>6iYb2HFDywm3zjuRg0shjw</td>\n      <td>Oskar Blues Taproom</td>\n      <td>921 Pearl St</td>\n      <td>Boulder</td>\n      <td>CO</td>\n      <td>80302</td>\n      <td>40.017544</td>\n      <td>-105.283348</td>\n      <td>4.0</td>\n      <td>86</td>\n      <td>1</td>\n      <td>{'RestaurantsTableService': 'True', 'WiFi': \"u...</td>\n      <td>Gastropubs, Food, Beer Gardens, Restaurants, B...</td>\n      <td>{'Monday': '11:0-23:0', 'Tuesday': '11:0-23:0'...</td>\n      <td>{'RestaurantsTableService': 'True', 'WiFi': 'u...</td>\n      <td>[RestaurantsTableService, WiFi, BikeParking, s...</td>\n      <td>RestaurantsTableService WiFi BikeParking stree...</td>\n    </tr>\n    <tr>\n      <th>1</th>\n      <td>1</td>\n      <td>1</td>\n      <td>tCbdrRPZA0oiIYSmHG3J0w</td>\n      <td>Flying Elephants at PDX</td>\n      <td>7000 NE Airport Way</td>\n      <td>Portland</td>\n      <td>OR</td>\n      <td>97218</td>\n      <td>45.588906</td>\n      <td>-122.593331</td>\n      <td>4.0</td>\n      <td>126</td>\n      <td>1</td>\n      <td>{'RestaurantsTakeOut': 'True', 'RestaurantsAtt...</td>\n      <td>Salad, Soup, Sandwiches, Delis, Restaurants, C...</td>\n      <td>{'Monday': '5:0-18:0', 'Tuesday': '5:0-17:0', ...</td>\n      <td>{'RestaurantsTakeOut': 'True', 'RestaurantsAtt...</td>\n      <td>[RestaurantsTakeOut, RestaurantsAttire, GoodFo...</td>\n      <td>RestaurantsTakeOut RestaurantsAttire GoodForKi...</td>\n    </tr>\n    <tr>\n      <th>2</th>\n      <td>5</td>\n      <td>5</td>\n      <td>D4JtQNTI4X3KcbzacDJsMw</td>\n      <td>Bob Likes Thai Food</td>\n      <td>3755 Main St</td>\n      <td>Vancouver</td>\n      <td>BC</td>\n      <td>V5V</td>\n      <td>49.251342</td>\n      <td>-123.101333</td>\n      <td>3.5</td>\n      <td>169</td>\n      <td>1</td>\n      <td>{'GoodForKids': 'True', 'Alcohol': \"u'none'\", ...</td>\n      <td>Restaurants, Thai</td>\n      <td>{'Monday': '17:0-21:0', 'Tuesday': '17:0-21:0'...</td>\n      <td>{'GoodForKids': 'True', 'Alcohol': 'u'none'', ...</td>\n      <td>[GoodForKids, Alcohol, RestaurantsGoodForGroup...</td>\n      <td>GoodForKids Alcohol RestaurantsGoodForGroups R...</td>\n    </tr>\n    <tr>\n      <th>3</th>\n      <td>10</td>\n      <td>10</td>\n      <td>rYs_1pNB_RMtn5WQh55QDA</td>\n      <td>Chautauqua General Store</td>\n      <td>100 Clematis Dr</td>\n      <td>Boulder</td>\n      <td>CO</td>\n      <td>80302</td>\n      <td>39.998449</td>\n      <td>-105.281006</td>\n      <td>3.5</td>\n      <td>5</td>\n      <td>1</td>\n      <td>{'BikeParking': 'True', 'RestaurantsTakeOut': ...</td>\n      <td>Food, Shopping, Convenience Stores, Souvenir S...</td>\n      <td>{'Monday': '8:0-20:0', 'Tuesday': '8:0-20:0', ...</td>\n      <td>{'BikeParking': 'True', 'RestaurantsTakeOut': ...</td>\n      <td>[BikeParking, RestaurantsTakeOut, street, Whee...</td>\n      <td>BikeParking RestaurantsTakeOut street Wheelcha...</td>\n    </tr>\n    <tr>\n      <th>4</th>\n      <td>12</td>\n      <td>12</td>\n      <td>HPA_qyMEddpAEtFof02ixg</td>\n      <td>Mr G's Pizza &amp; Subs</td>\n      <td>474 Lowell St</td>\n      <td>Peabody</td>\n      <td>MA</td>\n      <td>01960</td>\n      <td>42.541155</td>\n      <td>-70.973438</td>\n      <td>4.0</td>\n      <td>39</td>\n      <td>1</td>\n      <td>{'RestaurantsGoodForGroups': 'True', 'HasTV': ...</td>\n      <td>Food, Pizza, Restaurants</td>\n      <td>{'Monday': '11:0-21:0', 'Tuesday': '11:0-21:0'...</td>\n      <td>{'RestaurantsGoodForGroups': 'True', 'HasTV': ...</td>\n      <td>[RestaurantsGoodForGroups, HasTV, GoodForKids,...</td>\n      <td>RestaurantsGoodForGroups HasTV GoodForKids Res...</td>\n    </tr>\n  </tbody>\n</table>\n</div>"
     },
     "execution_count": 8,
     "metadata": {},
     "output_type": "execute_result"
    }
   ],
   "source": [
    "df_business.head()\n"
   ],
   "metadata": {
    "collapsed": false,
    "pycharm": {
     "name": "#%%\n"
    }
   }
  },
  {
   "cell_type": "code",
   "execution_count": 9,
   "outputs": [
    {
     "name": "stdout",
     "output_type": "stream",
     "text": [
      "ARRAY(S) NOT FOUND. EMBEDDING:\n",
      "EMBEDDINGS SAVED\n"
     ]
    }
   ],
   "source": [
    "try:\n",
    "    with open(EMBEDDED_CATEGORIES_FILE, 'rb') as f:\n",
    "        embedded_categories = np.load(EMBEDDED_CATEGORIES_FILE, allow_pickle=True)\n",
    "\n",
    "    with open(EMBEDDED_ATTRIBUTES_FILE, 'rb') as f:\n",
    "        embedded_attributes = np.load(EMBEDDED_ATTRIBUTES_FILE, allow_pickle=True)\n",
    "\n",
    "    print('EMBEDDINGS LOADED')\n",
    "\n",
    "except IOError as e:\n",
    "    print('ARRAY(S) NOT FOUND. EMBEDDING:')\n",
    "    categories = list(df_business['categories'])\n",
    "    embedded_categories = embedder(categories).numpy()\n",
    "    np.save(EMBEDDED_CATEGORIES_FILE, embedded_categories)\n",
    "\n",
    "    attributes = list(df_business['attribute_string'])\n",
    "    embedded_attributes = embedder(attributes).numpy()\n",
    "    np.save(EMBEDDED_ATTRIBUTES_FILE, embedded_attributes)\n",
    "    print('EMBEDDINGS SAVED')\n"
   ],
   "metadata": {
    "collapsed": false,
    "pycharm": {
     "name": "#%%\n"
    }
   }
  },
  {
   "cell_type": "code",
   "execution_count": 63,
   "outputs": [],
   "source": [
    "def get_knn(input, embedded_attributes, embedded_categories, df_business, k=5, category_weighting=0.75, min_rating=-1):\n",
    "    \"\"\"\n",
    "    Get the most similar businesses by knn search and sort\n",
    "\n",
    "    :param input: input business, in the form of a Series\n",
    "    :param embedded_attributes: services offered at the business\n",
    "    :param embedded_categories: embedded categories (business type)\n",
    "    :param df_business: DataFrame of all business info that must match embedded_attributes\n",
    "    :param k: Number of top results desired\n",
    "    :param category_weighting: emphasis placed on the contents of the restaurant.\n",
    "    :return: DataFrame of similar businesses\n",
    "    \"\"\"\n",
    "    assert df_business.shape[0] == embedded_categories.shape[0]\n",
    "    assert df_business.shape[0] == embedded_attributes.shape[0]\n",
    "\n",
    "    # Filter by state before continuing\n",
    "    df_business_copy = df_business.copy()\n",
    "    state = input['state']\n",
    "    # List of all matching indices\n",
    "    match_dex = df_business.index[df_business['state'] == state].tolist()\n",
    "\n",
    "    embedded_attributes = embedded_attributes[match_dex]\n",
    "    embedded_categories = embedded_categories[match_dex]\n",
    "    df_business_copy = df_business.loc[match_dex, :]\n",
    "\n",
    "\n",
    "    query_category = input.loc['categories']\n",
    "    query_attributes = input.loc['attribute_string']\n",
    "    print(input.loc['name'])\n",
    "    embedded_query_category = embedder([query_category]).numpy().flatten()\n",
    "    embedded_query_attributes = embedder([query_attributes]).numpy().flatten()\n",
    "\n",
    "    categ_simil_scores = cosine_similarity(embedded_categories, embedded_query_category).flatten()\n",
    "    attri_simil_scores = cosine_similarity(embedded_attributes, embedded_query_attributes).flatten()\n",
    "\n",
    "    weighted_simil_scores = category_weighting * categ_simil_scores + (1 - category_weighting) + attri_simil_scores\n",
    "    weighted_simil_scores *= 0.5\n",
    "\n",
    "    df_business_copy['scores'] = weighted_simil_scores\n",
    "    indices = np.argsort(weighted_simil_scores)[-k:][::-1]\n",
    "    ret = df_business_copy.iloc[indices, :]\n",
    "    return ret[ret['stars'] >= min_rating]"
   ],
   "metadata": {
    "collapsed": false,
    "pycharm": {
     "name": "#%%\n"
    }
   }
  },
  {
   "cell_type": "code",
   "execution_count": 64,
   "outputs": [
    {
     "data": {
      "text/plain": "   Unnamed: 0  Unnamed: 0.1             business_id                      name  \\\n0           0             0  6iYb2HFDywm3zjuRg0shjw       Oskar Blues Taproom   \n1           1             1  tCbdrRPZA0oiIYSmHG3J0w   Flying Elephants at PDX   \n2           5             5  D4JtQNTI4X3KcbzacDJsMw       Bob Likes Thai Food   \n3          10            10  rYs_1pNB_RMtn5WQh55QDA  Chautauqua General Store   \n4          12            12  HPA_qyMEddpAEtFof02ixg       Mr G's Pizza & Subs   \n\n               address       city state postal_code   latitude   longitude  \\\n0         921 Pearl St    Boulder    CO       80302  40.017544 -105.283348   \n1  7000 NE Airport Way   Portland    OR       97218  45.588906 -122.593331   \n2         3755 Main St  Vancouver    BC         V5V  49.251342 -123.101333   \n3      100 Clematis Dr    Boulder    CO       80302  39.998449 -105.281006   \n4        474 Lowell St    Peabody    MA       01960  42.541155  -70.973438   \n\n   stars  review_count  is_open  \\\n0    4.0            86        1   \n1    4.0           126        1   \n2    3.5           169        1   \n3    3.5             5        1   \n4    4.0            39        1   \n\n                                          attributes  \\\n0  {'RestaurantsTableService': 'True', 'WiFi': \"u...   \n1  {'RestaurantsTakeOut': 'True', 'RestaurantsAtt...   \n2  {'GoodForKids': 'True', 'Alcohol': \"u'none'\", ...   \n3  {'BikeParking': 'True', 'RestaurantsTakeOut': ...   \n4  {'RestaurantsGoodForGroups': 'True', 'HasTV': ...   \n\n                                          categories  \\\n0  Gastropubs, Food, Beer Gardens, Restaurants, B...   \n1  Salad, Soup, Sandwiches, Delis, Restaurants, C...   \n2                                  Restaurants, Thai   \n3  Food, Shopping, Convenience Stores, Souvenir S...   \n4                           Food, Pizza, Restaurants   \n\n                                               hours  \\\n0  {'Monday': '11:0-23:0', 'Tuesday': '11:0-23:0'...   \n1  {'Monday': '5:0-18:0', 'Tuesday': '5:0-17:0', ...   \n2  {'Monday': '17:0-21:0', 'Tuesday': '17:0-21:0'...   \n3  {'Monday': '8:0-20:0', 'Tuesday': '8:0-20:0', ...   \n4  {'Monday': '11:0-21:0', 'Tuesday': '11:0-21:0'...   \n\n                                      attribute_dict  \\\n0  {'RestaurantsTableService': 'True', 'WiFi': 'u...   \n1  {'RestaurantsTakeOut': 'True', 'RestaurantsAtt...   \n2  {'GoodForKids': 'True', 'Alcohol': 'u'none'', ...   \n3  {'BikeParking': 'True', 'RestaurantsTakeOut': ...   \n4  {'RestaurantsGoodForGroups': 'True', 'HasTV': ...   \n\n                                      attribute_soup  \\\n0  [RestaurantsTableService, WiFi, BikeParking, s...   \n1  [RestaurantsTakeOut, RestaurantsAttire, GoodFo...   \n2  [GoodForKids, Alcohol, RestaurantsGoodForGroup...   \n3  [BikeParking, RestaurantsTakeOut, street, Whee...   \n4  [RestaurantsGoodForGroups, HasTV, GoodForKids,...   \n\n                                    attribute_string  \n0  RestaurantsTableService WiFi BikeParking stree...  \n1  RestaurantsTakeOut RestaurantsAttire GoodForKi...  \n2  GoodForKids Alcohol RestaurantsGoodForGroups R...  \n3  BikeParking RestaurantsTakeOut street Wheelcha...  \n4  RestaurantsGoodForGroups HasTV GoodForKids Res...  ",
      "text/html": "<div>\n<style scoped>\n    .dataframe tbody tr th:only-of-type {\n        vertical-align: middle;\n    }\n\n    .dataframe tbody tr th {\n        vertical-align: top;\n    }\n\n    .dataframe thead th {\n        text-align: right;\n    }\n</style>\n<table border=\"1\" class=\"dataframe\">\n  <thead>\n    <tr style=\"text-align: right;\">\n      <th></th>\n      <th>Unnamed: 0</th>\n      <th>Unnamed: 0.1</th>\n      <th>business_id</th>\n      <th>name</th>\n      <th>address</th>\n      <th>city</th>\n      <th>state</th>\n      <th>postal_code</th>\n      <th>latitude</th>\n      <th>longitude</th>\n      <th>stars</th>\n      <th>review_count</th>\n      <th>is_open</th>\n      <th>attributes</th>\n      <th>categories</th>\n      <th>hours</th>\n      <th>attribute_dict</th>\n      <th>attribute_soup</th>\n      <th>attribute_string</th>\n    </tr>\n  </thead>\n  <tbody>\n    <tr>\n      <th>0</th>\n      <td>0</td>\n      <td>0</td>\n      <td>6iYb2HFDywm3zjuRg0shjw</td>\n      <td>Oskar Blues Taproom</td>\n      <td>921 Pearl St</td>\n      <td>Boulder</td>\n      <td>CO</td>\n      <td>80302</td>\n      <td>40.017544</td>\n      <td>-105.283348</td>\n      <td>4.0</td>\n      <td>86</td>\n      <td>1</td>\n      <td>{'RestaurantsTableService': 'True', 'WiFi': \"u...</td>\n      <td>Gastropubs, Food, Beer Gardens, Restaurants, B...</td>\n      <td>{'Monday': '11:0-23:0', 'Tuesday': '11:0-23:0'...</td>\n      <td>{'RestaurantsTableService': 'True', 'WiFi': 'u...</td>\n      <td>[RestaurantsTableService, WiFi, BikeParking, s...</td>\n      <td>RestaurantsTableService WiFi BikeParking stree...</td>\n    </tr>\n    <tr>\n      <th>1</th>\n      <td>1</td>\n      <td>1</td>\n      <td>tCbdrRPZA0oiIYSmHG3J0w</td>\n      <td>Flying Elephants at PDX</td>\n      <td>7000 NE Airport Way</td>\n      <td>Portland</td>\n      <td>OR</td>\n      <td>97218</td>\n      <td>45.588906</td>\n      <td>-122.593331</td>\n      <td>4.0</td>\n      <td>126</td>\n      <td>1</td>\n      <td>{'RestaurantsTakeOut': 'True', 'RestaurantsAtt...</td>\n      <td>Salad, Soup, Sandwiches, Delis, Restaurants, C...</td>\n      <td>{'Monday': '5:0-18:0', 'Tuesday': '5:0-17:0', ...</td>\n      <td>{'RestaurantsTakeOut': 'True', 'RestaurantsAtt...</td>\n      <td>[RestaurantsTakeOut, RestaurantsAttire, GoodFo...</td>\n      <td>RestaurantsTakeOut RestaurantsAttire GoodForKi...</td>\n    </tr>\n    <tr>\n      <th>2</th>\n      <td>5</td>\n      <td>5</td>\n      <td>D4JtQNTI4X3KcbzacDJsMw</td>\n      <td>Bob Likes Thai Food</td>\n      <td>3755 Main St</td>\n      <td>Vancouver</td>\n      <td>BC</td>\n      <td>V5V</td>\n      <td>49.251342</td>\n      <td>-123.101333</td>\n      <td>3.5</td>\n      <td>169</td>\n      <td>1</td>\n      <td>{'GoodForKids': 'True', 'Alcohol': \"u'none'\", ...</td>\n      <td>Restaurants, Thai</td>\n      <td>{'Monday': '17:0-21:0', 'Tuesday': '17:0-21:0'...</td>\n      <td>{'GoodForKids': 'True', 'Alcohol': 'u'none'', ...</td>\n      <td>[GoodForKids, Alcohol, RestaurantsGoodForGroup...</td>\n      <td>GoodForKids Alcohol RestaurantsGoodForGroups R...</td>\n    </tr>\n    <tr>\n      <th>3</th>\n      <td>10</td>\n      <td>10</td>\n      <td>rYs_1pNB_RMtn5WQh55QDA</td>\n      <td>Chautauqua General Store</td>\n      <td>100 Clematis Dr</td>\n      <td>Boulder</td>\n      <td>CO</td>\n      <td>80302</td>\n      <td>39.998449</td>\n      <td>-105.281006</td>\n      <td>3.5</td>\n      <td>5</td>\n      <td>1</td>\n      <td>{'BikeParking': 'True', 'RestaurantsTakeOut': ...</td>\n      <td>Food, Shopping, Convenience Stores, Souvenir S...</td>\n      <td>{'Monday': '8:0-20:0', 'Tuesday': '8:0-20:0', ...</td>\n      <td>{'BikeParking': 'True', 'RestaurantsTakeOut': ...</td>\n      <td>[BikeParking, RestaurantsTakeOut, street, Whee...</td>\n      <td>BikeParking RestaurantsTakeOut street Wheelcha...</td>\n    </tr>\n    <tr>\n      <th>4</th>\n      <td>12</td>\n      <td>12</td>\n      <td>HPA_qyMEddpAEtFof02ixg</td>\n      <td>Mr G's Pizza &amp; Subs</td>\n      <td>474 Lowell St</td>\n      <td>Peabody</td>\n      <td>MA</td>\n      <td>01960</td>\n      <td>42.541155</td>\n      <td>-70.973438</td>\n      <td>4.0</td>\n      <td>39</td>\n      <td>1</td>\n      <td>{'RestaurantsGoodForGroups': 'True', 'HasTV': ...</td>\n      <td>Food, Pizza, Restaurants</td>\n      <td>{'Monday': '11:0-21:0', 'Tuesday': '11:0-21:0'...</td>\n      <td>{'RestaurantsGoodForGroups': 'True', 'HasTV': ...</td>\n      <td>[RestaurantsGoodForGroups, HasTV, GoodForKids,...</td>\n      <td>RestaurantsGoodForGroups HasTV GoodForKids Res...</td>\n    </tr>\n  </tbody>\n</table>\n</div>"
     },
     "execution_count": 64,
     "metadata": {},
     "output_type": "execute_result"
    }
   ],
   "source": [
    "df_business.head()"
   ],
   "metadata": {
    "collapsed": false,
    "pycharm": {
     "name": "#%%\n"
    }
   }
  },
  {
   "cell_type": "code",
   "execution_count": 65,
   "outputs": [
    {
     "name": "stdout",
     "output_type": "stream",
     "text": [
      "Bob Likes Thai Food\n"
     ]
    },
    {
     "data": {
      "text/plain": "       Unnamed: 0  Unnamed: 0.1             business_id  \\\n2               5             5  D4JtQNTI4X3KcbzacDJsMw   \n25424       78195         78195  VyHdjx6K9XNfjsh2_2PqFA   \n8012        24884         24884  iBun5rZsOClH0rhyg7FUlA   \n32917      101012        101012  jR5KXCNnG89b8qPM_5mRbA   \n20364       62748         62748  CdBrsk1y814YgzVfxQ0tnQ   \n\n                              name               address       city state  \\\n2              Bob Likes Thai Food          3755 Main St  Vancouver    BC   \n25424         Thida Thai Resturant         1193 Davie St  Vancouver    BC   \n8012       U & I Thai Fine Cuisine    3364 Cambie Street  Vancouver    BC   \n32917  Baan Wasana Thai Restaurant    2143 41st Avenue W  Vancouver    BC   \n20364            Urban Thai Bistro  1119 Hamilton Street  Vancouver    BC   \n\n      postal_code   latitude   longitude  stars  review_count  is_open  \\\n2             V5V  49.251342 -123.101333    3.5           169        1   \n25424     V6E 1N2  49.281778 -123.132975    3.0            55        1   \n8012      V5Y 2A1  49.255267 -123.115072    3.5           167        0   \n32917     V6M 1Z6  49.234719 -123.156672    3.5            55        0   \n20364     V6B 5P6  49.275809 -123.121512    3.0           165        0   \n\n                                              attributes         categories  \\\n2      {'GoodForKids': 'True', 'Alcohol': \"u'none'\", ...  Restaurants, Thai   \n25424  {'GoodForKids': 'True', 'Caters': 'False', 'Re...  Restaurants, Thai   \n8012   {'RestaurantsGoodForGroups': 'True', 'Alcohol'...  Restaurants, Thai   \n32917  {'Ambience': \"{'romantic': False, 'intimate': ...  Restaurants, Thai   \n20364  {'OutdoorSeating': 'True', 'RestaurantsPriceRa...  Restaurants, Thai   \n\n                                                   hours  \\\n2      {'Monday': '17:0-21:0', 'Tuesday': '17:0-21:0'...   \n25424  {'Monday': '11:30-22:0', 'Tuesday': '11:30-22:...   \n8012   {'Monday': '11:30-22:0', 'Tuesday': '11:30-22:...   \n32917  {'Tuesday': '17:0-22:0', 'Wednesday': '17:0-22...   \n20364  {'Monday': '11:0-21:30', 'Tuesday': '11:0-21:3...   \n\n                                          attribute_dict  \\\n2      {'GoodForKids': 'True', 'Alcohol': 'u'none'', ...   \n25424  {'GoodForKids': 'True', 'Caters': 'False', 'Re...   \n8012   {'RestaurantsGoodForGroups': 'True', 'Alcohol'...   \n32917  {'Ambience': '{'romantic': False, 'intimate': ...   \n20364  {'OutdoorSeating': 'True', 'RestaurantsPriceRa...   \n\n                                          attribute_soup  \\\n2      [GoodForKids, Alcohol, RestaurantsGoodForGroup...   \n25424  [GoodForKids, RestaurantsReservations, street,...   \n8012   [RestaurantsGoodForGroups, Alcohol, BikeParkin...   \n32917  [casual, WiFi, street, NoiseLevel, Restaurants...   \n20364  [OutdoorSeating, RestaurantsPriceRange2, Resta...   \n\n                                        attribute_string    scores  \n2      GoodForKids Alcohol RestaurantsGoodForGroups R...  1.000000  \n25424  GoodForKids RestaurantsReservations street Res...  0.944792  \n8012   RestaurantsGoodForGroups Alcohol BikeParking W...  0.935762  \n32917  casual WiFi street NoiseLevel RestaurantsReser...  0.932708  \n20364  OutdoorSeating RestaurantsPriceRange2 Restaura...  0.931687  ",
      "text/html": "<div>\n<style scoped>\n    .dataframe tbody tr th:only-of-type {\n        vertical-align: middle;\n    }\n\n    .dataframe tbody tr th {\n        vertical-align: top;\n    }\n\n    .dataframe thead th {\n        text-align: right;\n    }\n</style>\n<table border=\"1\" class=\"dataframe\">\n  <thead>\n    <tr style=\"text-align: right;\">\n      <th></th>\n      <th>Unnamed: 0</th>\n      <th>Unnamed: 0.1</th>\n      <th>business_id</th>\n      <th>name</th>\n      <th>address</th>\n      <th>city</th>\n      <th>state</th>\n      <th>postal_code</th>\n      <th>latitude</th>\n      <th>longitude</th>\n      <th>stars</th>\n      <th>review_count</th>\n      <th>is_open</th>\n      <th>attributes</th>\n      <th>categories</th>\n      <th>hours</th>\n      <th>attribute_dict</th>\n      <th>attribute_soup</th>\n      <th>attribute_string</th>\n      <th>scores</th>\n    </tr>\n  </thead>\n  <tbody>\n    <tr>\n      <th>2</th>\n      <td>5</td>\n      <td>5</td>\n      <td>D4JtQNTI4X3KcbzacDJsMw</td>\n      <td>Bob Likes Thai Food</td>\n      <td>3755 Main St</td>\n      <td>Vancouver</td>\n      <td>BC</td>\n      <td>V5V</td>\n      <td>49.251342</td>\n      <td>-123.101333</td>\n      <td>3.5</td>\n      <td>169</td>\n      <td>1</td>\n      <td>{'GoodForKids': 'True', 'Alcohol': \"u'none'\", ...</td>\n      <td>Restaurants, Thai</td>\n      <td>{'Monday': '17:0-21:0', 'Tuesday': '17:0-21:0'...</td>\n      <td>{'GoodForKids': 'True', 'Alcohol': 'u'none'', ...</td>\n      <td>[GoodForKids, Alcohol, RestaurantsGoodForGroup...</td>\n      <td>GoodForKids Alcohol RestaurantsGoodForGroups R...</td>\n      <td>1.000000</td>\n    </tr>\n    <tr>\n      <th>25424</th>\n      <td>78195</td>\n      <td>78195</td>\n      <td>VyHdjx6K9XNfjsh2_2PqFA</td>\n      <td>Thida Thai Resturant</td>\n      <td>1193 Davie St</td>\n      <td>Vancouver</td>\n      <td>BC</td>\n      <td>V6E 1N2</td>\n      <td>49.281778</td>\n      <td>-123.132975</td>\n      <td>3.0</td>\n      <td>55</td>\n      <td>1</td>\n      <td>{'GoodForKids': 'True', 'Caters': 'False', 'Re...</td>\n      <td>Restaurants, Thai</td>\n      <td>{'Monday': '11:30-22:0', 'Tuesday': '11:30-22:...</td>\n      <td>{'GoodForKids': 'True', 'Caters': 'False', 'Re...</td>\n      <td>[GoodForKids, RestaurantsReservations, street,...</td>\n      <td>GoodForKids RestaurantsReservations street Res...</td>\n      <td>0.944792</td>\n    </tr>\n    <tr>\n      <th>8012</th>\n      <td>24884</td>\n      <td>24884</td>\n      <td>iBun5rZsOClH0rhyg7FUlA</td>\n      <td>U &amp; I Thai Fine Cuisine</td>\n      <td>3364 Cambie Street</td>\n      <td>Vancouver</td>\n      <td>BC</td>\n      <td>V5Y 2A1</td>\n      <td>49.255267</td>\n      <td>-123.115072</td>\n      <td>3.5</td>\n      <td>167</td>\n      <td>0</td>\n      <td>{'RestaurantsGoodForGroups': 'True', 'Alcohol'...</td>\n      <td>Restaurants, Thai</td>\n      <td>{'Monday': '11:30-22:0', 'Tuesday': '11:30-22:...</td>\n      <td>{'RestaurantsGoodForGroups': 'True', 'Alcohol'...</td>\n      <td>[RestaurantsGoodForGroups, Alcohol, BikeParkin...</td>\n      <td>RestaurantsGoodForGroups Alcohol BikeParking W...</td>\n      <td>0.935762</td>\n    </tr>\n    <tr>\n      <th>32917</th>\n      <td>101012</td>\n      <td>101012</td>\n      <td>jR5KXCNnG89b8qPM_5mRbA</td>\n      <td>Baan Wasana Thai Restaurant</td>\n      <td>2143 41st Avenue W</td>\n      <td>Vancouver</td>\n      <td>BC</td>\n      <td>V6M 1Z6</td>\n      <td>49.234719</td>\n      <td>-123.156672</td>\n      <td>3.5</td>\n      <td>55</td>\n      <td>0</td>\n      <td>{'Ambience': \"{'romantic': False, 'intimate': ...</td>\n      <td>Restaurants, Thai</td>\n      <td>{'Tuesday': '17:0-22:0', 'Wednesday': '17:0-22...</td>\n      <td>{'Ambience': '{'romantic': False, 'intimate': ...</td>\n      <td>[casual, WiFi, street, NoiseLevel, Restaurants...</td>\n      <td>casual WiFi street NoiseLevel RestaurantsReser...</td>\n      <td>0.932708</td>\n    </tr>\n    <tr>\n      <th>20364</th>\n      <td>62748</td>\n      <td>62748</td>\n      <td>CdBrsk1y814YgzVfxQ0tnQ</td>\n      <td>Urban Thai Bistro</td>\n      <td>1119 Hamilton Street</td>\n      <td>Vancouver</td>\n      <td>BC</td>\n      <td>V6B 5P6</td>\n      <td>49.275809</td>\n      <td>-123.121512</td>\n      <td>3.0</td>\n      <td>165</td>\n      <td>0</td>\n      <td>{'OutdoorSeating': 'True', 'RestaurantsPriceRa...</td>\n      <td>Restaurants, Thai</td>\n      <td>{'Monday': '11:0-21:30', 'Tuesday': '11:0-21:3...</td>\n      <td>{'OutdoorSeating': 'True', 'RestaurantsPriceRa...</td>\n      <td>[OutdoorSeating, RestaurantsPriceRange2, Resta...</td>\n      <td>OutdoorSeating RestaurantsPriceRange2 Restaura...</td>\n      <td>0.931687</td>\n    </tr>\n  </tbody>\n</table>\n</div>"
     },
     "execution_count": 65,
     "metadata": {},
     "output_type": "execute_result"
    }
   ],
   "source": [
    "results = get_knn(df_business.iloc[2, :], embedded_attributes, embedded_categories, df_business, category_weighting=0.5)\n",
    "results.head()"
   ],
   "metadata": {
    "collapsed": false,
    "pycharm": {
     "name": "#%%\n"
    }
   }
  },
  {
   "cell_type": "markdown",
   "source": [
    "### Load the users and their reviews into a train and testable form\n",
    "Given a user:\n",
    "- Find all reviews produced by this user\n",
    "- Filter to only positive reviews (4 stars or above)\n",
    "- For each positive review, find the top 5 most similar restaurants in the area specified by the review (it's unlikely the user would be willing to travel across the country to find a restaurant that might just be similar)\n",
    "- Pool all of the results, and sort by similarity scores.  Therefore, the user should have a collection of potential places to visit.\n",
    "\n",
    "By using a text embedder to calculate similarity, a training set isn't truly needed:\n",
    "- Require at least 2 good reviews from each test user, otherwise skip the training instance although a larger threshold for minimum number of reviews may make more sense.\n",
    "- For each user, having $$n$$ reviews, we randomly use 50% of the reviews for generating similar results.  Then, follow the above results to obtain $5n/2$ predictions.\n",
    "- We examine whether the predictions and remaining $n/2$ test reviews have _any_ intersection (although we can change this later).\n"
   ],
   "metadata": {
    "collapsed": false,
    "pycharm": {
     "name": "#%% md\n"
    }
   }
  },
  {
   "cell_type": "code",
   "execution_count": 33,
   "outputs": [],
   "source": [
    "df_users = pd.read_csv('data/yelp_academic_dataset_user.csv')\n",
    "df_reviews = pd.read_csv('data/yelp_academic_dataset_review.csv')"
   ],
   "metadata": {
    "collapsed": false,
    "pycharm": {
     "name": "#%%\n"
    }
   }
  },
  {
   "cell_type": "code",
   "execution_count": 35,
   "outputs": [
    {
     "data": {
      "text/plain": "2189457"
     },
     "execution_count": 35,
     "metadata": {},
     "output_type": "execute_result"
    }
   ],
   "source": [
    "df_reviews.shape[0]\n",
    "df_users.shape[0]"
   ],
   "metadata": {
    "collapsed": false,
    "pycharm": {
     "name": "#%%\n"
    }
   }
  },
  {
   "cell_type": "code",
   "execution_count": null,
   "outputs": [],
   "source": [
    "# Set of restaurant IDs\n",
    "restaurant_set = set(df_business['business_id'].values)"
   ],
   "metadata": {
    "collapsed": false,
    "pycharm": {
     "name": "#%%\n"
    }
   }
  },
  {
   "cell_type": "code",
   "execution_count": 37,
   "outputs": [],
   "source": [
    "df_reviews_final = df_reviews[df_reviews['business_id'].isin(restaurant_set)]\n",
    "# TODO: remove bad reviews here?"
   ],
   "metadata": {
    "collapsed": false,
    "pycharm": {
     "name": "#%%\n"
    }
   }
  },
  {
   "cell_type": "code",
   "execution_count": 38,
   "outputs": [],
   "source": [
    "df_reviews_sampled = df_reviews_final.sample(n=100_000, replace=False)"
   ],
   "metadata": {
    "collapsed": false,
    "pycharm": {
     "name": "#%%\n"
    }
   }
  },
  {
   "cell_type": "code",
   "execution_count": 39,
   "outputs": [],
   "source": [
    "user_id_set = set(df_reviews_sampled['user_id'].values)\n",
    "df_users_sampled = df_users[df_users['user_id'].isin(user_id_set)]"
   ],
   "metadata": {
    "collapsed": false,
    "pycharm": {
     "name": "#%%\n"
    }
   }
  },
  {
   "cell_type": "code",
   "execution_count": 49,
   "outputs": [],
   "source": [
    "df_user_and_review = pd.merge(df_reviews_sampled, df_users_sampled, on='user_id')\n",
    "df_all_filtered = df_user_and_review[df_user_and_review.groupby('user_id').transform('count')['review_id'] > 4]"
   ],
   "metadata": {
    "collapsed": false,
    "pycharm": {
     "name": "#%%\n"
    }
   }
  },
  {
   "cell_type": "code",
   "execution_count": 59,
   "outputs": [
    {
     "name": "stdout",
     "output_type": "stream",
     "text": [
      "Insomnia Cookies\n",
      "GENKI Noodles and Sushi - Buckhead\n",
      "Villa Vino\n",
      "Il Bacio Pizzeria & Trattoria\n",
      "Everybody's Pizza\n",
      "Sushi House\n",
      "One Star Ranch\n",
      "Whole Foods Market\n",
      "The Kroger Company\n",
      "The Righteous Room\n",
      "Baraonda Italian Restaurant\n",
      "Cypress Street Pint & Plate\n",
      "El Potro Mexican Restaurant\n",
      "Cook Out\n",
      "Allegro\n",
      "       Unnamed: 0  Unnamed: 0.1             business_id  \\\n",
      "39211      119875        119875  97vNRu9r0LfqIf-CCOxD5w   \n",
      "43092      131735        131735  RoOtGXMwxmaoJ-c_nKRQ6Q   \n",
      "50484      153867        153867  0EILBP5TxMPujUxkAfjAaA   \n",
      "35084      107458        107458  GxHtrn6FJy-eaBjBXbDiJA   \n",
      "39780      121671        121671  33vTX7D5up56a1dm_AGsUQ   \n",
      "...           ...           ...                     ...   \n",
      "36754      112427        112427  YWTSQHwFpbVqm_wM-3te5w   \n",
      "5240        16123         16123  rrQoE-CoQpWIMH6pla56Kw   \n",
      "48638      148362        148362  ISZ7oCFzeb0JWG9ZAt9FCw   \n",
      "47707      145634        145634  T8bpbSANpBoChPWbKb-LYg   \n",
      "19577       60196         60196  KtzLhMuCE7a7k7bB95cVFA   \n",
      "\n",
      "                          name                   address       city state  \\\n",
      "39211         Insomnia Cookies          930 Spring St NW    Atlanta    GA   \n",
      "43092  Simply Rolled Ice Cream             968 N High St   Columbus    OH   \n",
      "50484            Ben & Jerry’s            174 Newbury St     Boston    MA   \n",
      "35084   Good Lickin' Ice Cream               46 Maple St    Danvers    MA   \n",
      "39780                   Mister      1141 Mainland Street  Vancouver    BC   \n",
      "...                        ...                       ...        ...   ...   \n",
      "36754                  Allegro       560 Dutch Valley Rd    Atlanta    GA   \n",
      "5240           Capriccio Grill     9801 International Dr    Orlando    FL   \n",
      "48638    Old Spaghetti Factory  249 Ponce De Leon Ave NE    Atlanta    GA   \n",
      "47707             Q4 al Centro           780 Richards St  Vancouver    BC   \n",
      "19577   Nick's Italian Kitchen            100 S  Eola Dr    Orlando    FL   \n",
      "\n",
      "      postal_code   latitude   longitude  stars  review_count  is_open  \\\n",
      "39211       30309  33.779952  -84.389521    3.5           241        1   \n",
      "43092       43201  39.982123  -83.004237    3.5           100        1   \n",
      "50484       02116  42.350303  -71.078971    4.0            91        1   \n",
      "35084       01923  42.566321  -70.936628    4.0             6        0   \n",
      "39780     V5V 3N7  49.275230 -123.121469    4.0           216        1   \n",
      "...           ...        ...         ...    ...           ...      ...   \n",
      "36754       30324  33.792772  -84.369397    3.0            14        0   \n",
      "5240        32819  28.427553  -81.469116    3.5            23        0   \n",
      "48638       30308  33.772263  -84.379285    2.5            31        0   \n",
      "47707     V6B 3A6  49.280236 -123.117616    4.0            21        0   \n",
      "19577       32801  28.540961  -81.370336    3.5            39        0   \n",
      "\n",
      "                                              attributes  \\\n",
      "39211  {'BusinessAcceptsCreditCards': 'True', 'WiFi':...   \n",
      "43092  {'BikeParking': 'True', 'DogsAllowed': 'False'...   \n",
      "50484  {'BusinessAcceptsCreditCards': 'True', 'Busine...   \n",
      "35084  {'BusinessAcceptsCreditCards': 'True', 'DogsAl...   \n",
      "39780  {'WiFi': \"u'no'\", 'RestaurantsTakeOut': 'True'...   \n",
      "...                                                  ...   \n",
      "36754  {'RestaurantsReservations': 'True', 'Alcohol':...   \n",
      "5240   {'Ambience': \"{'romantic': False, 'intimate': ...   \n",
      "48638  {'RestaurantsGoodForGroups': 'True', 'Restaura...   \n",
      "47707  {'Alcohol': \"u'full_bar'\", 'OutdoorSeating': '...   \n",
      "19577  {'RestaurantsGoodForGroups': 'True', 'Restaura...   \n",
      "\n",
      "                                              categories  \\\n",
      "39211  Desserts, Food, Bakeries, Ice Cream & Frozen Y...   \n",
      "43092  Food, Ice Cream & Frozen Yogurt, Specialty Foo...   \n",
      "50484  Ice Cream & Frozen Yogurt, Juice Bars & Smooth...   \n",
      "35084  Food, Event Planning & Services, Caterers, Des...   \n",
      "39780          Food, Desserts, Ice Cream & Frozen Yogurt   \n",
      "...                                                  ...   \n",
      "36754                               Restaurants, Italian   \n",
      "5240                                Restaurants, Italian   \n",
      "48638                               Italian, Restaurants   \n",
      "47707                               Restaurants, Italian   \n",
      "19577                               Restaurants, Italian   \n",
      "\n",
      "                                                   hours  \\\n",
      "39211  {'Monday': '11:0-0:0', 'Tuesday': '11:0-0:0', ...   \n",
      "43092  {'Monday': '0:0-0:0', 'Tuesday': '14:0-22:0', ...   \n",
      "50484  {'Monday': '13:0-22:0', 'Tuesday': '13:0-22:0'...   \n",
      "35084  {'Monday': '15:0-21:30', 'Tuesday': '16:0-21:3...   \n",
      "39780  {'Monday': '12:0-22:0', 'Tuesday': '12:0-22:0'...   \n",
      "...                                                  ...   \n",
      "36754                                                NaN   \n",
      "5240                                                 NaN   \n",
      "48638  {'Monday': '17:0-21:30', 'Tuesday': '17:0-21:3...   \n",
      "47707  {'Monday': '11:30-23:0', 'Tuesday': '11:30-23:...   \n",
      "19577  {'Monday': '17:0-23:0', 'Tuesday': '17:0-23:0'...   \n",
      "\n",
      "                                          attribute_dict  \\\n",
      "39211  {'BusinessAcceptsCreditCards': 'True', 'WiFi':...   \n",
      "43092  {'BikeParking': 'True', 'DogsAllowed': 'False'...   \n",
      "50484  {'BusinessAcceptsCreditCards': 'True', 'Busine...   \n",
      "35084  {'BusinessAcceptsCreditCards': 'True', 'DogsAl...   \n",
      "39780  {'WiFi': 'u'no'', 'RestaurantsTakeOut': 'True'...   \n",
      "...                                                  ...   \n",
      "36754  {'RestaurantsReservations': 'True', 'Alcohol':...   \n",
      "5240   {'Ambience': '{'romantic': False, 'intimate': ...   \n",
      "48638  {'RestaurantsGoodForGroups': 'True', 'Restaura...   \n",
      "47707  {'Alcohol': 'u'full_bar'', 'OutdoorSeating': '...   \n",
      "19577  {'RestaurantsGoodForGroups': 'True', 'Restaura...   \n",
      "\n",
      "                                          attribute_soup  \\\n",
      "39211  [BusinessAcceptsCreditCards, WiFi, street, Res...   \n",
      "43092  [BikeParking, Caters, street, WheelchairAccess...   \n",
      "50484  [BusinessAcceptsCreditCards, street, Restauran...   \n",
      "35084  [BusinessAcceptsCreditCards, DogsAllowed, Happ...   \n",
      "39780  [WiFi, RestaurantsTakeOut, street, Restaurants...   \n",
      "...                                                  ...   \n",
      "36754  [RestaurantsReservations, Alcohol, valet, Rest...   \n",
      "5240   [casual, RestaurantsGoodForGroups, GoodForKids...   \n",
      "48638  [RestaurantsGoodForGroups, BusinessAcceptsCred...   \n",
      "47707  [Alcohol, RestaurantsAttire, RestaurantsTakeOu...   \n",
      "19577  [RestaurantsGoodForGroups, RestaurantsPriceRan...   \n",
      "\n",
      "                                        attribute_string    scores  \n",
      "39211  BusinessAcceptsCreditCards WiFi street Restaur...  1.000000  \n",
      "43092  BikeParking Caters street WheelchairAccessible...  0.880381  \n",
      "50484  BusinessAcceptsCreditCards street RestaurantsP...  0.878159  \n",
      "35084  BusinessAcceptsCreditCards DogsAllowed HappyHo...  0.872685  \n",
      "39780  WiFi RestaurantsTakeOut street RestaurantsPric...  0.871490  \n",
      "...                                                  ...       ...  \n",
      "36754  RestaurantsReservations Alcohol valet Restaura...  1.000000  \n",
      "5240   casual RestaurantsGoodForGroups GoodForKids Re...  0.888865  \n",
      "48638  RestaurantsGoodForGroups BusinessAcceptsCredit...  0.857803  \n",
      "47707  Alcohol RestaurantsAttire RestaurantsTakeOut R...  0.855155  \n",
      "19577  RestaurantsGoodForGroups RestaurantsPriceRange...  0.850716  \n",
      "\n",
      "[75 rows x 20 columns]\n",
      "mon paris\n",
      "Sawasdee Thai Restaurant\n",
      "The Acorn\n",
      "Marcello Restorante & Pizzeria\n",
      "The Eatery\n",
      "Cafe Sweets & Beans\n",
      "       Unnamed: 0  Unnamed: 0.1             business_id  \\\n",
      "22749       70118         70118  SeMR4KRhHi8H-YmUCiVRQA   \n",
      "15147       46643         46643  OP17414UHaTkup2NAhGDwg   \n",
      "22177       68254         68254  nP1i_YLPCsN6Hn_zTm42dQ   \n",
      "3298        10234         10234  Q-KV7pBA50erlyQupWFo5w   \n",
      "36458      111584        111584  Vuumk4vBKHEMyqGiHdAu0w   \n",
      "28423       87206         87206  DqqqVLvwZ9Z-KgYhIJzWqw   \n",
      "40409      123625        123625  undRb6HHE09pWjYR1gZgAQ   \n",
      "30747       94301         94301  mLn8qCphHL02NFJH39pTwQ   \n",
      "52182      159064        159064  zgT8RFiEO86UiD9bT9DB3A   \n",
      "50466      153816        153816  ubIANH4X4YJuo1xANl8Liw   \n",
      "41933      128137        128137  L5xEQDfToCG5hA9o5VtKNQ   \n",
      "50051      152562        152562  qEJGykxRsiBn_2DXfUREFw   \n",
      "8640        26698         26698  Ndc6bp-VphvRcd7T-C6BYA   \n",
      "46379      141513        141513  ybBBUV5qw0Af7JpikRTldg   \n",
      "4787        14670         14670  wBGopzF1JrhccmofvH_xyw   \n",
      "33222      101911        101911  2ACWJP0YGyKhpU8vMUWPBg   \n",
      "15667       48187         48187  lNH35E9Ps5O42i0OOcQlYQ   \n",
      "13612       41922         41922  JibdRgu1SIV79kRarfbQTQ   \n",
      "3370        10424         10424  LhoV1oaRXOm84v8rltyJtw   \n",
      "14010       43037         43037  kWVXGP6-qHiTv0Z8AR_6SA   \n",
      "23938       73684         73684  SlJaxcUyUwjoBjANzs34Og   \n",
      "23264       71723         71723  K1LpyEwZ3aCwGXf10iFC8Q   \n",
      "39417      120565        120565  tdcbwxEP8JZfgx1NaRS9-g   \n",
      "1640         5109          5109  hlnLIrUMGgLMFxphB3HCWw   \n",
      "14067       43239         43239  Rn6Znnus_rryA2KlUjP0zA   \n",
      "7211        22287         22287  BqlSz4-Sv4nQqIbZFZc34Q   \n",
      "32776      100560        100560  xtxZFWgU5_ZBFRHDEQShKQ   \n",
      "46559      142048        142048  h0T4e11K9LXI-kVY-xaadg   \n",
      "6394        19801         19801  xEjWBVj3hb--mm47gZK8TA   \n",
      "40128      122789        122789  LlRrylE0PXCzl_0_ZVRJZg   \n",
      "\n",
      "                                            name  \\\n",
      "22749                                  mon paris   \n",
      "15147                Lemonade Gluten Free Bakery   \n",
      "22177                            Sweet Obsession   \n",
      "3298   Rogers' Chocolates Granville Island Store   \n",
      "36458                               Terra Breads   \n",
      "28423                   Sawasdee Thai Restaurant   \n",
      "40409                       At Siam Thai Cuisine   \n",
      "30747                                Thai Ginger   \n",
      "52182                           Thai Chili Basil   \n",
      "50466                                   Pon Thai   \n",
      "41933                                  The Acorn   \n",
      "50051                      White Owl Social Club   \n",
      "8640                                  Wildebeest   \n",
      "46379                                    Mission   \n",
      "4787                                     Juniper   \n",
      "33222             Marcello Restorante & Pizzeria   \n",
      "15667                         Armando's Pizzeria   \n",
      "13612                     Cotto Enoteca Pizzeria   \n",
      "3370                             Halwani Cuisine   \n",
      "14010                                Gino's East   \n",
      "23938                                 The Eatery   \n",
      "23264                         The General Public   \n",
      "39417                    Hapa Izakaya - Yaletown   \n",
      "1640                                  Sushi Moon   \n",
      "14067                        Mio Sushi Hawthorne   \n",
      "7211                         Cafe Sweets & Beans   \n",
      "32776                                 Mio Gelato   \n",
      "46559               Red Mango Yogurt & Smoothies   \n",
      "6394                   Orange Leaf Frozen Yogurt   \n",
      "40128                  Divine Belgian Chocolates   \n",
      "\n",
      "                               address         city state postal_code  \\\n",
      "22749                4396 Beresford St      Burnaby    BC     V5H 2Y4   \n",
      "15147               3385 Cambie Street    Vancouver    BC     V5Z 2W6   \n",
      "22177            2611 West 16th Avenue    Vancouver    BC     V6K 3C2   \n",
      "3298                  1571 Johnston St    Vancouver    BC     V6H 3R9   \n",
      "36458  1689 Johnston Street, Suite 107    Vancouver    BC     V6H 3R9   \n",
      "28423                 4250 Main Street    Vancouver    BC     V5V 3P9   \n",
      "40409            8957 International Dr      Orlando    FL       32819   \n",
      "30747            2020 N Rosa Parks Way     Portland    OR       97217   \n",
      "52182                373 Washington St    Braintree    MA       02184   \n",
      "50466           330 N Marine Dr, Ste B     Portland    OR       97217   \n",
      "41933                 3995 Main Street    Vancouver    BC     V5V 3P5   \n",
      "50051                  1305 SE 8th Ave     Portland    OR       97214   \n",
      "8640             120 W Hastings Street    Vancouver    BC     V6B 1G8   \n",
      "46379                2042 W 4th Avenue    Vancouver    BC     V6J 1M9   \n",
      "4787                 185 Keefer Street    Vancouver    BC     V6A 1X3   \n",
      "33222               1404 Commercial Dr    Vancouver    BC     V5L 3X9   \n",
      "15667            463 W New England Ave  Winter Park    FL       32789   \n",
      "13612             6011 Hastings Street      Burnaby    BC     V5B 4A1   \n",
      "3370         1453 Grandview Ave, Ste B     Columbus    OH       43212   \n",
      "14010           214 East 6th St, Ste B       Austin    TX       78701   \n",
      "23938                  3431 W Broadway    Vancouver    BC     V6R 2B4   \n",
      "23264                 3289 Main Street    Vancouver    BC     V5T 3G7   \n",
      "39417             1193 Hamilton Street    Vancouver    BC     V6B 5P6   \n",
      "1640                6520 Fraser Street    Vancouver    BC     V5X 3T3   \n",
      "14067           3962 SE Hawthorne Blvd     Portland    OR       97214   \n",
      "7211                     5152 Kingsway      Burnaby    BC     V5H 2E8   \n",
      "32776                1517 NE Brazee St     Portland    OR       97212   \n",
      "46559         2052 N Decatur Rd, Ste B      Decatur    GA       30033   \n",
      "6394                  95 Washington St       Canton    MA       02021   \n",
      "40128          2430 US Hwy 27, Ste 380     Clermont    FL       34714   \n",
      "\n",
      "        latitude   longitude  stars  review_count  is_open  \\\n",
      "22749  49.226019 -123.005614    4.0            56        1   \n",
      "15147  49.255221 -123.115422    4.5           113        1   \n",
      "22177  49.257871 -123.165177    3.5           142        1   \n",
      "3298   49.272104 -123.134392    4.0            28        1   \n",
      "36458  49.272736 -123.135506    4.5            93        1   \n",
      "28423  49.247054 -123.100828    4.0           309        1   \n",
      "40409  28.436089  -81.472022    4.0           144        1   \n",
      "30747  45.569609 -122.687933    4.0           246        1   \n",
      "52182  42.219857  -71.004140    3.5            12        0   \n",
      "50466  45.601753 -122.669835    4.0            72        0   \n",
      "41933  49.249595 -123.101353    4.0           405        1   \n",
      "50051  45.513459 -122.657946    3.0           447        1   \n",
      "8640   49.282079 -123.107659    3.5           369        1   \n",
      "46379  49.268048 -123.151413    4.0            57        0   \n",
      "4787   49.279695 -123.100302    4.0           102        0   \n",
      "33222  49.272036 -123.069429    3.0           269        1   \n",
      "15667  28.596013  -81.356054    3.5           244        1   \n",
      "13612  49.280559 -122.976594    3.5           160        1   \n",
      "3370   39.987428  -83.044822    4.0            99        1   \n",
      "14010  30.267775  -97.740723    2.5           149        0   \n",
      "23938  49.264407 -123.180761    3.5           472        1   \n",
      "23264  49.255843 -123.101476    3.5           143        1   \n",
      "39417  49.275286 -123.122450    3.5           186        1   \n",
      "1640   49.225211 -123.090378    3.5            46        1   \n",
      "14067  45.511911 -122.621465    3.0           149        1   \n",
      "7211   49.225031 -122.989993    4.0            56        1   \n",
      "32776  45.540631 -122.650015    4.0            13        0   \n",
      "46559  33.790621  -84.307333    3.5            31        0   \n",
      "6394   42.140551  -71.147638    3.5            56        0   \n",
      "40128  28.380050  -81.686837    5.0             6        0   \n",
      "\n",
      "                                              attributes  \\\n",
      "22749  {'Caters': 'False', 'BusinessParking': \"{'gara...   \n",
      "15147  {'BusinessParking': \"{'garage': False, 'street...   \n",
      "22177  {'BusinessParking': \"{'garage': False, 'street...   \n",
      "3298   {'BusinessParking': \"{'garage': False, 'street...   \n",
      "36458  {'BusinessParking': \"{'garage': False, 'street...   \n",
      "28423  {'RestaurantsAttire': \"u'casual'\", 'NoiseLevel...   \n",
      "40409  {'NoiseLevel': \"u'average'\", 'GoodForKids': 'T...   \n",
      "30747  {'BusinessAcceptsCreditCards': 'True', 'Restau...   \n",
      "52182  {'RestaurantsTakeOut': 'True', 'GoodForKids': ...   \n",
      "50466  {'BusinessParking': \"{'garage': False, 'street...   \n",
      "41933  {'GoodForKids': 'False', 'RestaurantsDelivery'...   \n",
      "50051  {'Alcohol': \"u'full_bar'\", 'RestaurantsReserva...   \n",
      "8640   {'Caters': 'False', 'BikeParking': 'True', 'Go...   \n",
      "46379  {'WheelchairAccessible': 'False', 'Restaurants...   \n",
      "4787   {'RestaurantsGoodForGroups': 'True', 'Restaura...   \n",
      "33222  {'GoodForKids': 'True', 'RestaurantsReservatio...   \n",
      "15667  {'HasTV': 'True', 'Alcohol': \"u'full_bar'\", 'B...   \n",
      "13612  {'WiFi': \"u'free'\", 'RestaurantsAttire': \"u'ca...   \n",
      "3370   {'Caters': 'True', 'Ambience': \"{'romantic': F...   \n",
      "14010  {'RestaurantsTableService': 'True', 'Alcohol':...   \n",
      "23938  {'Alcohol': \"u'full_bar'\", 'RestaurantsPriceRa...   \n",
      "23264  {'RestaurantsReservations': 'True', 'Alcohol':...   \n",
      "39417  {'NoiseLevel': \"u'loud'\", 'RestaurantsPriceRan...   \n",
      "1640   {'WiFi': \"'free'\", 'RestaurantsDelivery': 'Fal...   \n",
      "14067  {'RestaurantsAttire': \"'casual'\", 'Restaurants...   \n",
      "7211   {'OutdoorSeating': 'True', 'WiFi': \"'free'\", '...   \n",
      "32776  {'RestaurantsTakeOut': 'True', 'WiFi': \"u'free...   \n",
      "46559  {'RestaurantsPriceRange2': '1', 'WiFi': \"u'fre...   \n",
      "6394   {'BusinessParking': \"{'garage': False, 'street...   \n",
      "40128  {'Alcohol': \"u'none'\", 'WheelchairAccessible':...   \n",
      "\n",
      "                                              categories  \\\n",
      "22749  Food, Specialty Food, Bakeries, Macarons, Choc...   \n",
      "15147                                     Food, Bakeries   \n",
      "22177     Food, Desserts, Bakeries, Patisserie/Cake Shop   \n",
      "3298          Specialty Food, Food, Chocolatiers & Shops   \n",
      "36458                                     Bakeries, Food   \n",
      "28423                  Seafood, Restaurants, Thai, Salad   \n",
      "40409                  Thai, Salad, Seafood, Restaurants   \n",
      "30747                  Restaurants, Salad, Seafood, Thai   \n",
      "52182                  Seafood, Salad, Thai, Restaurants   \n",
      "50466                         Seafood, Thai, Restaurants   \n",
      "41933  Bars, Nightlife, Cocktail Bars, Vegan, Canadia...   \n",
      "50051  American (New), Bars, Vegan, Restaurants, Loun...   \n",
      "8640   Nightlife, Tapas/Small Plates, Restaurants, Wi...   \n",
      "46379  Bars, Vegetarian, American (Traditional), Rest...   \n",
      "4787   Restaurants, Bars, Gastropubs, Cocktail Bars, ...   \n",
      "33222                        Pizza, Italian, Restaurants   \n",
      "15667                        Pizza, Italian, Restaurants   \n",
      "13612                        Restaurants, Italian, Pizza   \n",
      "3370                         Pizza, Italian, Restaurants   \n",
      "14010                        Pizza, Italian, Restaurants   \n",
      "23938    Asian Fusion, Sushi Bars, Japanese, Restaurants   \n",
      "23264    Restaurants, Sushi Bars, Asian Fusion, Japanese   \n",
      "39417  Restaurants, Japanese, Tapas/Small Plates, Asi...   \n",
      "1640     Sushi Bars, Japanese, Asian Fusion, Restaurants   \n",
      "14067                  Sushi Bars, Restaurants, Japanese   \n",
      "7211   Desserts, Ice Cream & Frozen Yogurt, Food, Cof...   \n",
      "32776  Food, Sandwiches, Coffee & Tea, Restaurants, I...   \n",
      "46559  Desserts, Food, Ice Cream & Frozen Yogurt, Jui...   \n",
      "6394   Food, Desserts, Do-It-Yourself Food, American ...   \n",
      "40128  Ice Cream & Frozen Yogurt, Specialty Food, Cho...   \n",
      "\n",
      "                                                   hours  \\\n",
      "22749  {'Tuesday': '9:0-17:0', 'Wednesday': '9:0-17:0...   \n",
      "15147  {'Monday': '0:0-0:0', 'Tuesday': '10:0-18:0', ...   \n",
      "22177  {'Monday': '10:0-17:0', 'Tuesday': '10:0-17:0'...   \n",
      "3298   {'Monday': '10:0-18:0', 'Tuesday': '10:0-18:0'...   \n",
      "36458  {'Monday': '9:0-17:0', 'Tuesday': '9:0-17:0', ...   \n",
      "28423  {'Monday': '17:0-21:30', 'Tuesday': '17:0-21:3...   \n",
      "40409  {'Monday': '17:30-22:0', 'Tuesday': '17:30-22:...   \n",
      "30747  {'Monday': '11:0-21:0', 'Tuesday': '11:0-21:0'...   \n",
      "52182  {'Monday': '11:0-22:30', 'Tuesday': '11:0-22:3...   \n",
      "50466  {'Monday': '11:0-20:0', 'Tuesday': '11:0-20:0'...   \n",
      "41933  {'Monday': '0:0-0:0', 'Tuesday': '17:30-0:0', ...   \n",
      "50051  {'Monday': '15:0-2:30', 'Tuesday': '15:0-2:30'...   \n",
      "8640   {'Monday': '17:0-0:0', 'Tuesday': '17:0-0:0', ...   \n",
      "46379  {'Wednesday': '17:30-23:0', 'Thursday': '17:30...   \n",
      "4787   {'Monday': '16:30-23:0', 'Tuesday': '16:30-23:...   \n",
      "33222  {'Monday': '0:0-0:0', 'Tuesday': '11:0-17:0', ...   \n",
      "15667  {'Monday': '11:0-22:0', 'Tuesday': '11:0-22:0'...   \n",
      "13612  {'Monday': '11:30-21:30', 'Tuesday': '11:30-21...   \n",
      "3370   {'Tuesday': '17:0-4:0', 'Wednesday': '17:0-4:0...   \n",
      "14010  {'Monday': '11:0-23:0', 'Tuesday': '11:0-23:0'...   \n",
      "23938  {'Monday': '16:30-23:0', 'Tuesday': '16:30-23:...   \n",
      "23264  {'Monday': '16:30-23:0', 'Tuesday': '16:30-23:...   \n",
      "39417  {'Monday': '17:0-22:0', 'Tuesday': '17:0-22:0'...   \n",
      "1640   {'Monday': '11:0-21:30', 'Tuesday': '11:0-21:3...   \n",
      "14067  {'Monday': '16:0-21:30', 'Tuesday': '16:0-21:3...   \n",
      "7211   {'Monday': '8:0-23:0', 'Tuesday': '8:0-23:0', ...   \n",
      "32776  {'Monday': '11:0-16:0', 'Tuesday': '11:0-16:0'...   \n",
      "46559                                                NaN   \n",
      "6394   {'Monday': '12:0-21:0', 'Tuesday': '12:0-21:0'...   \n",
      "40128  {'Monday': '13:0-20:0', 'Tuesday': '11:0-20:0'...   \n",
      "\n",
      "                                          attribute_dict  \\\n",
      "22749  {'Caters': 'False', 'BusinessParking': '{'gara...   \n",
      "15147  {'BusinessParking': '{'garage': False, 'street...   \n",
      "22177  {'BusinessParking': '{'garage': False, 'street...   \n",
      "3298   {'BusinessParking': '{'garage': False, 'street...   \n",
      "36458  {'BusinessParking': '{'garage': False, 'street...   \n",
      "28423  {'RestaurantsAttire': 'u'casual'', 'NoiseLevel...   \n",
      "40409  {'NoiseLevel': 'u'average'', 'GoodForKids': 'T...   \n",
      "30747  {'BusinessAcceptsCreditCards': 'True', 'Restau...   \n",
      "52182  {'RestaurantsTakeOut': 'True', 'GoodForKids': ...   \n",
      "50466  {'BusinessParking': '{'garage': False, 'street...   \n",
      "41933  {'GoodForKids': 'False', 'RestaurantsDelivery'...   \n",
      "50051  {'Alcohol': 'u'full_bar'', 'RestaurantsReserva...   \n",
      "8640   {'Caters': 'False', 'BikeParking': 'True', 'Go...   \n",
      "46379  {'WheelchairAccessible': 'False', 'Restaurants...   \n",
      "4787   {'RestaurantsGoodForGroups': 'True', 'Restaura...   \n",
      "33222  {'GoodForKids': 'True', 'RestaurantsReservatio...   \n",
      "15667  {'HasTV': 'True', 'Alcohol': 'u'full_bar'', 'B...   \n",
      "13612  {'WiFi': 'u'free'', 'RestaurantsAttire': 'u'ca...   \n",
      "3370   {'Caters': 'True', 'Ambience': '{'romantic': F...   \n",
      "14010  {'RestaurantsTableService': 'True', 'Alcohol':...   \n",
      "23938  {'Alcohol': 'u'full_bar'', 'RestaurantsPriceRa...   \n",
      "23264  {'RestaurantsReservations': 'True', 'Alcohol':...   \n",
      "39417  {'NoiseLevel': 'u'loud'', 'RestaurantsPriceRan...   \n",
      "1640   {'WiFi': ''free'', 'RestaurantsDelivery': 'Fal...   \n",
      "14067  {'RestaurantsAttire': ''casual'', 'Restaurants...   \n",
      "7211   {'OutdoorSeating': 'True', 'WiFi': ''free'', '...   \n",
      "32776  {'RestaurantsTakeOut': 'True', 'WiFi': 'u'free...   \n",
      "46559  {'RestaurantsPriceRange2': '1', 'WiFi': 'u'fre...   \n",
      "6394   {'BusinessParking': '{'garage': False, 'street...   \n",
      "40128  {'Alcohol': 'u'none'', 'WheelchairAccessible':...   \n",
      "\n",
      "                                          attribute_soup  \\\n",
      "22749  [street, RestaurantsTakeOut, WheelchairAccessi...   \n",
      "15147  [street, RestaurantsPriceRange2, BikeParking, ...   \n",
      "22177  [street, BikeParking, RestaurantsPriceRange2, ...   \n",
      "3298   [street, BikeParking, RestaurantsTakeOut, Rest...   \n",
      "36458  [street, BikeParking, RestaurantsPriceRange2, ...   \n",
      "28423  [RestaurantsAttire, NoiseLevel, BikeParking, G...   \n",
      "40409  [NoiseLevel, GoodForKids, lot, Alcohol, Restau...   \n",
      "30747  [BusinessAcceptsCreditCards, RestaurantsPriceR...   \n",
      "52182  [RestaurantsTakeOut, GoodForKids, HasTV, Resta...   \n",
      "50466  [street, lot, WiFi, RestaurantsDelivery, casua...   \n",
      "41933  [WiFi, NoiseLevel, street, BikeParking, Alcoho...   \n",
      "50051  [Alcohol, street, BusinessAcceptsCreditCards, ...   \n",
      "8640   [BikeParking, RestaurantsGoodForGroups, street...   \n",
      "46379  [Caters, street, friday, sunday, saturday, Res...   \n",
      "4787   [RestaurantsGoodForGroups, RestaurantsAttire, ...   \n",
      "33222  [GoodForKids, RestaurantsReservations, WiFi, C...   \n",
      "15667  [HasTV, Alcohol, street, BusinessAcceptsCredit...   \n",
      "13612  [WiFi, RestaurantsAttire, RestaurantsTakeOut, ...   \n",
      "3370   [Caters, casual, BikeParking, RestaurantsGoodF...   \n",
      "14010  [RestaurantsTableService, Alcohol, NoiseLevel,...   \n",
      "23938  [Alcohol, RestaurantsPriceRange2, NoiseLevel, ...   \n",
      "23264  [RestaurantsReservations, Alcohol, BikeParking...   \n",
      "39417  [NoiseLevel, RestaurantsPriceRange2, Restauran...   \n",
      "1640   [WiFi, BikeParking, RestaurantsReservations, R...   \n",
      "14067  [RestaurantsAttire, RestaurantsReservations, W...   \n",
      "7211   [OutdoorSeating, WiFi, RestaurantsPriceRange2,...   \n",
      "32776  [RestaurantsTakeOut, WiFi, BusinessAcceptsCred...   \n",
      "46559  [RestaurantsPriceRange2, WiFi, OutdoorSeating,...   \n",
      "6394   [lot, RestaurantsTakeOut, OutdoorSeating, Rest...   \n",
      "40128  [Alcohol, WheelchairAccessible, WiFi, Restaura...   \n",
      "\n",
      "                                        attribute_string    scores  \n",
      "22749  street RestaurantsTakeOut WheelchairAccessible...  1.000000  \n",
      "15147  street RestaurantsPriceRange2 BikeParking Rest...  0.874439  \n",
      "22177  street BikeParking RestaurantsPriceRange2 Rest...  0.866739  \n",
      "3298   street BikeParking RestaurantsTakeOut Restaura...  0.865959  \n",
      "36458  street BikeParking RestaurantsPriceRange2 Rest...  0.862123  \n",
      "28423  RestaurantsAttire NoiseLevel BikeParking GoodF...  1.000000  \n",
      "40409  NoiseLevel GoodForKids lot Alcohol Restaurants...  0.918371  \n",
      "30747  BusinessAcceptsCreditCards RestaurantsPriceRan...  0.894321  \n",
      "52182  RestaurantsTakeOut GoodForKids HasTV Restauran...  0.891117  \n",
      "50466  street lot WiFi RestaurantsDelivery casual Alc...  0.881926  \n",
      "41933  WiFi NoiseLevel street BikeParking Alcohol Res...  1.000000  \n",
      "50051  Alcohol street BusinessAcceptsCreditCards Rest...  0.860807  \n",
      "8640   BikeParking RestaurantsGoodForGroups street Re...  0.839837  \n",
      "46379  Caters street friday sunday saturday Restauran...  0.837724  \n",
      "4787   RestaurantsGoodForGroups RestaurantsAttire Whe...  0.837413  \n",
      "33222  GoodForKids RestaurantsReservations WiFi Cater...  1.000000  \n",
      "15667  HasTV Alcohol street BusinessAcceptsCreditCard...  0.964317  \n",
      "13612  WiFi RestaurantsAttire RestaurantsTakeOut Rest...  0.935631  \n",
      "3370   Caters casual BikeParking RestaurantsGoodForGr...  0.932692  \n",
      "14010  RestaurantsTableService Alcohol NoiseLevel Bik...  0.932259  \n",
      "23938  Alcohol RestaurantsPriceRange2 NoiseLevel Outd...  1.000000  \n",
      "23264  RestaurantsReservations Alcohol BikeParking Re...  0.950662  \n",
      "39417  NoiseLevel RestaurantsPriceRange2 RestaurantsG...  0.909370  \n",
      "1640   WiFi BikeParking RestaurantsReservations Resta...  0.908128  \n",
      "14067  RestaurantsAttire RestaurantsReservations WiFi...  0.901186  \n",
      "7211   OutdoorSeating WiFi RestaurantsPriceRange2 Res...  1.000000  \n",
      "32776  RestaurantsTakeOut WiFi BusinessAcceptsCreditC...  0.868671  \n",
      "46559  RestaurantsPriceRange2 WiFi OutdoorSeating Bus...  0.855437  \n",
      "6394   lot RestaurantsTakeOut OutdoorSeating Restaura...  0.853205  \n",
      "40128  Alcohol WheelchairAccessible WiFi RestaurantsT...  0.847351  \n"
     ]
    }
   ],
   "source": [
    "user_id_set = set(df_all_filtered['user_id'].values)\n",
    "\n",
    "# for user_id in user_id_set:\n",
    "user_iter = iter(user_id_set)\n",
    "for dex in range(2):\n",
    "    user_id = next(user_iter)\n",
    "    df_individual_reviews = df_all_filtered[df_all_filtered['user_id'] == user_id]\n",
    "    all_rec = []\n",
    "    for business_id in df_individual_reviews['business_id']:\n",
    "        df_input_business = df_business[df_business['business_id'] == business_id].iloc[0, :]\n",
    "        all_rec.append(get_knn(df_input_business, embedded_attributes, embedded_categories, df_business, category_weighting=0.5))\n",
    "    pd.concat(all_rec)"
   ],
   "metadata": {
    "collapsed": false,
    "pycharm": {
     "name": "#%%\n"
    }
   }
  },
  {
   "cell_type": "code",
   "execution_count": 52,
   "outputs": [
    {
     "data": {
      "text/plain": "Unnamed: 0                                                          5\nUnnamed: 0.1                                                        5\nbusiness_id                                    D4JtQNTI4X3KcbzacDJsMw\nname                                              Bob Likes Thai Food\naddress                                                  3755 Main St\ncity                                                        Vancouver\nstate                                                              BC\npostal_code                                                       V5V\nlatitude                                                    49.251342\nlongitude                                                 -123.101333\nstars                                                             3.5\nreview_count                                                      169\nis_open                                                             1\nattributes          {'GoodForKids': 'True', 'Alcohol': \"u'none'\", ...\ncategories                                          Restaurants, Thai\nhours               {'Monday': '17:0-21:0', 'Tuesday': '17:0-21:0'...\nattribute_dict      {'GoodForKids': 'True', 'Alcohol': 'u'none'', ...\nattribute_soup      [GoodForKids, Alcohol, RestaurantsGoodForGroup...\nattribute_string    GoodForKids Alcohol RestaurantsGoodForGroups R...\nName: 2, dtype: object"
     },
     "execution_count": 52,
     "metadata": {},
     "output_type": "execute_result"
    }
   ],
   "source": [
    "df_business.iloc[2, :]"
   ],
   "metadata": {
    "collapsed": false,
    "pycharm": {
     "name": "#%%\n"
    }
   }
  },
  {
   "cell_type": "code",
   "execution_count": 54,
   "outputs": [
    {
     "ename": "TypeError",
     "evalue": "'set' object is not subscriptable",
     "output_type": "error",
     "traceback": [
      "\u001B[0;31m---------------------------------------------------------------------------\u001B[0m",
      "\u001B[0;31mTypeError\u001B[0m                                 Traceback (most recent call last)",
      "\u001B[0;32m<ipython-input-54-d5aeada5543b>\u001B[0m in \u001B[0;36m<module>\u001B[0;34m\u001B[0m\n\u001B[0;32m----> 1\u001B[0;31m \u001B[0muser_id_set\u001B[0m\u001B[0;34m[\u001B[0m\u001B[0;34m:\u001B[0m\u001B[0;36m2\u001B[0m\u001B[0;34m]\u001B[0m\u001B[0;34m\u001B[0m\u001B[0;34m\u001B[0m\u001B[0m\n\u001B[0m\u001B[1;32m      2\u001B[0m \u001B[0;34m\u001B[0m\u001B[0m\n\u001B[1;32m      3\u001B[0m \u001B[0;34m\u001B[0m\u001B[0m\n",
      "\u001B[0;31mTypeError\u001B[0m: 'set' object is not subscriptable"
     ]
    }
   ],
   "source": [],
   "metadata": {
    "collapsed": false,
    "pycharm": {
     "name": "#%%\n"
    }
   }
  },
  {
   "cell_type": "code",
   "execution_count": null,
   "outputs": [],
   "source": [],
   "metadata": {
    "collapsed": false,
    "pycharm": {
     "name": "#%%\n"
    }
   }
  }
 ],
 "metadata": {
  "kernelspec": {
   "display_name": "Python 3",
   "language": "python",
   "name": "python3"
  },
  "language_info": {
   "codemirror_mode": {
    "name": "ipython",
    "version": 2
   },
   "file_extension": ".py",
   "mimetype": "text/x-python",
   "name": "python",
   "nbconvert_exporter": "python",
   "pygments_lexer": "ipython2",
   "version": "2.7.6"
  }
 },
 "nbformat": 4,
 "nbformat_minor": 0
}