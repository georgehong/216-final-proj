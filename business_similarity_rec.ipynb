{
 "cells": [
  {
   "cell_type": "markdown",
   "metadata": {
    "collapsed": true,
    "pycharm": {
     "name": "#%% md\n"
    }
   },
   "source": [
    "## Recommender Based on Universal Sentence Encoder"
   ]
  },
  {
   "cell_type": "code",
   "execution_count": 1,
   "outputs": [],
   "source": [
    "import pandas as pd\n",
    "import numpy as np\n",
    "import tensorflow_hub as hub\n",
    "import ast"
   ],
   "metadata": {
    "collapsed": false,
    "pycharm": {
     "name": "#%%\n"
    }
   }
  },
  {
   "cell_type": "code",
   "execution_count": 2,
   "outputs": [],
   "source": [
    "STOP = 100\n",
    "embedder = hub.load(\"https://tfhub.dev/google/universal-sentence-encoder/4\")\n",
    "EMBEDDED_CATEGORIES_FILE = 'data/embedded_categories.npy'\n",
    "EMBEDDED_ATTRIBUTES_FILE = 'data/embedded_attributes.npy'"
   ],
   "metadata": {
    "collapsed": false,
    "pycharm": {
     "name": "#%%\n"
    }
   }
  },
  {
   "cell_type": "code",
   "execution_count": 4,
   "outputs": [],
   "source": [
    "def cosine_similarity(mat, vec):\n",
    "    \"\"\"\n",
    "    Calculate cosine similarity scores\n",
    "\n",
    "    :param mat: 2D array of all targets\n",
    "    :param vec: 1D array of vector to compare to\n",
    "    :return: all cosine similarity scores to vec\n",
    "    \"\"\"\n",
    "    vec_mag = np.linalg.norm(vec)\n",
    "    mat_mag = np.linalg.norm(mat, axis=1).reshape((-1, 1))\n",
    "    return (1/vec_mag) * np.dot(mat, vec).reshape((-1, 1)) / mat_mag\n",
    "\n",
    "def return_attribute_soup(input):\n",
    "    \"\"\"\n",
    "    Converts dictionary of inputs into list of items that are true.  Can also handle nested examples\n",
    "\n",
    "    :param input: dictionary of attributes\n",
    "    :return: list of keys\n",
    "    \"\"\"\n",
    "    current = []\n",
    "    for key in input:\n",
    "        # Inner dictionaries appear to be malformed in places\n",
    "        try:\n",
    "            value = ast.literal_eval(input[key])\n",
    "        except ValueError:\n",
    "            value = input[key]\n",
    "        if isinstance(value, dict):\n",
    "            current.extend(return_attribute_soup(value))\n",
    "        elif value not in (False, 'No', 'False'):\n",
    "            current.append(key)\n",
    "    return current"
   ],
   "metadata": {
    "collapsed": false,
    "pycharm": {
     "name": "#%%\n"
    }
   }
  },
  {
   "cell_type": "code",
   "execution_count": 5,
   "outputs": [],
   "source": [
    "df_business = pd.read_csv('data/yelp_academic_dataset_business_filtered.csv')\n",
    "df_business = df_business.dropna(subset=['categories'])\n",
    "df_business['attributes'] = df_business['attributes'].fillna('{}')"
   ],
   "metadata": {
    "collapsed": false,
    "pycharm": {
     "name": "#%%\n"
    }
   }
  },
  {
   "cell_type": "code",
   "execution_count": 6,
   "outputs": [],
   "source": [
    "df_business['attribute_dict'] = df_business['attributes'].apply(ast.literal_eval)\n",
    "df_business['attribute_soup'] = df_business['attribute_dict'].apply(return_attribute_soup)\n",
    "df_business['attribute_string'] = df_business['attribute_soup'].apply(lambda x: ' '.join(map(str, x)))"
   ],
   "metadata": {
    "collapsed": false,
    "pycharm": {
     "name": "#%%\n"
    }
   }
  },
  {
   "cell_type": "code",
   "execution_count": 7,
   "outputs": [
    {
     "name": "stdout",
     "output_type": "stream",
     "text": [
      "ARRAY(S) NOT FOUND. EMBEDDING:\n",
      "EMBEDDINGS SAVED\n"
     ]
    }
   ],
   "source": [
    "try:\n",
    "    with open(EMBEDDED_CATEGORIES_FILE, 'rb') as f:\n",
    "        embedded_categories = np.load(EMBEDDED_CATEGORIES_FILE, allow_pickle=True)\n",
    "\n",
    "    with open(EMBEDDED_ATTRIBUTES_FILE, 'rb') as f:\n",
    "        embedded_attributes = np.load(EMBEDDED_ATTRIBUTES_FILE, allow_pickle=True)\n",
    "\n",
    "    print('EMBEDDINGS LOADED')\n",
    "\n",
    "except IOError as e:\n",
    "    print('ARRAY(S) NOT FOUND. EMBEDDING:')\n",
    "    categories = list(df_business['categories'])\n",
    "    embedded_categories = embedder(categories).numpy()\n",
    "    np.save(EMBEDDED_CATEGORIES_FILE, embedded_categories)\n",
    "\n",
    "    attributes = list(df_business['attribute_string'])\n",
    "    embedded_attributes = embedder(attributes).numpy()\n",
    "    np.save(EMBEDDED_ATTRIBUTES_FILE, embedded_attributes)\n",
    "    print('EMBEDDINGS SAVED')\n"
   ],
   "metadata": {
    "collapsed": false,
    "pycharm": {
     "name": "#%%\n"
    }
   }
  },
  {
   "cell_type": "code",
   "execution_count": 8,
   "outputs": [],
   "source": [
    "def get_knn(input, embedded_attributes, embedded_categories, df_business, k=5, category_weighting=0.75, min_rating=-1, verbose=False):\n",
    "    \"\"\"\n",
    "    Get the most similar businesses by knn search and sort.  This function assumes recommendations are in the same state\n",
    "    and that the restaurants are rated greater than or equal to 4 stars.\n",
    "\n",
    "    :param input: input business, in the form of a Series\n",
    "    :param embedded_attributes: services offered at the business\n",
    "    :param embedded_categories: embedded categories (business type)\n",
    "    :param df_business: DataFrame of all business info that must match embedded_attributes\n",
    "    :param k: Number of top results desired\n",
    "    :param category_weighting: emphasis placed on the contents of the restaurant.\n",
    "    :return: DataFrame of similar businesses\n",
    "    \"\"\"\n",
    "    assert df_business.shape[0] == embedded_categories.shape[0]\n",
    "    assert df_business.shape[0] == embedded_attributes.shape[0]\n",
    "\n",
    "    # Filter by state before continuing\n",
    "    df_business_copy = df_business.copy()\n",
    "    state = input['state']\n",
    "    city = input['city']\n",
    "    query_id = input['business_id']\n",
    "    # List of all matching indices\n",
    "    match_dex = df_business.index[(df_business['city'] == city) & (df_business['state'] == state) & (df_business['stars'] >= 4)].tolist()\n",
    "\n",
    "    embedded_attributes = embedded_attributes[match_dex]\n",
    "    embedded_categories = embedded_categories[match_dex]\n",
    "    df_business_copy = df_business.loc[match_dex, :]\n",
    "\n",
    "\n",
    "    query_category = input.loc['categories']\n",
    "    query_attributes = input.loc['attribute_string']\n",
    "    if verbose: print(\"INPUT BUSINESS:\", input.loc['name'])\n",
    "    embedded_query_category = embedder([query_category]).numpy().flatten()\n",
    "    embedded_query_attributes = embedder([query_attributes]).numpy().flatten()\n",
    "\n",
    "    categ_simil_scores = cosine_similarity(embedded_categories, embedded_query_category).flatten()\n",
    "    attri_simil_scores = cosine_similarity(embedded_attributes, embedded_query_attributes).flatten()\n",
    "\n",
    "    weighted_simil_scores = category_weighting * categ_simil_scores + (1 - category_weighting) + attri_simil_scores\n",
    "    weighted_simil_scores *= 0.5\n",
    "\n",
    "    df_business_copy['scores'] = weighted_simil_scores\n",
    "\n",
    "    # After filtering, choose the smallest, account for perfect match\n",
    "    available_businesses = weighted_simil_scores.shape[0]\n",
    "    k = min(k + 1, available_businesses)\n",
    "\n",
    "    indices = np.argsort(weighted_simil_scores)[-k:][::-1]\n",
    "    ret = df_business_copy.iloc[indices, :]\n",
    "    return ret[(ret['stars'] >= min_rating) & (ret['business_id'] != query_id)]"
   ],
   "metadata": {
    "collapsed": false,
    "pycharm": {
     "name": "#%%\n"
    }
   }
  },
  {
   "cell_type": "code",
   "execution_count": 9,
   "outputs": [
    {
     "data": {
      "text/plain": "   Unnamed: 0  Unnamed: 0.1             business_id                      name  \\\n0           0             0  6iYb2HFDywm3zjuRg0shjw       Oskar Blues Taproom   \n1           1             1  tCbdrRPZA0oiIYSmHG3J0w   Flying Elephants at PDX   \n2           5             5  D4JtQNTI4X3KcbzacDJsMw       Bob Likes Thai Food   \n3          10            10  rYs_1pNB_RMtn5WQh55QDA  Chautauqua General Store   \n4          12            12  HPA_qyMEddpAEtFof02ixg       Mr G's Pizza & Subs   \n\n               address       city state postal_code   latitude   longitude  \\\n0         921 Pearl St    Boulder    CO       80302  40.017544 -105.283348   \n1  7000 NE Airport Way   Portland    OR       97218  45.588906 -122.593331   \n2         3755 Main St  Vancouver    BC         V5V  49.251342 -123.101333   \n3      100 Clematis Dr    Boulder    CO       80302  39.998449 -105.281006   \n4        474 Lowell St    Peabody    MA       01960  42.541155  -70.973438   \n\n   stars  review_count  is_open  \\\n0    4.0            86        1   \n1    4.0           126        1   \n2    3.5           169        1   \n3    3.5             5        1   \n4    4.0            39        1   \n\n                                          attributes  \\\n0  {'RestaurantsTableService': 'True', 'WiFi': \"u...   \n1  {'RestaurantsTakeOut': 'True', 'RestaurantsAtt...   \n2  {'GoodForKids': 'True', 'Alcohol': \"u'none'\", ...   \n3  {'BikeParking': 'True', 'RestaurantsTakeOut': ...   \n4  {'RestaurantsGoodForGroups': 'True', 'HasTV': ...   \n\n                                          categories  \\\n0  Gastropubs, Food, Beer Gardens, Restaurants, B...   \n1  Salad, Soup, Sandwiches, Delis, Restaurants, C...   \n2                                  Restaurants, Thai   \n3  Food, Shopping, Convenience Stores, Souvenir S...   \n4                           Food, Pizza, Restaurants   \n\n                                               hours  \\\n0  {'Monday': '11:0-23:0', 'Tuesday': '11:0-23:0'...   \n1  {'Monday': '5:0-18:0', 'Tuesday': '5:0-17:0', ...   \n2  {'Monday': '17:0-21:0', 'Tuesday': '17:0-21:0'...   \n3  {'Monday': '8:0-20:0', 'Tuesday': '8:0-20:0', ...   \n4  {'Monday': '11:0-21:0', 'Tuesday': '11:0-21:0'...   \n\n                                      attribute_dict  \\\n0  {'RestaurantsTableService': 'True', 'WiFi': 'u...   \n1  {'RestaurantsTakeOut': 'True', 'RestaurantsAtt...   \n2  {'GoodForKids': 'True', 'Alcohol': 'u'none'', ...   \n3  {'BikeParking': 'True', 'RestaurantsTakeOut': ...   \n4  {'RestaurantsGoodForGroups': 'True', 'HasTV': ...   \n\n                                      attribute_soup  \\\n0  [RestaurantsTableService, WiFi, BikeParking, s...   \n1  [RestaurantsTakeOut, RestaurantsAttire, GoodFo...   \n2  [GoodForKids, Alcohol, RestaurantsGoodForGroup...   \n3  [BikeParking, RestaurantsTakeOut, street, Whee...   \n4  [RestaurantsGoodForGroups, HasTV, GoodForKids,...   \n\n                                    attribute_string  \n0  RestaurantsTableService WiFi BikeParking stree...  \n1  RestaurantsTakeOut RestaurantsAttire GoodForKi...  \n2  GoodForKids Alcohol RestaurantsGoodForGroups R...  \n3  BikeParking RestaurantsTakeOut street Wheelcha...  \n4  RestaurantsGoodForGroups HasTV GoodForKids Res...  ",
      "text/html": "<div>\n<style scoped>\n    .dataframe tbody tr th:only-of-type {\n        vertical-align: middle;\n    }\n\n    .dataframe tbody tr th {\n        vertical-align: top;\n    }\n\n    .dataframe thead th {\n        text-align: right;\n    }\n</style>\n<table border=\"1\" class=\"dataframe\">\n  <thead>\n    <tr style=\"text-align: right;\">\n      <th></th>\n      <th>Unnamed: 0</th>\n      <th>Unnamed: 0.1</th>\n      <th>business_id</th>\n      <th>name</th>\n      <th>address</th>\n      <th>city</th>\n      <th>state</th>\n      <th>postal_code</th>\n      <th>latitude</th>\n      <th>longitude</th>\n      <th>stars</th>\n      <th>review_count</th>\n      <th>is_open</th>\n      <th>attributes</th>\n      <th>categories</th>\n      <th>hours</th>\n      <th>attribute_dict</th>\n      <th>attribute_soup</th>\n      <th>attribute_string</th>\n    </tr>\n  </thead>\n  <tbody>\n    <tr>\n      <th>0</th>\n      <td>0</td>\n      <td>0</td>\n      <td>6iYb2HFDywm3zjuRg0shjw</td>\n      <td>Oskar Blues Taproom</td>\n      <td>921 Pearl St</td>\n      <td>Boulder</td>\n      <td>CO</td>\n      <td>80302</td>\n      <td>40.017544</td>\n      <td>-105.283348</td>\n      <td>4.0</td>\n      <td>86</td>\n      <td>1</td>\n      <td>{'RestaurantsTableService': 'True', 'WiFi': \"u...</td>\n      <td>Gastropubs, Food, Beer Gardens, Restaurants, B...</td>\n      <td>{'Monday': '11:0-23:0', 'Tuesday': '11:0-23:0'...</td>\n      <td>{'RestaurantsTableService': 'True', 'WiFi': 'u...</td>\n      <td>[RestaurantsTableService, WiFi, BikeParking, s...</td>\n      <td>RestaurantsTableService WiFi BikeParking stree...</td>\n    </tr>\n    <tr>\n      <th>1</th>\n      <td>1</td>\n      <td>1</td>\n      <td>tCbdrRPZA0oiIYSmHG3J0w</td>\n      <td>Flying Elephants at PDX</td>\n      <td>7000 NE Airport Way</td>\n      <td>Portland</td>\n      <td>OR</td>\n      <td>97218</td>\n      <td>45.588906</td>\n      <td>-122.593331</td>\n      <td>4.0</td>\n      <td>126</td>\n      <td>1</td>\n      <td>{'RestaurantsTakeOut': 'True', 'RestaurantsAtt...</td>\n      <td>Salad, Soup, Sandwiches, Delis, Restaurants, C...</td>\n      <td>{'Monday': '5:0-18:0', 'Tuesday': '5:0-17:0', ...</td>\n      <td>{'RestaurantsTakeOut': 'True', 'RestaurantsAtt...</td>\n      <td>[RestaurantsTakeOut, RestaurantsAttire, GoodFo...</td>\n      <td>RestaurantsTakeOut RestaurantsAttire GoodForKi...</td>\n    </tr>\n    <tr>\n      <th>2</th>\n      <td>5</td>\n      <td>5</td>\n      <td>D4JtQNTI4X3KcbzacDJsMw</td>\n      <td>Bob Likes Thai Food</td>\n      <td>3755 Main St</td>\n      <td>Vancouver</td>\n      <td>BC</td>\n      <td>V5V</td>\n      <td>49.251342</td>\n      <td>-123.101333</td>\n      <td>3.5</td>\n      <td>169</td>\n      <td>1</td>\n      <td>{'GoodForKids': 'True', 'Alcohol': \"u'none'\", ...</td>\n      <td>Restaurants, Thai</td>\n      <td>{'Monday': '17:0-21:0', 'Tuesday': '17:0-21:0'...</td>\n      <td>{'GoodForKids': 'True', 'Alcohol': 'u'none'', ...</td>\n      <td>[GoodForKids, Alcohol, RestaurantsGoodForGroup...</td>\n      <td>GoodForKids Alcohol RestaurantsGoodForGroups R...</td>\n    </tr>\n    <tr>\n      <th>3</th>\n      <td>10</td>\n      <td>10</td>\n      <td>rYs_1pNB_RMtn5WQh55QDA</td>\n      <td>Chautauqua General Store</td>\n      <td>100 Clematis Dr</td>\n      <td>Boulder</td>\n      <td>CO</td>\n      <td>80302</td>\n      <td>39.998449</td>\n      <td>-105.281006</td>\n      <td>3.5</td>\n      <td>5</td>\n      <td>1</td>\n      <td>{'BikeParking': 'True', 'RestaurantsTakeOut': ...</td>\n      <td>Food, Shopping, Convenience Stores, Souvenir S...</td>\n      <td>{'Monday': '8:0-20:0', 'Tuesday': '8:0-20:0', ...</td>\n      <td>{'BikeParking': 'True', 'RestaurantsTakeOut': ...</td>\n      <td>[BikeParking, RestaurantsTakeOut, street, Whee...</td>\n      <td>BikeParking RestaurantsTakeOut street Wheelcha...</td>\n    </tr>\n    <tr>\n      <th>4</th>\n      <td>12</td>\n      <td>12</td>\n      <td>HPA_qyMEddpAEtFof02ixg</td>\n      <td>Mr G's Pizza &amp; Subs</td>\n      <td>474 Lowell St</td>\n      <td>Peabody</td>\n      <td>MA</td>\n      <td>01960</td>\n      <td>42.541155</td>\n      <td>-70.973438</td>\n      <td>4.0</td>\n      <td>39</td>\n      <td>1</td>\n      <td>{'RestaurantsGoodForGroups': 'True', 'HasTV': ...</td>\n      <td>Food, Pizza, Restaurants</td>\n      <td>{'Monday': '11:0-21:0', 'Tuesday': '11:0-21:0'...</td>\n      <td>{'RestaurantsGoodForGroups': 'True', 'HasTV': ...</td>\n      <td>[RestaurantsGoodForGroups, HasTV, GoodForKids,...</td>\n      <td>RestaurantsGoodForGroups HasTV GoodForKids Res...</td>\n    </tr>\n  </tbody>\n</table>\n</div>"
     },
     "execution_count": 9,
     "metadata": {},
     "output_type": "execute_result"
    }
   ],
   "source": [
    "df_business.head()"
   ],
   "metadata": {
    "collapsed": false,
    "pycharm": {
     "name": "#%%\n"
    }
   }
  },
  {
   "cell_type": "code",
   "execution_count": 10,
   "outputs": [
    {
     "name": "stdout",
     "output_type": "stream",
     "text": [
      "CPU times: user 85.2 ms, sys: 45.7 ms, total: 131 ms\n",
      "Wall time: 99 ms\n"
     ]
    },
    {
     "data": {
      "text/plain": "       Unnamed: 0  Unnamed: 0.1             business_id  \\\n19374       59580         59580  GDmUoW3hmokCMAVys8M1PQ   \n38669      118221        118221  _GteKUXq5Hx0ZTzzAkUW9g   \n5130        15784         15784  rrXppQgpsjFZs8TCRNcfhg   \n48625      148328        148328  SXgLnNoWd62TEiqBYRiIkA   \n30640       93970         93970  -XHAfXRTrhQ2_kimhpMczA   \n\n                                          name  \\\n19374             The Post Brewing Co. Boulder   \n38669             Twisted Pine Brewing Company   \n5130   Upslope Brewing Company - Flatiron Park   \n48625                                  Peckish   \n30640                     The Barrel - Boulder   \n\n                                                 address     city state  \\\n19374                                       2027 13th St  Boulder    CO   \n38669                                     3201 Walnut St  Boulder    CO   \n5130                                  1898 S Flatiron Ct  Boulder    CO   \n48625                                   1320 College Ave  Boulder    CO   \n30640  1710 29th St, Ste 1048, Twenty Ninth Street Ce...  Boulder    CO   \n\n      postal_code   latitude   longitude  stars  review_count  is_open  \\\n19374       80302  40.018848 -105.279096    4.0           179        1   \n38669       80301  40.020832 -105.251023    4.0           306        1   \n5130        80301  40.020163 -105.218338    4.5            84        1   \n48625       80302  40.007179 -105.275761    4.0            20        1   \n30640       80301  40.017805 -105.255229    4.0            13        0   \n\n                                              attributes  \\\n19374  {'BikeParking': 'True', 'HappyHour': 'True', '...   \n38669  {'HasTV': 'True', 'BusinessParking': \"{'garage...   \n5130   {'BikeParking': 'True', 'RestaurantsPriceRange...   \n48625  {'BYOB': 'False', 'Ambience': \"{'touristy': Fa...   \n30640  {'HasTV': 'True', 'Music': \"{'dj': False, 'bac...   \n\n                                              categories  \\\n19374  Pubs, Breweries, Chicken Shop, American (Tradi...   \n38669  Sports Bars, Sandwiches, Pubs, Food, Breweries...   \n5130   Beer, Wine & Spirits, Breweries, Bars, Nightli...   \n48625  Bars, Beer Bar, Sports Bars, Sandwiches, Chick...   \n30640  Beer, Wine & Spirits, Nightlife, Beer Gardens,...   \n\n                                                   hours  \\\n19374  {'Monday': '11:30-20:30', 'Tuesday': '11:30-20...   \n38669  {'Monday': '0:0-0:0', 'Friday': '16:0-19:0', '...   \n5130   {'Monday': '12:0-20:0', 'Tuesday': '12:0-20:0'...   \n48625  {'Monday': '11:0-22:0', 'Tuesday': '11:0-22:0'...   \n30640  {'Monday': '0:0-0:0', 'Friday': '15:0-21:0', '...   \n\n                                          attribute_dict  \\\n19374  {'BikeParking': 'True', 'HappyHour': 'True', '...   \n38669  {'HasTV': 'True', 'BusinessParking': '{'garage...   \n5130   {'BikeParking': 'True', 'RestaurantsPriceRange...   \n48625  {'BYOB': 'False', 'Ambience': '{'touristy': Fa...   \n30640  {'HasTV': 'True', 'Music': '{'dj': False, 'bac...   \n\n                                          attribute_soup  \\\n19374  [BikeParking, HappyHour, HasTV, casual, Alcoho...   \n38669  [HasTV, street, lot, BikeParking, RestaurantsG...   \n5130   [BikeParking, RestaurantsPriceRange2, Business...   \n48625  [RestaurantsTakeOut, street, WiFi, HasTV, Alco...   \n30640  [HasTV, BusinessAcceptsCreditCards, DogsAllowe...   \n\n                                        attribute_string    scores  \n19374  BikeParking HappyHour HasTV casual Alcohol Whe...  0.856014  \n38669  HasTV street lot BikeParking RestaurantsGoodFo...  0.852223  \n5130   BikeParking RestaurantsPriceRange2 BusinessAcc...  0.839652  \n48625  RestaurantsTakeOut street WiFi HasTV Alcohol W...  0.814933  \n30640  HasTV BusinessAcceptsCreditCards DogsAllowed R...  0.810398  ",
      "text/html": "<div>\n<style scoped>\n    .dataframe tbody tr th:only-of-type {\n        vertical-align: middle;\n    }\n\n    .dataframe tbody tr th {\n        vertical-align: top;\n    }\n\n    .dataframe thead th {\n        text-align: right;\n    }\n</style>\n<table border=\"1\" class=\"dataframe\">\n  <thead>\n    <tr style=\"text-align: right;\">\n      <th></th>\n      <th>Unnamed: 0</th>\n      <th>Unnamed: 0.1</th>\n      <th>business_id</th>\n      <th>name</th>\n      <th>address</th>\n      <th>city</th>\n      <th>state</th>\n      <th>postal_code</th>\n      <th>latitude</th>\n      <th>longitude</th>\n      <th>stars</th>\n      <th>review_count</th>\n      <th>is_open</th>\n      <th>attributes</th>\n      <th>categories</th>\n      <th>hours</th>\n      <th>attribute_dict</th>\n      <th>attribute_soup</th>\n      <th>attribute_string</th>\n      <th>scores</th>\n    </tr>\n  </thead>\n  <tbody>\n    <tr>\n      <th>19374</th>\n      <td>59580</td>\n      <td>59580</td>\n      <td>GDmUoW3hmokCMAVys8M1PQ</td>\n      <td>The Post Brewing Co. Boulder</td>\n      <td>2027 13th St</td>\n      <td>Boulder</td>\n      <td>CO</td>\n      <td>80302</td>\n      <td>40.018848</td>\n      <td>-105.279096</td>\n      <td>4.0</td>\n      <td>179</td>\n      <td>1</td>\n      <td>{'BikeParking': 'True', 'HappyHour': 'True', '...</td>\n      <td>Pubs, Breweries, Chicken Shop, American (Tradi...</td>\n      <td>{'Monday': '11:30-20:30', 'Tuesday': '11:30-20...</td>\n      <td>{'BikeParking': 'True', 'HappyHour': 'True', '...</td>\n      <td>[BikeParking, HappyHour, HasTV, casual, Alcoho...</td>\n      <td>BikeParking HappyHour HasTV casual Alcohol Whe...</td>\n      <td>0.856014</td>\n    </tr>\n    <tr>\n      <th>38669</th>\n      <td>118221</td>\n      <td>118221</td>\n      <td>_GteKUXq5Hx0ZTzzAkUW9g</td>\n      <td>Twisted Pine Brewing Company</td>\n      <td>3201 Walnut St</td>\n      <td>Boulder</td>\n      <td>CO</td>\n      <td>80301</td>\n      <td>40.020832</td>\n      <td>-105.251023</td>\n      <td>4.0</td>\n      <td>306</td>\n      <td>1</td>\n      <td>{'HasTV': 'True', 'BusinessParking': \"{'garage...</td>\n      <td>Sports Bars, Sandwiches, Pubs, Food, Breweries...</td>\n      <td>{'Monday': '0:0-0:0', 'Friday': '16:0-19:0', '...</td>\n      <td>{'HasTV': 'True', 'BusinessParking': '{'garage...</td>\n      <td>[HasTV, street, lot, BikeParking, RestaurantsG...</td>\n      <td>HasTV street lot BikeParking RestaurantsGoodFo...</td>\n      <td>0.852223</td>\n    </tr>\n    <tr>\n      <th>5130</th>\n      <td>15784</td>\n      <td>15784</td>\n      <td>rrXppQgpsjFZs8TCRNcfhg</td>\n      <td>Upslope Brewing Company - Flatiron Park</td>\n      <td>1898 S Flatiron Ct</td>\n      <td>Boulder</td>\n      <td>CO</td>\n      <td>80301</td>\n      <td>40.020163</td>\n      <td>-105.218338</td>\n      <td>4.5</td>\n      <td>84</td>\n      <td>1</td>\n      <td>{'BikeParking': 'True', 'RestaurantsPriceRange...</td>\n      <td>Beer, Wine &amp; Spirits, Breweries, Bars, Nightli...</td>\n      <td>{'Monday': '12:0-20:0', 'Tuesday': '12:0-20:0'...</td>\n      <td>{'BikeParking': 'True', 'RestaurantsPriceRange...</td>\n      <td>[BikeParking, RestaurantsPriceRange2, Business...</td>\n      <td>BikeParking RestaurantsPriceRange2 BusinessAcc...</td>\n      <td>0.839652</td>\n    </tr>\n    <tr>\n      <th>48625</th>\n      <td>148328</td>\n      <td>148328</td>\n      <td>SXgLnNoWd62TEiqBYRiIkA</td>\n      <td>Peckish</td>\n      <td>1320 College Ave</td>\n      <td>Boulder</td>\n      <td>CO</td>\n      <td>80302</td>\n      <td>40.007179</td>\n      <td>-105.275761</td>\n      <td>4.0</td>\n      <td>20</td>\n      <td>1</td>\n      <td>{'BYOB': 'False', 'Ambience': \"{'touristy': Fa...</td>\n      <td>Bars, Beer Bar, Sports Bars, Sandwiches, Chick...</td>\n      <td>{'Monday': '11:0-22:0', 'Tuesday': '11:0-22:0'...</td>\n      <td>{'BYOB': 'False', 'Ambience': '{'touristy': Fa...</td>\n      <td>[RestaurantsTakeOut, street, WiFi, HasTV, Alco...</td>\n      <td>RestaurantsTakeOut street WiFi HasTV Alcohol W...</td>\n      <td>0.814933</td>\n    </tr>\n    <tr>\n      <th>30640</th>\n      <td>93970</td>\n      <td>93970</td>\n      <td>-XHAfXRTrhQ2_kimhpMczA</td>\n      <td>The Barrel - Boulder</td>\n      <td>1710 29th St, Ste 1048, Twenty Ninth Street Ce...</td>\n      <td>Boulder</td>\n      <td>CO</td>\n      <td>80301</td>\n      <td>40.017805</td>\n      <td>-105.255229</td>\n      <td>4.0</td>\n      <td>13</td>\n      <td>0</td>\n      <td>{'HasTV': 'True', 'Music': \"{'dj': False, 'bac...</td>\n      <td>Beer, Wine &amp; Spirits, Nightlife, Beer Gardens,...</td>\n      <td>{'Monday': '0:0-0:0', 'Friday': '15:0-21:0', '...</td>\n      <td>{'HasTV': 'True', 'Music': '{'dj': False, 'bac...</td>\n      <td>[HasTV, BusinessAcceptsCreditCards, DogsAllowe...</td>\n      <td>HasTV BusinessAcceptsCreditCards DogsAllowed R...</td>\n      <td>0.810398</td>\n    </tr>\n  </tbody>\n</table>\n</div>"
     },
     "execution_count": 10,
     "metadata": {},
     "output_type": "execute_result"
    }
   ],
   "source": [
    "%%time\n",
    "results = get_knn(df_business.iloc[0, :], embedded_attributes, embedded_categories, df_business, category_weighting=0.5)\n",
    "results.head()"
   ],
   "metadata": {
    "collapsed": false,
    "pycharm": {
     "name": "#%%\n"
    }
   }
  },
  {
   "cell_type": "markdown",
   "source": [
    "### Load the users and their reviews into a train and testable form\n",
    "Given a user:\n",
    "- Find all reviews produced by this user\n",
    "- Filter to only positive reviews (4 stars or above)\n",
    "- For each positive review, find the top 5 most similar restaurants in the area specified by the review (it's unlikely the user would be willing to travel across the country to find a restaurant that might just be similar)\n",
    "- Pool all of the results, and sort by similarity scores.  Therefore, the user should have a collection of potential places to visit.\n",
    "\n",
    "By using a text embedder to calculate similarity, a training set isn't truly needed:\n",
    "- Require at least 2 good reviews from each test user, otherwise skip the training instance although a larger threshold for minimum number of reviews may make more sense.\n",
    "- For each user, having $$n$$ reviews, we randomly use 50% of the reviews for generating similar results.  Then, follow the above results to obtain $5n/2$ predictions.\n",
    "- We examine whether the predictions and remaining $n/2$ test reviews have _any_ intersection (although we can change this later).\n"
   ],
   "metadata": {
    "collapsed": false,
    "pycharm": {
     "name": "#%% md\n"
    }
   }
  },
  {
   "cell_type": "code",
   "execution_count": 11,
   "outputs": [
    {
     "name": "stdout",
     "output_type": "stream",
     "text": [
      "REVIEWS SIZE: 8635403\n",
      "USERS SIZE: 2189457\n",
      "CPU times: user 1min 41s, sys: 32.4 s, total: 2min 13s\n",
      "Wall time: 2min 27s\n"
     ]
    }
   ],
   "source": [
    "%%time\n",
    "df_users = pd.read_csv('data/yelp_academic_dataset_user.csv')\n",
    "df_reviews = pd.read_csv('data/yelp_academic_dataset_review.csv')\n",
    "print(\"REVIEWS SIZE:\", df_reviews.shape[0])\n",
    "print(\"USERS SIZE:\", df_users.shape[0])"
   ],
   "metadata": {
    "collapsed": false,
    "pycharm": {
     "name": "#%%\n"
    }
   }
  },
  {
   "cell_type": "code",
   "execution_count": 12,
   "outputs": [],
   "source": [
    "# Set of restaurant IDs\n",
    "restaurant_set = set(df_business['business_id'].values)\n",
    "# Only keep restaurant reviews in the filtered dataset\n",
    "df_reviews_final = df_reviews[df_reviews['business_id'].isin(restaurant_set)]\n",
    "# Remove bad reviews\n",
    "df_reviews_final = df_reviews_final[df_reviews_final['stars'] >= 4]"
   ],
   "metadata": {
    "collapsed": false,
    "pycharm": {
     "name": "#%%\n"
    }
   }
  },
  {
   "cell_type": "code",
   "execution_count": 13,
   "outputs": [],
   "source": [
    "df_reviews_sampled = df_reviews_final.sample(n=1_000_000, replace=False)"
   ],
   "metadata": {
    "collapsed": false,
    "pycharm": {
     "name": "#%%\n"
    }
   }
  },
  {
   "cell_type": "code",
   "execution_count": 14,
   "outputs": [],
   "source": [
    "user_id_set = set(df_reviews_sampled['user_id'].values)\n",
    "df_users_sampled = df_users[df_users['user_id'].isin(user_id_set)]"
   ],
   "metadata": {
    "collapsed": false,
    "pycharm": {
     "name": "#%%\n"
    }
   }
  },
  {
   "cell_type": "code",
   "execution_count": 15,
   "outputs": [],
   "source": [
    "df_user_and_review = pd.merge(df_reviews_sampled, df_users_sampled, on='user_id')"
   ],
   "metadata": {
    "collapsed": false,
    "pycharm": {
     "name": "#%%\n"
    }
   }
  },
  {
   "cell_type": "code",
   "execution_count": 25,
   "outputs": [],
   "source": [
    "df_all_filtered = df_user_and_review[df_user_and_review.groupby('user_id').transform('count')['review_id'] > 6]"
   ],
   "metadata": {
    "collapsed": false,
    "pycharm": {
     "name": "#%%\n"
    }
   }
  },
  {
   "cell_type": "code",
   "execution_count": 24,
   "outputs": [
    {
     "name": "stdout",
     "output_type": "stream",
     "text": [
      "SATISFYING USERS: 18846\n"
     ]
    }
   ],
   "source": [
    "user_id_set = set(df_all_filtered['user_id'].values)\n",
    "print(\"SATISFYING USERS:\", len(user_id_set))"
   ],
   "metadata": {
    "collapsed": false,
    "pycharm": {
     "name": "#%%\n"
    }
   }
  },
  {
   "cell_type": "code",
   "execution_count": 19,
   "outputs": [],
   "source": [
    "def get_all_user_recommendations(df_individual_reviews, df_business, embedded_attributes, embedded_categories):\n",
    "    \"\"\"\n",
    "    Gets a DataFrame of all recommendations.  If the user reviews n items positively, return 5n items that they might enjoy.\n",
    "    :param user_id: id of the queried user\n",
    "    :param df_individual_reviews: reviews from a given user.\n",
    "    :param df_business: DataFrame including all potential businesses\n",
    "    :return: DataFrame of all recommendations\n",
    "    \"\"\"\n",
    "    all_rec = []\n",
    "    for business_id in df_individual_reviews['business_id']:\n",
    "        # Retrieve first instance\n",
    "        df_input_business = df_business[df_business['business_id'] == business_id].iloc[0, :]\n",
    "        # Append all corresponding predictions\n",
    "        all_rec.append(get_knn(df_input_business, embedded_attributes, embedded_categories, df_business, category_weighting=0.5))\n",
    "    return pd.concat(all_rec)"
   ],
   "metadata": {
    "collapsed": false,
    "pycharm": {
     "name": "#%%\n"
    }
   }
  },
  {
   "cell_type": "code",
   "execution_count": 20,
   "outputs": [
    {
     "data": {
      "text/plain": "       Unnamed: 0  Unnamed: 0.1             business_id  \\\n43030      131531        131531  DmtPWnRPEvnwVmMlvcahzA   \n16933       52094         52094  xkLwAfgIYXYHzJF8C_fhCA   \n15074       46421         46421  rlnEm-mJWGR0q807Ei_NHw   \n20926       64422         64422  Xg7pVJHfpqO2Zm742Qk7Xw   \n16938       52110         52110  4lXOZikoMRUxC24ViFnzeQ   \n9843        30372         30372  s_dEdgoBhxfQaroUcVu1aQ   \n28466       87338         87338  sueo3UfT1ZZirX69-s7POw   \n43347      132443        132443  y9PNBfvc8ad9KJlWkoQUZQ   \n77            221           221  fD9EopsUWvimsi4eaS7uMA   \n28937       88784         88784  RWCdajUcGQjUVU9Kt542rg   \n11357       35028         35028  9gk3EbZWho4jghwvk0J8OQ   \n16030       49312         49312  IRt_9aHwWTGLKKUdNiKjDQ   \n50229      153120        153120  MiiKrogYwVvR4Hmk-kpzzQ   \n28982       88941         88941  M7d5jt6blFQWl6CmHOl2bQ   \n46609      142211        142211  FkyABfAoBvwdfP_Bn2PIog   \n11424       35196         35196  PFppNi9rZWAw5f8e5J41MQ   \n41810      127755        127755  mF0JmFab6K-iXrKapgJEtQ   \n13439       41380         41380  UebimivAeo1sMTExwxwxnA   \n22259       68546         68546  uYjGUWNtQrYenLUS0BYKKg   \n9777        30175         30175  vkddMmPkAvZt-2V1QUaw7Q   \n6080        18771         18771  -VVETvfXmdqtoJIwCRwJ3A   \n21904       67437         67437  WGPQZMXwhFPgN6D_fk8t4Q   \n20926       64422         64422  Xg7pVJHfpqO2Zm742Qk7Xw   \n26489       81493         81493  OUY-HxxovSLU9_NEVJMzeQ   \n15823       48688         48688  l66RKvRGJK5yADxkJ1RvJw   \n48213      147083        147083  IuGBLn2vHbV-D21W5w17fg   \n192           571           571  D8-ssK_8w1WBajKCXUG5Uw   \n35277      108034        108034  5xQDI-NR1SbHR_jgpt9fSg   \n20926       64422         64422  Xg7pVJHfpqO2Zm742Qk7Xw   \n16506       50783         50783  WKOW1PFVFFtdbRDHfjAw0A   \n16938       52110         52110  4lXOZikoMRUxC24ViFnzeQ   \n11357       35028         35028  9gk3EbZWho4jghwvk0J8OQ   \n4540        13944         13944  mxk0UbRuG2kIgo5U4AyUyQ   \n46287      141286        141286  HVp_-bPzLqFSzcSE3bRNxA   \n28466       87338         87338  sueo3UfT1ZZirX69-s7POw   \n43030      131531        131531  DmtPWnRPEvnwVmMlvcahzA   \n\n                              name              address       city state  \\\n43030                          16C       16 Cottage Ave     Quincy    MA   \n16933             Tony's Clam Shop  861 Quincy Shore Dr     Quincy    MA   \n15074    The Chantey At Marina Bay       333 Victory Rd     Quincy    MA   \n20926               Bravo Pizzeria    531 Washington St     Quincy    MA   \n16938               Fish n Chicken       110 Willard St     Quincy    MA   \n9843          I Love Italian Pizza       68 Newbury Ave     Quincy    MA   \n28466  McKay's Breakfast and Lunch      144 Franklin St     Quincy    MA   \n43347          Granite Street Cafe       378 Granite St     Quincy    MA   \n77            The Wheelhouse Diner       453 Hancock St     Quincy    MA   \n28937           Pho Pasteur-Quincy      1462 Hancock St     Quincy    MA   \n11357          Evolino's Hand Pies      103 Franklin St     Quincy    MA   \n16030                  Steel & Rye          95 Eliot St     Milton    MA   \n50229                 Ichiro Sushi        538A Adams St     Milton    MA   \n28982     Fruit Center Marketplace        10 Bassett St     Milton    MA   \n46609          Thatcher Farm Dairy       267 Thacher St     Milton    MA   \n11424                   Crema Cafe        27 Brattle St  Cambridge    MA   \n41810                  Longfellows         284 Broadway  Cambridge    MA   \n13439                   Petsi Pies        31 Putnam Ave  Cambridge    MA   \n22259                   Petsi Pies     594 Cambridge St  Cambridge    MA   \n9777                  Haute Coffee         1 Canal Park  Cambridge    MA   \n6080              The Lobster Stop    723 Washington St     Quincy    MA   \n21904              Burke's Seafood       61 Billings Rd     Quincy    MA   \n20926               Bravo Pizzeria    531 Washington St     Quincy    MA   \n26489       Mignosa's Fruit Basket       148 Granite St     Quincy    MA   \n15823             Shabu Restaurant       397 Hancock St     Quincy    MA   \n48213          The Healthy Kitchen       110 Willard St     Quincy    MA   \n192                       Baja Box  793 Quincy Shore Dr     Quincy    MA   \n35277       Evolino's Pizza & Subs      103 Franklin St     Quincy    MA   \n20926               Bravo Pizzeria    531 Washington St     Quincy    MA   \n16506  Nick's Roast Beef & Seafood  657 Southern Artery     Quincy    MA   \n16938               Fish n Chicken       110 Willard St     Quincy    MA   \n11357          Evolino's Hand Pies      103 Franklin St     Quincy    MA   \n4540   Little Duck Thai Restaurant        57 Granite St     Quincy    MA   \n46287                   Yummy Cafe       669 Hancock St     Quincy    MA   \n28466  McKay's Breakfast and Lunch      144 Franklin St     Quincy    MA   \n43030                          16C       16 Cottage Ave     Quincy    MA   \n\n      postal_code   latitude  longitude  stars  review_count  is_open  \\\n43030       01069  42.248348 -71.001546    4.0           198        1   \n16933       02170  42.275224 -71.005992    4.0           582        1   \n15074       02171  42.299480 -71.027952    4.0            55        1   \n20926       02169  42.247269 -70.979850    4.5           138        1   \n16938       02169  42.251631 -71.036266    4.0            60        1   \n9843        02171  42.281397 -71.029023    4.0           132        1   \n28466       02169  42.238816 -71.003113    4.0           179        1   \n43347       02169  42.242191 -71.015000    4.0           160        1   \n77          02171  42.272234 -71.023950    4.0           229        1   \n28937       02169  42.248798 -71.001925    4.0           116        1   \n11357       02169  42.240354 -71.003456    5.0            68        0   \n16030       02186  42.269925 -71.072387    4.0           481        1   \n50229       02186  42.258457 -71.040806    4.0           125        1   \n28982       02186  42.259950 -71.040769    4.0            83        1   \n46609       02186  42.255769 -71.084896    4.5             9        1   \n11424       02138  42.373501 -71.120680    4.0          1149        0   \n41810       02139  42.367817 -71.097926    4.5           111        0   \n13439       02139  42.368962 -71.113634    4.0           300        0   \n22259       02141  42.371714 -71.086274    4.0            54        0   \n9777        02141  42.369699 -71.076751    4.0            58        0   \n6080        02169  42.245055 -70.971505    4.0           343        1   \n21904       02171  42.273980 -71.024434    4.5           259        1   \n20926       02169  42.247269 -70.979850    4.5           138        1   \n26489       02169  42.245115 -71.006224    4.0            54        1   \n15823       02171  42.274070 -71.025864    4.0           424        1   \n48213       02169  42.251557 -71.036379    4.0            49        1   \n192         02170  42.276249 -71.008837    4.0           102        1   \n35277       02169  42.240354 -71.003456    5.0            29        0   \n20926       02169  42.247269 -70.979850    4.5           138        1   \n16506       02169  42.252092 -70.987830    4.5            18        0   \n16938       02169  42.251631 -71.036266    4.0            60        1   \n11357       02169  42.240354 -71.003456    5.0            68        0   \n4540        02169  42.248085 -71.004576    4.0           351        1   \n46287       02170  42.267589 -71.016151    4.0            98        0   \n28466       02169  42.238816 -71.003113    4.0           179        1   \n43030       01069  42.248348 -71.001546    4.0           198        1   \n\n                                              attributes  \\\n43030  {'BusinessAcceptsCreditCards': 'True', 'Restau...   \n16933  {'RestaurantsAttire': \"'casual'\", 'BusinessAcc...   \n15074  {'RestaurantsReservations': 'False', 'GoodForK...   \n20926  {'Caters': 'True', 'BikeParking': 'True', 'Res...   \n16938  {'Caters': 'True', 'BikeParking': 'True', 'Res...   \n9843   {'RestaurantsAttire': \"u'casual'\", 'Alcohol': ...   \n28466  {'GoodForKids': 'True', 'RestaurantsDelivery':...   \n43347  {'RestaurantsAttire': \"u'casual'\", 'HasTV': 'T...   \n77     {'HasTV': 'False', 'BusinessParking': \"{'garag...   \n28937  {'BusinessParking': \"{'garage': False, 'street...   \n11357  {'RestaurantsTakeOut': 'True', 'WiFi': \"u'no'\"...   \n16030  {'Alcohol': \"u'full_bar'\", 'WiFi': \"u'no'\", 'C...   \n50229  {'BusinessAcceptsCreditCards': 'True', 'Restau...   \n28982  {'BikeParking': 'True', 'BusinessParking': \"{'...   \n46609  {'RestaurantsPriceRange2': '4', 'BusinessAccep...   \n11424  {'RestaurantsDelivery': 'False', 'NoiseLevel':...   \n41810  {'WheelchairAccessible': 'True', 'HasTV': 'Fal...   \n13439  {'OutdoorSeating': 'False', 'BusinessAcceptsCr...   \n22259  {'BusinessAcceptsCreditCards': 'True', 'Restau...   \n9777   {'Alcohol': \"u'none'\", 'WiFi': \"'free'\", 'Rest...   \n6080   {'Alcohol': \"u'none'\", 'OutdoorSeating': 'Fals...   \n21904  {'NoiseLevel': \"u'average'\", 'GoodForKids': 'T...   \n20926  {'Caters': 'True', 'BikeParking': 'True', 'Res...   \n26489  {'BusinessParking': \"{'garage': False, 'street...   \n15823  {'RestaurantsReservations': 'False', 'OutdoorS...   \n48213  {'RestaurantsGoodForGroups': 'True', 'Business...   \n192    {'BusinessAcceptsCreditCards': 'True', 'BikePa...   \n35277  {'Ambience': \"{'romantic': False, 'intimate': ...   \n20926  {'Caters': 'True', 'BikeParking': 'True', 'Res...   \n16506  {'NoiseLevel': \"u'quiet'\", 'WiFi': \"u'no'\", 'R...   \n16938  {'Caters': 'True', 'BikeParking': 'True', 'Res...   \n11357  {'RestaurantsTakeOut': 'True', 'WiFi': \"u'no'\"...   \n4540   {'RestaurantsAttire': \"'casual'\", 'Restaurants...   \n46287  {'RestaurantsTakeOut': 'True', 'HasTV': 'True'...   \n28466  {'GoodForKids': 'True', 'RestaurantsDelivery':...   \n43030  {'BusinessAcceptsCreditCards': 'True', 'Restau...   \n\n                                              categories  \\\n43030  Restaurants, American (Traditional), Pizza, Sa...   \n16933  Fast Food, Seafood, Sandwiches, Wraps, Restaur...   \n15074  Pizza, Nightlife, Bars, Restaurants, American ...   \n20926  Pizza, Restaurants, Salad, Ice Cream & Frozen ...   \n16938                Restaurants, American (Traditional)   \n9843                   Pizza, Restaurants, Food, Italian   \n28466  Restaurants, American (Traditional), Breakfast...   \n43347  American (Traditional), Italian, Restaurants, ...   \n77                                   Diners, Restaurants   \n28937   Vietnamese, Food, Seafood, Desserts, Restaurants   \n11357  Restaurants, Food, American (Traditional), Med...   \n16030  American (Traditional), Local Flavor, American...   \n50229                  Sushi Bars, Restaurants, Japanese   \n28982    Food, Specialty Food, Grocery, Fruits & Veggies   \n46609                                      Food, Grocery   \n11424  Cafes, Restaurants, Coffee & Tea, Food, Sandwi...   \n41810  Cafes, Breakfast & Brunch, Sandwiches, Restaur...   \n13439  Restaurants, Food, Coffee & Tea, Bakeries, Bre...   \n22259  Sandwiches, Food, Cafes, Bakeries, Soup, Resta...   \n9777   Restaurants, Food, Sandwiches, Coffee & Tea, B...   \n6080   Seafood, Food, Sandwiches, Fish & Chips, Resta...   \n21904  Restaurants, Food, Seafood Markets, Fish & Chi...   \n20926  Pizza, Restaurants, Salad, Ice Cream & Frozen ...   \n26489  Sandwiches, Restaurants, Food, Delis, Specialt...   \n15823  Vegetarian, Hot Pot, Restaurants, Vegan, Japan...   \n48213  Ice Cream & Frozen Yogurt, American (Tradition...   \n192    Restaurants, Mexican, Food, Tacos, Ice Cream &...   \n35277        Restaurants, Salad, Food, Sandwiches, Pizza   \n20926  Pizza, Restaurants, Salad, Ice Cream & Frozen ...   \n16506                     Sandwiches, Restaurants, Pizza   \n16938                Restaurants, American (Traditional)   \n11357  Restaurants, Food, American (Traditional), Med...   \n4540                                   Restaurants, Thai   \n46287                               Restaurants, Chinese   \n28466  Restaurants, American (Traditional), Breakfast...   \n43030  Restaurants, American (Traditional), Pizza, Sa...   \n\n                                                   hours  \\\n43030  {'Tuesday': '17:0-22:0', 'Wednesday': '17:0-22...   \n16933  {'Monday': '11:0-20:0', 'Tuesday': '11:0-20:0'...   \n15074  {'Monday': '11:30-21:30', 'Tuesday': '11:30-21...   \n20926  {'Monday': '11:0-23:0', 'Tuesday': '11:0-23:0'...   \n16938  {'Monday': '11:0-21:30', 'Tuesday': '11:0-21:3...   \n9843   {'Monday': '0:0-0:0', 'Tuesday': '10:0-22:0', ...   \n28466  {'Monday': '7:0-14:0', 'Tuesday': '7:0-14:0', ...   \n43347  {'Monday': '6:0-15:0', 'Tuesday': '6:0-15:0', ...   \n77     {'Wednesday': '5:0-15:0', 'Thursday': '5:0-11:...   \n28937  {'Monday': '10:0-22:0', 'Tuesday': '10:0-22:0'...   \n11357  {'Monday': '11:30-19:0', 'Tuesday': '11:30-19:...   \n16030  {'Monday': '11:0-21:0', 'Tuesday': '11:0-21:0'...   \n50229  {'Tuesday': '11:30-21:30', 'Wednesday': '11:30...   \n28982  {'Monday': '0:0-0:0', 'Tuesday': '7:0-20:0', '...   \n46609                                                NaN   \n11424  {'Monday': '7:0-21:0', 'Tuesday': '7:0-21:0', ...   \n41810  {'Monday': '0:0-0:0', 'Tuesday': '7:30-15:0', ...   \n13439  {'Monday': '7:0-18:0', 'Tuesday': '7:0-18:0', ...   \n22259  {'Monday': '7:0-16:0', 'Tuesday': '7:0-16:0', ...   \n9777   {'Monday': '0:0-0:0', 'Wednesday': '7:0-15:0',...   \n6080   {'Monday': '11:0-15:0', 'Tuesday': '11:0-15:0'...   \n21904  {'Tuesday': '9:0-15:0', 'Wednesday': '9:0-15:0...   \n20926  {'Monday': '11:0-23:0', 'Tuesday': '11:0-23:0'...   \n26489  {'Monday': '7:0-20:0', 'Tuesday': '7:0-20:0', ...   \n15823  {'Monday': '0:0-0:0', 'Tuesday': '16:0-21:0', ...   \n48213  {'Monday': '11:0-21:30', 'Tuesday': '11:0-21:3...   \n192    {'Monday': '12:0-20:0', 'Tuesday': '12:0-20:0'...   \n35277  {'Monday': '11:30-19:0', 'Tuesday': '11:30-19:...   \n20926  {'Monday': '11:0-23:0', 'Tuesday': '11:0-23:0'...   \n16506  {'Monday': '11:0-21:0', 'Tuesday': '11:0-22:0'...   \n16938  {'Monday': '11:0-21:30', 'Tuesday': '11:0-21:3...   \n11357  {'Monday': '11:30-19:0', 'Tuesday': '11:30-19:...   \n4540   {'Monday': '11:30-21:0', 'Wednesday': '11:30-2...   \n46287  {'Monday': '10:30-21:0', 'Tuesday': '10:30-21:...   \n28466  {'Monday': '7:0-14:0', 'Tuesday': '7:0-14:0', ...   \n43030  {'Tuesday': '17:0-22:0', 'Wednesday': '17:0-22...   \n\n                                          attribute_dict  \\\n43030  {'BusinessAcceptsCreditCards': 'True', 'Restau...   \n16933  {'RestaurantsAttire': ''casual'', 'BusinessAcc...   \n15074  {'RestaurantsReservations': 'False', 'GoodForK...   \n20926  {'Caters': 'True', 'BikeParking': 'True', 'Res...   \n16938  {'Caters': 'True', 'BikeParking': 'True', 'Res...   \n9843   {'RestaurantsAttire': 'u'casual'', 'Alcohol': ...   \n28466  {'GoodForKids': 'True', 'RestaurantsDelivery':...   \n43347  {'RestaurantsAttire': 'u'casual'', 'HasTV': 'T...   \n77     {'HasTV': 'False', 'BusinessParking': '{'garag...   \n28937  {'BusinessParking': '{'garage': False, 'street...   \n11357  {'RestaurantsTakeOut': 'True', 'WiFi': 'u'no''...   \n16030  {'Alcohol': 'u'full_bar'', 'WiFi': 'u'no'', 'C...   \n50229  {'BusinessAcceptsCreditCards': 'True', 'Restau...   \n28982  {'BikeParking': 'True', 'BusinessParking': '{'...   \n46609  {'RestaurantsPriceRange2': '4', 'BusinessAccep...   \n11424  {'RestaurantsDelivery': 'False', 'NoiseLevel':...   \n41810  {'WheelchairAccessible': 'True', 'HasTV': 'Fal...   \n13439  {'OutdoorSeating': 'False', 'BusinessAcceptsCr...   \n22259  {'BusinessAcceptsCreditCards': 'True', 'Restau...   \n9777   {'Alcohol': 'u'none'', 'WiFi': ''free'', 'Rest...   \n6080   {'Alcohol': 'u'none'', 'OutdoorSeating': 'Fals...   \n21904  {'NoiseLevel': 'u'average'', 'GoodForKids': 'T...   \n20926  {'Caters': 'True', 'BikeParking': 'True', 'Res...   \n26489  {'BusinessParking': '{'garage': False, 'street...   \n15823  {'RestaurantsReservations': 'False', 'OutdoorS...   \n48213  {'RestaurantsGoodForGroups': 'True', 'Business...   \n192    {'BusinessAcceptsCreditCards': 'True', 'BikePa...   \n35277  {'Ambience': '{'romantic': False, 'intimate': ...   \n20926  {'Caters': 'True', 'BikeParking': 'True', 'Res...   \n16506  {'NoiseLevel': 'u'quiet'', 'WiFi': 'u'no'', 'R...   \n16938  {'Caters': 'True', 'BikeParking': 'True', 'Res...   \n11357  {'RestaurantsTakeOut': 'True', 'WiFi': 'u'no''...   \n4540   {'RestaurantsAttire': ''casual'', 'Restaurants...   \n46287  {'RestaurantsTakeOut': 'True', 'HasTV': 'True'...   \n28466  {'GoodForKids': 'True', 'RestaurantsDelivery':...   \n43030  {'BusinessAcceptsCreditCards': 'True', 'Restau...   \n\n                                          attribute_soup  \\\n43030  [BusinessAcceptsCreditCards, GoodForKids, Rest...   \n16933  [RestaurantsAttire, BusinessAcceptsCreditCards...   \n15074  [GoodForKids, Alcohol, HasTV, OutdoorSeating, ...   \n20926  [Caters, BikeParking, RestaurantsAttire, HasTV...   \n16938  [Caters, BikeParking, RestaurantsTakeOut, Alco...   \n9843   [RestaurantsAttire, Alcohol, RestaurantsPriceR...   \n28466  [GoodForKids, RestaurantsPriceRange2, Restaura...   \n43347  [RestaurantsAttire, HasTV, RestaurantsReservat...   \n77     [street, lot, RestaurantsDelivery, Restaurants...   \n28937  [street, RestaurantsAttire, RestaurantsPriceRa...   \n11357  [RestaurantsTakeOut, WiFi, BusinessAcceptsCred...   \n16030  [Alcohol, WiFi, OutdoorSeating, BikeParking, R...   \n50229  [BusinessAcceptsCreditCards, RestaurantsDelive...   \n28982  [BikeParking, lot, RestaurantsPriceRange2, Bus...   \n46609  [RestaurantsPriceRange2, BusinessAcceptsCredit...   \n11424  [NoiseLevel, street, GoodForKids, OutdoorSeati...   \n41810  [WheelchairAccessible, BusinessAcceptsCreditCa...   \n13439  [BusinessAcceptsCreditCards, BikeParking, stre...   \n22259  [BusinessAcceptsCreditCards, RestaurantsPriceR...   \n9777   [Alcohol, WiFi, RestaurantsPriceRange2, Restau...   \n6080   [Alcohol, RestaurantsAttire, casual, street, l...   \n21904  [NoiseLevel, GoodForKids, RestaurantsAttire, W...   \n20926  [Caters, BikeParking, RestaurantsAttire, HasTV...   \n26489  [lot, OutdoorSeating, BusinessAcceptsCreditCar...   \n15823  [OutdoorSeating, HasTV, NoiseLevel, GoodForKid...   \n48213  [RestaurantsGoodForGroups, street, lot, HasTV,...   \n192    [BusinessAcceptsCreditCards, BikeParking, WiFi...   \n35277  [casual, NoiseLevel, BusinessAcceptsCreditCard...   \n20926  [Caters, BikeParking, RestaurantsAttire, HasTV...   \n16506  [NoiseLevel, WiFi, RestaurantsPriceRange2, Alc...   \n16938  [Caters, BikeParking, RestaurantsTakeOut, Alco...   \n11357  [RestaurantsTakeOut, WiFi, BusinessAcceptsCred...   \n4540   [RestaurantsAttire, RestaurantsDelivery, Resta...   \n46287  [RestaurantsTakeOut, HasTV, WiFi, NoiseLevel, ...   \n28466  [GoodForKids, RestaurantsPriceRange2, Restaura...   \n43030  [BusinessAcceptsCreditCards, GoodForKids, Rest...   \n\n                                        attribute_string    scores  \n43030  BusinessAcceptsCreditCards GoodForKids Restaur...  0.851364  \n16933  RestaurantsAttire BusinessAcceptsCreditCards R...  0.812398  \n15074  GoodForKids Alcohol HasTV OutdoorSeating Resta...  0.808186  \n20926  Caters BikeParking RestaurantsAttire HasTV Res...  0.806860  \n16938  Caters BikeParking RestaurantsTakeOut Alcohol ...  0.794355  \n9843   RestaurantsAttire Alcohol RestaurantsPriceRang...  0.775068  \n28466  GoodForKids RestaurantsPriceRange2 Restaurants...  0.901917  \n43347  RestaurantsAttire HasTV RestaurantsReservation...  0.863317  \n77     street lot RestaurantsDelivery RestaurantsTake...  0.772363  \n28937  street RestaurantsAttire RestaurantsPriceRange...  0.770195  \n11357  RestaurantsTakeOut WiFi BusinessAcceptsCreditC...  0.769318  \n16030  Alcohol WiFi OutdoorSeating BikeParking Restau...  0.726956  \n50229  BusinessAcceptsCreditCards RestaurantsDelivery...  0.714307  \n28982  BikeParking lot RestaurantsPriceRange2 Busines...  0.465990  \n46609  RestaurantsPriceRange2 BusinessAcceptsCreditCards  0.331700  \n11424  NoiseLevel street GoodForKids OutdoorSeating B...  0.884435  \n41810  WheelchairAccessible BusinessAcceptsCreditCard...  0.861759  \n13439  BusinessAcceptsCreditCards BikeParking street ...  0.859189  \n22259  BusinessAcceptsCreditCards RestaurantsPriceRan...  0.844605  \n9777   Alcohol WiFi RestaurantsPriceRange2 Restaurant...  0.839482  \n6080   Alcohol RestaurantsAttire casual street lot Re...  0.845394  \n21904  NoiseLevel GoodForKids RestaurantsAttire WiFi ...  0.809100  \n20926  Caters BikeParking RestaurantsAttire HasTV Res...  0.798138  \n26489  lot OutdoorSeating BusinessAcceptsCreditCards ...  0.791038  \n15823  OutdoorSeating HasTV NoiseLevel GoodForKids Bu...  0.772636  \n48213  RestaurantsGoodForGroups street lot HasTV Outd...  0.825985  \n192    BusinessAcceptsCreditCards BikeParking WiFi Re...  0.817840  \n35277  casual NoiseLevel BusinessAcceptsCreditCards R...  0.813856  \n20926  Caters BikeParking RestaurantsAttire HasTV Res...  0.798872  \n16506  NoiseLevel WiFi RestaurantsPriceRange2 Alcohol...  0.791889  \n16938  Caters BikeParking RestaurantsTakeOut Alcohol ...  0.898628  \n11357  RestaurantsTakeOut WiFi BusinessAcceptsCreditC...  0.845526  \n4540   RestaurantsAttire RestaurantsDelivery Restaura...  0.807835  \n46287  RestaurantsTakeOut HasTV WiFi NoiseLevel GoodF...  0.804093  \n28466  GoodForKids RestaurantsPriceRange2 Restaurants...  0.799743  \n43030  BusinessAcceptsCreditCards GoodForKids Restaur...  0.798566  ",
      "text/html": "<div>\n<style scoped>\n    .dataframe tbody tr th:only-of-type {\n        vertical-align: middle;\n    }\n\n    .dataframe tbody tr th {\n        vertical-align: top;\n    }\n\n    .dataframe thead th {\n        text-align: right;\n    }\n</style>\n<table border=\"1\" class=\"dataframe\">\n  <thead>\n    <tr style=\"text-align: right;\">\n      <th></th>\n      <th>Unnamed: 0</th>\n      <th>Unnamed: 0.1</th>\n      <th>business_id</th>\n      <th>name</th>\n      <th>address</th>\n      <th>city</th>\n      <th>state</th>\n      <th>postal_code</th>\n      <th>latitude</th>\n      <th>longitude</th>\n      <th>stars</th>\n      <th>review_count</th>\n      <th>is_open</th>\n      <th>attributes</th>\n      <th>categories</th>\n      <th>hours</th>\n      <th>attribute_dict</th>\n      <th>attribute_soup</th>\n      <th>attribute_string</th>\n      <th>scores</th>\n    </tr>\n  </thead>\n  <tbody>\n    <tr>\n      <th>43030</th>\n      <td>131531</td>\n      <td>131531</td>\n      <td>DmtPWnRPEvnwVmMlvcahzA</td>\n      <td>16C</td>\n      <td>16 Cottage Ave</td>\n      <td>Quincy</td>\n      <td>MA</td>\n      <td>01069</td>\n      <td>42.248348</td>\n      <td>-71.001546</td>\n      <td>4.0</td>\n      <td>198</td>\n      <td>1</td>\n      <td>{'BusinessAcceptsCreditCards': 'True', 'Restau...</td>\n      <td>Restaurants, American (Traditional), Pizza, Sa...</td>\n      <td>{'Tuesday': '17:0-22:0', 'Wednesday': '17:0-22...</td>\n      <td>{'BusinessAcceptsCreditCards': 'True', 'Restau...</td>\n      <td>[BusinessAcceptsCreditCards, GoodForKids, Rest...</td>\n      <td>BusinessAcceptsCreditCards GoodForKids Restaur...</td>\n      <td>0.851364</td>\n    </tr>\n    <tr>\n      <th>16933</th>\n      <td>52094</td>\n      <td>52094</td>\n      <td>xkLwAfgIYXYHzJF8C_fhCA</td>\n      <td>Tony's Clam Shop</td>\n      <td>861 Quincy Shore Dr</td>\n      <td>Quincy</td>\n      <td>MA</td>\n      <td>02170</td>\n      <td>42.275224</td>\n      <td>-71.005992</td>\n      <td>4.0</td>\n      <td>582</td>\n      <td>1</td>\n      <td>{'RestaurantsAttire': \"'casual'\", 'BusinessAcc...</td>\n      <td>Fast Food, Seafood, Sandwiches, Wraps, Restaur...</td>\n      <td>{'Monday': '11:0-20:0', 'Tuesday': '11:0-20:0'...</td>\n      <td>{'RestaurantsAttire': ''casual'', 'BusinessAcc...</td>\n      <td>[RestaurantsAttire, BusinessAcceptsCreditCards...</td>\n      <td>RestaurantsAttire BusinessAcceptsCreditCards R...</td>\n      <td>0.812398</td>\n    </tr>\n    <tr>\n      <th>15074</th>\n      <td>46421</td>\n      <td>46421</td>\n      <td>rlnEm-mJWGR0q807Ei_NHw</td>\n      <td>The Chantey At Marina Bay</td>\n      <td>333 Victory Rd</td>\n      <td>Quincy</td>\n      <td>MA</td>\n      <td>02171</td>\n      <td>42.299480</td>\n      <td>-71.027952</td>\n      <td>4.0</td>\n      <td>55</td>\n      <td>1</td>\n      <td>{'RestaurantsReservations': 'False', 'GoodForK...</td>\n      <td>Pizza, Nightlife, Bars, Restaurants, American ...</td>\n      <td>{'Monday': '11:30-21:30', 'Tuesday': '11:30-21...</td>\n      <td>{'RestaurantsReservations': 'False', 'GoodForK...</td>\n      <td>[GoodForKids, Alcohol, HasTV, OutdoorSeating, ...</td>\n      <td>GoodForKids Alcohol HasTV OutdoorSeating Resta...</td>\n      <td>0.808186</td>\n    </tr>\n    <tr>\n      <th>20926</th>\n      <td>64422</td>\n      <td>64422</td>\n      <td>Xg7pVJHfpqO2Zm742Qk7Xw</td>\n      <td>Bravo Pizzeria</td>\n      <td>531 Washington St</td>\n      <td>Quincy</td>\n      <td>MA</td>\n      <td>02169</td>\n      <td>42.247269</td>\n      <td>-70.979850</td>\n      <td>4.5</td>\n      <td>138</td>\n      <td>1</td>\n      <td>{'Caters': 'True', 'BikeParking': 'True', 'Res...</td>\n      <td>Pizza, Restaurants, Salad, Ice Cream &amp; Frozen ...</td>\n      <td>{'Monday': '11:0-23:0', 'Tuesday': '11:0-23:0'...</td>\n      <td>{'Caters': 'True', 'BikeParking': 'True', 'Res...</td>\n      <td>[Caters, BikeParking, RestaurantsAttire, HasTV...</td>\n      <td>Caters BikeParking RestaurantsAttire HasTV Res...</td>\n      <td>0.806860</td>\n    </tr>\n    <tr>\n      <th>16938</th>\n      <td>52110</td>\n      <td>52110</td>\n      <td>4lXOZikoMRUxC24ViFnzeQ</td>\n      <td>Fish n Chicken</td>\n      <td>110 Willard St</td>\n      <td>Quincy</td>\n      <td>MA</td>\n      <td>02169</td>\n      <td>42.251631</td>\n      <td>-71.036266</td>\n      <td>4.0</td>\n      <td>60</td>\n      <td>1</td>\n      <td>{'Caters': 'True', 'BikeParking': 'True', 'Res...</td>\n      <td>Restaurants, American (Traditional)</td>\n      <td>{'Monday': '11:0-21:30', 'Tuesday': '11:0-21:3...</td>\n      <td>{'Caters': 'True', 'BikeParking': 'True', 'Res...</td>\n      <td>[Caters, BikeParking, RestaurantsTakeOut, Alco...</td>\n      <td>Caters BikeParking RestaurantsTakeOut Alcohol ...</td>\n      <td>0.794355</td>\n    </tr>\n    <tr>\n      <th>9843</th>\n      <td>30372</td>\n      <td>30372</td>\n      <td>s_dEdgoBhxfQaroUcVu1aQ</td>\n      <td>I Love Italian Pizza</td>\n      <td>68 Newbury Ave</td>\n      <td>Quincy</td>\n      <td>MA</td>\n      <td>02171</td>\n      <td>42.281397</td>\n      <td>-71.029023</td>\n      <td>4.0</td>\n      <td>132</td>\n      <td>1</td>\n      <td>{'RestaurantsAttire': \"u'casual'\", 'Alcohol': ...</td>\n      <td>Pizza, Restaurants, Food, Italian</td>\n      <td>{'Monday': '0:0-0:0', 'Tuesday': '10:0-22:0', ...</td>\n      <td>{'RestaurantsAttire': 'u'casual'', 'Alcohol': ...</td>\n      <td>[RestaurantsAttire, Alcohol, RestaurantsPriceR...</td>\n      <td>RestaurantsAttire Alcohol RestaurantsPriceRang...</td>\n      <td>0.775068</td>\n    </tr>\n    <tr>\n      <th>28466</th>\n      <td>87338</td>\n      <td>87338</td>\n      <td>sueo3UfT1ZZirX69-s7POw</td>\n      <td>McKay's Breakfast and Lunch</td>\n      <td>144 Franklin St</td>\n      <td>Quincy</td>\n      <td>MA</td>\n      <td>02169</td>\n      <td>42.238816</td>\n      <td>-71.003113</td>\n      <td>4.0</td>\n      <td>179</td>\n      <td>1</td>\n      <td>{'GoodForKids': 'True', 'RestaurantsDelivery':...</td>\n      <td>Restaurants, American (Traditional), Breakfast...</td>\n      <td>{'Monday': '7:0-14:0', 'Tuesday': '7:0-14:0', ...</td>\n      <td>{'GoodForKids': 'True', 'RestaurantsDelivery':...</td>\n      <td>[GoodForKids, RestaurantsPriceRange2, Restaura...</td>\n      <td>GoodForKids RestaurantsPriceRange2 Restaurants...</td>\n      <td>0.901917</td>\n    </tr>\n    <tr>\n      <th>43347</th>\n      <td>132443</td>\n      <td>132443</td>\n      <td>y9PNBfvc8ad9KJlWkoQUZQ</td>\n      <td>Granite Street Cafe</td>\n      <td>378 Granite St</td>\n      <td>Quincy</td>\n      <td>MA</td>\n      <td>02169</td>\n      <td>42.242191</td>\n      <td>-71.015000</td>\n      <td>4.0</td>\n      <td>160</td>\n      <td>1</td>\n      <td>{'RestaurantsAttire': \"u'casual'\", 'HasTV': 'T...</td>\n      <td>American (Traditional), Italian, Restaurants, ...</td>\n      <td>{'Monday': '6:0-15:0', 'Tuesday': '6:0-15:0', ...</td>\n      <td>{'RestaurantsAttire': 'u'casual'', 'HasTV': 'T...</td>\n      <td>[RestaurantsAttire, HasTV, RestaurantsReservat...</td>\n      <td>RestaurantsAttire HasTV RestaurantsReservation...</td>\n      <td>0.863317</td>\n    </tr>\n    <tr>\n      <th>77</th>\n      <td>221</td>\n      <td>221</td>\n      <td>fD9EopsUWvimsi4eaS7uMA</td>\n      <td>The Wheelhouse Diner</td>\n      <td>453 Hancock St</td>\n      <td>Quincy</td>\n      <td>MA</td>\n      <td>02171</td>\n      <td>42.272234</td>\n      <td>-71.023950</td>\n      <td>4.0</td>\n      <td>229</td>\n      <td>1</td>\n      <td>{'HasTV': 'False', 'BusinessParking': \"{'garag...</td>\n      <td>Diners, Restaurants</td>\n      <td>{'Wednesday': '5:0-15:0', 'Thursday': '5:0-11:...</td>\n      <td>{'HasTV': 'False', 'BusinessParking': '{'garag...</td>\n      <td>[street, lot, RestaurantsDelivery, Restaurants...</td>\n      <td>street lot RestaurantsDelivery RestaurantsTake...</td>\n      <td>0.772363</td>\n    </tr>\n    <tr>\n      <th>28937</th>\n      <td>88784</td>\n      <td>88784</td>\n      <td>RWCdajUcGQjUVU9Kt542rg</td>\n      <td>Pho Pasteur-Quincy</td>\n      <td>1462 Hancock St</td>\n      <td>Quincy</td>\n      <td>MA</td>\n      <td>02169</td>\n      <td>42.248798</td>\n      <td>-71.001925</td>\n      <td>4.0</td>\n      <td>116</td>\n      <td>1</td>\n      <td>{'BusinessParking': \"{'garage': False, 'street...</td>\n      <td>Vietnamese, Food, Seafood, Desserts, Restaurants</td>\n      <td>{'Monday': '10:0-22:0', 'Tuesday': '10:0-22:0'...</td>\n      <td>{'BusinessParking': '{'garage': False, 'street...</td>\n      <td>[street, RestaurantsAttire, RestaurantsPriceRa...</td>\n      <td>street RestaurantsAttire RestaurantsPriceRange...</td>\n      <td>0.770195</td>\n    </tr>\n    <tr>\n      <th>11357</th>\n      <td>35028</td>\n      <td>35028</td>\n      <td>9gk3EbZWho4jghwvk0J8OQ</td>\n      <td>Evolino's Hand Pies</td>\n      <td>103 Franklin St</td>\n      <td>Quincy</td>\n      <td>MA</td>\n      <td>02169</td>\n      <td>42.240354</td>\n      <td>-71.003456</td>\n      <td>5.0</td>\n      <td>68</td>\n      <td>0</td>\n      <td>{'RestaurantsTakeOut': 'True', 'WiFi': \"u'no'\"...</td>\n      <td>Restaurants, Food, American (Traditional), Med...</td>\n      <td>{'Monday': '11:30-19:0', 'Tuesday': '11:30-19:...</td>\n      <td>{'RestaurantsTakeOut': 'True', 'WiFi': 'u'no''...</td>\n      <td>[RestaurantsTakeOut, WiFi, BusinessAcceptsCred...</td>\n      <td>RestaurantsTakeOut WiFi BusinessAcceptsCreditC...</td>\n      <td>0.769318</td>\n    </tr>\n    <tr>\n      <th>16030</th>\n      <td>49312</td>\n      <td>49312</td>\n      <td>IRt_9aHwWTGLKKUdNiKjDQ</td>\n      <td>Steel &amp; Rye</td>\n      <td>95 Eliot St</td>\n      <td>Milton</td>\n      <td>MA</td>\n      <td>02186</td>\n      <td>42.269925</td>\n      <td>-71.072387</td>\n      <td>4.0</td>\n      <td>481</td>\n      <td>1</td>\n      <td>{'Alcohol': \"u'full_bar'\", 'WiFi': \"u'no'\", 'C...</td>\n      <td>American (Traditional), Local Flavor, American...</td>\n      <td>{'Monday': '11:0-21:0', 'Tuesday': '11:0-21:0'...</td>\n      <td>{'Alcohol': 'u'full_bar'', 'WiFi': 'u'no'', 'C...</td>\n      <td>[Alcohol, WiFi, OutdoorSeating, BikeParking, R...</td>\n      <td>Alcohol WiFi OutdoorSeating BikeParking Restau...</td>\n      <td>0.726956</td>\n    </tr>\n    <tr>\n      <th>50229</th>\n      <td>153120</td>\n      <td>153120</td>\n      <td>MiiKrogYwVvR4Hmk-kpzzQ</td>\n      <td>Ichiro Sushi</td>\n      <td>538A Adams St</td>\n      <td>Milton</td>\n      <td>MA</td>\n      <td>02186</td>\n      <td>42.258457</td>\n      <td>-71.040806</td>\n      <td>4.0</td>\n      <td>125</td>\n      <td>1</td>\n      <td>{'BusinessAcceptsCreditCards': 'True', 'Restau...</td>\n      <td>Sushi Bars, Restaurants, Japanese</td>\n      <td>{'Tuesday': '11:30-21:30', 'Wednesday': '11:30...</td>\n      <td>{'BusinessAcceptsCreditCards': 'True', 'Restau...</td>\n      <td>[BusinessAcceptsCreditCards, RestaurantsDelive...</td>\n      <td>BusinessAcceptsCreditCards RestaurantsDelivery...</td>\n      <td>0.714307</td>\n    </tr>\n    <tr>\n      <th>28982</th>\n      <td>88941</td>\n      <td>88941</td>\n      <td>M7d5jt6blFQWl6CmHOl2bQ</td>\n      <td>Fruit Center Marketplace</td>\n      <td>10 Bassett St</td>\n      <td>Milton</td>\n      <td>MA</td>\n      <td>02186</td>\n      <td>42.259950</td>\n      <td>-71.040769</td>\n      <td>4.0</td>\n      <td>83</td>\n      <td>1</td>\n      <td>{'BikeParking': 'True', 'BusinessParking': \"{'...</td>\n      <td>Food, Specialty Food, Grocery, Fruits &amp; Veggies</td>\n      <td>{'Monday': '0:0-0:0', 'Tuesday': '7:0-20:0', '...</td>\n      <td>{'BikeParking': 'True', 'BusinessParking': '{'...</td>\n      <td>[BikeParking, lot, RestaurantsPriceRange2, Bus...</td>\n      <td>BikeParking lot RestaurantsPriceRange2 Busines...</td>\n      <td>0.465990</td>\n    </tr>\n    <tr>\n      <th>46609</th>\n      <td>142211</td>\n      <td>142211</td>\n      <td>FkyABfAoBvwdfP_Bn2PIog</td>\n      <td>Thatcher Farm Dairy</td>\n      <td>267 Thacher St</td>\n      <td>Milton</td>\n      <td>MA</td>\n      <td>02186</td>\n      <td>42.255769</td>\n      <td>-71.084896</td>\n      <td>4.5</td>\n      <td>9</td>\n      <td>1</td>\n      <td>{'RestaurantsPriceRange2': '4', 'BusinessAccep...</td>\n      <td>Food, Grocery</td>\n      <td>NaN</td>\n      <td>{'RestaurantsPriceRange2': '4', 'BusinessAccep...</td>\n      <td>[RestaurantsPriceRange2, BusinessAcceptsCredit...</td>\n      <td>RestaurantsPriceRange2 BusinessAcceptsCreditCards</td>\n      <td>0.331700</td>\n    </tr>\n    <tr>\n      <th>11424</th>\n      <td>35196</td>\n      <td>35196</td>\n      <td>PFppNi9rZWAw5f8e5J41MQ</td>\n      <td>Crema Cafe</td>\n      <td>27 Brattle St</td>\n      <td>Cambridge</td>\n      <td>MA</td>\n      <td>02138</td>\n      <td>42.373501</td>\n      <td>-71.120680</td>\n      <td>4.0</td>\n      <td>1149</td>\n      <td>0</td>\n      <td>{'RestaurantsDelivery': 'False', 'NoiseLevel':...</td>\n      <td>Cafes, Restaurants, Coffee &amp; Tea, Food, Sandwi...</td>\n      <td>{'Monday': '7:0-21:0', 'Tuesday': '7:0-21:0', ...</td>\n      <td>{'RestaurantsDelivery': 'False', 'NoiseLevel':...</td>\n      <td>[NoiseLevel, street, GoodForKids, OutdoorSeati...</td>\n      <td>NoiseLevel street GoodForKids OutdoorSeating B...</td>\n      <td>0.884435</td>\n    </tr>\n    <tr>\n      <th>41810</th>\n      <td>127755</td>\n      <td>127755</td>\n      <td>mF0JmFab6K-iXrKapgJEtQ</td>\n      <td>Longfellows</td>\n      <td>284 Broadway</td>\n      <td>Cambridge</td>\n      <td>MA</td>\n      <td>02139</td>\n      <td>42.367817</td>\n      <td>-71.097926</td>\n      <td>4.5</td>\n      <td>111</td>\n      <td>0</td>\n      <td>{'WheelchairAccessible': 'True', 'HasTV': 'Fal...</td>\n      <td>Cafes, Breakfast &amp; Brunch, Sandwiches, Restaur...</td>\n      <td>{'Monday': '0:0-0:0', 'Tuesday': '7:30-15:0', ...</td>\n      <td>{'WheelchairAccessible': 'True', 'HasTV': 'Fal...</td>\n      <td>[WheelchairAccessible, BusinessAcceptsCreditCa...</td>\n      <td>WheelchairAccessible BusinessAcceptsCreditCard...</td>\n      <td>0.861759</td>\n    </tr>\n    <tr>\n      <th>13439</th>\n      <td>41380</td>\n      <td>41380</td>\n      <td>UebimivAeo1sMTExwxwxnA</td>\n      <td>Petsi Pies</td>\n      <td>31 Putnam Ave</td>\n      <td>Cambridge</td>\n      <td>MA</td>\n      <td>02139</td>\n      <td>42.368962</td>\n      <td>-71.113634</td>\n      <td>4.0</td>\n      <td>300</td>\n      <td>0</td>\n      <td>{'OutdoorSeating': 'False', 'BusinessAcceptsCr...</td>\n      <td>Restaurants, Food, Coffee &amp; Tea, Bakeries, Bre...</td>\n      <td>{'Monday': '7:0-18:0', 'Tuesday': '7:0-18:0', ...</td>\n      <td>{'OutdoorSeating': 'False', 'BusinessAcceptsCr...</td>\n      <td>[BusinessAcceptsCreditCards, BikeParking, stre...</td>\n      <td>BusinessAcceptsCreditCards BikeParking street ...</td>\n      <td>0.859189</td>\n    </tr>\n    <tr>\n      <th>22259</th>\n      <td>68546</td>\n      <td>68546</td>\n      <td>uYjGUWNtQrYenLUS0BYKKg</td>\n      <td>Petsi Pies</td>\n      <td>594 Cambridge St</td>\n      <td>Cambridge</td>\n      <td>MA</td>\n      <td>02141</td>\n      <td>42.371714</td>\n      <td>-71.086274</td>\n      <td>4.0</td>\n      <td>54</td>\n      <td>0</td>\n      <td>{'BusinessAcceptsCreditCards': 'True', 'Restau...</td>\n      <td>Sandwiches, Food, Cafes, Bakeries, Soup, Resta...</td>\n      <td>{'Monday': '7:0-16:0', 'Tuesday': '7:0-16:0', ...</td>\n      <td>{'BusinessAcceptsCreditCards': 'True', 'Restau...</td>\n      <td>[BusinessAcceptsCreditCards, RestaurantsPriceR...</td>\n      <td>BusinessAcceptsCreditCards RestaurantsPriceRan...</td>\n      <td>0.844605</td>\n    </tr>\n    <tr>\n      <th>9777</th>\n      <td>30175</td>\n      <td>30175</td>\n      <td>vkddMmPkAvZt-2V1QUaw7Q</td>\n      <td>Haute Coffee</td>\n      <td>1 Canal Park</td>\n      <td>Cambridge</td>\n      <td>MA</td>\n      <td>02141</td>\n      <td>42.369699</td>\n      <td>-71.076751</td>\n      <td>4.0</td>\n      <td>58</td>\n      <td>0</td>\n      <td>{'Alcohol': \"u'none'\", 'WiFi': \"'free'\", 'Rest...</td>\n      <td>Restaurants, Food, Sandwiches, Coffee &amp; Tea, B...</td>\n      <td>{'Monday': '0:0-0:0', 'Wednesday': '7:0-15:0',...</td>\n      <td>{'Alcohol': 'u'none'', 'WiFi': ''free'', 'Rest...</td>\n      <td>[Alcohol, WiFi, RestaurantsPriceRange2, Restau...</td>\n      <td>Alcohol WiFi RestaurantsPriceRange2 Restaurant...</td>\n      <td>0.839482</td>\n    </tr>\n    <tr>\n      <th>6080</th>\n      <td>18771</td>\n      <td>18771</td>\n      <td>-VVETvfXmdqtoJIwCRwJ3A</td>\n      <td>The Lobster Stop</td>\n      <td>723 Washington St</td>\n      <td>Quincy</td>\n      <td>MA</td>\n      <td>02169</td>\n      <td>42.245055</td>\n      <td>-70.971505</td>\n      <td>4.0</td>\n      <td>343</td>\n      <td>1</td>\n      <td>{'Alcohol': \"u'none'\", 'OutdoorSeating': 'Fals...</td>\n      <td>Seafood, Food, Sandwiches, Fish &amp; Chips, Resta...</td>\n      <td>{'Monday': '11:0-15:0', 'Tuesday': '11:0-15:0'...</td>\n      <td>{'Alcohol': 'u'none'', 'OutdoorSeating': 'Fals...</td>\n      <td>[Alcohol, RestaurantsAttire, casual, street, l...</td>\n      <td>Alcohol RestaurantsAttire casual street lot Re...</td>\n      <td>0.845394</td>\n    </tr>\n    <tr>\n      <th>21904</th>\n      <td>67437</td>\n      <td>67437</td>\n      <td>WGPQZMXwhFPgN6D_fk8t4Q</td>\n      <td>Burke's Seafood</td>\n      <td>61 Billings Rd</td>\n      <td>Quincy</td>\n      <td>MA</td>\n      <td>02171</td>\n      <td>42.273980</td>\n      <td>-71.024434</td>\n      <td>4.5</td>\n      <td>259</td>\n      <td>1</td>\n      <td>{'NoiseLevel': \"u'average'\", 'GoodForKids': 'T...</td>\n      <td>Restaurants, Food, Seafood Markets, Fish &amp; Chi...</td>\n      <td>{'Tuesday': '9:0-15:0', 'Wednesday': '9:0-15:0...</td>\n      <td>{'NoiseLevel': 'u'average'', 'GoodForKids': 'T...</td>\n      <td>[NoiseLevel, GoodForKids, RestaurantsAttire, W...</td>\n      <td>NoiseLevel GoodForKids RestaurantsAttire WiFi ...</td>\n      <td>0.809100</td>\n    </tr>\n    <tr>\n      <th>20926</th>\n      <td>64422</td>\n      <td>64422</td>\n      <td>Xg7pVJHfpqO2Zm742Qk7Xw</td>\n      <td>Bravo Pizzeria</td>\n      <td>531 Washington St</td>\n      <td>Quincy</td>\n      <td>MA</td>\n      <td>02169</td>\n      <td>42.247269</td>\n      <td>-70.979850</td>\n      <td>4.5</td>\n      <td>138</td>\n      <td>1</td>\n      <td>{'Caters': 'True', 'BikeParking': 'True', 'Res...</td>\n      <td>Pizza, Restaurants, Salad, Ice Cream &amp; Frozen ...</td>\n      <td>{'Monday': '11:0-23:0', 'Tuesday': '11:0-23:0'...</td>\n      <td>{'Caters': 'True', 'BikeParking': 'True', 'Res...</td>\n      <td>[Caters, BikeParking, RestaurantsAttire, HasTV...</td>\n      <td>Caters BikeParking RestaurantsAttire HasTV Res...</td>\n      <td>0.798138</td>\n    </tr>\n    <tr>\n      <th>26489</th>\n      <td>81493</td>\n      <td>81493</td>\n      <td>OUY-HxxovSLU9_NEVJMzeQ</td>\n      <td>Mignosa's Fruit Basket</td>\n      <td>148 Granite St</td>\n      <td>Quincy</td>\n      <td>MA</td>\n      <td>02169</td>\n      <td>42.245115</td>\n      <td>-71.006224</td>\n      <td>4.0</td>\n      <td>54</td>\n      <td>1</td>\n      <td>{'BusinessParking': \"{'garage': False, 'street...</td>\n      <td>Sandwiches, Restaurants, Food, Delis, Specialt...</td>\n      <td>{'Monday': '7:0-20:0', 'Tuesday': '7:0-20:0', ...</td>\n      <td>{'BusinessParking': '{'garage': False, 'street...</td>\n      <td>[lot, OutdoorSeating, BusinessAcceptsCreditCar...</td>\n      <td>lot OutdoorSeating BusinessAcceptsCreditCards ...</td>\n      <td>0.791038</td>\n    </tr>\n    <tr>\n      <th>15823</th>\n      <td>48688</td>\n      <td>48688</td>\n      <td>l66RKvRGJK5yADxkJ1RvJw</td>\n      <td>Shabu Restaurant</td>\n      <td>397 Hancock St</td>\n      <td>Quincy</td>\n      <td>MA</td>\n      <td>02171</td>\n      <td>42.274070</td>\n      <td>-71.025864</td>\n      <td>4.0</td>\n      <td>424</td>\n      <td>1</td>\n      <td>{'RestaurantsReservations': 'False', 'OutdoorS...</td>\n      <td>Vegetarian, Hot Pot, Restaurants, Vegan, Japan...</td>\n      <td>{'Monday': '0:0-0:0', 'Tuesday': '16:0-21:0', ...</td>\n      <td>{'RestaurantsReservations': 'False', 'OutdoorS...</td>\n      <td>[OutdoorSeating, HasTV, NoiseLevel, GoodForKid...</td>\n      <td>OutdoorSeating HasTV NoiseLevel GoodForKids Bu...</td>\n      <td>0.772636</td>\n    </tr>\n    <tr>\n      <th>48213</th>\n      <td>147083</td>\n      <td>147083</td>\n      <td>IuGBLn2vHbV-D21W5w17fg</td>\n      <td>The Healthy Kitchen</td>\n      <td>110 Willard St</td>\n      <td>Quincy</td>\n      <td>MA</td>\n      <td>02169</td>\n      <td>42.251557</td>\n      <td>-71.036379</td>\n      <td>4.0</td>\n      <td>49</td>\n      <td>1</td>\n      <td>{'RestaurantsGoodForGroups': 'True', 'Business...</td>\n      <td>Ice Cream &amp; Frozen Yogurt, American (Tradition...</td>\n      <td>{'Monday': '11:0-21:30', 'Tuesday': '11:0-21:3...</td>\n      <td>{'RestaurantsGoodForGroups': 'True', 'Business...</td>\n      <td>[RestaurantsGoodForGroups, street, lot, HasTV,...</td>\n      <td>RestaurantsGoodForGroups street lot HasTV Outd...</td>\n      <td>0.825985</td>\n    </tr>\n    <tr>\n      <th>192</th>\n      <td>571</td>\n      <td>571</td>\n      <td>D8-ssK_8w1WBajKCXUG5Uw</td>\n      <td>Baja Box</td>\n      <td>793 Quincy Shore Dr</td>\n      <td>Quincy</td>\n      <td>MA</td>\n      <td>02170</td>\n      <td>42.276249</td>\n      <td>-71.008837</td>\n      <td>4.0</td>\n      <td>102</td>\n      <td>1</td>\n      <td>{'BusinessAcceptsCreditCards': 'True', 'BikePa...</td>\n      <td>Restaurants, Mexican, Food, Tacos, Ice Cream &amp;...</td>\n      <td>{'Monday': '12:0-20:0', 'Tuesday': '12:0-20:0'...</td>\n      <td>{'BusinessAcceptsCreditCards': 'True', 'BikePa...</td>\n      <td>[BusinessAcceptsCreditCards, BikeParking, WiFi...</td>\n      <td>BusinessAcceptsCreditCards BikeParking WiFi Re...</td>\n      <td>0.817840</td>\n    </tr>\n    <tr>\n      <th>35277</th>\n      <td>108034</td>\n      <td>108034</td>\n      <td>5xQDI-NR1SbHR_jgpt9fSg</td>\n      <td>Evolino's Pizza &amp; Subs</td>\n      <td>103 Franklin St</td>\n      <td>Quincy</td>\n      <td>MA</td>\n      <td>02169</td>\n      <td>42.240354</td>\n      <td>-71.003456</td>\n      <td>5.0</td>\n      <td>29</td>\n      <td>0</td>\n      <td>{'Ambience': \"{'romantic': False, 'intimate': ...</td>\n      <td>Restaurants, Salad, Food, Sandwiches, Pizza</td>\n      <td>{'Monday': '11:30-19:0', 'Tuesday': '11:30-19:...</td>\n      <td>{'Ambience': '{'romantic': False, 'intimate': ...</td>\n      <td>[casual, NoiseLevel, BusinessAcceptsCreditCard...</td>\n      <td>casual NoiseLevel BusinessAcceptsCreditCards R...</td>\n      <td>0.813856</td>\n    </tr>\n    <tr>\n      <th>20926</th>\n      <td>64422</td>\n      <td>64422</td>\n      <td>Xg7pVJHfpqO2Zm742Qk7Xw</td>\n      <td>Bravo Pizzeria</td>\n      <td>531 Washington St</td>\n      <td>Quincy</td>\n      <td>MA</td>\n      <td>02169</td>\n      <td>42.247269</td>\n      <td>-70.979850</td>\n      <td>4.5</td>\n      <td>138</td>\n      <td>1</td>\n      <td>{'Caters': 'True', 'BikeParking': 'True', 'Res...</td>\n      <td>Pizza, Restaurants, Salad, Ice Cream &amp; Frozen ...</td>\n      <td>{'Monday': '11:0-23:0', 'Tuesday': '11:0-23:0'...</td>\n      <td>{'Caters': 'True', 'BikeParking': 'True', 'Res...</td>\n      <td>[Caters, BikeParking, RestaurantsAttire, HasTV...</td>\n      <td>Caters BikeParking RestaurantsAttire HasTV Res...</td>\n      <td>0.798872</td>\n    </tr>\n    <tr>\n      <th>16506</th>\n      <td>50783</td>\n      <td>50783</td>\n      <td>WKOW1PFVFFtdbRDHfjAw0A</td>\n      <td>Nick's Roast Beef &amp; Seafood</td>\n      <td>657 Southern Artery</td>\n      <td>Quincy</td>\n      <td>MA</td>\n      <td>02169</td>\n      <td>42.252092</td>\n      <td>-70.987830</td>\n      <td>4.5</td>\n      <td>18</td>\n      <td>0</td>\n      <td>{'NoiseLevel': \"u'quiet'\", 'WiFi': \"u'no'\", 'R...</td>\n      <td>Sandwiches, Restaurants, Pizza</td>\n      <td>{'Monday': '11:0-21:0', 'Tuesday': '11:0-22:0'...</td>\n      <td>{'NoiseLevel': 'u'quiet'', 'WiFi': 'u'no'', 'R...</td>\n      <td>[NoiseLevel, WiFi, RestaurantsPriceRange2, Alc...</td>\n      <td>NoiseLevel WiFi RestaurantsPriceRange2 Alcohol...</td>\n      <td>0.791889</td>\n    </tr>\n    <tr>\n      <th>16938</th>\n      <td>52110</td>\n      <td>52110</td>\n      <td>4lXOZikoMRUxC24ViFnzeQ</td>\n      <td>Fish n Chicken</td>\n      <td>110 Willard St</td>\n      <td>Quincy</td>\n      <td>MA</td>\n      <td>02169</td>\n      <td>42.251631</td>\n      <td>-71.036266</td>\n      <td>4.0</td>\n      <td>60</td>\n      <td>1</td>\n      <td>{'Caters': 'True', 'BikeParking': 'True', 'Res...</td>\n      <td>Restaurants, American (Traditional)</td>\n      <td>{'Monday': '11:0-21:30', 'Tuesday': '11:0-21:3...</td>\n      <td>{'Caters': 'True', 'BikeParking': 'True', 'Res...</td>\n      <td>[Caters, BikeParking, RestaurantsTakeOut, Alco...</td>\n      <td>Caters BikeParking RestaurantsTakeOut Alcohol ...</td>\n      <td>0.898628</td>\n    </tr>\n    <tr>\n      <th>11357</th>\n      <td>35028</td>\n      <td>35028</td>\n      <td>9gk3EbZWho4jghwvk0J8OQ</td>\n      <td>Evolino's Hand Pies</td>\n      <td>103 Franklin St</td>\n      <td>Quincy</td>\n      <td>MA</td>\n      <td>02169</td>\n      <td>42.240354</td>\n      <td>-71.003456</td>\n      <td>5.0</td>\n      <td>68</td>\n      <td>0</td>\n      <td>{'RestaurantsTakeOut': 'True', 'WiFi': \"u'no'\"...</td>\n      <td>Restaurants, Food, American (Traditional), Med...</td>\n      <td>{'Monday': '11:30-19:0', 'Tuesday': '11:30-19:...</td>\n      <td>{'RestaurantsTakeOut': 'True', 'WiFi': 'u'no''...</td>\n      <td>[RestaurantsTakeOut, WiFi, BusinessAcceptsCred...</td>\n      <td>RestaurantsTakeOut WiFi BusinessAcceptsCreditC...</td>\n      <td>0.845526</td>\n    </tr>\n    <tr>\n      <th>4540</th>\n      <td>13944</td>\n      <td>13944</td>\n      <td>mxk0UbRuG2kIgo5U4AyUyQ</td>\n      <td>Little Duck Thai Restaurant</td>\n      <td>57 Granite St</td>\n      <td>Quincy</td>\n      <td>MA</td>\n      <td>02169</td>\n      <td>42.248085</td>\n      <td>-71.004576</td>\n      <td>4.0</td>\n      <td>351</td>\n      <td>1</td>\n      <td>{'RestaurantsAttire': \"'casual'\", 'Restaurants...</td>\n      <td>Restaurants, Thai</td>\n      <td>{'Monday': '11:30-21:0', 'Wednesday': '11:30-2...</td>\n      <td>{'RestaurantsAttire': ''casual'', 'Restaurants...</td>\n      <td>[RestaurantsAttire, RestaurantsDelivery, Resta...</td>\n      <td>RestaurantsAttire RestaurantsDelivery Restaura...</td>\n      <td>0.807835</td>\n    </tr>\n    <tr>\n      <th>46287</th>\n      <td>141286</td>\n      <td>141286</td>\n      <td>HVp_-bPzLqFSzcSE3bRNxA</td>\n      <td>Yummy Cafe</td>\n      <td>669 Hancock St</td>\n      <td>Quincy</td>\n      <td>MA</td>\n      <td>02170</td>\n      <td>42.267589</td>\n      <td>-71.016151</td>\n      <td>4.0</td>\n      <td>98</td>\n      <td>0</td>\n      <td>{'RestaurantsTakeOut': 'True', 'HasTV': 'True'...</td>\n      <td>Restaurants, Chinese</td>\n      <td>{'Monday': '10:30-21:0', 'Tuesday': '10:30-21:...</td>\n      <td>{'RestaurantsTakeOut': 'True', 'HasTV': 'True'...</td>\n      <td>[RestaurantsTakeOut, HasTV, WiFi, NoiseLevel, ...</td>\n      <td>RestaurantsTakeOut HasTV WiFi NoiseLevel GoodF...</td>\n      <td>0.804093</td>\n    </tr>\n    <tr>\n      <th>28466</th>\n      <td>87338</td>\n      <td>87338</td>\n      <td>sueo3UfT1ZZirX69-s7POw</td>\n      <td>McKay's Breakfast and Lunch</td>\n      <td>144 Franklin St</td>\n      <td>Quincy</td>\n      <td>MA</td>\n      <td>02169</td>\n      <td>42.238816</td>\n      <td>-71.003113</td>\n      <td>4.0</td>\n      <td>179</td>\n      <td>1</td>\n      <td>{'GoodForKids': 'True', 'RestaurantsDelivery':...</td>\n      <td>Restaurants, American (Traditional), Breakfast...</td>\n      <td>{'Monday': '7:0-14:0', 'Tuesday': '7:0-14:0', ...</td>\n      <td>{'GoodForKids': 'True', 'RestaurantsDelivery':...</td>\n      <td>[GoodForKids, RestaurantsPriceRange2, Restaura...</td>\n      <td>GoodForKids RestaurantsPriceRange2 Restaurants...</td>\n      <td>0.799743</td>\n    </tr>\n    <tr>\n      <th>43030</th>\n      <td>131531</td>\n      <td>131531</td>\n      <td>DmtPWnRPEvnwVmMlvcahzA</td>\n      <td>16C</td>\n      <td>16 Cottage Ave</td>\n      <td>Quincy</td>\n      <td>MA</td>\n      <td>01069</td>\n      <td>42.248348</td>\n      <td>-71.001546</td>\n      <td>4.0</td>\n      <td>198</td>\n      <td>1</td>\n      <td>{'BusinessAcceptsCreditCards': 'True', 'Restau...</td>\n      <td>Restaurants, American (Traditional), Pizza, Sa...</td>\n      <td>{'Tuesday': '17:0-22:0', 'Wednesday': '17:0-22...</td>\n      <td>{'BusinessAcceptsCreditCards': 'True', 'Restau...</td>\n      <td>[BusinessAcceptsCreditCards, GoodForKids, Rest...</td>\n      <td>BusinessAcceptsCreditCards GoodForKids Restaur...</td>\n      <td>0.798566</td>\n    </tr>\n  </tbody>\n</table>\n</div>"
     },
     "execution_count": 20,
     "metadata": {},
     "output_type": "execute_result"
    }
   ],
   "source": [
    "# Single User Demo:\n",
    "\n",
    "user_iter = iter(user_id_set)\n",
    "user_id = next(user_iter)\n",
    "\n",
    "data = df_all_filtered[df_all_filtered['user_id'] == user_id]\n",
    "y_pred = get_all_user_recommendations(data, df_business, embedded_attributes, embedded_categories)\n",
    "y_pred\n"
   ],
   "metadata": {
    "collapsed": false,
    "pycharm": {
     "name": "#%%\n"
    }
   }
  },
  {
   "cell_type": "code",
   "execution_count": 26,
   "outputs": [],
   "source": [
    "# Test Loop Imports\n",
    "from sklearn.model_selection import train_test_split\n",
    "from tqdm.notebook import tqdm"
   ],
   "metadata": {
    "collapsed": false,
    "pycharm": {
     "name": "#%%\n"
    }
   }
  },
  {
   "cell_type": "code",
   "execution_count": 27,
   "outputs": [
    {
     "data": {
      "text/plain": "  0%|          | 0/100 [00:00<?, ?it/s]",
      "application/vnd.jupyter.widget-view+json": {
       "version_major": 2,
       "version_minor": 0,
       "model_id": "f1a2ddaf9d4c4056957d2fb98fe6dbd3"
      }
     },
     "metadata": {},
     "output_type": "display_data"
    },
    {
     "name": "stdout",
     "output_type": "stream",
     "text": [
      "0.15\n"
     ]
    }
   ],
   "source": [
    "# TEST LOOP\n",
    "user_iter = iter(user_id_set)\n",
    "hit = 0\n",
    "\n",
    "EXAMPLES = 100\n",
    "\n",
    "for dex in tqdm(range(EXAMPLES)):\n",
    "    user_id = next(user_iter)\n",
    "    data = df_all_filtered[df_all_filtered['user_id'] == user_id]\n",
    "    X, y = train_test_split(data, train_size=0.5)\n",
    "    y_pred = get_all_user_recommendations(X, df_business, embedded_attributes, embedded_categories)\n",
    "\n",
    "    y_businesses = set(y['business_id'].values)\n",
    "    y_pred_businesses = set(y_pred['business_id'].values)\n",
    "    if len(y_pred_businesses.intersection(y_businesses)) > 0:\n",
    "        hit += 1\n",
    "\n",
    "print(hit/EXAMPLES)"
   ],
   "metadata": {
    "collapsed": false,
    "pycharm": {
     "name": "#%%\n"
    }
   }
  },
  {
   "cell_type": "code",
   "execution_count": null,
   "outputs": [],
   "source": [
    "EXAMPLES = 1000\n",
    "\n",
    "for dex in tqdm(range(EXAMPLES)):\n",
    "    user_id = next(user_iter)\n",
    "    data = df_all_filtered[df_all_filtered['user_id'] == user_id]\n",
    "    X, y = train_test_split(data, train_size=0.5)\n",
    "    y_pred = get_all_user_recommendations(X, df_business, embedded_attributes, embedded_categories)\n",
    "\n",
    "    y_businesses = set(y['business_id'].values)\n",
    "    y_pred_businesses = set(y_pred['business_id'].values)\n",
    "    if len(y_pred_businesses.intersection(y_businesses)) > 0:\n",
    "        hit += 1\n",
    "\n",
    "print(hit/EXAMPLES)"
   ],
   "metadata": {
    "collapsed": false,
    "pycharm": {
     "name": "#%%\n"
    }
   }
  },
  {
   "cell_type": "markdown",
   "source": [
    "## Minimum Number of Reviews Threshold"
   ],
   "metadata": {
    "collapsed": false,
    "pycharm": {
     "name": "#%% md\n"
    }
   }
  },
  {
   "cell_type": "code",
   "execution_count": 35,
   "outputs": [
    {
     "data": {
      "text/plain": "  0%|          | 0/500 [00:00<?, ?it/s]",
      "application/vnd.jupyter.widget-view+json": {
       "version_major": 2,
       "version_minor": 0,
       "model_id": "28d4a97097854069a083a111b93c7dd3"
      }
     },
     "metadata": {},
     "output_type": "display_data"
    },
    {
     "name": "stdout",
     "output_type": "stream",
     "text": [
      "Threshold:  2 Accuracy 0.078\n",
      "Threshold:  4 Accuracy 0.15\n",
      "Threshold:  6 Accuracy 0.24\n",
      "Threshold:  8 Accuracy 0.268\n",
      "Threshold:  10 Accuracy 0.346\n",
      "Threshold:  12 Accuracy 0.43\n",
      "CPU times: user 1h 17min 49s, sys: 19min 37s, total: 1h 37min 26s\n",
      "Wall time: 17min 2s\n"
     ]
    },
    {
     "data": {
      "text/plain": "  0%|          | 0/500 [00:00<?, ?it/s]",
      "application/vnd.jupyter.widget-view+json": {
       "version_major": 2,
       "version_minor": 0,
       "model_id": "2e1cacd0d1ce48849ae8245e314d6e86"
      }
     },
     "metadata": {},
     "output_type": "display_data"
    },
    {
     "data": {
      "text/plain": "  0%|          | 0/500 [00:00<?, ?it/s]",
      "application/vnd.jupyter.widget-view+json": {
       "version_major": 2,
       "version_minor": 0,
       "model_id": "55bef8333d19473198ab7302647f62f7"
      }
     },
     "metadata": {},
     "output_type": "display_data"
    },
    {
     "data": {
      "text/plain": "  0%|          | 0/500 [00:00<?, ?it/s]",
      "application/vnd.jupyter.widget-view+json": {
       "version_major": 2,
       "version_minor": 0,
       "model_id": "c0018c2408504ebe93fc0e364ec1275c"
      }
     },
     "metadata": {},
     "output_type": "display_data"
    },
    {
     "data": {
      "text/plain": "  0%|          | 0/500 [00:00<?, ?it/s]",
      "application/vnd.jupyter.widget-view+json": {
       "version_major": 2,
       "version_minor": 0,
       "model_id": "bae65d1d3bbf4606b7d238e868fbe4d3"
      }
     },
     "metadata": {},
     "output_type": "display_data"
    },
    {
     "data": {
      "text/plain": "  0%|          | 0/500 [00:00<?, ?it/s]",
      "application/vnd.jupyter.widget-view+json": {
       "version_major": 2,
       "version_minor": 0,
       "model_id": "e86fd421a7ae4b5a81a8ae82e41888c0"
      }
     },
     "metadata": {},
     "output_type": "display_data"
    }
   ],
   "source": [
    "%%time\n",
    "min_thresholds = [2, 4, 6, 8, 10, 12]\n",
    "\n",
    "for threshold in min_thresholds:\n",
    "    df_all_filtered = df_user_and_review[df_user_and_review.groupby('user_id').transform('count')['review_id'] > threshold]\n",
    "    user_id_set = set(df_all_filtered['user_id'].values)\n",
    "    user_iter = iter(user_id_set)\n",
    "    hit = 0\n",
    "    EXAMPLES = 500\n",
    "\n",
    "    for dex in tqdm(range(EXAMPLES)):\n",
    "        user_id = next(user_iter)\n",
    "        data = df_all_filtered[df_all_filtered['user_id'] == user_id]\n",
    "        X, y = train_test_split(data, train_size=0.5)\n",
    "        y_pred = get_all_user_recommendations(X, df_business, embedded_attributes, embedded_categories)\n",
    "\n",
    "        y_businesses = set(y['business_id'].values)\n",
    "        y_pred_businesses = set(y_pred['business_id'].values)\n",
    "        if len(y_pred_businesses.intersection(y_businesses)) > 0:\n",
    "            hit += 1\n",
    "\n",
    "    print(\"Threshold: \", threshold, \"Accuracy\", hit/EXAMPLES)"
   ],
   "metadata": {
    "collapsed": false,
    "pycharm": {
     "name": "#%%\n"
    }
   }
  },
  {
   "cell_type": "markdown",
   "source": [
    "## Sample Prediction"
   ],
   "metadata": {
    "collapsed": false,
    "pycharm": {
     "name": "#%% md\n"
    }
   }
  },
  {
   "cell_type": "code",
   "execution_count": 67,
   "outputs": [],
   "source": [
    "df_all_filtered = df_user_and_review[df_user_and_review.groupby('user_id').transform('count')['review_id'] == 3]\n",
    "user_id_set = list(df_all_filtered['user_id'].values)\n",
    "user_id = user_id_set[0]\n",
    "data = df_all_filtered[df_all_filtered['user_id'] == user_id]\n",
    "y_pred = get_all_user_recommendations(data, df_business, embedded_attributes, embedded_categories)"
   ],
   "metadata": {
    "collapsed": false,
    "pycharm": {
     "name": "#%%\n"
    }
   }
  },
  {
   "cell_type": "code",
   "execution_count": 74,
   "outputs": [],
   "source": [
    "out_pred = pd.merge(df_business, y_pred, on='business_id')\n",
    "out_pred = out_pred[['name_x', 'city_x', 'state_x', 'attribute_string_y', 'categories_y', 'scores']].sort_values(by='scores', ascending=False)"
   ],
   "metadata": {
    "collapsed": false,
    "pycharm": {
     "name": "#%%\n"
    }
   }
  },
  {
   "cell_type": "code",
   "execution_count": 75,
   "outputs": [],
   "source": [
    "out_in = pd.merge(df_business, data, on='business_id')\n",
    "out_in = out_in[['name_x', 'city', 'state', 'attribute_string', 'categories']]\n",
    "#out_in[['name_x', 'city_x', 'state_x', 'attribute_string_y', 'categories_y']]"
   ],
   "metadata": {
    "collapsed": false,
    "pycharm": {
     "name": "#%%\n"
    }
   }
  },
  {
   "cell_type": "code",
   "execution_count": 100,
   "outputs": [],
   "source": [
    "import dataframe_image as dfi\n",
    "\n",
    "dfi.export(out_pred.head(15).reset_index(drop=True), 'data/business_predictions.png')\n",
    "dfi.export(out_in, 'data/positive_user.png')"
   ],
   "metadata": {
    "collapsed": false,
    "pycharm": {
     "name": "#%%\n"
    }
   }
  },
  {
   "cell_type": "code",
   "execution_count": 90,
   "outputs": [],
   "source": [
    "import seaborn as sns\n",
    "import matplotlib.pyplot as plt\n",
    "\n",
    "data_performance = {'minimum review count':[2, 4, 6, 8, 10, 12],\n",
    "                    'hit proportion':[0.078, 0.15, 0.24, 0.268, 0.346, 0.43]}\n",
    "data_speed = {'minimum review count':[2, 4, 6, 8, 10, 12],\n",
    "              'testing time (s)':[99, 121, 145, 172, 197, 259]}"
   ],
   "metadata": {
    "collapsed": false,
    "pycharm": {
     "name": "#%%\n"
    }
   }
  },
  {
   "cell_type": "code",
   "execution_count": 95,
   "outputs": [
    {
     "data": {
      "text/plain": "<Figure size 360x360 with 1 Axes>",
      "image/png": "[encoded data removed]"
     },
     "metadata": {},
     "output_type": "display_data"
    },
    {
     "data": {
      "text/plain": "<Figure size 360x360 with 1 Axes>",
      "image/png": "[encoded data removed]"
     },
     "metadata": {},
     "output_type": "display_data"
    }
   ],
   "source": [
    "sns.set_theme()\n",
    "sns_plot = sns.relplot(data=data_performance, x='minimum review count', y='hit proportion', kind='line')\n",
    "sns_plot.savefig('data/performance.png')\n",
    "plt.show()\n",
    "\n",
    "sns_plot = sns.relplot(data=data_speed, x='minimum review count', y='testing time (s)', kind='line')\n",
    "sns_plot.savefig('data/speed.png')\n",
    "plt.show()"
   ],
   "metadata": {
    "collapsed": false,
    "pycharm": {
     "name": "#%%\n"
    }
   }
  },
  {
   "cell_type": "code",
   "execution_count": 94,
   "outputs": [],
   "source": [
    "performance = pd.DataFrame(data_performance)\n",
    "dfi.export(performance, 'data/performance_table.png')"
   ],
   "metadata": {
    "collapsed": false,
    "pycharm": {
     "name": "#%%\n"
    }
   }
  },
  {
   "cell_type": "code",
   "execution_count": null,
   "outputs": [],
   "source": [],
   "metadata": {
    "collapsed": false,
    "pycharm": {
     "name": "#%%\n"
    }
   }
  }
 ],
 "metadata": {
  "kernelspec": {
   "display_name": "Python 3",
   "language": "python",
   "name": "python3"
  },
  "language_info": {
   "codemirror_mode": {
    "name": "ipython",
    "version": 2
   },
   "file_extension": ".py",
   "mimetype": "text/x-python",
   "name": "python",
   "nbconvert_exporter": "python",
   "pygments_lexer": "ipython2",
   "version": "2.7.6"
  }
 },
 "nbformat": 4,
 "nbformat_minor": 0
}