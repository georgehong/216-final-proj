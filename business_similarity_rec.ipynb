{
 "cells": [
  {
   "cell_type": "markdown",
   "metadata": {
    "collapsed": true,
    "pycharm": {
     "name": "#%% md\n"
    }
   },
   "source": [
    "## Recommender Based on Universal Sentence Encoder"
   ]
  },
  {
   "cell_type": "code",
   "execution_count": 1,
   "outputs": [],
   "source": [
    "import pandas as pd\n",
    "import numpy as np\n",
    "import tensorflow_hub as hub\n",
    "import ast"
   ],
   "metadata": {
    "collapsed": false,
    "pycharm": {
     "name": "#%%\n"
    }
   }
  },
  {
   "cell_type": "code",
   "execution_count": 9,
   "outputs": [],
   "source": [
    "embedder = hub.load(\"https://tfhub.dev/google/universal-sentence-encoder/4\")\n",
    "EMBEDDED_CATEGORIES_FILE = 'data/embedded_categories.npy'\n",
    "EMBEDDED_ATTRIBUTES_FILE = 'data/embedded_attributes.npy'"
   ],
   "metadata": {
    "collapsed": false,
    "pycharm": {
     "name": "#%%\n"
    }
   }
  },
  {
   "cell_type": "code",
   "execution_count": 3,
   "outputs": [],
   "source": [
    "def cosine_similarity(mat, vec):\n",
    "    \"\"\"\n",
    "    Calculate cosine similarity scores\n",
    "\n",
    "    :param mat: 2D array of all targets\n",
    "    :param vec: 1D array of vector to compare to\n",
    "    :return: all cosine similarity scores to vec\n",
    "    \"\"\"\n",
    "    vec_mag = np.linalg.norm(vec)\n",
    "    mat_mag = np.linalg.norm(mat, axis=1).reshape((-1, 1))\n",
    "    return (1/vec_mag) * np.dot(mat, vec).reshape((-1, 1)) / mat_mag\n",
    "\n",
    "def return_attribute_soup(input):\n",
    "    \"\"\"\n",
    "    Converts dictionary of inputs into list of items that are true.  Can also handle nested examples\n",
    "\n",
    "    :param input: dictionary of attributes\n",
    "    :return: list of keys\n",
    "    \"\"\"\n",
    "    current = []\n",
    "    for key in input:\n",
    "        # Inner dictionaries appear to be malformed in places\n",
    "        try:\n",
    "            value = ast.literal_eval(input[key])\n",
    "        except ValueError:\n",
    "            value = input[key]\n",
    "        if isinstance(value, dict):\n",
    "            current.extend(return_attribute_soup(value))\n",
    "        elif value not in (False, 'No', 'False'):\n",
    "            current.append(key)\n",
    "    return current"
   ],
   "metadata": {
    "collapsed": false,
    "pycharm": {
     "name": "#%%\n"
    }
   }
  },
  {
   "cell_type": "code",
   "execution_count": 4,
   "outputs": [],
   "source": [
    "df_business = pd.read_csv('data/yelp_academic_dataset_business.csv')\n",
    "df_business = df_business.dropna(subset=['categories'])\n",
    "df_business['attributes'] = df_business['attributes'].fillna('{}')"
   ],
   "metadata": {
    "collapsed": false,
    "pycharm": {
     "name": "#%%\n"
    }
   }
  },
  {
   "cell_type": "code",
   "execution_count": 5,
   "outputs": [],
   "source": [
    "df_business['attribute_dict'] = df_business['attributes'].apply(ast.literal_eval)\n",
    "df_business['attribute_soup'] = df_business['attribute_dict'].apply(return_attribute_soup)\n",
    "df_business['attribute_string'] = df_business['attribute_soup'].apply(lambda x: ' '.join(map(str, x)))"
   ],
   "metadata": {
    "collapsed": false,
    "pycharm": {
     "name": "#%%\n"
    }
   }
  },
  {
   "cell_type": "code",
   "execution_count": 6,
   "outputs": [
    {
     "data": {
      "text/plain": "   Unnamed: 0             business_id                     name  \\\n0           0  6iYb2HFDywm3zjuRg0shjw      Oskar Blues Taproom   \n1           1  tCbdrRPZA0oiIYSmHG3J0w  Flying Elephants at PDX   \n2           2  bvN78flM8NLprQ1a1y5dRg           The Reclaimory   \n3           3  oaepsyvc0J17qwi8cfrOWg              Great Clips   \n4           4  PE9uqAjdw0E4-8mjGl3wVA        Crossfit Terminus   \n\n               address         city state postal_code   latitude   longitude  \\\n0         921 Pearl St      Boulder    CO       80302  40.017544 -105.283348   \n1  7000 NE Airport Way     Portland    OR       97218  45.588906 -122.593331   \n2   4720 Hawthorne Ave     Portland    OR       97214  45.511907 -122.613693   \n3   2566 Enterprise Rd  Orange City    FL       32763  28.914482  -81.295979   \n4  1046 Memorial Dr SE      Atlanta    GA       30316  33.747027  -84.353424   \n\n   stars  review_count  is_open  \\\n0    4.0            86        1   \n1    4.0           126        1   \n2    4.5            13        1   \n3    3.0             8        1   \n4    4.0            14        1   \n\n                                          attributes  \\\n0  {'RestaurantsTableService': 'True', 'WiFi': \"u...   \n1  {'RestaurantsTakeOut': 'True', 'RestaurantsAtt...   \n2  {'BusinessAcceptsCreditCards': 'True', 'Restau...   \n3  {'RestaurantsPriceRange2': '1', 'BusinessAccep...   \n4  {'GoodForKids': 'False', 'BusinessParking': \"{...   \n\n                                          categories  \\\n0  Gastropubs, Food, Beer Gardens, Restaurants, B...   \n1  Salad, Soup, Sandwiches, Delis, Restaurants, C...   \n2  Antiques, Fashion, Used, Vintage & Consignment...   \n3                         Beauty & Spas, Hair Salons   \n4  Gyms, Active Life, Interval Training Gyms, Fit...   \n\n                                               hours  \\\n0  {'Monday': '11:0-23:0', 'Tuesday': '11:0-23:0'...   \n1  {'Monday': '5:0-18:0', 'Tuesday': '5:0-17:0', ...   \n2  {'Thursday': '11:0-18:0', 'Friday': '11:0-18:0...   \n3                                                NaN   \n4  {'Monday': '16:0-19:0', 'Tuesday': '16:0-19:0'...   \n\n                                      attribute_dict  \\\n0  {'RestaurantsTableService': 'True', 'WiFi': 'u...   \n1  {'RestaurantsTakeOut': 'True', 'RestaurantsAtt...   \n2  {'BusinessAcceptsCreditCards': 'True', 'Restau...   \n3  {'RestaurantsPriceRange2': '1', 'BusinessAccep...   \n4  {'GoodForKids': 'False', 'BusinessParking': '{...   \n\n                                      attribute_soup  \\\n0  [RestaurantsTableService, WiFi, BikeParking, s...   \n1  [RestaurantsTakeOut, RestaurantsAttire, GoodFo...   \n2  [BusinessAcceptsCreditCards, RestaurantsPriceR...   \n3  [RestaurantsPriceRange2, BusinessAcceptsCredit...   \n4                       [BusinessAcceptsCreditCards]   \n\n                                    attribute_string  \n0  RestaurantsTableService WiFi BikeParking stree...  \n1  RestaurantsTakeOut RestaurantsAttire GoodForKi...  \n2  BusinessAcceptsCreditCards RestaurantsPriceRan...  \n3  RestaurantsPriceRange2 BusinessAcceptsCreditCa...  \n4                         BusinessAcceptsCreditCards  ",
      "text/html": "<div>\n<style scoped>\n    .dataframe tbody tr th:only-of-type {\n        vertical-align: middle;\n    }\n\n    .dataframe tbody tr th {\n        vertical-align: top;\n    }\n\n    .dataframe thead th {\n        text-align: right;\n    }\n</style>\n<table border=\"1\" class=\"dataframe\">\n  <thead>\n    <tr style=\"text-align: right;\">\n      <th></th>\n      <th>Unnamed: 0</th>\n      <th>business_id</th>\n      <th>name</th>\n      <th>address</th>\n      <th>city</th>\n      <th>state</th>\n      <th>postal_code</th>\n      <th>latitude</th>\n      <th>longitude</th>\n      <th>stars</th>\n      <th>review_count</th>\n      <th>is_open</th>\n      <th>attributes</th>\n      <th>categories</th>\n      <th>hours</th>\n      <th>attribute_dict</th>\n      <th>attribute_soup</th>\n      <th>attribute_string</th>\n    </tr>\n  </thead>\n  <tbody>\n    <tr>\n      <th>0</th>\n      <td>0</td>\n      <td>6iYb2HFDywm3zjuRg0shjw</td>\n      <td>Oskar Blues Taproom</td>\n      <td>921 Pearl St</td>\n      <td>Boulder</td>\n      <td>CO</td>\n      <td>80302</td>\n      <td>40.017544</td>\n      <td>-105.283348</td>\n      <td>4.0</td>\n      <td>86</td>\n      <td>1</td>\n      <td>{'RestaurantsTableService': 'True', 'WiFi': \"u...</td>\n      <td>Gastropubs, Food, Beer Gardens, Restaurants, B...</td>\n      <td>{'Monday': '11:0-23:0', 'Tuesday': '11:0-23:0'...</td>\n      <td>{'RestaurantsTableService': 'True', 'WiFi': 'u...</td>\n      <td>[RestaurantsTableService, WiFi, BikeParking, s...</td>\n      <td>RestaurantsTableService WiFi BikeParking stree...</td>\n    </tr>\n    <tr>\n      <th>1</th>\n      <td>1</td>\n      <td>tCbdrRPZA0oiIYSmHG3J0w</td>\n      <td>Flying Elephants at PDX</td>\n      <td>7000 NE Airport Way</td>\n      <td>Portland</td>\n      <td>OR</td>\n      <td>97218</td>\n      <td>45.588906</td>\n      <td>-122.593331</td>\n      <td>4.0</td>\n      <td>126</td>\n      <td>1</td>\n      <td>{'RestaurantsTakeOut': 'True', 'RestaurantsAtt...</td>\n      <td>Salad, Soup, Sandwiches, Delis, Restaurants, C...</td>\n      <td>{'Monday': '5:0-18:0', 'Tuesday': '5:0-17:0', ...</td>\n      <td>{'RestaurantsTakeOut': 'True', 'RestaurantsAtt...</td>\n      <td>[RestaurantsTakeOut, RestaurantsAttire, GoodFo...</td>\n      <td>RestaurantsTakeOut RestaurantsAttire GoodForKi...</td>\n    </tr>\n    <tr>\n      <th>2</th>\n      <td>2</td>\n      <td>bvN78flM8NLprQ1a1y5dRg</td>\n      <td>The Reclaimory</td>\n      <td>4720 Hawthorne Ave</td>\n      <td>Portland</td>\n      <td>OR</td>\n      <td>97214</td>\n      <td>45.511907</td>\n      <td>-122.613693</td>\n      <td>4.5</td>\n      <td>13</td>\n      <td>1</td>\n      <td>{'BusinessAcceptsCreditCards': 'True', 'Restau...</td>\n      <td>Antiques, Fashion, Used, Vintage &amp; Consignment...</td>\n      <td>{'Thursday': '11:0-18:0', 'Friday': '11:0-18:0...</td>\n      <td>{'BusinessAcceptsCreditCards': 'True', 'Restau...</td>\n      <td>[BusinessAcceptsCreditCards, RestaurantsPriceR...</td>\n      <td>BusinessAcceptsCreditCards RestaurantsPriceRan...</td>\n    </tr>\n    <tr>\n      <th>3</th>\n      <td>3</td>\n      <td>oaepsyvc0J17qwi8cfrOWg</td>\n      <td>Great Clips</td>\n      <td>2566 Enterprise Rd</td>\n      <td>Orange City</td>\n      <td>FL</td>\n      <td>32763</td>\n      <td>28.914482</td>\n      <td>-81.295979</td>\n      <td>3.0</td>\n      <td>8</td>\n      <td>1</td>\n      <td>{'RestaurantsPriceRange2': '1', 'BusinessAccep...</td>\n      <td>Beauty &amp; Spas, Hair Salons</td>\n      <td>NaN</td>\n      <td>{'RestaurantsPriceRange2': '1', 'BusinessAccep...</td>\n      <td>[RestaurantsPriceRange2, BusinessAcceptsCredit...</td>\n      <td>RestaurantsPriceRange2 BusinessAcceptsCreditCa...</td>\n    </tr>\n    <tr>\n      <th>4</th>\n      <td>4</td>\n      <td>PE9uqAjdw0E4-8mjGl3wVA</td>\n      <td>Crossfit Terminus</td>\n      <td>1046 Memorial Dr SE</td>\n      <td>Atlanta</td>\n      <td>GA</td>\n      <td>30316</td>\n      <td>33.747027</td>\n      <td>-84.353424</td>\n      <td>4.0</td>\n      <td>14</td>\n      <td>1</td>\n      <td>{'GoodForKids': 'False', 'BusinessParking': \"{...</td>\n      <td>Gyms, Active Life, Interval Training Gyms, Fit...</td>\n      <td>{'Monday': '16:0-19:0', 'Tuesday': '16:0-19:0'...</td>\n      <td>{'GoodForKids': 'False', 'BusinessParking': '{...</td>\n      <td>[BusinessAcceptsCreditCards]</td>\n      <td>BusinessAcceptsCreditCards</td>\n    </tr>\n  </tbody>\n</table>\n</div>"
     },
     "execution_count": 6,
     "metadata": {},
     "output_type": "execute_result"
    }
   ],
   "source": [
    "df_business.head()\n"
   ],
   "metadata": {
    "collapsed": false,
    "pycharm": {
     "name": "#%%\n"
    }
   }
  },
  {
   "cell_type": "code",
   "execution_count": 10,
   "outputs": [
    {
     "name": "stdout",
     "output_type": "stream",
     "text": [
      "ARRAY(S) NOT FOUND. EMBEDDING:\n",
      "EMBEDDINGS SAVED\n"
     ]
    }
   ],
   "source": [
    "try:\n",
    "    with open(EMBEDDED_CATEGORIES_FILE, 'rb') as f:\n",
    "        embedded_categories = np.load(EMBEDDED_CATEGORIES_FILE, allow_pickle=True)\n",
    "\n",
    "    with open(EMBEDDED_ATTRIBUTES_FILE, 'rb') as f:\n",
    "        embedded_attributes = np.load(EMBEDDED_ATTRIBUTES_FILE, allow_pickle=True)\n",
    "\n",
    "    print('EMBEDDINGS LOADED')\n",
    "\n",
    "except IOError as e:\n",
    "    print('ARRAY(S) NOT FOUND. EMBEDDING:')\n",
    "    categories = list(df_business['categories'])\n",
    "    embedded_categories = embedder(categories).numpy()\n",
    "    np.save(EMBEDDED_CATEGORIES_FILE, embedded_categories)\n",
    "\n",
    "    attributes = list(df_business['attribute_string'])\n",
    "    embedded_attributes = embedder(attributes).numpy()\n",
    "    np.save(EMBEDDED_ATTRIBUTES_FILE, embedded_attributes)\n",
    "    print('EMBEDDINGS SAVED')"
   ],
   "metadata": {
    "collapsed": false,
    "pycharm": {
     "name": "#%%\n"
    }
   }
  },
  {
   "cell_type": "code",
   "execution_count": 14,
   "outputs": [
    {
     "data": {
      "text/plain": "array([[-0.0276633 ,  0.00761654, -0.02711659, ..., -0.03886824,\n        -0.04586763, -0.08839873],\n       [-0.0705768 ,  0.00129631, -0.06778074, ..., -0.06274288,\n        -0.04824021,  0.0047615 ],\n       [-0.04613002,  0.02605862, -0.02970327, ...,  0.00173576,\n        -0.00088245, -0.02037748],\n       ...,\n       [-0.00770766,  0.03912623,  0.04667362, ..., -0.00783631,\n        -0.0218939 , -0.06485061],\n       [ 0.08441994, -0.02555969,  0.04712285, ...,  0.00609742,\n         0.02619056, -0.04860131],\n       [-0.07634011, -0.01020356, -0.02329722, ..., -0.06450093,\n        -0.059017  , -0.07953931]], dtype=float32)"
     },
     "execution_count": 14,
     "metadata": {},
     "output_type": "execute_result"
    }
   ],
   "source": [
    "embedded_attributes\n",
    "embedded_categories"
   ],
   "metadata": {
    "collapsed": false,
    "pycharm": {
     "name": "#%%\n"
    }
   }
  },
  {
   "cell_type": "code",
   "execution_count": 66,
   "outputs": [],
   "source": [
    "def get_knn(input, embedded_attributes, embedded_categories, df_business, k=5, category_weighting=0.75, min_rating=-1):\n",
    "    \"\"\"\n",
    "    Get the most similar businesses by knn search and sort\n",
    "\n",
    "    :param input: input business, in the form of a Series\n",
    "    :param embedded_attributes: services offered at the business\n",
    "    :param embedded_categories: embedded categories (business type)\n",
    "    :param df_business: DataFrame of all business info that must match embedded_attributes\n",
    "    :param k: Number of top results desired\n",
    "    :param category_weighting: emphasis placed on the contents of the restaurant.\n",
    "    :return: DataFrame of similar businesses\n",
    "    \"\"\"\n",
    "    assert df_business.shape[0] == embedded_categories.shape[0]\n",
    "    assert df_business.shape[0] == embedded_attributes.shape[0]\n",
    "    df_business_copy = df_business.copy()\n",
    "    query_category = input.loc['categories']\n",
    "    query_attributes = input.loc['attribute_string']\n",
    "    print(input.loc['name'])\n",
    "    embedded_query_category = embedder([query_category]).numpy().flatten()\n",
    "    embedded_query_attributes = embedder([query_attributes]).numpy().flatten()\n",
    "\n",
    "    categ_simil_scores = cosine_similarity(embedded_categories, embedded_query_category).flatten()\n",
    "    attri_simil_scores = cosine_similarity(embedded_attributes, embedded_query_attributes).flatten()\n",
    "\n",
    "    weighted_simil_scores = category_weighting * categ_simil_scores + (1 - category_weighting) + attri_simil_scores\n",
    "    weighted_simil_scores *= 0.5\n",
    "\n",
    "    df_business_copy['scores'] = weighted_simil_scores\n",
    "    indices = np.argsort(weighted_simil_scores)[-k:][::-1]\n",
    "    ret = df_business_copy.iloc[indices, :]\n",
    "    return ret[ret['stars'] >= min_rating]"
   ],
   "metadata": {
    "collapsed": false,
    "pycharm": {
     "name": "#%%\n"
    }
   }
  },
  {
   "cell_type": "code",
   "execution_count": 67,
   "outputs": [
    {
     "name": "stdout",
     "output_type": "stream",
     "text": [
      "Oskar Blues Taproom\n"
     ]
    },
    {
     "data": {
      "text/plain": "        Unnamed: 0             business_id                              name  \\\n0                0  6iYb2HFDywm3zjuRg0shjw               Oskar Blues Taproom   \n10738        10738  boxxtYkfzxYOzYto-wqNeA  Little Beast Brewing Beer Garden   \n50267        50267  -QuBaSAqLo_7X_oxICHXgQ         Sasquatch Brewing Company   \n85117        85117  0jCImVFJe4_v18SItX6A4A                Loose Rail Brewing   \n123932      123932  rh54WE44Y8tHCeQiS4iByg                    Walnut Brewery   \n\n                    address              city state postal_code   latitude  \\\n0              921 Pearl St           Boulder    CO       80302  40.017544   \n10738   3412 SE Division St          Portland    OR       97202  45.504537   \n50267      2531 NW 30th Ave          Portland    OR       97210  45.540555   \n85117   37 West Waterloo St  Canal Winchester    OH       43110  39.843246   \n123932       1123 Walnut St           Boulder    CO       80302  40.016956   \n\n         longitude  stars  review_count  is_open  \\\n0      -105.283348    4.0            86        1   \n10738  -122.629204    4.0            90        1   \n50267  -122.712826    4.5            47        1   \n85117   -82.807061    4.5            27        1   \n123932 -105.280501    3.5           218        0   \n\n                                               attributes  \\\n0       {'RestaurantsTableService': 'True', 'WiFi': \"u...   \n10738   {'RestaurantsTableService': 'True', 'Restauran...   \n50267   {'Caters': 'True', 'RestaurantsTableService': ...   \n85117   {'RestaurantsGoodForGroups': 'True', 'Business...   \n123932  {'RestaurantsReservations': 'True', 'HasTV': '...   \n\n                                               categories  \\\n0       Gastropubs, Food, Beer Gardens, Restaurants, B...   \n10738   Food, Beer Gardens, American (Traditional), Be...   \n50267   Breweries, Cideries, Sandwiches, Food, Bars, R...   \n85117          Food, Bars, Nightlife, Beer Bar, Breweries   \n123932  Nightlife, American (Traditional), Breweries, ...   \n\n                                                    hours  \\\n0       {'Monday': '11:0-23:0', 'Tuesday': '11:0-23:0'...   \n10738   {'Monday': '0:0-0:0', 'Tuesday': '15:0-21:0', ...   \n50267   {'Monday': '0:0-0:0', 'Tuesday': '11:30-20:0',...   \n85117   {'Tuesday': '17:0-22:0', 'Wednesday': '17:0-22...   \n123932  {'Monday': '11:0-22:30', 'Tuesday': '11:0-22:3...   \n\n                                           attribute_dict  \\\n0       {'RestaurantsTableService': 'True', 'WiFi': 'u...   \n10738   {'RestaurantsTableService': 'True', 'Restauran...   \n50267   {'Caters': 'True', 'RestaurantsTableService': ...   \n85117   {'RestaurantsGoodForGroups': 'True', 'Business...   \n123932  {'RestaurantsReservations': 'True', 'HasTV': '...   \n\n                                           attribute_soup  \\\n0       [RestaurantsTableService, WiFi, BikeParking, s...   \n10738   [RestaurantsTableService, RestaurantsGoodForGr...   \n50267   [Caters, BusinessAcceptsCreditCards, Alcohol, ...   \n85117   [RestaurantsGoodForGroups, street, WiFi, Noise...   \n123932  [RestaurantsReservations, HasTV, RestaurantsAt...   \n\n                                         attribute_string    scores  \n0       RestaurantsTableService WiFi BikeParking stree...  1.000000  \n10738   RestaurantsTableService RestaurantsGoodForGrou...  0.856188  \n50267   Caters BusinessAcceptsCreditCards Alcohol Rest...  0.842661  \n85117   RestaurantsGoodForGroups street WiFi NoiseLeve...  0.836888  \n123932  RestaurantsReservations HasTV RestaurantsAttir...  0.827680  ",
      "text/html": "<div>\n<style scoped>\n    .dataframe tbody tr th:only-of-type {\n        vertical-align: middle;\n    }\n\n    .dataframe tbody tr th {\n        vertical-align: top;\n    }\n\n    .dataframe thead th {\n        text-align: right;\n    }\n</style>\n<table border=\"1\" class=\"dataframe\">\n  <thead>\n    <tr style=\"text-align: right;\">\n      <th></th>\n      <th>Unnamed: 0</th>\n      <th>business_id</th>\n      <th>name</th>\n      <th>address</th>\n      <th>city</th>\n      <th>state</th>\n      <th>postal_code</th>\n      <th>latitude</th>\n      <th>longitude</th>\n      <th>stars</th>\n      <th>review_count</th>\n      <th>is_open</th>\n      <th>attributes</th>\n      <th>categories</th>\n      <th>hours</th>\n      <th>attribute_dict</th>\n      <th>attribute_soup</th>\n      <th>attribute_string</th>\n      <th>scores</th>\n    </tr>\n  </thead>\n  <tbody>\n    <tr>\n      <th>0</th>\n      <td>0</td>\n      <td>6iYb2HFDywm3zjuRg0shjw</td>\n      <td>Oskar Blues Taproom</td>\n      <td>921 Pearl St</td>\n      <td>Boulder</td>\n      <td>CO</td>\n      <td>80302</td>\n      <td>40.017544</td>\n      <td>-105.283348</td>\n      <td>4.0</td>\n      <td>86</td>\n      <td>1</td>\n      <td>{'RestaurantsTableService': 'True', 'WiFi': \"u...</td>\n      <td>Gastropubs, Food, Beer Gardens, Restaurants, B...</td>\n      <td>{'Monday': '11:0-23:0', 'Tuesday': '11:0-23:0'...</td>\n      <td>{'RestaurantsTableService': 'True', 'WiFi': 'u...</td>\n      <td>[RestaurantsTableService, WiFi, BikeParking, s...</td>\n      <td>RestaurantsTableService WiFi BikeParking stree...</td>\n      <td>1.000000</td>\n    </tr>\n    <tr>\n      <th>10738</th>\n      <td>10738</td>\n      <td>boxxtYkfzxYOzYto-wqNeA</td>\n      <td>Little Beast Brewing Beer Garden</td>\n      <td>3412 SE Division St</td>\n      <td>Portland</td>\n      <td>OR</td>\n      <td>97202</td>\n      <td>45.504537</td>\n      <td>-122.629204</td>\n      <td>4.0</td>\n      <td>90</td>\n      <td>1</td>\n      <td>{'RestaurantsTableService': 'True', 'Restauran...</td>\n      <td>Food, Beer Gardens, American (Traditional), Be...</td>\n      <td>{'Monday': '0:0-0:0', 'Tuesday': '15:0-21:0', ...</td>\n      <td>{'RestaurantsTableService': 'True', 'Restauran...</td>\n      <td>[RestaurantsTableService, RestaurantsGoodForGr...</td>\n      <td>RestaurantsTableService RestaurantsGoodForGrou...</td>\n      <td>0.856188</td>\n    </tr>\n    <tr>\n      <th>50267</th>\n      <td>50267</td>\n      <td>-QuBaSAqLo_7X_oxICHXgQ</td>\n      <td>Sasquatch Brewing Company</td>\n      <td>2531 NW 30th Ave</td>\n      <td>Portland</td>\n      <td>OR</td>\n      <td>97210</td>\n      <td>45.540555</td>\n      <td>-122.712826</td>\n      <td>4.5</td>\n      <td>47</td>\n      <td>1</td>\n      <td>{'Caters': 'True', 'RestaurantsTableService': ...</td>\n      <td>Breweries, Cideries, Sandwiches, Food, Bars, R...</td>\n      <td>{'Monday': '0:0-0:0', 'Tuesday': '11:30-20:0',...</td>\n      <td>{'Caters': 'True', 'RestaurantsTableService': ...</td>\n      <td>[Caters, BusinessAcceptsCreditCards, Alcohol, ...</td>\n      <td>Caters BusinessAcceptsCreditCards Alcohol Rest...</td>\n      <td>0.842661</td>\n    </tr>\n    <tr>\n      <th>85117</th>\n      <td>85117</td>\n      <td>0jCImVFJe4_v18SItX6A4A</td>\n      <td>Loose Rail Brewing</td>\n      <td>37 West Waterloo St</td>\n      <td>Canal Winchester</td>\n      <td>OH</td>\n      <td>43110</td>\n      <td>39.843246</td>\n      <td>-82.807061</td>\n      <td>4.5</td>\n      <td>27</td>\n      <td>1</td>\n      <td>{'RestaurantsGoodForGroups': 'True', 'Business...</td>\n      <td>Food, Bars, Nightlife, Beer Bar, Breweries</td>\n      <td>{'Tuesday': '17:0-22:0', 'Wednesday': '17:0-22...</td>\n      <td>{'RestaurantsGoodForGroups': 'True', 'Business...</td>\n      <td>[RestaurantsGoodForGroups, street, WiFi, Noise...</td>\n      <td>RestaurantsGoodForGroups street WiFi NoiseLeve...</td>\n      <td>0.836888</td>\n    </tr>\n    <tr>\n      <th>123932</th>\n      <td>123932</td>\n      <td>rh54WE44Y8tHCeQiS4iByg</td>\n      <td>Walnut Brewery</td>\n      <td>1123 Walnut St</td>\n      <td>Boulder</td>\n      <td>CO</td>\n      <td>80302</td>\n      <td>40.016956</td>\n      <td>-105.280501</td>\n      <td>3.5</td>\n      <td>218</td>\n      <td>0</td>\n      <td>{'RestaurantsReservations': 'True', 'HasTV': '...</td>\n      <td>Nightlife, American (Traditional), Breweries, ...</td>\n      <td>{'Monday': '11:0-22:30', 'Tuesday': '11:0-22:3...</td>\n      <td>{'RestaurantsReservations': 'True', 'HasTV': '...</td>\n      <td>[RestaurantsReservations, HasTV, RestaurantsAt...</td>\n      <td>RestaurantsReservations HasTV RestaurantsAttir...</td>\n      <td>0.827680</td>\n    </tr>\n  </tbody>\n</table>\n</div>"
     },
     "execution_count": 67,
     "metadata": {},
     "output_type": "execute_result"
    }
   ],
   "source": [
    "get_knn(df_business.iloc[0, :], embedded_attributes, embedded_categories, df_business, category_weighting=1)"
   ],
   "metadata": {
    "collapsed": false,
    "pycharm": {
     "name": "#%%\n"
    }
   }
  },
  {
   "cell_type": "markdown",
   "source": [
    "How to improve this system:\n",
    "- `attributes` don't appear to do much when semantically embedded: preferable to do term matching?\n",
    "- Add ability to filter by area, distance from user?  Minimum rating without changing number of results?\n",
    "- Add ability to update on the fly, replacing `stars` by aggregating scores from the users?\n",
    "- Add a description text option, where reviews from many users are aggregated and used semantically, rather than just comparing restaurant categories.\n",
    "\n"
   ],
   "metadata": {
    "collapsed": false,
    "pycharm": {
     "name": "#%% md\n"
    }
   }
  }
 ],
 "metadata": {
  "kernelspec": {
   "display_name": "Python 3",
   "language": "python",
   "name": "python3"
  },
  "language_info": {
   "codemirror_mode": {
    "name": "ipython",
    "version": 2
   },
   "file_extension": ".py",
   "mimetype": "text/x-python",
   "name": "python",
   "nbconvert_exporter": "python",
   "pygments_lexer": "ipython2",
   "version": "2.7.6"
  }
 },
 "nbformat": 4,
 "nbformat_minor": 0
}