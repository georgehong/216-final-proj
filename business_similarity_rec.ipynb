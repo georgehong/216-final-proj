{
 "cells": [
  {
   "cell_type": "markdown",
   "metadata": {
    "collapsed": true,
    "pycharm": {
     "name": "#%% md\n"
    }
   },
   "source": [
    "## Recommender Based on Universal Sentence Encoder"
   ]
  },
  {
   "cell_type": "code",
   "execution_count": 2,
   "outputs": [],
   "source": [
    "import pandas as pd\n",
    "import numpy as np\n",
    "import tensorflow_hub as hub\n",
    "import ast"
   ],
   "metadata": {
    "collapsed": false,
    "pycharm": {
     "name": "#%%\n"
    }
   }
  },
  {
   "cell_type": "code",
   "execution_count": 3,
   "outputs": [],
   "source": [
    "STOP = 100\n",
    "embedder = hub.load(\"https://tfhub.dev/google/universal-sentence-encoder/4\")\n",
    "EMBEDDED_CATEGORIES_FILE = 'data/embedded_categories.npy'\n",
    "EMBEDDED_ATTRIBUTES_FILE = 'data/embedded_attributes.npy'"
   ],
   "metadata": {
    "collapsed": false,
    "pycharm": {
     "name": "#%%\n"
    }
   }
  },
  {
   "cell_type": "code",
   "execution_count": 4,
   "outputs": [],
   "source": [
    "def cosine_similarity(mat, vec):\n",
    "    \"\"\"\n",
    "    Calculate cosine similarity scores\n",
    "\n",
    "    :param mat: 2D array of all targets\n",
    "    :param vec: 1D array of vector to compare to\n",
    "    :return: all cosine similarity scores to vec\n",
    "    \"\"\"\n",
    "    vec_mag = np.linalg.norm(vec)\n",
    "    mat_mag = np.linalg.norm(mat, axis=1).reshape((-1, 1))\n",
    "    return (1/vec_mag) * np.dot(mat, vec).reshape((-1, 1)) / mat_mag\n",
    "\n",
    "def return_attribute_soup(input):\n",
    "    \"\"\"\n",
    "    Converts dictionary of inputs into list of items that are true.  Can also handle nested examples\n",
    "\n",
    "    :param input: dictionary of attributes\n",
    "    :return: list of keys\n",
    "    \"\"\"\n",
    "    current = []\n",
    "    for key in input:\n",
    "        # Inner dictionaries appear to be malformed in places\n",
    "        try:\n",
    "            value = ast.literal_eval(input[key])\n",
    "        except ValueError:\n",
    "            value = input[key]\n",
    "        if isinstance(value, dict):\n",
    "            current.extend(return_attribute_soup(value))\n",
    "        elif value not in (False, 'No', 'False'):\n",
    "            current.append(key)\n",
    "    return current"
   ],
   "metadata": {
    "collapsed": false,
    "pycharm": {
     "name": "#%%\n"
    }
   }
  },
  {
   "cell_type": "code",
   "execution_count": 5,
   "outputs": [],
   "source": [
    "df_business = pd.read_csv('data/yelp_academic_dataset_business_filtered.csv')\n",
    "df_business = df_business.dropna(subset=['categories'])\n",
    "df_business['attributes'] = df_business['attributes'].fillna('{}')"
   ],
   "metadata": {
    "collapsed": false,
    "pycharm": {
     "name": "#%%\n"
    }
   }
  },
  {
   "cell_type": "code",
   "execution_count": 6,
   "outputs": [],
   "source": [
    "df_business['attribute_dict'] = df_business['attributes'].apply(ast.literal_eval)\n",
    "df_business['attribute_soup'] = df_business['attribute_dict'].apply(return_attribute_soup)\n",
    "df_business['attribute_string'] = df_business['attribute_soup'].apply(lambda x: ' '.join(map(str, x)))"
   ],
   "metadata": {
    "collapsed": false,
    "pycharm": {
     "name": "#%%\n"
    }
   }
  },
  {
   "cell_type": "code",
   "execution_count": 7,
   "outputs": [
    {
     "data": {
      "text/plain": "   Unnamed: 0  Unnamed: 0.1             business_id                      name  \\\n0           0             0  6iYb2HFDywm3zjuRg0shjw       Oskar Blues Taproom   \n1           1             1  tCbdrRPZA0oiIYSmHG3J0w   Flying Elephants at PDX   \n2           5             5  D4JtQNTI4X3KcbzacDJsMw       Bob Likes Thai Food   \n3          10            10  rYs_1pNB_RMtn5WQh55QDA  Chautauqua General Store   \n4          12            12  HPA_qyMEddpAEtFof02ixg       Mr G's Pizza & Subs   \n\n               address       city state postal_code   latitude   longitude  \\\n0         921 Pearl St    Boulder    CO       80302  40.017544 -105.283348   \n1  7000 NE Airport Way   Portland    OR       97218  45.588906 -122.593331   \n2         3755 Main St  Vancouver    BC         V5V  49.251342 -123.101333   \n3      100 Clematis Dr    Boulder    CO       80302  39.998449 -105.281006   \n4        474 Lowell St    Peabody    MA       01960  42.541155  -70.973438   \n\n   stars  review_count  is_open  \\\n0    4.0            86        1   \n1    4.0           126        1   \n2    3.5           169        1   \n3    3.5             5        1   \n4    4.0            39        1   \n\n                                          attributes  \\\n0  {'RestaurantsTableService': 'True', 'WiFi': \"u...   \n1  {'RestaurantsTakeOut': 'True', 'RestaurantsAtt...   \n2  {'GoodForKids': 'True', 'Alcohol': \"u'none'\", ...   \n3  {'BikeParking': 'True', 'RestaurantsTakeOut': ...   \n4  {'RestaurantsGoodForGroups': 'True', 'HasTV': ...   \n\n                                          categories  \\\n0  Gastropubs, Food, Beer Gardens, Restaurants, B...   \n1  Salad, Soup, Sandwiches, Delis, Restaurants, C...   \n2                                  Restaurants, Thai   \n3  Food, Shopping, Convenience Stores, Souvenir S...   \n4                           Food, Pizza, Restaurants   \n\n                                               hours  \\\n0  {'Monday': '11:0-23:0', 'Tuesday': '11:0-23:0'...   \n1  {'Monday': '5:0-18:0', 'Tuesday': '5:0-17:0', ...   \n2  {'Monday': '17:0-21:0', 'Tuesday': '17:0-21:0'...   \n3  {'Monday': '8:0-20:0', 'Tuesday': '8:0-20:0', ...   \n4  {'Monday': '11:0-21:0', 'Tuesday': '11:0-21:0'...   \n\n                                      attribute_dict  \\\n0  {'RestaurantsTableService': 'True', 'WiFi': 'u...   \n1  {'RestaurantsTakeOut': 'True', 'RestaurantsAtt...   \n2  {'GoodForKids': 'True', 'Alcohol': 'u'none'', ...   \n3  {'BikeParking': 'True', 'RestaurantsTakeOut': ...   \n4  {'RestaurantsGoodForGroups': 'True', 'HasTV': ...   \n\n                                      attribute_soup  \\\n0  [RestaurantsTableService, WiFi, BikeParking, s...   \n1  [RestaurantsTakeOut, RestaurantsAttire, GoodFo...   \n2  [GoodForKids, Alcohol, RestaurantsGoodForGroup...   \n3  [BikeParking, RestaurantsTakeOut, street, Whee...   \n4  [RestaurantsGoodForGroups, HasTV, GoodForKids,...   \n\n                                    attribute_string  \n0  RestaurantsTableService WiFi BikeParking stree...  \n1  RestaurantsTakeOut RestaurantsAttire GoodForKi...  \n2  GoodForKids Alcohol RestaurantsGoodForGroups R...  \n3  BikeParking RestaurantsTakeOut street Wheelcha...  \n4  RestaurantsGoodForGroups HasTV GoodForKids Res...  ",
      "text/html": "<div>\n<style scoped>\n    .dataframe tbody tr th:only-of-type {\n        vertical-align: middle;\n    }\n\n    .dataframe tbody tr th {\n        vertical-align: top;\n    }\n\n    .dataframe thead th {\n        text-align: right;\n    }\n</style>\n<table border=\"1\" class=\"dataframe\">\n  <thead>\n    <tr style=\"text-align: right;\">\n      <th></th>\n      <th>Unnamed: 0</th>\n      <th>Unnamed: 0.1</th>\n      <th>business_id</th>\n      <th>name</th>\n      <th>address</th>\n      <th>city</th>\n      <th>state</th>\n      <th>postal_code</th>\n      <th>latitude</th>\n      <th>longitude</th>\n      <th>stars</th>\n      <th>review_count</th>\n      <th>is_open</th>\n      <th>attributes</th>\n      <th>categories</th>\n      <th>hours</th>\n      <th>attribute_dict</th>\n      <th>attribute_soup</th>\n      <th>attribute_string</th>\n    </tr>\n  </thead>\n  <tbody>\n    <tr>\n      <th>0</th>\n      <td>0</td>\n      <td>0</td>\n      <td>6iYb2HFDywm3zjuRg0shjw</td>\n      <td>Oskar Blues Taproom</td>\n      <td>921 Pearl St</td>\n      <td>Boulder</td>\n      <td>CO</td>\n      <td>80302</td>\n      <td>40.017544</td>\n      <td>-105.283348</td>\n      <td>4.0</td>\n      <td>86</td>\n      <td>1</td>\n      <td>{'RestaurantsTableService': 'True', 'WiFi': \"u...</td>\n      <td>Gastropubs, Food, Beer Gardens, Restaurants, B...</td>\n      <td>{'Monday': '11:0-23:0', 'Tuesday': '11:0-23:0'...</td>\n      <td>{'RestaurantsTableService': 'True', 'WiFi': 'u...</td>\n      <td>[RestaurantsTableService, WiFi, BikeParking, s...</td>\n      <td>RestaurantsTableService WiFi BikeParking stree...</td>\n    </tr>\n    <tr>\n      <th>1</th>\n      <td>1</td>\n      <td>1</td>\n      <td>tCbdrRPZA0oiIYSmHG3J0w</td>\n      <td>Flying Elephants at PDX</td>\n      <td>7000 NE Airport Way</td>\n      <td>Portland</td>\n      <td>OR</td>\n      <td>97218</td>\n      <td>45.588906</td>\n      <td>-122.593331</td>\n      <td>4.0</td>\n      <td>126</td>\n      <td>1</td>\n      <td>{'RestaurantsTakeOut': 'True', 'RestaurantsAtt...</td>\n      <td>Salad, Soup, Sandwiches, Delis, Restaurants, C...</td>\n      <td>{'Monday': '5:0-18:0', 'Tuesday': '5:0-17:0', ...</td>\n      <td>{'RestaurantsTakeOut': 'True', 'RestaurantsAtt...</td>\n      <td>[RestaurantsTakeOut, RestaurantsAttire, GoodFo...</td>\n      <td>RestaurantsTakeOut RestaurantsAttire GoodForKi...</td>\n    </tr>\n    <tr>\n      <th>2</th>\n      <td>5</td>\n      <td>5</td>\n      <td>D4JtQNTI4X3KcbzacDJsMw</td>\n      <td>Bob Likes Thai Food</td>\n      <td>3755 Main St</td>\n      <td>Vancouver</td>\n      <td>BC</td>\n      <td>V5V</td>\n      <td>49.251342</td>\n      <td>-123.101333</td>\n      <td>3.5</td>\n      <td>169</td>\n      <td>1</td>\n      <td>{'GoodForKids': 'True', 'Alcohol': \"u'none'\", ...</td>\n      <td>Restaurants, Thai</td>\n      <td>{'Monday': '17:0-21:0', 'Tuesday': '17:0-21:0'...</td>\n      <td>{'GoodForKids': 'True', 'Alcohol': 'u'none'', ...</td>\n      <td>[GoodForKids, Alcohol, RestaurantsGoodForGroup...</td>\n      <td>GoodForKids Alcohol RestaurantsGoodForGroups R...</td>\n    </tr>\n    <tr>\n      <th>3</th>\n      <td>10</td>\n      <td>10</td>\n      <td>rYs_1pNB_RMtn5WQh55QDA</td>\n      <td>Chautauqua General Store</td>\n      <td>100 Clematis Dr</td>\n      <td>Boulder</td>\n      <td>CO</td>\n      <td>80302</td>\n      <td>39.998449</td>\n      <td>-105.281006</td>\n      <td>3.5</td>\n      <td>5</td>\n      <td>1</td>\n      <td>{'BikeParking': 'True', 'RestaurantsTakeOut': ...</td>\n      <td>Food, Shopping, Convenience Stores, Souvenir S...</td>\n      <td>{'Monday': '8:0-20:0', 'Tuesday': '8:0-20:0', ...</td>\n      <td>{'BikeParking': 'True', 'RestaurantsTakeOut': ...</td>\n      <td>[BikeParking, RestaurantsTakeOut, street, Whee...</td>\n      <td>BikeParking RestaurantsTakeOut street Wheelcha...</td>\n    </tr>\n    <tr>\n      <th>4</th>\n      <td>12</td>\n      <td>12</td>\n      <td>HPA_qyMEddpAEtFof02ixg</td>\n      <td>Mr G's Pizza &amp; Subs</td>\n      <td>474 Lowell St</td>\n      <td>Peabody</td>\n      <td>MA</td>\n      <td>01960</td>\n      <td>42.541155</td>\n      <td>-70.973438</td>\n      <td>4.0</td>\n      <td>39</td>\n      <td>1</td>\n      <td>{'RestaurantsGoodForGroups': 'True', 'HasTV': ...</td>\n      <td>Food, Pizza, Restaurants</td>\n      <td>{'Monday': '11:0-21:0', 'Tuesday': '11:0-21:0'...</td>\n      <td>{'RestaurantsGoodForGroups': 'True', 'HasTV': ...</td>\n      <td>[RestaurantsGoodForGroups, HasTV, GoodForKids,...</td>\n      <td>RestaurantsGoodForGroups HasTV GoodForKids Res...</td>\n    </tr>\n  </tbody>\n</table>\n</div>"
     },
     "execution_count": 7,
     "metadata": {},
     "output_type": "execute_result"
    }
   ],
   "source": [
    "df_business.head()\n"
   ],
   "metadata": {
    "collapsed": false,
    "pycharm": {
     "name": "#%%\n"
    }
   }
  },
  {
   "cell_type": "code",
   "execution_count": 8,
   "outputs": [
    {
     "name": "stdout",
     "output_type": "stream",
     "text": [
      "EMBEDDINGS LOADED\n"
     ]
    }
   ],
   "source": [
    "try:\n",
    "    with open(EMBEDDED_CATEGORIES_FILE, 'rb') as f:\n",
    "        embedded_categories = np.load(EMBEDDED_CATEGORIES_FILE, allow_pickle=True)\n",
    "\n",
    "    with open(EMBEDDED_ATTRIBUTES_FILE, 'rb') as f:\n",
    "        embedded_attributes = np.load(EMBEDDED_ATTRIBUTES_FILE, allow_pickle=True)\n",
    "\n",
    "    print('EMBEDDINGS LOADED')\n",
    "\n",
    "except IOError as e:\n",
    "    print('ARRAY(S) NOT FOUND. EMBEDDING:')\n",
    "    categories = list(df_business['categories'])\n",
    "    embedded_categories = embedder(categories).numpy()\n",
    "    np.save(EMBEDDED_CATEGORIES_FILE, embedded_categories)\n",
    "\n",
    "    attributes = list(df_business['attribute_string'])\n",
    "    embedded_attributes = embedder(attributes).numpy()\n",
    "    np.save(EMBEDDED_ATTRIBUTES_FILE, embedded_attributes)\n",
    "    print('EMBEDDINGS SAVED')\n"
   ],
   "metadata": {
    "collapsed": false,
    "pycharm": {
     "name": "#%%\n"
    }
   }
  },
  {
   "cell_type": "code",
   "execution_count": 73,
   "outputs": [],
   "source": [
    "def get_knn(input, embedded_attributes, embedded_categories, df_business, k=5, category_weighting=0.75, min_rating=-1, verbose=False):\n",
    "    \"\"\"\n",
    "    Get the most similar businesses by knn search and sort.  This function assumes recommendations are in the same state\n",
    "    and that the restaurants are rated greater than or equal to 4 stars.\n",
    "\n",
    "    :param input: input business, in the form of a Series\n",
    "    :param embedded_attributes: services offered at the business\n",
    "    :param embedded_categories: embedded categories (business type)\n",
    "    :param df_business: DataFrame of all business info that must match embedded_attributes\n",
    "    :param k: Number of top results desired\n",
    "    :param category_weighting: emphasis placed on the contents of the restaurant.\n",
    "    :return: DataFrame of similar businesses\n",
    "    \"\"\"\n",
    "    assert df_business.shape[0] == embedded_categories.shape[0]\n",
    "    assert df_business.shape[0] == embedded_attributes.shape[0]\n",
    "\n",
    "    # Filter by state before continuing\n",
    "    df_business_copy = df_business.copy()\n",
    "    state = input['state']\n",
    "    query_id = input['business_id']\n",
    "    # List of all matching indices\n",
    "    match_dex = df_business.index[(df_business['state'] == state) & (df_business['stars'] >= 4)].tolist()\n",
    "\n",
    "    embedded_attributes = embedded_attributes[match_dex]\n",
    "    embedded_categories = embedded_categories[match_dex]\n",
    "    df_business_copy = df_business.loc[match_dex, :]\n",
    "\n",
    "\n",
    "    query_category = input.loc['categories']\n",
    "    query_attributes = input.loc['attribute_string']\n",
    "    if verbose: print(\"INPUT BUSINESS:\", input.loc['name'])\n",
    "    embedded_query_category = embedder([query_category]).numpy().flatten()\n",
    "    embedded_query_attributes = embedder([query_attributes]).numpy().flatten()\n",
    "\n",
    "    categ_simil_scores = cosine_similarity(embedded_categories, embedded_query_category).flatten()\n",
    "    attri_simil_scores = cosine_similarity(embedded_attributes, embedded_query_attributes).flatten()\n",
    "\n",
    "    weighted_simil_scores = category_weighting * categ_simil_scores + (1 - category_weighting) + attri_simil_scores\n",
    "    weighted_simil_scores *= 0.5\n",
    "\n",
    "    df_business_copy['scores'] = weighted_simil_scores\n",
    "\n",
    "    # After filtering, choose the smallest, account for perfect match\n",
    "    available_businesses = weighted_simil_scores.shape[0]\n",
    "    k = min(k + 1, available_businesses)\n",
    "\n",
    "    indices = np.argsort(weighted_simil_scores)[-k:][::-1]\n",
    "    ret = df_business_copy.iloc[indices, :]\n",
    "    return ret[(ret['stars'] >= min_rating) & (ret['business_id'] != query_id)]"
   ],
   "metadata": {
    "collapsed": false,
    "pycharm": {
     "name": "#%%\n"
    }
   }
  },
  {
   "cell_type": "code",
   "execution_count": 74,
   "outputs": [
    {
     "data": {
      "text/plain": "   Unnamed: 0  Unnamed: 0.1             business_id                      name  \\\n0           0             0  6iYb2HFDywm3zjuRg0shjw       Oskar Blues Taproom   \n1           1             1  tCbdrRPZA0oiIYSmHG3J0w   Flying Elephants at PDX   \n2           5             5  D4JtQNTI4X3KcbzacDJsMw       Bob Likes Thai Food   \n3          10            10  rYs_1pNB_RMtn5WQh55QDA  Chautauqua General Store   \n4          12            12  HPA_qyMEddpAEtFof02ixg       Mr G's Pizza & Subs   \n\n               address       city state postal_code   latitude   longitude  \\\n0         921 Pearl St    Boulder    CO       80302  40.017544 -105.283348   \n1  7000 NE Airport Way   Portland    OR       97218  45.588906 -122.593331   \n2         3755 Main St  Vancouver    BC         V5V  49.251342 -123.101333   \n3      100 Clematis Dr    Boulder    CO       80302  39.998449 -105.281006   \n4        474 Lowell St    Peabody    MA       01960  42.541155  -70.973438   \n\n   stars  review_count  is_open  \\\n0    4.0            86        1   \n1    4.0           126        1   \n2    3.5           169        1   \n3    3.5             5        1   \n4    4.0            39        1   \n\n                                          attributes  \\\n0  {'RestaurantsTableService': 'True', 'WiFi': \"u...   \n1  {'RestaurantsTakeOut': 'True', 'RestaurantsAtt...   \n2  {'GoodForKids': 'True', 'Alcohol': \"u'none'\", ...   \n3  {'BikeParking': 'True', 'RestaurantsTakeOut': ...   \n4  {'RestaurantsGoodForGroups': 'True', 'HasTV': ...   \n\n                                          categories  \\\n0  Gastropubs, Food, Beer Gardens, Restaurants, B...   \n1  Salad, Soup, Sandwiches, Delis, Restaurants, C...   \n2                                  Restaurants, Thai   \n3  Food, Shopping, Convenience Stores, Souvenir S...   \n4                           Food, Pizza, Restaurants   \n\n                                               hours  \\\n0  {'Monday': '11:0-23:0', 'Tuesday': '11:0-23:0'...   \n1  {'Monday': '5:0-18:0', 'Tuesday': '5:0-17:0', ...   \n2  {'Monday': '17:0-21:0', 'Tuesday': '17:0-21:0'...   \n3  {'Monday': '8:0-20:0', 'Tuesday': '8:0-20:0', ...   \n4  {'Monday': '11:0-21:0', 'Tuesday': '11:0-21:0'...   \n\n                                      attribute_dict  \\\n0  {'RestaurantsTableService': 'True', 'WiFi': 'u...   \n1  {'RestaurantsTakeOut': 'True', 'RestaurantsAtt...   \n2  {'GoodForKids': 'True', 'Alcohol': 'u'none'', ...   \n3  {'BikeParking': 'True', 'RestaurantsTakeOut': ...   \n4  {'RestaurantsGoodForGroups': 'True', 'HasTV': ...   \n\n                                      attribute_soup  \\\n0  [RestaurantsTableService, WiFi, BikeParking, s...   \n1  [RestaurantsTakeOut, RestaurantsAttire, GoodFo...   \n2  [GoodForKids, Alcohol, RestaurantsGoodForGroup...   \n3  [BikeParking, RestaurantsTakeOut, street, Whee...   \n4  [RestaurantsGoodForGroups, HasTV, GoodForKids,...   \n\n                                    attribute_string  \n0  RestaurantsTableService WiFi BikeParking stree...  \n1  RestaurantsTakeOut RestaurantsAttire GoodForKi...  \n2  GoodForKids Alcohol RestaurantsGoodForGroups R...  \n3  BikeParking RestaurantsTakeOut street Wheelcha...  \n4  RestaurantsGoodForGroups HasTV GoodForKids Res...  ",
      "text/html": "<div>\n<style scoped>\n    .dataframe tbody tr th:only-of-type {\n        vertical-align: middle;\n    }\n\n    .dataframe tbody tr th {\n        vertical-align: top;\n    }\n\n    .dataframe thead th {\n        text-align: right;\n    }\n</style>\n<table border=\"1\" class=\"dataframe\">\n  <thead>\n    <tr style=\"text-align: right;\">\n      <th></th>\n      <th>Unnamed: 0</th>\n      <th>Unnamed: 0.1</th>\n      <th>business_id</th>\n      <th>name</th>\n      <th>address</th>\n      <th>city</th>\n      <th>state</th>\n      <th>postal_code</th>\n      <th>latitude</th>\n      <th>longitude</th>\n      <th>stars</th>\n      <th>review_count</th>\n      <th>is_open</th>\n      <th>attributes</th>\n      <th>categories</th>\n      <th>hours</th>\n      <th>attribute_dict</th>\n      <th>attribute_soup</th>\n      <th>attribute_string</th>\n    </tr>\n  </thead>\n  <tbody>\n    <tr>\n      <th>0</th>\n      <td>0</td>\n      <td>0</td>\n      <td>6iYb2HFDywm3zjuRg0shjw</td>\n      <td>Oskar Blues Taproom</td>\n      <td>921 Pearl St</td>\n      <td>Boulder</td>\n      <td>CO</td>\n      <td>80302</td>\n      <td>40.017544</td>\n      <td>-105.283348</td>\n      <td>4.0</td>\n      <td>86</td>\n      <td>1</td>\n      <td>{'RestaurantsTableService': 'True', 'WiFi': \"u...</td>\n      <td>Gastropubs, Food, Beer Gardens, Restaurants, B...</td>\n      <td>{'Monday': '11:0-23:0', 'Tuesday': '11:0-23:0'...</td>\n      <td>{'RestaurantsTableService': 'True', 'WiFi': 'u...</td>\n      <td>[RestaurantsTableService, WiFi, BikeParking, s...</td>\n      <td>RestaurantsTableService WiFi BikeParking stree...</td>\n    </tr>\n    <tr>\n      <th>1</th>\n      <td>1</td>\n      <td>1</td>\n      <td>tCbdrRPZA0oiIYSmHG3J0w</td>\n      <td>Flying Elephants at PDX</td>\n      <td>7000 NE Airport Way</td>\n      <td>Portland</td>\n      <td>OR</td>\n      <td>97218</td>\n      <td>45.588906</td>\n      <td>-122.593331</td>\n      <td>4.0</td>\n      <td>126</td>\n      <td>1</td>\n      <td>{'RestaurantsTakeOut': 'True', 'RestaurantsAtt...</td>\n      <td>Salad, Soup, Sandwiches, Delis, Restaurants, C...</td>\n      <td>{'Monday': '5:0-18:0', 'Tuesday': '5:0-17:0', ...</td>\n      <td>{'RestaurantsTakeOut': 'True', 'RestaurantsAtt...</td>\n      <td>[RestaurantsTakeOut, RestaurantsAttire, GoodFo...</td>\n      <td>RestaurantsTakeOut RestaurantsAttire GoodForKi...</td>\n    </tr>\n    <tr>\n      <th>2</th>\n      <td>5</td>\n      <td>5</td>\n      <td>D4JtQNTI4X3KcbzacDJsMw</td>\n      <td>Bob Likes Thai Food</td>\n      <td>3755 Main St</td>\n      <td>Vancouver</td>\n      <td>BC</td>\n      <td>V5V</td>\n      <td>49.251342</td>\n      <td>-123.101333</td>\n      <td>3.5</td>\n      <td>169</td>\n      <td>1</td>\n      <td>{'GoodForKids': 'True', 'Alcohol': \"u'none'\", ...</td>\n      <td>Restaurants, Thai</td>\n      <td>{'Monday': '17:0-21:0', 'Tuesday': '17:0-21:0'...</td>\n      <td>{'GoodForKids': 'True', 'Alcohol': 'u'none'', ...</td>\n      <td>[GoodForKids, Alcohol, RestaurantsGoodForGroup...</td>\n      <td>GoodForKids Alcohol RestaurantsGoodForGroups R...</td>\n    </tr>\n    <tr>\n      <th>3</th>\n      <td>10</td>\n      <td>10</td>\n      <td>rYs_1pNB_RMtn5WQh55QDA</td>\n      <td>Chautauqua General Store</td>\n      <td>100 Clematis Dr</td>\n      <td>Boulder</td>\n      <td>CO</td>\n      <td>80302</td>\n      <td>39.998449</td>\n      <td>-105.281006</td>\n      <td>3.5</td>\n      <td>5</td>\n      <td>1</td>\n      <td>{'BikeParking': 'True', 'RestaurantsTakeOut': ...</td>\n      <td>Food, Shopping, Convenience Stores, Souvenir S...</td>\n      <td>{'Monday': '8:0-20:0', 'Tuesday': '8:0-20:0', ...</td>\n      <td>{'BikeParking': 'True', 'RestaurantsTakeOut': ...</td>\n      <td>[BikeParking, RestaurantsTakeOut, street, Whee...</td>\n      <td>BikeParking RestaurantsTakeOut street Wheelcha...</td>\n    </tr>\n    <tr>\n      <th>4</th>\n      <td>12</td>\n      <td>12</td>\n      <td>HPA_qyMEddpAEtFof02ixg</td>\n      <td>Mr G's Pizza &amp; Subs</td>\n      <td>474 Lowell St</td>\n      <td>Peabody</td>\n      <td>MA</td>\n      <td>01960</td>\n      <td>42.541155</td>\n      <td>-70.973438</td>\n      <td>4.0</td>\n      <td>39</td>\n      <td>1</td>\n      <td>{'RestaurantsGoodForGroups': 'True', 'HasTV': ...</td>\n      <td>Food, Pizza, Restaurants</td>\n      <td>{'Monday': '11:0-21:0', 'Tuesday': '11:0-21:0'...</td>\n      <td>{'RestaurantsGoodForGroups': 'True', 'HasTV': ...</td>\n      <td>[RestaurantsGoodForGroups, HasTV, GoodForKids,...</td>\n      <td>RestaurantsGoodForGroups HasTV GoodForKids Res...</td>\n    </tr>\n  </tbody>\n</table>\n</div>"
     },
     "execution_count": 74,
     "metadata": {},
     "output_type": "execute_result"
    }
   ],
   "source": [
    "df_business.head()"
   ],
   "metadata": {
    "collapsed": false,
    "pycharm": {
     "name": "#%%\n"
    }
   }
  },
  {
   "cell_type": "code",
   "execution_count": 75,
   "outputs": [
    {
     "name": "stdout",
     "output_type": "stream",
     "text": [
      "CPU times: user 66.2 ms, sys: 288 ms, total: 354 ms\n",
      "Wall time: 453 ms\n"
     ]
    },
    {
     "data": {
      "text/plain": "       Unnamed: 0  Unnamed: 0.1             business_id  \\\n19374       59580         59580  GDmUoW3hmokCMAVys8M1PQ   \n38669      118221        118221  _GteKUXq5Hx0ZTzzAkUW9g   \n5130        15784         15784  rrXppQgpsjFZs8TCRNcfhg   \n48625      148328        148328  SXgLnNoWd62TEiqBYRiIkA   \n37079      113409        113409  epJrb9ikQOUit-K0yuDEuA   \n\n                                          name             address  \\\n19374             The Post Brewing Co. Boulder        2027 13th St   \n38669             Twisted Pine Brewing Company      3201 Walnut St   \n5130   Upslope Brewing Company - Flatiron Park  1898 S Flatiron Ct   \n48625                                  Peckish    1320 College Ave   \n37079                        12 Degree Brewing  820 Main St, Ste 2   \n\n             city state postal_code   latitude   longitude  stars  \\\n19374     Boulder    CO       80302  40.018848 -105.279096    4.0   \n38669     Boulder    CO       80301  40.020832 -105.251023    4.0   \n5130      Boulder    CO       80301  40.020163 -105.218338    4.5   \n48625     Boulder    CO       80302  40.007179 -105.275761    4.0   \n37079  Louisville    CO       80027  39.978274 -105.131889    4.5   \n\n       review_count  is_open  \\\n19374           179        1   \n38669           306        1   \n5130             84        1   \n48625            20        1   \n37079           170        1   \n\n                                              attributes  \\\n19374  {'BikeParking': 'True', 'HappyHour': 'True', '...   \n38669  {'HasTV': 'True', 'BusinessParking': \"{'garage...   \n5130   {'BikeParking': 'True', 'RestaurantsPriceRange...   \n48625  {'BYOB': 'False', 'Ambience': \"{'touristy': Fa...   \n37079  {'BikeParking': 'True', 'NoiseLevel': \"u'loud'...   \n\n                                              categories  \\\n19374  Pubs, Breweries, Chicken Shop, American (Tradi...   \n38669  Sports Bars, Sandwiches, Pubs, Food, Breweries...   \n5130   Beer, Wine & Spirits, Breweries, Bars, Nightli...   \n48625  Bars, Beer Bar, Sports Bars, Sandwiches, Chick...   \n37079  Pubs, Brewpubs, Food, Breweries, Belgian, Nigh...   \n\n                                                   hours  \\\n19374  {'Monday': '11:30-20:30', 'Tuesday': '11:30-20...   \n38669  {'Monday': '0:0-0:0', 'Friday': '16:0-19:0', '...   \n5130   {'Monday': '12:0-20:0', 'Tuesday': '12:0-20:0'...   \n48625  {'Monday': '11:0-22:0', 'Tuesday': '11:0-22:0'...   \n37079  {'Monday': '12:0-21:30', 'Tuesday': '16:0-20:0...   \n\n                                          attribute_dict  \\\n19374  {'BikeParking': 'True', 'HappyHour': 'True', '...   \n38669  {'HasTV': 'True', 'BusinessParking': '{'garage...   \n5130   {'BikeParking': 'True', 'RestaurantsPriceRange...   \n48625  {'BYOB': 'False', 'Ambience': '{'touristy': Fa...   \n37079  {'BikeParking': 'True', 'NoiseLevel': 'u'loud'...   \n\n                                          attribute_soup  \\\n19374  [BikeParking, HappyHour, HasTV, casual, Alcoho...   \n38669  [HasTV, street, lot, BikeParking, RestaurantsG...   \n5130   [BikeParking, RestaurantsPriceRange2, Business...   \n48625  [RestaurantsTakeOut, street, WiFi, HasTV, Alco...   \n37079  [BikeParking, NoiseLevel, garage, street, Outd...   \n\n                                        attribute_string    scores  \n19374  BikeParking HappyHour HasTV casual Alcohol Whe...  0.856014  \n38669  HasTV street lot BikeParking RestaurantsGoodFo...  0.852223  \n5130   BikeParking RestaurantsPriceRange2 BusinessAcc...  0.839652  \n48625  RestaurantsTakeOut street WiFi HasTV Alcohol W...  0.814933  \n37079  BikeParking NoiseLevel garage street OutdoorSe...  0.812250  ",
      "text/html": "<div>\n<style scoped>\n    .dataframe tbody tr th:only-of-type {\n        vertical-align: middle;\n    }\n\n    .dataframe tbody tr th {\n        vertical-align: top;\n    }\n\n    .dataframe thead th {\n        text-align: right;\n    }\n</style>\n<table border=\"1\" class=\"dataframe\">\n  <thead>\n    <tr style=\"text-align: right;\">\n      <th></th>\n      <th>Unnamed: 0</th>\n      <th>Unnamed: 0.1</th>\n      <th>business_id</th>\n      <th>name</th>\n      <th>address</th>\n      <th>city</th>\n      <th>state</th>\n      <th>postal_code</th>\n      <th>latitude</th>\n      <th>longitude</th>\n      <th>stars</th>\n      <th>review_count</th>\n      <th>is_open</th>\n      <th>attributes</th>\n      <th>categories</th>\n      <th>hours</th>\n      <th>attribute_dict</th>\n      <th>attribute_soup</th>\n      <th>attribute_string</th>\n      <th>scores</th>\n    </tr>\n  </thead>\n  <tbody>\n    <tr>\n      <th>19374</th>\n      <td>59580</td>\n      <td>59580</td>\n      <td>GDmUoW3hmokCMAVys8M1PQ</td>\n      <td>The Post Brewing Co. Boulder</td>\n      <td>2027 13th St</td>\n      <td>Boulder</td>\n      <td>CO</td>\n      <td>80302</td>\n      <td>40.018848</td>\n      <td>-105.279096</td>\n      <td>4.0</td>\n      <td>179</td>\n      <td>1</td>\n      <td>{'BikeParking': 'True', 'HappyHour': 'True', '...</td>\n      <td>Pubs, Breweries, Chicken Shop, American (Tradi...</td>\n      <td>{'Monday': '11:30-20:30', 'Tuesday': '11:30-20...</td>\n      <td>{'BikeParking': 'True', 'HappyHour': 'True', '...</td>\n      <td>[BikeParking, HappyHour, HasTV, casual, Alcoho...</td>\n      <td>BikeParking HappyHour HasTV casual Alcohol Whe...</td>\n      <td>0.856014</td>\n    </tr>\n    <tr>\n      <th>38669</th>\n      <td>118221</td>\n      <td>118221</td>\n      <td>_GteKUXq5Hx0ZTzzAkUW9g</td>\n      <td>Twisted Pine Brewing Company</td>\n      <td>3201 Walnut St</td>\n      <td>Boulder</td>\n      <td>CO</td>\n      <td>80301</td>\n      <td>40.020832</td>\n      <td>-105.251023</td>\n      <td>4.0</td>\n      <td>306</td>\n      <td>1</td>\n      <td>{'HasTV': 'True', 'BusinessParking': \"{'garage...</td>\n      <td>Sports Bars, Sandwiches, Pubs, Food, Breweries...</td>\n      <td>{'Monday': '0:0-0:0', 'Friday': '16:0-19:0', '...</td>\n      <td>{'HasTV': 'True', 'BusinessParking': '{'garage...</td>\n      <td>[HasTV, street, lot, BikeParking, RestaurantsG...</td>\n      <td>HasTV street lot BikeParking RestaurantsGoodFo...</td>\n      <td>0.852223</td>\n    </tr>\n    <tr>\n      <th>5130</th>\n      <td>15784</td>\n      <td>15784</td>\n      <td>rrXppQgpsjFZs8TCRNcfhg</td>\n      <td>Upslope Brewing Company - Flatiron Park</td>\n      <td>1898 S Flatiron Ct</td>\n      <td>Boulder</td>\n      <td>CO</td>\n      <td>80301</td>\n      <td>40.020163</td>\n      <td>-105.218338</td>\n      <td>4.5</td>\n      <td>84</td>\n      <td>1</td>\n      <td>{'BikeParking': 'True', 'RestaurantsPriceRange...</td>\n      <td>Beer, Wine &amp; Spirits, Breweries, Bars, Nightli...</td>\n      <td>{'Monday': '12:0-20:0', 'Tuesday': '12:0-20:0'...</td>\n      <td>{'BikeParking': 'True', 'RestaurantsPriceRange...</td>\n      <td>[BikeParking, RestaurantsPriceRange2, Business...</td>\n      <td>BikeParking RestaurantsPriceRange2 BusinessAcc...</td>\n      <td>0.839652</td>\n    </tr>\n    <tr>\n      <th>48625</th>\n      <td>148328</td>\n      <td>148328</td>\n      <td>SXgLnNoWd62TEiqBYRiIkA</td>\n      <td>Peckish</td>\n      <td>1320 College Ave</td>\n      <td>Boulder</td>\n      <td>CO</td>\n      <td>80302</td>\n      <td>40.007179</td>\n      <td>-105.275761</td>\n      <td>4.0</td>\n      <td>20</td>\n      <td>1</td>\n      <td>{'BYOB': 'False', 'Ambience': \"{'touristy': Fa...</td>\n      <td>Bars, Beer Bar, Sports Bars, Sandwiches, Chick...</td>\n      <td>{'Monday': '11:0-22:0', 'Tuesday': '11:0-22:0'...</td>\n      <td>{'BYOB': 'False', 'Ambience': '{'touristy': Fa...</td>\n      <td>[RestaurantsTakeOut, street, WiFi, HasTV, Alco...</td>\n      <td>RestaurantsTakeOut street WiFi HasTV Alcohol W...</td>\n      <td>0.814933</td>\n    </tr>\n    <tr>\n      <th>37079</th>\n      <td>113409</td>\n      <td>113409</td>\n      <td>epJrb9ikQOUit-K0yuDEuA</td>\n      <td>12 Degree Brewing</td>\n      <td>820 Main St, Ste 2</td>\n      <td>Louisville</td>\n      <td>CO</td>\n      <td>80027</td>\n      <td>39.978274</td>\n      <td>-105.131889</td>\n      <td>4.5</td>\n      <td>170</td>\n      <td>1</td>\n      <td>{'BikeParking': 'True', 'NoiseLevel': \"u'loud'...</td>\n      <td>Pubs, Brewpubs, Food, Breweries, Belgian, Nigh...</td>\n      <td>{'Monday': '12:0-21:30', 'Tuesday': '16:0-20:0...</td>\n      <td>{'BikeParking': 'True', 'NoiseLevel': 'u'loud'...</td>\n      <td>[BikeParking, NoiseLevel, garage, street, Outd...</td>\n      <td>BikeParking NoiseLevel garage street OutdoorSe...</td>\n      <td>0.812250</td>\n    </tr>\n  </tbody>\n</table>\n</div>"
     },
     "execution_count": 75,
     "metadata": {},
     "output_type": "execute_result"
    }
   ],
   "source": [
    "%%time\n",
    "results = get_knn(df_business.iloc[0, :], embedded_attributes, embedded_categories, df_business, category_weighting=0.5)\n",
    "results.head()"
   ],
   "metadata": {
    "collapsed": false,
    "pycharm": {
     "name": "#%%\n"
    }
   }
  },
  {
   "cell_type": "markdown",
   "source": [
    "### Load the users and their reviews into a train and testable form\n",
    "Given a user:\n",
    "- Find all reviews produced by this user\n",
    "- Filter to only positive reviews (4 stars or above)\n",
    "- For each positive review, find the top 5 most similar restaurants in the area specified by the review (it's unlikely the user would be willing to travel across the country to find a restaurant that might just be similar)\n",
    "- Pool all of the results, and sort by similarity scores.  Therefore, the user should have a collection of potential places to visit.\n",
    "\n",
    "By using a text embedder to calculate similarity, a training set isn't truly needed:\n",
    "- Require at least 2 good reviews from each test user, otherwise skip the training instance although a larger threshold for minimum number of reviews may make more sense.\n",
    "- For each user, having $$n$$ reviews, we randomly use 50% of the reviews for generating similar results.  Then, follow the above results to obtain $5n/2$ predictions.\n",
    "- We examine whether the predictions and remaining $n/2$ test reviews have _any_ intersection (although we can change this later).\n"
   ],
   "metadata": {
    "collapsed": false,
    "pycharm": {
     "name": "#%% md\n"
    }
   }
  },
  {
   "cell_type": "code",
   "execution_count": 12,
   "outputs": [],
   "source": [
    "df_users = pd.read_csv('data/yelp_academic_dataset_user.csv')\n",
    "df_reviews = pd.read_csv('data/yelp_academic_dataset_review.csv')\n",
    "print(\"REVIEWS SIZE:\", df_reviews.shape[0])\n",
    "print(\"USERS SIZE:\", df_users.shape[0])"
   ],
   "metadata": {
    "collapsed": false,
    "pycharm": {
     "name": "#%%\n"
    }
   }
  },
  {
   "cell_type": "code",
   "execution_count": 58,
   "outputs": [],
   "source": [
    "# Set of restaurant IDs\n",
    "restaurant_set = set(df_business['business_id'].values)\n",
    "# Only keep restaurant reviews in the filtered dataset\n",
    "df_reviews_final = df_reviews[df_reviews['business_id'].isin(restaurant_set)]\n",
    "# Remove bad reviews\n",
    "df_reviews_final = df_reviews_final[df_reviews_final['stars'] >= 4]\n"
   ],
   "metadata": {
    "collapsed": false,
    "pycharm": {
     "name": "#%%\n"
    }
   }
  },
  {
   "cell_type": "code",
   "execution_count": 60,
   "outputs": [],
   "source": [
    "df_reviews_sampled = df_reviews_final.sample(n=1_000_000, replace=False)"
   ],
   "metadata": {
    "collapsed": false,
    "pycharm": {
     "name": "#%%\n"
    }
   }
  },
  {
   "cell_type": "code",
   "execution_count": 61,
   "outputs": [],
   "source": [
    "user_id_set = set(df_reviews_sampled['user_id'].values)\n",
    "df_users_sampled = df_users[df_users['user_id'].isin(user_id_set)]"
   ],
   "metadata": {
    "collapsed": false,
    "pycharm": {
     "name": "#%%\n"
    }
   }
  },
  {
   "cell_type": "code",
   "execution_count": 62,
   "outputs": [],
   "source": [
    "df_user_and_review = pd.merge(df_reviews_sampled, df_users_sampled, on='user_id')\n",
    "df_all_filtered = df_user_and_review[df_user_and_review.groupby('user_id').transform('count')['review_id'] > 5]"
   ],
   "metadata": {
    "collapsed": false,
    "pycharm": {
     "name": "#%%\n"
    }
   }
  },
  {
   "cell_type": "code",
   "execution_count": 63,
   "outputs": [],
   "source": [
    "user_id_set = set(df_all_filtered['user_id'].values)"
   ],
   "metadata": {
    "collapsed": false,
    "pycharm": {
     "name": "#%%\n"
    }
   }
  },
  {
   "cell_type": "code",
   "execution_count": 76,
   "outputs": [],
   "source": [
    "def get_all_user_recommendations(df_individual_reviews, df_business, embedded_attributes, embedded_categories):\n",
    "    \"\"\"\n",
    "    Gets a DataFrame of all recommendations.  If the user reviews n items positively, return 5n items that they might enjoy.\n",
    "    :param user_id: id of the queried user\n",
    "    :param df_individual_reviews: reviews from a given user.\n",
    "    :param df_business: DataFrame including all potential businesses\n",
    "    :return: DataFrame of all recommendations\n",
    "    \"\"\"\n",
    "    all_rec = []\n",
    "    for business_id in df_individual_reviews['business_id']:\n",
    "        # Retrieve first instance\n",
    "        df_input_business = df_business[df_business['business_id'] == business_id].iloc[0, :]\n",
    "        # Append all corresponding predictions\n",
    "        all_rec.append(get_knn(df_input_business, embedded_attributes, embedded_categories, df_business, category_weighting=0.5))\n",
    "    return pd.concat(all_rec)"
   ],
   "metadata": {
    "collapsed": false,
    "pycharm": {
     "name": "#%%\n"
    }
   }
  },
  {
   "cell_type": "code",
   "execution_count": 77,
   "outputs": [
    {
     "data": {
      "text/plain": "       Unnamed: 0  Unnamed: 0.1             business_id  \\\n5968        18391         18391  Oi9afWDVgmmykw8kzc7LxA   \n6339        19616         19616  KAP9fE9BC4pEJOQa3OOy8g   \n16527       50836         50836  ucNTiYiNJRh3-TZNQdNaqw   \n6479        20050         20050  vQL8hbqQfaTBcxHPPzkC3A   \n35631      109130        109130  FzIV4gsiFKZbv2OUvhNosg   \n32050       98297         98297  MXPKpYA0ZEMgQ-yZsb9rDg   \n42677      130427        130427  fWFY6h63Bvy9tZIKdSH_qw   \n16488       50733         50733  qwiJHZv22ahl1Pzhkso5DA   \n48942      149221        149221  W7PgsBw0QQ6CHFR8YlwiUw   \n5350        16450         16450  1ggfHF5zecMy1W5aeGlOGA   \n12138       37517         37517  SrsebLQ5lVehQXJp8OcBUg   \n22104       68048         68048  LtiVuXVZeDSJCpYOR15Wzw   \n19078       58649         58649  s7zPXCG5TY2GefprbChUdw   \n9736        30066         30066  j7DjfFnpRoC2cMU_KJGqyw   \n45915      140151        140151  Arlfz7vhzEV8p3aIIYhIog   \n28623       87847         87847  fvUxo3S8PbkZPPqc-krI7w   \n\n                               name  \\\n5968                 Firehouse Subs   \n6339                         Subway   \n16527                        Subway   \n6479                      Five Guys   \n35631            Jersey Mike's Subs   \n32050                        Subway   \n42677               Beijing & Tokyo   \n16488             Sus Hi Eatstation   \n48942             Sus Hi Eatstation   \n5350      WAVE Asian Bistro & Sushi   \n12138  The Cowfish Sushi Burger Bar   \n22104             Pizza @ Lake Eola   \n19078                   Blaze Pizza   \n9736                    Blaze Pizza   \n45915               Pizza @ Artegon   \n28623                      Your Pie   \n\n                                                 address               city  \\\n5968                                 10725 E Colonial Dr            Orlando   \n6339                          2823 S Orange Ave, Ste 140            Orlando   \n16527                                  2213 Edgewater Dr            Orlando   \n6479                        8031 Turkey Lake Rd, Ste 100            Orlando   \n35631                               450 S Hunt Club Blvd             Apopka   \n32050                                       667 E Hwy 50           Clermont   \n42677                            16112 Marsh Rd, Ste 413      Winter Garden   \n16488                       380 S State Rd 434, Ste 1004  Altamonte Springs   \n48942                    4693 Gardens Park Blvd, Ste 105            Orlando   \n5350                             301 N Baker St, Ste 106         Mount Dora   \n12138  Universal Citywalk - Orlando, 6000 Universal Blvd            Orlando   \n22104                        404 E Central Blvd, Ste 102            Orlando   \n19078                         1508 E Buena Vista Dr, B22   Lake Buena Vista   \n9736                                   501 N Orlando Ave        Winter Park   \n45915                              5250 International Dr            Orlando   \n28623                        335 N Magnolia Ave, Ste 102            Orlando   \n\n      state postal_code   latitude  longitude  stars  review_count  is_open  \\\n5968     FL       32817  28.569947 -81.229994    4.0             6        0   \n6339     FL       32806  28.511340 -81.374782    5.0             5        1   \n16527    FL       32804  28.571722 -81.389433    4.0             5        0   \n6479     FL       32819  28.448157 -81.477188    4.0            32        1   \n35631    FL       32703  28.673476 -81.450175    4.0            22        1   \n32050    FL       34711  28.548409 -81.747271    4.0             5        1   \n42677    FL       34787  28.516451 -81.622002    4.0            97        1   \n16488    FL       32714  28.656818 -81.420208    4.0           228        1   \n48942    FL       32839  28.494599 -81.423477    4.0           140        1   \n5350     FL       32757  28.798896 -81.644134    4.5           326        1   \n12138    FL       32819  28.473028 -81.465348    4.0          2407        1   \n22104    FL       32801  28.542102 -81.372526    4.0           118        1   \n19078    FL       32830  28.369999 -81.518266    4.5           551        1   \n9736     FL       32789  28.605508 -81.367725    4.5           229        1   \n45915    FL       32819  28.468508 -81.447988    4.5            49        0   \n28623    FL       32801  28.546959 -81.376979    4.0            32        0   \n\n                                              attributes  \\\n5968   {'RestaurantsDelivery': 'False', 'RestaurantsG...   \n6339   {'GoodForKids': 'True', 'RestaurantsAttire': \"...   \n16527  {'RestaurantsPriceRange2': '1', 'GoodForKids':...   \n6479   {'DriveThru': 'False', 'RestaurantsGoodForGrou...   \n35631  {'BusinessAcceptsCreditCards': 'True', 'Restau...   \n32050  {'RestaurantsTakeOut': 'True', 'RestaurantsGoo...   \n42677  {'RestaurantsAttire': \"u'casual'\", 'NoiseLevel...   \n16488  {'WiFi': \"'no'\", 'ByAppointmentOnly': 'False',...   \n48942  {'NoiseLevel': \"u'average'\", 'WiFi': \"u'no'\", ...   \n5350   {'RestaurantsPriceRange2': '2', 'WiFi': \"'no'\"...   \n12138  {'BusinessAcceptsCreditCards': 'True', 'GoodFo...   \n22104  {'RestaurantsAttire': \"'casual'\", 'WiFi': \"u'f...   \n19078  {'DriveThru': 'False', 'GoodForKids': 'True', ...   \n9736   {'DogsAllowed': 'False', 'BusinessAcceptsCredi...   \n45915  {'RestaurantsAttire': \"u'casual'\", 'OutdoorSea...   \n28623  {'NoiseLevel': \"u'quiet'\", 'RestaurantsReserva...   \n\n                                              categories  \\\n5968           Fast Food, Restaurants, Sandwiches, Delis   \n6339                  Sandwiches, Restaurants, Fast Food   \n16527                 Fast Food, Sandwiches, Restaurants   \n6479         Sandwiches, Restaurants, Fast Food, Burgers   \n35631          Fast Food, Delis, Restaurants, Sandwiches   \n32050                 Restaurants, Sandwiches, Fast Food   \n42677     Sushi Bars, Chinese, Asian Fusion, Restaurants   \n16488  Restaurants, Sushi Bars, Poke, Japanese, Asian...   \n48942  Japanese, Sushi Bars, Asian Fusion, Restaurant...   \n5350     Asian Fusion, Japanese, Sushi Bars, Restaurants   \n12138  Asian Fusion, American (New), Restaurants, Sus...   \n22104               Restaurants, Salad, Fast Food, Pizza   \n19078  Pizza, Fast Food, Salad, Restaurants, Gluten-Free   \n9736                Salad, Restaurants, Pizza, Fast Food   \n45915                 Salad, Restaurants, Pizza, Italian   \n28623                 Pizza, Italian, Restaurants, Salad   \n\n                                                   hours  \\\n5968   {'Monday': '10:30-21:0', 'Tuesday': '10:30-21:...   \n6339   {'Monday': '8:0-22:0', 'Tuesday': '8:0-22:0', ...   \n16527  {'Monday': '7:0-23:0', 'Tuesday': '7:0-23:0', ...   \n6479   {'Monday': '11:0-22:0', 'Tuesday': '11:0-22:0'...   \n35631  {'Monday': '10:0-21:0', 'Tuesday': '10:0-21:0'...   \n32050  {'Monday': '9:0-23:0', 'Tuesday': '9:0-23:0', ...   \n42677  {'Monday': '11:0-22:0', 'Tuesday': '11:0-22:0'...   \n16488  {'Monday': '0:0-0:0', 'Tuesday': '11:0-22:0', ...   \n48942  {'Monday': '0:0-0:0', 'Tuesday': '11:0-22:0', ...   \n5350   {'Tuesday': '11:0-20:0', 'Wednesday': '11:0-20...   \n12138  {'Monday': '16:0-22:0', 'Tuesday': '16:0-22:0'...   \n22104  {'Monday': '11:0-23:0', 'Tuesday': '11:0-23:0'...   \n19078  {'Monday': '0:0-0:0', 'Tuesday': '11:0-22:0', ...   \n9736   {'Monday': '0:0-0:0', 'Tuesday': '10:30-22:30'...   \n45915  {'Monday': '11:0-21:0', 'Tuesday': '11:0-21:0'...   \n28623  {'Monday': '11:0-21:0', 'Tuesday': '11:0-21:0'...   \n\n                                          attribute_dict  \\\n5968   {'RestaurantsDelivery': 'False', 'RestaurantsG...   \n6339   {'GoodForKids': 'True', 'RestaurantsAttire': '...   \n16527  {'RestaurantsPriceRange2': '1', 'GoodForKids':...   \n6479   {'DriveThru': 'False', 'RestaurantsGoodForGrou...   \n35631  {'BusinessAcceptsCreditCards': 'True', 'Restau...   \n32050  {'RestaurantsTakeOut': 'True', 'RestaurantsGoo...   \n42677  {'RestaurantsAttire': 'u'casual'', 'NoiseLevel...   \n16488  {'WiFi': ''no'', 'ByAppointmentOnly': 'False',...   \n48942  {'NoiseLevel': 'u'average'', 'WiFi': 'u'no'', ...   \n5350   {'RestaurantsPriceRange2': '2', 'WiFi': ''no''...   \n12138  {'BusinessAcceptsCreditCards': 'True', 'GoodFo...   \n22104  {'RestaurantsAttire': ''casual'', 'WiFi': 'u'f...   \n19078  {'DriveThru': 'False', 'GoodForKids': 'True', ...   \n9736   {'DogsAllowed': 'False', 'BusinessAcceptsCredi...   \n45915  {'RestaurantsAttire': 'u'casual'', 'OutdoorSea...   \n28623  {'NoiseLevel': 'u'quiet'', 'RestaurantsReserva...   \n\n                                          attribute_soup  \\\n5968   [RestaurantsGoodForGroups, HasTV, RestaurantsT...   \n6339   [GoodForKids, RestaurantsAttire, RestaurantsGo...   \n16527  [RestaurantsPriceRange2, GoodForKids, Restaura...   \n6479   [RestaurantsGoodForGroups, BikeParking, Restau...   \n35631  [BusinessAcceptsCreditCards, GoodForKids, Rest...   \n32050  [RestaurantsTakeOut, RestaurantsGoodForGroups,...   \n42677  [RestaurantsAttire, NoiseLevel, GoodForKids, W...   \n16488  [WiFi, RestaurantsTakeOut, RestaurantsAttire, ...   \n48942  [NoiseLevel, WiFi, lot, RestaurantsGoodForGrou...   \n5350   [RestaurantsPriceRange2, WiFi, RestaurantsRese...   \n12138  [BusinessAcceptsCreditCards, GoodForKids, Rest...   \n22104  [RestaurantsAttire, WiFi, casual, RestaurantsG...   \n19078  [GoodForKids, RestaurantsGoodForGroups, lunch,...   \n9736   [BusinessAcceptsCreditCards, dessert, lunch, d...   \n45915  [RestaurantsAttire, RestaurantsGoodForGroups, ...   \n28623  [NoiseLevel, RestaurantsReservations, WiFi, Ca...   \n\n                                        attribute_string    scores  \n5968   RestaurantsGoodForGroups HasTV RestaurantsTake...  0.845477  \n6339   GoodForKids RestaurantsAttire RestaurantsGoodF...  0.844694  \n16527  RestaurantsPriceRange2 GoodForKids Restaurants...  0.835984  \n6479   RestaurantsGoodForGroups BikeParking Restauran...  0.831877  \n35631  BusinessAcceptsCreditCards GoodForKids Restaur...  0.822570  \n32050  RestaurantsTakeOut RestaurantsGoodForGroups Go...  0.817526  \n42677  RestaurantsAttire NoiseLevel GoodForKids Wheel...  0.878007  \n16488  WiFi RestaurantsTakeOut RestaurantsAttire Outd...  0.872823  \n48942  NoiseLevel WiFi lot RestaurantsGoodForGroups A...  0.871960  \n5350   RestaurantsPriceRange2 WiFi RestaurantsReserva...  0.867718  \n12138  BusinessAcceptsCreditCards GoodForKids Restaur...  0.866165  \n22104  RestaurantsAttire WiFi casual RestaurantsGoodF...  0.895071  \n19078  GoodForKids RestaurantsGoodForGroups lunch din...  0.888217  \n9736   BusinessAcceptsCreditCards dessert lunch dinne...  0.864135  \n45915  RestaurantsAttire RestaurantsGoodForGroups Goo...  0.856014  \n28623  NoiseLevel RestaurantsReservations WiFi Caters...  0.849669  ",
      "text/html": "<div>\n<style scoped>\n    .dataframe tbody tr th:only-of-type {\n        vertical-align: middle;\n    }\n\n    .dataframe tbody tr th {\n        vertical-align: top;\n    }\n\n    .dataframe thead th {\n        text-align: right;\n    }\n</style>\n<table border=\"1\" class=\"dataframe\">\n  <thead>\n    <tr style=\"text-align: right;\">\n      <th></th>\n      <th>Unnamed: 0</th>\n      <th>Unnamed: 0.1</th>\n      <th>business_id</th>\n      <th>name</th>\n      <th>address</th>\n      <th>city</th>\n      <th>state</th>\n      <th>postal_code</th>\n      <th>latitude</th>\n      <th>longitude</th>\n      <th>stars</th>\n      <th>review_count</th>\n      <th>is_open</th>\n      <th>attributes</th>\n      <th>categories</th>\n      <th>hours</th>\n      <th>attribute_dict</th>\n      <th>attribute_soup</th>\n      <th>attribute_string</th>\n      <th>scores</th>\n    </tr>\n  </thead>\n  <tbody>\n    <tr>\n      <th>5968</th>\n      <td>18391</td>\n      <td>18391</td>\n      <td>Oi9afWDVgmmykw8kzc7LxA</td>\n      <td>Firehouse Subs</td>\n      <td>10725 E Colonial Dr</td>\n      <td>Orlando</td>\n      <td>FL</td>\n      <td>32817</td>\n      <td>28.569947</td>\n      <td>-81.229994</td>\n      <td>4.0</td>\n      <td>6</td>\n      <td>0</td>\n      <td>{'RestaurantsDelivery': 'False', 'RestaurantsG...</td>\n      <td>Fast Food, Restaurants, Sandwiches, Delis</td>\n      <td>{'Monday': '10:30-21:0', 'Tuesday': '10:30-21:...</td>\n      <td>{'RestaurantsDelivery': 'False', 'RestaurantsG...</td>\n      <td>[RestaurantsGoodForGroups, HasTV, RestaurantsT...</td>\n      <td>RestaurantsGoodForGroups HasTV RestaurantsTake...</td>\n      <td>0.845477</td>\n    </tr>\n    <tr>\n      <th>6339</th>\n      <td>19616</td>\n      <td>19616</td>\n      <td>KAP9fE9BC4pEJOQa3OOy8g</td>\n      <td>Subway</td>\n      <td>2823 S Orange Ave, Ste 140</td>\n      <td>Orlando</td>\n      <td>FL</td>\n      <td>32806</td>\n      <td>28.511340</td>\n      <td>-81.374782</td>\n      <td>5.0</td>\n      <td>5</td>\n      <td>1</td>\n      <td>{'GoodForKids': 'True', 'RestaurantsAttire': \"...</td>\n      <td>Sandwiches, Restaurants, Fast Food</td>\n      <td>{'Monday': '8:0-22:0', 'Tuesday': '8:0-22:0', ...</td>\n      <td>{'GoodForKids': 'True', 'RestaurantsAttire': '...</td>\n      <td>[GoodForKids, RestaurantsAttire, RestaurantsGo...</td>\n      <td>GoodForKids RestaurantsAttire RestaurantsGoodF...</td>\n      <td>0.844694</td>\n    </tr>\n    <tr>\n      <th>16527</th>\n      <td>50836</td>\n      <td>50836</td>\n      <td>ucNTiYiNJRh3-TZNQdNaqw</td>\n      <td>Subway</td>\n      <td>2213 Edgewater Dr</td>\n      <td>Orlando</td>\n      <td>FL</td>\n      <td>32804</td>\n      <td>28.571722</td>\n      <td>-81.389433</td>\n      <td>4.0</td>\n      <td>5</td>\n      <td>0</td>\n      <td>{'RestaurantsPriceRange2': '1', 'GoodForKids':...</td>\n      <td>Fast Food, Sandwiches, Restaurants</td>\n      <td>{'Monday': '7:0-23:0', 'Tuesday': '7:0-23:0', ...</td>\n      <td>{'RestaurantsPriceRange2': '1', 'GoodForKids':...</td>\n      <td>[RestaurantsPriceRange2, GoodForKids, Restaura...</td>\n      <td>RestaurantsPriceRange2 GoodForKids Restaurants...</td>\n      <td>0.835984</td>\n    </tr>\n    <tr>\n      <th>6479</th>\n      <td>20050</td>\n      <td>20050</td>\n      <td>vQL8hbqQfaTBcxHPPzkC3A</td>\n      <td>Five Guys</td>\n      <td>8031 Turkey Lake Rd, Ste 100</td>\n      <td>Orlando</td>\n      <td>FL</td>\n      <td>32819</td>\n      <td>28.448157</td>\n      <td>-81.477188</td>\n      <td>4.0</td>\n      <td>32</td>\n      <td>1</td>\n      <td>{'DriveThru': 'False', 'RestaurantsGoodForGrou...</td>\n      <td>Sandwiches, Restaurants, Fast Food, Burgers</td>\n      <td>{'Monday': '11:0-22:0', 'Tuesday': '11:0-22:0'...</td>\n      <td>{'DriveThru': 'False', 'RestaurantsGoodForGrou...</td>\n      <td>[RestaurantsGoodForGroups, BikeParking, Restau...</td>\n      <td>RestaurantsGoodForGroups BikeParking Restauran...</td>\n      <td>0.831877</td>\n    </tr>\n    <tr>\n      <th>35631</th>\n      <td>109130</td>\n      <td>109130</td>\n      <td>FzIV4gsiFKZbv2OUvhNosg</td>\n      <td>Jersey Mike's Subs</td>\n      <td>450 S Hunt Club Blvd</td>\n      <td>Apopka</td>\n      <td>FL</td>\n      <td>32703</td>\n      <td>28.673476</td>\n      <td>-81.450175</td>\n      <td>4.0</td>\n      <td>22</td>\n      <td>1</td>\n      <td>{'BusinessAcceptsCreditCards': 'True', 'Restau...</td>\n      <td>Fast Food, Delis, Restaurants, Sandwiches</td>\n      <td>{'Monday': '10:0-21:0', 'Tuesday': '10:0-21:0'...</td>\n      <td>{'BusinessAcceptsCreditCards': 'True', 'Restau...</td>\n      <td>[BusinessAcceptsCreditCards, GoodForKids, Rest...</td>\n      <td>BusinessAcceptsCreditCards GoodForKids Restaur...</td>\n      <td>0.822570</td>\n    </tr>\n    <tr>\n      <th>32050</th>\n      <td>98297</td>\n      <td>98297</td>\n      <td>MXPKpYA0ZEMgQ-yZsb9rDg</td>\n      <td>Subway</td>\n      <td>667 E Hwy 50</td>\n      <td>Clermont</td>\n      <td>FL</td>\n      <td>34711</td>\n      <td>28.548409</td>\n      <td>-81.747271</td>\n      <td>4.0</td>\n      <td>5</td>\n      <td>1</td>\n      <td>{'RestaurantsTakeOut': 'True', 'RestaurantsGoo...</td>\n      <td>Restaurants, Sandwiches, Fast Food</td>\n      <td>{'Monday': '9:0-23:0', 'Tuesday': '9:0-23:0', ...</td>\n      <td>{'RestaurantsTakeOut': 'True', 'RestaurantsGoo...</td>\n      <td>[RestaurantsTakeOut, RestaurantsGoodForGroups,...</td>\n      <td>RestaurantsTakeOut RestaurantsGoodForGroups Go...</td>\n      <td>0.817526</td>\n    </tr>\n    <tr>\n      <th>42677</th>\n      <td>130427</td>\n      <td>130427</td>\n      <td>fWFY6h63Bvy9tZIKdSH_qw</td>\n      <td>Beijing &amp; Tokyo</td>\n      <td>16112 Marsh Rd, Ste 413</td>\n      <td>Winter Garden</td>\n      <td>FL</td>\n      <td>34787</td>\n      <td>28.516451</td>\n      <td>-81.622002</td>\n      <td>4.0</td>\n      <td>97</td>\n      <td>1</td>\n      <td>{'RestaurantsAttire': \"u'casual'\", 'NoiseLevel...</td>\n      <td>Sushi Bars, Chinese, Asian Fusion, Restaurants</td>\n      <td>{'Monday': '11:0-22:0', 'Tuesday': '11:0-22:0'...</td>\n      <td>{'RestaurantsAttire': 'u'casual'', 'NoiseLevel...</td>\n      <td>[RestaurantsAttire, NoiseLevel, GoodForKids, W...</td>\n      <td>RestaurantsAttire NoiseLevel GoodForKids Wheel...</td>\n      <td>0.878007</td>\n    </tr>\n    <tr>\n      <th>16488</th>\n      <td>50733</td>\n      <td>50733</td>\n      <td>qwiJHZv22ahl1Pzhkso5DA</td>\n      <td>Sus Hi Eatstation</td>\n      <td>380 S State Rd 434, Ste 1004</td>\n      <td>Altamonte Springs</td>\n      <td>FL</td>\n      <td>32714</td>\n      <td>28.656818</td>\n      <td>-81.420208</td>\n      <td>4.0</td>\n      <td>228</td>\n      <td>1</td>\n      <td>{'WiFi': \"'no'\", 'ByAppointmentOnly': 'False',...</td>\n      <td>Restaurants, Sushi Bars, Poke, Japanese, Asian...</td>\n      <td>{'Monday': '0:0-0:0', 'Tuesday': '11:0-22:0', ...</td>\n      <td>{'WiFi': ''no'', 'ByAppointmentOnly': 'False',...</td>\n      <td>[WiFi, RestaurantsTakeOut, RestaurantsAttire, ...</td>\n      <td>WiFi RestaurantsTakeOut RestaurantsAttire Outd...</td>\n      <td>0.872823</td>\n    </tr>\n    <tr>\n      <th>48942</th>\n      <td>149221</td>\n      <td>149221</td>\n      <td>W7PgsBw0QQ6CHFR8YlwiUw</td>\n      <td>Sus Hi Eatstation</td>\n      <td>4693 Gardens Park Blvd, Ste 105</td>\n      <td>Orlando</td>\n      <td>FL</td>\n      <td>32839</td>\n      <td>28.494599</td>\n      <td>-81.423477</td>\n      <td>4.0</td>\n      <td>140</td>\n      <td>1</td>\n      <td>{'NoiseLevel': \"u'average'\", 'WiFi': \"u'no'\", ...</td>\n      <td>Japanese, Sushi Bars, Asian Fusion, Restaurant...</td>\n      <td>{'Monday': '0:0-0:0', 'Tuesday': '11:0-22:0', ...</td>\n      <td>{'NoiseLevel': 'u'average'', 'WiFi': 'u'no'', ...</td>\n      <td>[NoiseLevel, WiFi, lot, RestaurantsGoodForGrou...</td>\n      <td>NoiseLevel WiFi lot RestaurantsGoodForGroups A...</td>\n      <td>0.871960</td>\n    </tr>\n    <tr>\n      <th>5350</th>\n      <td>16450</td>\n      <td>16450</td>\n      <td>1ggfHF5zecMy1W5aeGlOGA</td>\n      <td>WAVE Asian Bistro &amp; Sushi</td>\n      <td>301 N Baker St, Ste 106</td>\n      <td>Mount Dora</td>\n      <td>FL</td>\n      <td>32757</td>\n      <td>28.798896</td>\n      <td>-81.644134</td>\n      <td>4.5</td>\n      <td>326</td>\n      <td>1</td>\n      <td>{'RestaurantsPriceRange2': '2', 'WiFi': \"'no'\"...</td>\n      <td>Asian Fusion, Japanese, Sushi Bars, Restaurants</td>\n      <td>{'Tuesday': '11:0-20:0', 'Wednesday': '11:0-20...</td>\n      <td>{'RestaurantsPriceRange2': '2', 'WiFi': ''no''...</td>\n      <td>[RestaurantsPriceRange2, WiFi, RestaurantsRese...</td>\n      <td>RestaurantsPriceRange2 WiFi RestaurantsReserva...</td>\n      <td>0.867718</td>\n    </tr>\n    <tr>\n      <th>12138</th>\n      <td>37517</td>\n      <td>37517</td>\n      <td>SrsebLQ5lVehQXJp8OcBUg</td>\n      <td>The Cowfish Sushi Burger Bar</td>\n      <td>Universal Citywalk - Orlando, 6000 Universal Blvd</td>\n      <td>Orlando</td>\n      <td>FL</td>\n      <td>32819</td>\n      <td>28.473028</td>\n      <td>-81.465348</td>\n      <td>4.0</td>\n      <td>2407</td>\n      <td>1</td>\n      <td>{'BusinessAcceptsCreditCards': 'True', 'GoodFo...</td>\n      <td>Asian Fusion, American (New), Restaurants, Sus...</td>\n      <td>{'Monday': '16:0-22:0', 'Tuesday': '16:0-22:0'...</td>\n      <td>{'BusinessAcceptsCreditCards': 'True', 'GoodFo...</td>\n      <td>[BusinessAcceptsCreditCards, GoodForKids, Rest...</td>\n      <td>BusinessAcceptsCreditCards GoodForKids Restaur...</td>\n      <td>0.866165</td>\n    </tr>\n    <tr>\n      <th>22104</th>\n      <td>68048</td>\n      <td>68048</td>\n      <td>LtiVuXVZeDSJCpYOR15Wzw</td>\n      <td>Pizza @ Lake Eola</td>\n      <td>404 E Central Blvd, Ste 102</td>\n      <td>Orlando</td>\n      <td>FL</td>\n      <td>32801</td>\n      <td>28.542102</td>\n      <td>-81.372526</td>\n      <td>4.0</td>\n      <td>118</td>\n      <td>1</td>\n      <td>{'RestaurantsAttire': \"'casual'\", 'WiFi': \"u'f...</td>\n      <td>Restaurants, Salad, Fast Food, Pizza</td>\n      <td>{'Monday': '11:0-23:0', 'Tuesday': '11:0-23:0'...</td>\n      <td>{'RestaurantsAttire': ''casual'', 'WiFi': 'u'f...</td>\n      <td>[RestaurantsAttire, WiFi, casual, RestaurantsG...</td>\n      <td>RestaurantsAttire WiFi casual RestaurantsGoodF...</td>\n      <td>0.895071</td>\n    </tr>\n    <tr>\n      <th>19078</th>\n      <td>58649</td>\n      <td>58649</td>\n      <td>s7zPXCG5TY2GefprbChUdw</td>\n      <td>Blaze Pizza</td>\n      <td>1508 E Buena Vista Dr, B22</td>\n      <td>Lake Buena Vista</td>\n      <td>FL</td>\n      <td>32830</td>\n      <td>28.369999</td>\n      <td>-81.518266</td>\n      <td>4.5</td>\n      <td>551</td>\n      <td>1</td>\n      <td>{'DriveThru': 'False', 'GoodForKids': 'True', ...</td>\n      <td>Pizza, Fast Food, Salad, Restaurants, Gluten-Free</td>\n      <td>{'Monday': '0:0-0:0', 'Tuesday': '11:0-22:0', ...</td>\n      <td>{'DriveThru': 'False', 'GoodForKids': 'True', ...</td>\n      <td>[GoodForKids, RestaurantsGoodForGroups, lunch,...</td>\n      <td>GoodForKids RestaurantsGoodForGroups lunch din...</td>\n      <td>0.888217</td>\n    </tr>\n    <tr>\n      <th>9736</th>\n      <td>30066</td>\n      <td>30066</td>\n      <td>j7DjfFnpRoC2cMU_KJGqyw</td>\n      <td>Blaze Pizza</td>\n      <td>501 N Orlando Ave</td>\n      <td>Winter Park</td>\n      <td>FL</td>\n      <td>32789</td>\n      <td>28.605508</td>\n      <td>-81.367725</td>\n      <td>4.5</td>\n      <td>229</td>\n      <td>1</td>\n      <td>{'DogsAllowed': 'False', 'BusinessAcceptsCredi...</td>\n      <td>Salad, Restaurants, Pizza, Fast Food</td>\n      <td>{'Monday': '0:0-0:0', 'Tuesday': '10:30-22:30'...</td>\n      <td>{'DogsAllowed': 'False', 'BusinessAcceptsCredi...</td>\n      <td>[BusinessAcceptsCreditCards, dessert, lunch, d...</td>\n      <td>BusinessAcceptsCreditCards dessert lunch dinne...</td>\n      <td>0.864135</td>\n    </tr>\n    <tr>\n      <th>45915</th>\n      <td>140151</td>\n      <td>140151</td>\n      <td>Arlfz7vhzEV8p3aIIYhIog</td>\n      <td>Pizza @ Artegon</td>\n      <td>5250 International Dr</td>\n      <td>Orlando</td>\n      <td>FL</td>\n      <td>32819</td>\n      <td>28.468508</td>\n      <td>-81.447988</td>\n      <td>4.5</td>\n      <td>49</td>\n      <td>0</td>\n      <td>{'RestaurantsAttire': \"u'casual'\", 'OutdoorSea...</td>\n      <td>Salad, Restaurants, Pizza, Italian</td>\n      <td>{'Monday': '11:0-21:0', 'Tuesday': '11:0-21:0'...</td>\n      <td>{'RestaurantsAttire': 'u'casual'', 'OutdoorSea...</td>\n      <td>[RestaurantsAttire, RestaurantsGoodForGroups, ...</td>\n      <td>RestaurantsAttire RestaurantsGoodForGroups Goo...</td>\n      <td>0.856014</td>\n    </tr>\n    <tr>\n      <th>28623</th>\n      <td>87847</td>\n      <td>87847</td>\n      <td>fvUxo3S8PbkZPPqc-krI7w</td>\n      <td>Your Pie</td>\n      <td>335 N Magnolia Ave, Ste 102</td>\n      <td>Orlando</td>\n      <td>FL</td>\n      <td>32801</td>\n      <td>28.546959</td>\n      <td>-81.376979</td>\n      <td>4.0</td>\n      <td>32</td>\n      <td>0</td>\n      <td>{'NoiseLevel': \"u'quiet'\", 'RestaurantsReserva...</td>\n      <td>Pizza, Italian, Restaurants, Salad</td>\n      <td>{'Monday': '11:0-21:0', 'Tuesday': '11:0-21:0'...</td>\n      <td>{'NoiseLevel': 'u'quiet'', 'RestaurantsReserva...</td>\n      <td>[NoiseLevel, RestaurantsReservations, WiFi, Ca...</td>\n      <td>NoiseLevel RestaurantsReservations WiFi Caters...</td>\n      <td>0.849669</td>\n    </tr>\n  </tbody>\n</table>\n</div>"
     },
     "execution_count": 77,
     "metadata": {},
     "output_type": "execute_result"
    }
   ],
   "source": [
    "# Single User Demo:\n",
    "\n",
    "user_iter = iter(user_id_set)\n",
    "user_id = next(user_iter)\n",
    "\n",
    "data = df_all_filtered[df_all_filtered['user_id'] == user_id]\n",
    "y_pred = get_all_user_recommendations(X, df_business, embedded_attributes, embedded_categories)\n",
    "y_pred\n"
   ],
   "metadata": {
    "collapsed": false,
    "pycharm": {
     "name": "#%%\n"
    }
   }
  },
  {
   "cell_type": "code",
   "execution_count": 79,
   "outputs": [
    {
     "data": {
      "text/plain": "  0%|          | 0/1000 [00:00<?, ?it/s]",
      "application/vnd.jupyter.widget-view+json": {
       "version_major": 2,
       "version_minor": 0,
       "model_id": "2b2bee6649c24ad782b05ee72fd6f9d9"
      }
     },
     "metadata": {},
     "output_type": "display_data"
    },
    {
     "name": "stdout",
     "output_type": "stream",
     "text": [
      "0.14\n"
     ]
    }
   ],
   "source": [
    "# TEST LOOP\n",
    "from sklearn.model_selection import train_test_split\n",
    "from tqdm.notebook import tqdm\n",
    "\n",
    "user_iter = iter(user_id_set)\n",
    "hit = 0\n",
    "\n",
    "EXAMPLES = 1000\n",
    "\n",
    "for dex in tqdm(range(EXAMPLES)):\n",
    "    user_id = next(user_iter)\n",
    "    data = df_all_filtered[df_all_filtered['user_id'] == user_id]\n",
    "    X, y = train_test_split(data, train_size=0.5)\n",
    "    y_pred = get_all_user_recommendations(X, df_business, embedded_attributes, embedded_categories)\n",
    "\n",
    "    y_businesses = set(y['business_id'].values)\n",
    "    y_pred_businesses = set(y_pred['business_id'].values)\n",
    "    if len(y_pred_businesses.intersection(y_businesses)) > 0:\n",
    "        hit += 1\n",
    "\n",
    "print(hit/EXAMPLES)"
   ],
   "metadata": {
    "collapsed": false,
    "pycharm": {
     "name": "#%%\n"
    }
   }
  },
  {
   "cell_type": "code",
   "execution_count": 72,
   "outputs": [
    {
     "data": {
      "text/plain": "0.14"
     },
     "execution_count": 72,
     "metadata": {},
     "output_type": "execute_result"
    }
   ],
   "source": [],
   "metadata": {
    "collapsed": false,
    "pycharm": {
     "name": "#%%\n"
    }
   }
  },
  {
   "cell_type": "code",
   "execution_count": null,
   "outputs": [],
   "source": [],
   "metadata": {
    "collapsed": false,
    "pycharm": {
     "name": "#%%\n"
    }
   }
  }
 ],
 "metadata": {
  "kernelspec": {
   "display_name": "Python 3",
   "language": "python",
   "name": "python3"
  },
  "language_info": {
   "codemirror_mode": {
    "name": "ipython",
    "version": 2
   },
   "file_extension": ".py",
   "mimetype": "text/x-python",
   "name": "python",
   "nbconvert_exporter": "python",
   "pygments_lexer": "ipython2",
   "version": "2.7.6"
  }
 },
 "nbformat": 4,
 "nbformat_minor": 0
}